{
 "cells": [
  {
   "cell_type": "code",
   "execution_count": 18,
   "id": "c7b9fe70-cb24-4f49-a87b-29508ff17b0d",
   "metadata": {},
   "outputs": [],
   "source": [
    "import pickle"
   ]
  },
  {
   "cell_type": "code",
   "execution_count": 4,
   "id": "1e6aa857",
   "metadata": {},
   "outputs": [],
   "source": [
    "from transformers import AutoTokenizer, BertModel"
   ]
  },
  {
   "cell_type": "code",
   "execution_count": 3,
   "id": "a1b72ff2-029a-4564-b55a-9740293b4282",
   "metadata": {},
   "outputs": [],
   "source": [
    "from contriever.src.contriever import Contriever, load_retriever"
   ]
  },
  {
   "cell_type": "code",
   "execution_count": 1,
   "id": "d27dac3c-3a78-4e49-8832-67a0855496e7",
   "metadata": {},
   "outputs": [],
   "source": [
    "model_path = \"contriever/65421994-average-rmin0.05-rmax0.5-T0.05-131072-0.9995-delete-0.1-google_multiberts-seed_6/checkpoint/lastlog\""
   ]
  },
  {
   "cell_type": "code",
   "execution_count": 5,
   "id": "981869c5-d1eb-4c7d-b14a-5ffdf0a3070f",
   "metadata": {},
   "outputs": [],
   "source": [
    "model, tokenizer, _ = load_retriever(model_path)"
   ]
  },
  {
   "cell_type": "code",
   "execution_count": 6,
   "id": "01036010-1fe8-4536-9501-fa27cf50b17b",
   "metadata": {},
   "outputs": [],
   "source": [
    "tokenizer.model_max_length = 512"
   ]
  },
  {
   "cell_type": "code",
   "execution_count": 32,
   "id": "e67d2cf1-b8fc-4ffa-a706-aef2f8e9b900",
   "metadata": {},
   "outputs": [],
   "source": [
    "inputs = [\"who is famous for singing small town girl\", \"who is a famous girl from a small town\", \n",
    "          \"who is famous for singing i'm your man\", \"who is famous for singing any way you want it\"]"
   ]
  },
  {
   "cell_type": "code",
   "execution_count": 33,
   "id": "04ed927f-b9e1-4a92-9654-f99cf04a4372",
   "metadata": {},
   "outputs": [],
   "source": [
    "encoded_dict = tokenizer(inputs, padding=True, truncation=True, return_tensors=\"pt\")"
   ]
  },
  {
   "cell_type": "code",
   "execution_count": 34,
   "id": "22c7bcde-e4d9-471b-8f7f-8c4d75cc2866",
   "metadata": {},
   "outputs": [],
   "source": [
    "embeddings = model(encoded_dict[\"input_ids\"], attention_mask = encoded_dict[\"attention_mask\"])"
   ]
  },
  {
   "cell_type": "code",
   "execution_count": 35,
   "id": "abd2a948-be54-4d14-bf3e-c52c63e02dcf",
   "metadata": {},
   "outputs": [],
   "source": [
    "score01 = embeddings[0] @ embeddings[1]\n",
    "score02 = embeddings[0] @ embeddings[2]\n",
    "score03 = embeddings[0] @ embeddings[3]\n",
    "score04 = embeddings[1] @ embeddings[3]"
   ]
  },
  {
   "cell_type": "code",
   "execution_count": 36,
   "id": "bca9933c-2b2b-4438-a475-8220fbe434d5",
   "metadata": {},
   "outputs": [
    {
     "data": {
      "text/plain": [
       "(tensor(1.3421, grad_fn=<DotBackward0>),\n",
       " tensor(0.9771, grad_fn=<DotBackward0>),\n",
       " tensor(0.9208, grad_fn=<DotBackward0>),\n",
       " tensor(0.7449, grad_fn=<DotBackward0>))"
      ]
     },
     "execution_count": 36,
     "metadata": {},
     "output_type": "execute_result"
    }
   ],
   "source": [
    "score01, score02, score03, score04"
   ]
  },
  {
   "cell_type": "code",
   "execution_count": 32,
   "id": "4b5e9067-27c4-4362-8d0b-e8c31856dde6",
   "metadata": {},
   "outputs": [],
   "source": [
    "datapath = \"data/biasbios/train.pickle\"\n",
    "with open(datapath, 'rb') as f:\n",
    "        ds = pickle.load(f)"
   ]
  },
  {
   "cell_type": "code",
   "execution_count": 33,
   "id": "943f347d-140e-4486-9179-ffde15de5dfc",
   "metadata": {},
   "outputs": [],
   "source": [
    "inputs = []\n",
    "for r in ds:\n",
    "    sent = r[\"text\"][r[\"start\"]:]\n",
    "    inputs.append(sent)"
   ]
  },
  {
   "cell_type": "code",
   "execution_count": 177,
   "id": "e8e5fd82-8969-4b7f-a7a1-27a3ecde3e18",
   "metadata": {},
   "outputs": [
    {
     "ename": "AttributeError",
     "evalue": "'Tensor' object has no attribute 'to_numpy'",
     "output_type": "error",
     "traceback": [
      "\u001b[0;31m---------------------------------------------------------------------------\u001b[0m",
      "\u001b[0;31mAttributeError\u001b[0m                            Traceback (most recent call last)",
      "Input \u001b[0;32mIn [177]\u001b[0m, in \u001b[0;36m<cell line: 1>\u001b[0;34m()\u001b[0m\n\u001b[1;32m      1\u001b[0m \u001b[38;5;28;01mfor\u001b[39;00m key, val \u001b[38;5;129;01min\u001b[39;00m encoded_dict\u001b[38;5;241m.\u001b[39mitems():\n\u001b[0;32m----> 2\u001b[0m     encoded_dict[key] \u001b[38;5;241m=\u001b[39m \u001b[43mval\u001b[49m\u001b[38;5;241;43m.\u001b[39;49m\u001b[43mto_numpy\u001b[49m()\n",
      "\u001b[0;31mAttributeError\u001b[0m: 'Tensor' object has no attribute 'to_numpy'"
     ]
    }
   ],
   "source": [
    "for key, val in encoded_dict.items():\n",
    "    encoded_dict[key] = val.to_numpy()"
   ]
  },
  {
   "cell_type": "code",
   "execution_count": 143,
   "id": "416011ce-9009-4a5a-b63e-cfde5f2b59ab",
   "metadata": {},
   "outputs": [
    {
     "data": {
      "text/plain": [
       "'google_multiberts-seed_'"
      ]
     },
     "execution_count": 143,
     "metadata": {},
     "output_type": "execute_result"
    }
   ],
   "source": [
    "\"google/multiberts-seed_\".replace(\"/\", \"_\")"
   ]
  },
  {
   "cell_type": "code",
   "execution_count": 115,
   "id": "12d5990b-2e42-45de-9c90-93b8510294b6",
   "metadata": {},
   "outputs": [
    {
     "data": {
      "text/plain": [
       "torch.Size([255710, 512])"
      ]
     },
     "execution_count": 115,
     "metadata": {},
     "output_type": "execute_result"
    }
   ],
   "source": [
    "encoded_dict[\"input_ids\"].shape"
   ]
  },
  {
   "cell_type": "code",
   "execution_count": 119,
   "id": "20a84ad0-9bdb-4fa6-b7ae-8db28c4dba90",
   "metadata": {},
   "outputs": [
    {
     "name": "stderr",
     "output_type": "stream",
     "text": [
      "Some weights of the model checkpoint at bert-base-uncased were not used when initializing BertModel: ['cls.predictions.transform.LayerNorm.weight', 'cls.seq_relationship.weight', 'cls.seq_relationship.bias', 'cls.predictions.decoder.weight', 'cls.predictions.transform.dense.bias', 'cls.predictions.bias', 'cls.predictions.transform.LayerNorm.bias', 'cls.predictions.transform.dense.weight']\n",
      "- This IS expected if you are initializing BertModel from the checkpoint of a model trained on another task or with another architecture (e.g. initializing a BertForSequenceClassification model from a BertForPreTraining model).\n",
      "- This IS NOT expected if you are initializing BertModel from the checkpoint of a model that you expect to be exactly identical (initializing a BertForSequenceClassification model from a BertForSequenceClassification model).\n"
     ]
    }
   ],
   "source": [
    "bert = BertModel.from_pretrained(\"bert-base-uncased\")\n",
    "bert_tok = AutoTokenizer.from_pretrained(\"bert-base-uncased\")"
   ]
  },
  {
   "cell_type": "code",
   "execution_count": 123,
   "id": "2864a3b2-0d9d-49e3-954b-70c1ceebda14",
   "metadata": {},
   "outputs": [],
   "source": [
    "bert_sample = bert_tok(inputs[:30], padding=True, truncation=True, return_tensors=\"pt\")"
   ]
  },
  {
   "cell_type": "code",
   "execution_count": 138,
   "id": "f4367796-b4d8-43b2-9052-4c94bad4a75a",
   "metadata": {},
   "outputs": [],
   "source": [
    "bert_input_ids, bert_attns = bert_sample[\"input_ids\"][:10,:], bert_sample[\"attention_mask\"][:10,:]"
   ]
  },
  {
   "cell_type": "code",
   "execution_count": 139,
   "id": "61b5c4ad-2537-4846-aec3-970e80230502",
   "metadata": {},
   "outputs": [],
   "source": [
    "bert_v = bert(bert_input_ids, attention_mask=bert_attns)"
   ]
  },
  {
   "cell_type": "code",
   "execution_count": 154,
   "id": "2e9cf8ee-44a7-4311-b3fb-250a22bf39fa",
   "metadata": {},
   "outputs": [],
   "source": [
    "v = []\n",
    "for i in range(5):\n",
    "    v.append(bert_v.last_hidden_state[:,0,:])"
   ]
  },
  {
   "cell_type": "code",
   "execution_count": 155,
   "id": "c35b1ad5-20b0-4b91-b9f3-fc66d940e291",
   "metadata": {},
   "outputs": [],
   "source": [
    "zzz=torch.cat(v, dim=0)"
   ]
  },
  {
   "cell_type": "code",
   "execution_count": 156,
   "id": "ddcce8f0-0112-45b8-88be-5ac83ae1d6b6",
   "metadata": {},
   "outputs": [
    {
     "data": {
      "text/plain": [
       "torch.Size([50, 768])"
      ]
     },
     "execution_count": 156,
     "metadata": {},
     "output_type": "execute_result"
    }
   ],
   "source": [
    "zzz.shape"
   ]
  },
  {
   "cell_type": "code",
   "execution_count": 163,
   "id": "5f4502b5-0098-4fb5-a6f4-40ccf239b7d4",
   "metadata": {},
   "outputs": [],
   "source": [
    "test_contriever_tokens = torch.load(\"data/biasbios/test.tokens_raw_contriever.pt\")\n",
    "test_contriever_tokens_new = torch.load(\"data/biasbios/test.tokens_raw_contriever_new.pt\")"
   ]
  },
  {
   "cell_type": "code",
   "execution_count": 168,
   "id": "a2d72269-7c02-4b14-8512-38a5d07265eb",
   "metadata": {},
   "outputs": [],
   "source": [
    "res = (test_contriever_tokens[\"X\"][\"input_ids\"] == test_contriever_tokens_new[\"X\"][\"input_ids\"])"
   ]
  },
  {
   "cell_type": "code",
   "execution_count": 174,
   "id": "34e593f6-217d-4dfd-9a30-337f8fbc4312",
   "metadata": {},
   "outputs": [
    {
     "data": {
      "text/plain": [
       "tensor(True)"
      ]
     },
     "execution_count": 174,
     "metadata": {},
     "output_type": "execute_result"
    }
   ],
   "source": [
    "torch.all(res)"
   ]
  },
  {
   "cell_type": "code",
   "execution_count": 36,
   "id": "f00bff68-6c25-467b-ae0c-4f5223b79777",
   "metadata": {},
   "outputs": [
    {
     "name": "stderr",
     "output_type": "stream",
     "text": [
      "Some weights of the model checkpoint at facebook/contriever were not used when initializing Contriever: ['pooler.dense.bias', 'pooler.dense.weight']\n",
      "- This IS expected if you are initializing Contriever from the checkpoint of a model trained on another task or with another architecture (e.g. initializing a BertForSequenceClassification model from a BertForPreTraining model).\n",
      "- This IS NOT expected if you are initializing Contriever from the checkpoint of a model that you expect to be exactly identical (initializing a BertForSequenceClassification model from a BertForSequenceClassification model).\n"
     ]
    }
   ],
   "source": [
    "contriever = Contriever.from_pretrained(\"facebook/contriever\")\n",
    "contriever_tokenizer = tokenizer = AutoTokenizer.from_pretrained(\"facebook/contriever\") #Load the associated tokenizer:"
   ]
  },
  {
   "cell_type": "code",
   "execution_count": 37,
   "id": "390b23c2-d86d-4989-9112-b3d87da6cf95",
   "metadata": {},
   "outputs": [],
   "source": [
    "encoded_dict_2 = contriever_tokenizer(inputs, padding=True, truncation=True, return_tensors=\"pt\")"
   ]
  },
  {
   "cell_type": "code",
   "execution_count": 38,
   "id": "a0b0f73f-67ee-4810-99c3-10e33d6a60f2",
   "metadata": {},
   "outputs": [
    {
     "data": {
      "text/plain": [
       "torch.Size([255710, 512])"
      ]
     },
     "execution_count": 38,
     "metadata": {},
     "output_type": "execute_result"
    }
   ],
   "source": [
    "encoded_dict_2[\"input_ids\"].shape"
   ]
  },
  {
   "cell_type": "code",
   "execution_count": 95,
   "id": "5e499376-6dbd-4d99-93e9-7ec16a2bcde4",
   "metadata": {},
   "outputs": [],
   "source": [
    "test = torch.load(\"data/biasbios/vectors_extracted_from_trained_models/bert-base-uncased/seed_0/dev.vectors_raw_bert_unbatched.pt\")"
   ]
  },
  {
   "cell_type": "code",
   "execution_count": 160,
   "id": "302d35f7-3b00-429b-ba17-02a759602988",
   "metadata": {},
   "outputs": [],
   "source": [
    "test3 = torch.load(\"data/biasbios/vectors_extracted_from_trained_models/bert-base-uncased/seed_42/dev.vectors_raw_bert.pt\")"
   ]
  },
  {
   "cell_type": "code",
   "execution_count": 96,
   "id": "e0dc8040-81df-47d9-8c93-929c101eaf6f",
   "metadata": {},
   "outputs": [],
   "source": [
    "x = test[\"X\"]\n",
    "z = test[\"z\"]"
   ]
  },
  {
   "cell_type": "code",
   "execution_count": 101,
   "id": "f478893d-213b-40be-85a0-266e69ed7332",
   "metadata": {},
   "outputs": [
    {
     "name": "stdout",
     "output_type": "stream",
     "text": [
      "(39369, 768) <class 'numpy.ndarray'>\n",
      "(39369,) <class 'numpy.ndarray'>\n"
     ]
    }
   ],
   "source": [
    "print(x.shape, type(x))\n",
    "print(z.shape, type(z))"
   ]
  },
  {
   "cell_type": "code",
   "execution_count": 102,
   "id": "954e5cc8-67d2-4f08-a76b-e7928d9f1c69",
   "metadata": {},
   "outputs": [],
   "source": [
    "z[z == 'f'] = 1\n",
    "z[z == 'm'] = 0\n",
    "z = z.astype(int)\n",
    "z = torch.tensor(z).long()"
   ]
  },
  {
   "cell_type": "code",
   "execution_count": 105,
   "id": "c5cff773-c640-40b1-bb83-fcfea6b97196",
   "metadata": {},
   "outputs": [],
   "source": [
    "x_prime = torch.tensor(x).long()"
   ]
  },
  {
   "cell_type": "code",
   "execution_count": 110,
   "id": "79902921-9a1d-4a97-88eb-a06860f3c338",
   "metadata": {},
   "outputs": [
    {
     "data": {
      "text/plain": [
       "True"
      ]
     },
     "execution_count": 110,
     "metadata": {},
     "output_type": "execute_result"
    }
   ],
   "source": [
    "type(x_prime) == torch.Tensor"
   ]
  },
  {
   "cell_type": "code",
   "execution_count": 85,
   "id": "4cd34e8a-7b09-4f0b-8cd4-db606b7590c6",
   "metadata": {},
   "outputs": [],
   "source": [
    "x2 = test2[\"X\"]\n",
    "z2 = test2[\"z\"]"
   ]
  },
  {
   "cell_type": "code",
   "execution_count": 161,
   "id": "805fcbbf-4b8a-4dcc-8cee-4777bbda6856",
   "metadata": {},
   "outputs": [],
   "source": [
    "x3 = test3[\"X\"]\n",
    "z3 = test3[\"z\"]\n"
   ]
  },
  {
   "cell_type": "code",
   "execution_count": 162,
   "id": "edd89a5e-ee77-4ccb-a626-023d54aa6d3b",
   "metadata": {},
   "outputs": [
    {
     "name": "stdout",
     "output_type": "stream",
     "text": [
      "torch.Size([39369, 768]) <class 'torch.Tensor'>\n",
      "(39369,) <class 'numpy.ndarray'>\n"
     ]
    }
   ],
   "source": [
    "print(x3.shape, type(x3))\n",
    "print(z3.shape, type(z3))"
   ]
  },
  {
   "cell_type": "code",
   "execution_count": 98,
   "id": "83223da5-a04a-4f2d-ad5c-b67109909101",
   "metadata": {},
   "outputs": [],
   "source": [
    "test_c = torch.load(\"data/biasbios/vectors_extracted_from_trained_models/contriever/seed_1/dev.vectors_raw_contriever_new.pt\")"
   ]
  },
  {
   "cell_type": "code",
   "execution_count": 99,
   "id": "d6b22c54-6a40-4646-84ed-79468493911f",
   "metadata": {},
   "outputs": [],
   "source": [
    "x_c = test_c[\"X\"]\n",
    "z_c = test_c[\"z\"]"
   ]
  },
  {
   "cell_type": "code",
   "execution_count": 109,
   "id": "f45b3b05-d3f5-4ed2-bd73-65c966f29d8b",
   "metadata": {},
   "outputs": [
    {
     "name": "stdout",
     "output_type": "stream",
     "text": [
      "2\n",
      "(39369,)\n"
     ]
    }
   ],
   "source": [
    "print(x_c.dim())\n",
    "print(z_c.shape)"
   ]
  },
  {
   "cell_type": "code",
   "execution_count": 107,
   "id": "0107f80f-5e77-45d0-950c-5d48b769ddfc",
   "metadata": {},
   "outputs": [],
   "source": [
    "tds = torch.utils.data.TensorDataset(x_prime,z)"
   ]
  },
  {
   "cell_type": "code",
   "execution_count": 20,
   "id": "d9a003f7-d328-408f-be34-afa50d635ec3",
   "metadata": {},
   "outputs": [
    {
     "name": "stderr",
     "output_type": "stream",
     "text": [
      "Some weights of the model checkpoint at facebook/contriever were not used when initializing Contriever: ['pooler.dense.weight', 'pooler.dense.bias']\n",
      "- This IS expected if you are initializing Contriever from the checkpoint of a model trained on another task or with another architecture (e.g. initializing a BertForSequenceClassification model from a BertForPreTraining model).\n",
      "- This IS NOT expected if you are initializing Contriever from the checkpoint of a model that you expect to be exactly identical (initializing a BertForSequenceClassification model from a BertForSequenceClassification model).\n"
     ]
    },
    {
     "data": {
      "application/vnd.jupyter.widget-view+json": {
       "model_id": "0758fd596d7047919767b79f2b8d7533",
       "version_major": 2,
       "version_minor": 0
      },
      "text/plain": [
       "Downloading:   0%|          | 0.00/619 [00:00<?, ?B/s]"
      ]
     },
     "metadata": {},
     "output_type": "display_data"
    },
    {
     "data": {
      "application/vnd.jupyter.widget-view+json": {
       "model_id": "e7e466a4596245208701e4f17f11abf6",
       "version_major": 2,
       "version_minor": 0
      },
      "text/plain": [
       "Downloading:   0%|          | 0.00/418M [00:00<?, ?B/s]"
      ]
     },
     "metadata": {},
     "output_type": "display_data"
    },
    {
     "name": "stderr",
     "output_type": "stream",
     "text": [
      "Some weights of the model checkpoint at facebook/contriever-msmarco were not used when initializing Contriever: ['pooler.dense.weight', 'pooler.dense.bias']\n",
      "- This IS expected if you are initializing Contriever from the checkpoint of a model trained on another task or with another architecture (e.g. initializing a BertForSequenceClassification model from a BertForPreTraining model).\n",
      "- This IS NOT expected if you are initializing Contriever from the checkpoint of a model that you expect to be exactly identical (initializing a BertForSequenceClassification model from a BertForSequenceClassification model).\n"
     ]
    },
    {
     "data": {
      "application/vnd.jupyter.widget-view+json": {
       "model_id": "6d08de911678460ba0e848dbc210c6a8",
       "version_major": 2,
       "version_minor": 0
      },
      "text/plain": [
       "Downloading:   0%|          | 0.00/851 [00:00<?, ?B/s]"
      ]
     },
     "metadata": {},
     "output_type": "display_data"
    },
    {
     "data": {
      "application/vnd.jupyter.widget-view+json": {
       "model_id": "1982b8d6dc1e45e7878a22915d7a43ad",
       "version_major": 2,
       "version_minor": 0
      },
      "text/plain": [
       "Downloading:   0%|          | 0.00/676M [00:00<?, ?B/s]"
      ]
     },
     "metadata": {},
     "output_type": "display_data"
    },
    {
     "data": {
      "application/vnd.jupyter.widget-view+json": {
       "model_id": "852205513ebc40b395ad0932b727a7d0",
       "version_major": 2,
       "version_minor": 0
      },
      "text/plain": [
       "Downloading:   0%|          | 0.00/851 [00:00<?, ?B/s]"
      ]
     },
     "metadata": {},
     "output_type": "display_data"
    },
    {
     "data": {
      "application/vnd.jupyter.widget-view+json": {
       "model_id": "a41062175f5444e790c939f922e01ae2",
       "version_major": 2,
       "version_minor": 0
      },
      "text/plain": [
       "Downloading:   0%|          | 0.00/676M [00:00<?, ?B/s]"
      ]
     },
     "metadata": {},
     "output_type": "display_data"
    }
   ],
   "source": [
    "contriever = Contriever.from_pretrained(\"facebook/contriever\") \n",
    "contriever_msmarco = Contriever.from_pretrained(\"facebook/contriever-msmarco\")\n",
    "mcontriever = Contriever.from_pretrained(\"facebook/mcontriever\")\n",
    "mcontriever_msmarco = Contriever.from_pretrained(\"facebook/mcontriever-msmarco\")"
   ]
  },
  {
   "cell_type": "code",
   "execution_count": 3,
   "id": "1a83efa5-3aa8-4fa0-a5d9-38704a3093ef",
   "metadata": {},
   "outputs": [],
   "source": [
    "tokenizer = AutoTokenizer.from_pretrained(\"facebook/contriever\") #Load the associated tokenizer:"
   ]
  },
  {
   "cell_type": "code",
   "execution_count": 4,
   "id": "b803fe6e-ab74-4301-a333-37d1bbb08ac5",
   "metadata": {},
   "outputs": [
    {
     "data": {
      "application/vnd.jupyter.widget-view+json": {
       "model_id": "b83139306e22419f874696d701b82d62",
       "version_major": 2,
       "version_minor": 0
      },
      "text/plain": [
       "Downloading:   0%|          | 0.00/321 [00:00<?, ?B/s]"
      ]
     },
     "metadata": {},
     "output_type": "display_data"
    },
    {
     "data": {
      "application/vnd.jupyter.widget-view+json": {
       "model_id": "3b4092be7ce7404992dc0bb691a6b273",
       "version_major": 2,
       "version_minor": 0
      },
      "text/plain": [
       "Downloading:   0%|          | 0.00/226k [00:00<?, ?B/s]"
      ]
     },
     "metadata": {},
     "output_type": "display_data"
    },
    {
     "data": {
      "application/vnd.jupyter.widget-view+json": {
       "model_id": "33a7b354ec7b434b86eb6282027652a0",
       "version_major": 2,
       "version_minor": 0
      },
      "text/plain": [
       "Downloading:   0%|          | 0.00/455k [00:00<?, ?B/s]"
      ]
     },
     "metadata": {},
     "output_type": "display_data"
    },
    {
     "data": {
      "application/vnd.jupyter.widget-view+json": {
       "model_id": "425c2690a89f49d68b10082410cf77a7",
       "version_major": 2,
       "version_minor": 0
      },
      "text/plain": [
       "Downloading:   0%|          | 0.00/112 [00:00<?, ?B/s]"
      ]
     },
     "metadata": {},
     "output_type": "display_data"
    }
   ],
   "source": [
    "tokenizer_ms = AutoTokenizer.from_pretrained(\"facebook/contriever-msmarco\")"
   ]
  },
  {
   "cell_type": "code",
   "execution_count": 7,
   "id": "74ae304d-27fc-4e8f-9749-6c1d662de266",
   "metadata": {},
   "outputs": [
    {
     "data": {
      "application/vnd.jupyter.widget-view+json": {
       "model_id": "d8f869f627ea4e9f97e3192bd3dc0994",
       "version_major": 2,
       "version_minor": 0
      },
      "text/plain": [
       "Downloading:   0%|          | 0.00/300 [00:00<?, ?B/s]"
      ]
     },
     "metadata": {},
     "output_type": "display_data"
    },
    {
     "data": {
      "application/vnd.jupyter.widget-view+json": {
       "model_id": "3d71a2c8a836455391817fcc1e204e6e",
       "version_major": 2,
       "version_minor": 0
      },
      "text/plain": [
       "Downloading:   0%|          | 0.00/972k [00:00<?, ?B/s]"
      ]
     },
     "metadata": {},
     "output_type": "display_data"
    },
    {
     "data": {
      "application/vnd.jupyter.widget-view+json": {
       "model_id": "c94b77556d7c406db624918b6baae085",
       "version_major": 2,
       "version_minor": 0
      },
      "text/plain": [
       "Downloading:   0%|          | 0.00/1.87M [00:00<?, ?B/s]"
      ]
     },
     "metadata": {},
     "output_type": "display_data"
    },
    {
     "data": {
      "application/vnd.jupyter.widget-view+json": {
       "model_id": "f324c4b3a55a4c1fb5f920be402e2bcb",
       "version_major": 2,
       "version_minor": 0
      },
      "text/plain": [
       "Downloading:   0%|          | 0.00/112 [00:00<?, ?B/s]"
      ]
     },
     "metadata": {},
     "output_type": "display_data"
    }
   ],
   "source": [
    "tokenizer_multi = AutoTokenizer.from_pretrained(\"facebook/mcontriever\")"
   ]
  },
  {
   "cell_type": "code",
   "execution_count": 5,
   "id": "179af4b0-a941-4821-a6bd-c235ae12077a",
   "metadata": {},
   "outputs": [
    {
     "name": "stdout",
     "output_type": "stream",
     "text": [
      "PreTrainedTokenizerFast(name_or_path='facebook/contriever', vocab_size=30522, model_max_len=512, is_fast=True, padding_side='right', truncation_side='right', special_tokens={'unk_token': '[UNK]', 'sep_token': '[SEP]', 'pad_token': '[PAD]', 'cls_token': '[CLS]', 'mask_token': '[MASK]'})\n"
     ]
    }
   ],
   "source": [
    "print(tokenizer)"
   ]
  },
  {
   "cell_type": "code",
   "execution_count": 6,
   "id": "29ab6428-8038-45d7-863c-f109ecbaabd3",
   "metadata": {},
   "outputs": [
    {
     "name": "stdout",
     "output_type": "stream",
     "text": [
      "PreTrainedTokenizerFast(name_or_path='facebook/contriever-msmarco', vocab_size=30522, model_max_len=512, is_fast=True, padding_side='right', truncation_side='right', special_tokens={'unk_token': '[UNK]', 'sep_token': '[SEP]', 'pad_token': '[PAD]', 'cls_token': '[CLS]', 'mask_token': '[MASK]'})\n"
     ]
    }
   ],
   "source": [
    "print(tokenizer_ms)"
   ]
  },
  {
   "cell_type": "code",
   "execution_count": 8,
   "id": "c468627c-fac5-480f-92e0-6ec78392c354",
   "metadata": {},
   "outputs": [
    {
     "name": "stdout",
     "output_type": "stream",
     "text": [
      "PreTrainedTokenizerFast(name_or_path='facebook/mcontriever', vocab_size=119547, model_max_len=512, is_fast=True, padding_side='right', truncation_side='right', special_tokens={'unk_token': '[UNK]', 'sep_token': '[SEP]', 'pad_token': '[PAD]', 'cls_token': '[CLS]', 'mask_token': '[MASK]'})\n"
     ]
    }
   ],
   "source": [
    "print(tokenizer_multi)"
   ]
  },
  {
   "cell_type": "code",
   "execution_count": 10,
   "id": "3ecc2bb3-53e0-4b55-bd54-237d67fa39d3",
   "metadata": {},
   "outputs": [],
   "source": [
    "sentences = [\n",
    "    \"Where was Marie Curie born?\",\n",
    "    \"Maria Sklodowska, later known as Marie Curie, was born on November 7, 1867.\",\n",
    "    \"Born in Paris on 15 May 1859, Pierre Curie was the son of Eugène Curie, a doctor of French Catholic origin from Alsace.\"\n",
    "]"
   ]
  },
  {
   "cell_type": "code",
   "execution_count": 11,
   "id": "63a0d645-c31e-488d-ba38-b03e656a8415",
   "metadata": {},
   "outputs": [],
   "source": [
    "inputs = tokenizer(sentences, padding=True, truncation=True, return_tensors=\"pt\")\n",
    "inputs_ms = tokenizer_ms(sentences, padding=True, truncation=True, return_tensors=\"pt\")"
   ]
  },
  {
   "cell_type": "code",
   "execution_count": 21,
   "id": "9c57955c-b67b-4629-84a1-5f1ff5986bc9",
   "metadata": {},
   "outputs": [
    {
     "data": {
      "text/plain": [
       "tensor([[True, True, True, True, True, True, True, True, True, True, True, True,\n",
       "         True, True, True, True, True, True, True, True, True, True, True, True,\n",
       "         True, True, True, True, True, True],\n",
       "        [True, True, True, True, True, True, True, True, True, True, True, True,\n",
       "         True, True, True, True, True, True, True, True, True, True, True, True,\n",
       "         True, True, True, True, True, True],\n",
       "        [True, True, True, True, True, True, True, True, True, True, True, True,\n",
       "         True, True, True, True, True, True, True, True, True, True, True, True,\n",
       "         True, True, True, True, True, True]])"
      ]
     },
     "execution_count": 21,
     "metadata": {},
     "output_type": "execute_result"
    }
   ],
   "source": [
    "inputs[\"attention_mask\"] == inputs_ms[\"attention_mask\"]"
   ]
  },
  {
   "cell_type": "code",
   "execution_count": 18,
   "id": "b71c23b5-6c35-4a16-a74a-2489d339e8c9",
   "metadata": {},
   "outputs": [
    {
     "data": {
      "text/plain": [
       "{'input_ids': tensor([[  101,  2073,  2001,  5032, 12731,  7373,  2141,  1029,   102,     0,\n",
       "             0,     0,     0,     0,     0,     0,     0,     0,     0,     0,\n",
       "             0,     0,     0,     0,     0,     0,     0,     0,     0,     0],\n",
       "        [  101,  3814, 15315,  4135,  3527,  9333,  2912,  1010,  2101,  2124,\n",
       "          2004,  5032, 12731,  7373,  1010,  2001,  2141,  2006,  2281,  1021,\n",
       "          1010,  7517,  1012,   102,     0,     0,     0,     0,     0,     0],\n",
       "        [  101,  2141,  1999,  3000,  2006,  2321,  2089,  8165,  1010,  5578,\n",
       "         12731,  7373,  2001,  1996,  2365,  1997,  8207, 12731,  7373,  1010,\n",
       "          1037,  3460,  1997,  2413,  3234,  4761,  2013, 24922,  1012,   102]]), 'token_type_ids': tensor([[0, 0, 0, 0, 0, 0, 0, 0, 0, 0, 0, 0, 0, 0, 0, 0, 0, 0, 0, 0, 0, 0, 0, 0,\n",
       "         0, 0, 0, 0, 0, 0],\n",
       "        [0, 0, 0, 0, 0, 0, 0, 0, 0, 0, 0, 0, 0, 0, 0, 0, 0, 0, 0, 0, 0, 0, 0, 0,\n",
       "         0, 0, 0, 0, 0, 0],\n",
       "        [0, 0, 0, 0, 0, 0, 0, 0, 0, 0, 0, 0, 0, 0, 0, 0, 0, 0, 0, 0, 0, 0, 0, 0,\n",
       "         0, 0, 0, 0, 0, 0]]), 'attention_mask': tensor([[1, 1, 1, 1, 1, 1, 1, 1, 1, 0, 0, 0, 0, 0, 0, 0, 0, 0, 0, 0, 0, 0, 0, 0,\n",
       "         0, 0, 0, 0, 0, 0],\n",
       "        [1, 1, 1, 1, 1, 1, 1, 1, 1, 1, 1, 1, 1, 1, 1, 1, 1, 1, 1, 1, 1, 1, 1, 1,\n",
       "         0, 0, 0, 0, 0, 0],\n",
       "        [1, 1, 1, 1, 1, 1, 1, 1, 1, 1, 1, 1, 1, 1, 1, 1, 1, 1, 1, 1, 1, 1, 1, 1,\n",
       "         1, 1, 1, 1, 1, 1]])}"
      ]
     },
     "execution_count": 18,
     "metadata": {},
     "output_type": "execute_result"
    }
   ],
   "source": [
    "inputs_ms"
   ]
  },
  {
   "cell_type": "code",
   "execution_count": 23,
   "id": "ef87985e-b725-4620-9905-e5390bac6b6c",
   "metadata": {},
   "outputs": [],
   "source": [
    "inputs = tokenizer(sentences, padding=True, truncation=True, return_tensors=\"pt\")\n",
    "embeddings = contriever(**inputs)"
   ]
  },
  {
   "cell_type": "code",
   "execution_count": 14,
   "id": "83807827-9c32-46a5-a1ff-91789b1c2735",
   "metadata": {},
   "outputs": [],
   "source": [
    "score01 = embeddings[0] @ embeddings[1] #1.0473\n",
    "score02 = embeddings[0] @ embeddings[2] #1.0095"
   ]
  },
  {
   "cell_type": "code",
   "execution_count": 19,
   "id": "36e5debb-92fa-45f1-81b3-59f2bc48b086",
   "metadata": {},
   "outputs": [
    {
     "data": {
      "text/plain": [
       "tensor(1.0473, grad_fn=<DotBackward0>)"
      ]
     },
     "execution_count": 19,
     "metadata": {},
     "output_type": "execute_result"
    }
   ],
   "source": [
    "score01"
   ]
  },
  {
   "cell_type": "code",
   "execution_count": 13,
   "id": "32ef51cf-890c-45ce-be19-a9e01b073d07",
   "metadata": {},
   "outputs": [],
   "source": [
    "import torch"
   ]
  },
  {
   "cell_type": "code",
   "execution_count": 31,
   "id": "2183449c-7289-4c52-9ff2-0504587d24b6",
   "metadata": {},
   "outputs": [
    {
     "data": {
      "text/plain": [
       "True"
      ]
     },
     "execution_count": 31,
     "metadata": {},
     "output_type": "execute_result"
    }
   ],
   "source": [
    "embeddings[0].requires_grad"
   ]
  },
  {
   "cell_type": "code",
   "execution_count": 28,
   "id": "8b7facc1-1b93-4500-928a-74b7bcf31a9a",
   "metadata": {},
   "outputs": [
    {
     "ename": "FileNotFoundError",
     "evalue": "[Errno 2] No such file or directory: 'data/biasbios/tokens_raw_contriever.pt'",
     "output_type": "error",
     "traceback": [
      "\u001b[0;31m---------------------------------------------------------------------------\u001b[0m",
      "\u001b[0;31mFileNotFoundError\u001b[0m                         Traceback (most recent call last)",
      "Input \u001b[0;32mIn [28]\u001b[0m, in \u001b[0;36m<cell line: 1>\u001b[0;34m()\u001b[0m\n\u001b[0;32m----> 1\u001b[0m \u001b[38;5;28;01mwith\u001b[39;00m \u001b[38;5;28;43mopen\u001b[39;49m\u001b[43m(\u001b[49m\u001b[43mdata_path\u001b[49m\u001b[43m,\u001b[49m\u001b[43m \u001b[49m\u001b[38;5;124;43m\"\u001b[39;49m\u001b[38;5;124;43mrb\u001b[39;49m\u001b[38;5;124;43m\"\u001b[39;49m\u001b[43m)\u001b[49m \u001b[38;5;28;01mas\u001b[39;00m fin:\n\u001b[1;32m      2\u001b[0m     data \u001b[38;5;241m=\u001b[39m torch\u001b[38;5;241m.\u001b[39mload(fin)\n",
      "\u001b[0;31mFileNotFoundError\u001b[0m: [Errno 2] No such file or directory: 'data/biasbios/tokens_raw_contriever.pt'"
     ]
    }
   ],
   "source": []
  },
  {
   "cell_type": "code",
   "execution_count": 198,
   "id": "fc0455ce-eb7b-42fc-82a0-97d3fe855820",
   "metadata": {},
   "outputs": [],
   "source": [
    "p = \"contriever/65682284-average-rmin0.05-rmax0.5-T0.05-131072-0.9995-delete-0.1-google_multiberts-seed_20/checkpoint/latest/checkpoint.pth\""
   ]
  },
  {
   "cell_type": "code",
   "execution_count": 208,
   "id": "0cf02db0-9f6a-41df-83ea-c08e341c44ff",
   "metadata": {},
   "outputs": [],
   "source": [
    "p=\"contriever/65682285-average-rmin0.05-rmax0.5-T0.05-131072-0.9995-delete-0.1-google_multiberts-seed_21/\""
   ]
  },
  {
   "cell_type": "code",
   "execution_count": 220,
   "id": "6aa8b221-cd38-416d-a8cc-50ccd92516e3",
   "metadata": {},
   "outputs": [],
   "source": [
    "p=\"contriever/65682284-average-rmin0.05-rmax0.5-T0.05-131072-0.9995-delete-0.1-google_multiberts-seed_20/\""
   ]
  },
  {
   "cell_type": "code",
   "execution_count": 221,
   "id": "7c1cc67d-edc8-4987-826c-6ae8fd353ddd",
   "metadata": {},
   "outputs": [],
   "source": [
    "p = p + \"checkpoint/latest/checkpoint.pth\""
   ]
  },
  {
   "cell_type": "code",
   "execution_count": 183,
   "id": "dafbe5dd-d3b7-4622-a7b9-3d651a5ed9d9",
   "metadata": {},
   "outputs": [],
   "source": [
    "from contriever.src import utils"
   ]
  },
  {
   "cell_type": "code",
   "execution_count": null,
   "id": "c73cc182-cc73-4536-9b58-eaafd9a4a7f8",
   "metadata": {},
   "outputs": [],
   "source": [
    "model, optimizer, scheduler, opt_checkpoint, step = utils.load(\n",
    "            model_class,\n",
    "            model_path,\n",
    "            opt,\n",
    "            reset_params=False,\n",
    "        )"
   ]
  },
  {
   "cell_type": "code",
   "execution_count": 222,
   "id": "b3ff7333-d8ce-4194-879d-b2a96cf1a0b3",
   "metadata": {},
   "outputs": [],
   "source": [
    "checkpoint = torch.load(p, map_location=\"cpu\")"
   ]
  },
  {
   "cell_type": "code",
   "execution_count": null,
   "id": "9ab23ed0-c8a9-44db-9368-108f967d736a",
   "metadata": {},
   "outputs": [],
   "source": []
  }
 ],
 "metadata": {
  "kernelspec": {
   "display_name": "sgt",
   "language": "python",
   "name": "sgt"
  },
  "language_info": {
   "codemirror_mode": {
    "name": "ipython",
    "version": 3
   },
   "file_extension": ".py",
   "mimetype": "text/x-python",
   "name": "python",
   "nbconvert_exporter": "python",
   "pygments_lexer": "ipython3",
   "version": "3.9.13"
  }
 },
 "nbformat": 4,
 "nbformat_minor": 5
}
