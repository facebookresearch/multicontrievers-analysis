{
 "cells": [
  {
   "cell_type": "code",
   "execution_count": 31,
   "id": "8578949d-0830-4d8f-908e-c6eb99d20e49",
   "metadata": {},
   "outputs": [],
   "source": [
    "from transformers import AutoTokenizer, AutoModel, BertModel, RobertaModel\n",
    "import os\n",
    "import sys\n",
    "import pickle\n",
    "import torch\n",
    "\n",
    "import wandb\n",
    "import jsonlines\n",
    "import json\n",
    "import pandas as pd\n",
    "import spacy\n",
    "import spacy_transformers"
   ]
  },
  {
   "cell_type": "code",
   "execution_count": 51,
   "id": "c65434d4-fff4-4485-809d-c711fc79b49b",
   "metadata": {},
   "outputs": [],
   "source": [
    "m = \"sebastian-hofstaetter/distilbert-dot-tas_b-b256-msmarco\"\n",
    "m = \"distilbert-base-uncased\""
   ]
  },
  {
   "cell_type": "code",
   "execution_count": null,
   "id": "aea8e9d1-9f59-44f8-bbe9-e3ba4706d53f",
   "metadata": {},
   "outputs": [],
   "source": [
    "tokenizer = AutoTokenizer.from_pretrained(m)\n",
    "model = AutoModel.from_pretrained(m)"
   ]
  },
  {
   "cell_type": "code",
   "execution_count": 53,
   "id": "7b2c1c90-c9cb-4434-a1ae-ccf2f9676668",
   "metadata": {},
   "outputs": [
    {
     "data": {
      "text/plain": [
       "transformers.models.distilbert.modeling_distilbert.DistilBertModel"
      ]
     },
     "execution_count": 53,
     "metadata": {},
     "output_type": "execute_result"
    }
   ],
   "source": [
    "type(model)"
   ]
  },
  {
   "cell_type": "code",
   "execution_count": 54,
   "id": "25c4eecb-ab29-4332-8127-9763d4c80d47",
   "metadata": {},
   "outputs": [
    {
     "data": {
      "text/plain": [
       "PreTrainedTokenizerFast(name_or_path='distilbert-base-uncased', vocab_size=30522, model_max_len=512, is_fast=True, padding_side='right', truncation_side='right', special_tokens={'unk_token': '[UNK]', 'sep_token': '[SEP]', 'pad_token': '[PAD]', 'cls_token': '[CLS]', 'mask_token': '[MASK]'})"
      ]
     },
     "execution_count": 54,
     "metadata": {},
     "output_type": "execute_result"
    }
   ],
   "source": [
    "tokenizer"
   ]
  },
  {
   "cell_type": "code",
   "execution_count": null,
   "id": "166d66a2-441f-4d5d-aeec-366797889b76",
   "metadata": {
    "collapsed": true,
    "jupyter": {
     "outputs_hidden": true
    },
    "tags": []
   },
   "outputs": [],
   "source": [
    "bert = AutoModel.from_pretrained('bert-base-uncased')\n",
    "bert_tokenizer = AutoTokenizer.from_pretrained('bert-base-uncased')"
   ]
  },
  {
   "cell_type": "code",
   "execution_count": null,
   "id": "e9b0d9f7-1680-44a2-8c16-b034f96cd357",
   "metadata": {},
   "outputs": [],
   "source": [
    "bert_tokenizer_cased = AutoTokenizer.from_pretrained('bert-base-cased')"
   ]
  },
  {
   "cell_type": "code",
   "execution_count": 55,
   "id": "82f5b662-ffa3-4b0b-a3db-c678de1c471c",
   "metadata": {},
   "outputs": [
    {
     "name": "stdout",
     "output_type": "stream",
     "text": [
      "{'input_ids': [101, 7592, 2129, 2024, 2017, 102], 'attention_mask': [1, 1, 1, 1, 1, 1]}\n",
      "{'input_ids': [101, 7592, 2129, 2024, 2017, 102], 'attention_mask': [1, 1, 1, 1, 1, 1]}\n"
     ]
    }
   ],
   "source": [
    "print(tokenizer(\"Hello how are you\"))\n",
    "print(tokenizer(\"HELLO how are you\"))"
   ]
  },
  {
   "cell_type": "code",
   "execution_count": 49,
   "id": "0caf9e6c-e348-4789-8b79-123f367c9fbd",
   "metadata": {},
   "outputs": [
    {
     "name": "stdout",
     "output_type": "stream",
     "text": [
      "{'input_ids': [101, 7592, 2129, 2024, 2017, 102], 'token_type_ids': [0, 0, 0, 0, 0, 0], 'attention_mask': [1, 1, 1, 1, 1, 1]}\n",
      "{'input_ids': [101, 7592, 2129, 2024, 2017, 102], 'token_type_ids': [0, 0, 0, 0, 0, 0], 'attention_mask': [1, 1, 1, 1, 1, 1]}\n"
     ]
    }
   ],
   "source": [
    "print(bert_tokenizer(\"Hello how are you\"))\n",
    "print(bert_tokenizer(\"HELLO how are you\"))"
   ]
  },
  {
   "cell_type": "code",
   "execution_count": 8,
   "id": "22df7b7e-544f-4d1a-a41e-71f792f8955c",
   "metadata": {},
   "outputs": [
    {
     "data": {
      "text/plain": [
       "array(['nq-train-new-complement', 'nq-train-new-gender',\n",
       "       'nq-train-new-male', 'nq-train-new-female', 'msmarco-female',\n",
       "       'msmarco-male', 'msmarco-neutral', 'msmarco-gender', 'all_gender'],\n",
       "      dtype=object)"
      ]
     },
     "execution_count": 8,
     "metadata": {},
     "output_type": "execute_result"
    }
   ],
   "source": [
    "x[\"dataset\"].unique()"
   ]
  },
  {
   "cell_type": "code",
   "execution_count": 43,
   "id": "1a482fe6-1ce2-4754-b02c-7a59f40fa207",
   "metadata": {},
   "outputs": [],
   "source": [
    "nlp = spacy.load(\"en_core_web_trf\")"
   ]
  },
  {
   "cell_type": "code",
   "execution_count": 85,
   "id": "acbb23e3-944f-4f9f-8fd5-e5c1964b574d",
   "metadata": {},
   "outputs": [],
   "source": [
    "examples = [\n",
    "\"who was famous for singing i'm a small town girl?\",\n",
    "\"who was famous for singing i'm a small town girl\",\n",
    "\"who was famous for singing im a small town girl\",\n",
    "\"who was famous for singing im a small town girl?\",\n",
    "\"who was famous for singing I'm a small town girl\",\n",
    "\"who was famous for singing I'm a small town girl?\",\n",
    "\"who was a famous girl from a small town?\",\n",
    "\"who sang turn back the hands of time?\",\n",
    " \"who is considered the mother of philippine folklore?\",\n",
    "\"who is the lead in how i met your mother?\",\n",
    "\"who sings the song i'll do anything for you?\",\n",
    "]"
   ]
  },
  {
   "cell_type": "code",
   "execution_count": 86,
   "id": "bace76a1-512f-43ac-90d7-7f3e60f0c01c",
   "metadata": {},
   "outputs": [
    {
     "name": "stdout",
     "output_type": "stream",
     "text": [
      "who was famous for singing i'm a small town girl?\n",
      "[('ROOT', 'was')]\n",
      "[('nsubj', 'who', [who], 'PRON'), ('ROOT', 'was', [who, was, famous, for, singing, i, 'm, a, small, town, girl, ?], 'AUX'), ('acomp', 'famous', [famous, for, singing], 'ADJ'), ('prep', 'for', [for, singing], 'ADP'), ('pobj', 'singing', [singing], 'NOUN'), ('nsubj', 'i', [i], 'PRON'), ('parataxis', \"'m\", [i, 'm, a, small, town, girl, ?], 'AUX'), ('det', 'a', [a], 'DET'), ('amod', 'small', [small], 'ADJ'), ('compound', 'town', [small, town], 'NOUN'), ('attr', 'girl', [a, small, town, girl], 'NOUN'), ('punct', '?', [?], 'PUNCT')]\n",
      "\n",
      "\n",
      "who was famous for singing i'm a small town girl\n",
      "[('ROOT', \"'m\")]\n",
      "[('nsubj', 'who', [who], 'PRON'), ('advcl', 'was', [who, was, famous, for, singing], 'AUX'), ('acomp', 'famous', [famous, for, singing], 'ADJ'), ('prep', 'for', [for, singing], 'ADP'), ('pobj', 'singing', [singing], 'NOUN'), ('nsubj', 'i', [i], 'PRON'), ('ROOT', \"'m\", [who, was, famous, for, singing, i, 'm, a, small, town, girl], 'AUX'), ('det', 'a', [a], 'DET'), ('amod', 'small', [small], 'ADJ'), ('compound', 'town', [small, town], 'NOUN'), ('attr', 'girl', [a, small, town, girl], 'NOUN')]\n",
      "\n",
      "\n",
      "who was famous for singing im a small town girl\n",
      "[('ROOT', 'girl')]\n",
      "[('nsubj', 'who', [who], 'PRON'), ('advcl', 'was', [who, was, famous, for, singing], 'AUX'), ('acomp', 'famous', [famous, for, singing], 'ADJ'), ('prep', 'for', [for, singing], 'ADP'), ('pcomp', 'singing', [singing], 'VERB'), ('nmod', 'i', [i], 'PRON'), ('nmod', 'm', [m], 'PRON'), ('det', 'a', [a], 'DET'), ('amod', 'small', [small], 'ADJ'), ('compound', 'town', [small, town], 'NOUN'), ('ROOT', 'girl', [who, was, famous, for, singing, i, m, a, small, town, girl], 'NOUN')]\n",
      "\n",
      "\n",
      "who was famous for singing im a small town girl?\n",
      "[('ROOT', 'was')]\n",
      "[('nsubj', 'who', [who], 'PRON'), ('ROOT', 'was', [who, was, famous, for, singing, i, m, a, small, town, girl, ?], 'AUX'), ('acomp', 'famous', [famous, for, singing], 'ADJ'), ('prep', 'for', [for, singing], 'ADP'), ('pcomp', 'singing', [singing], 'VERB'), ('advcl', 'i', [i], 'PRON'), ('nmod', 'm', [m], 'PRON'), ('det', 'a', [a], 'DET'), ('amod', 'small', [small], 'ADJ'), ('compound', 'town', [small, town], 'NOUN'), ('dep', 'girl', [m, a, small, town, girl], 'NOUN'), ('punct', '?', [?], 'PUNCT')]\n",
      "\n",
      "\n",
      "who was famous for singing I'm a small town girl\n",
      "[('ROOT', \"'m\")]\n",
      "[('nsubj', 'who', [who], 'PRON'), ('advcl', 'was', [who, was, famous, for, singing], 'AUX'), ('acomp', 'famous', [famous, for, singing], 'ADJ'), ('prep', 'for', [for, singing], 'ADP'), ('pobj', 'singing', [singing], 'NOUN'), ('nsubj', 'I', [I], 'PRON'), ('ROOT', \"'m\", [who, was, famous, for, singing, I, 'm, a, small, town, girl], 'AUX'), ('det', 'a', [a], 'DET'), ('amod', 'small', [small], 'ADJ'), ('compound', 'town', [small, town], 'NOUN'), ('attr', 'girl', [a, small, town, girl], 'NOUN')]\n",
      "\n",
      "\n",
      "who was famous for singing I'm a small town girl?\n",
      "[('ROOT', 'was')]\n",
      "[('nsubj', 'who', [who], 'PRON'), ('ROOT', 'was', [who, was, famous, for, singing, I, 'm, a, small, town, girl, ?], 'AUX'), ('acomp', 'famous', [famous, for, singing], 'ADJ'), ('prep', 'for', [for, singing], 'ADP'), ('pobj', 'singing', [singing], 'VERB'), ('nsubj', 'I', [I], 'PRON'), ('parataxis', \"'m\", [I, 'm, a, small, town, girl, ?], 'AUX'), ('det', 'a', [a], 'DET'), ('amod', 'small', [small], 'ADJ'), ('compound', 'town', [small, town], 'NOUN'), ('attr', 'girl', [a, small, town, girl], 'NOUN'), ('punct', '?', [?], 'PUNCT')]\n",
      "\n",
      "\n",
      "who was a famous girl from a small town?\n",
      "[('ROOT', 'was')]\n",
      "[('attr', 'who', [who], 'PRON'), ('ROOT', 'was', [who, was, a, famous, girl, from, a, small, town, ?], 'AUX'), ('det', 'a', [a], 'DET'), ('amod', 'famous', [famous], 'ADJ'), ('nsubj', 'girl', [a, famous, girl, from, a, small, town], 'NOUN'), ('prep', 'from', [from, a, small, town], 'ADP'), ('det', 'a', [a], 'DET'), ('amod', 'small', [small], 'ADJ'), ('pobj', 'town', [a, small, town], 'NOUN'), ('punct', '?', [?], 'PUNCT')]\n",
      "\n",
      "\n",
      "who sang turn back the hands of time?\n",
      "[('ROOT', 'sang')]\n",
      "[('nsubj', 'who', [who], 'PRON'), ('ROOT', 'sang', [who, sang, turn, back, the, hands, of, time, ?], 'VERB'), ('xcomp', 'turn', [turn, back, the, hands, of, time, ?], 'VERB'), ('prt', 'back', [back], 'ADV'), ('det', 'the', [the], 'DET'), ('dobj', 'hands', [the, hands, of, time], 'NOUN'), ('prep', 'of', [of, time], 'ADP'), ('pobj', 'time', [time], 'NOUN'), ('punct', '?', [?], 'PUNCT')]\n",
      "\n",
      "\n",
      "who is considered the mother of philippine folklore?\n",
      "[('ROOT', 'considered')]\n",
      "[('nsubjpass', 'who', [who], 'PRON'), ('auxpass', 'is', [is], 'AUX'), ('ROOT', 'considered', [who, is, considered, the, mother, of, philippine, folklore, ?], 'VERB'), ('det', 'the', [the], 'DET'), ('oprd', 'mother', [the, mother, of, philippine, folklore], 'NOUN'), ('prep', 'of', [of, philippine, folklore], 'ADP'), ('amod', 'philippine', [philippine], 'ADJ'), ('pobj', 'folklore', [philippine, folklore], 'NOUN'), ('punct', '?', [?], 'PUNCT')]\n",
      "\n",
      "\n",
      "who is the lead in how i met your mother?\n",
      "[('ROOT', 'is')]\n",
      "[('nsubj', 'who', [who], 'PRON'), ('ROOT', 'is', [who, is, the, lead, in, how, i, met, your, mother, ?], 'AUX'), ('det', 'the', [the], 'DET'), ('attr', 'lead', [the, lead, in, how, i, met, your, mother], 'NOUN'), ('prep', 'in', [in, how, i, met, your, mother], 'ADP'), ('advmod', 'how', [how], 'SCONJ'), ('nsubj', 'i', [i], 'PRON'), ('pcomp', 'met', [how, i, met, your, mother], 'VERB'), ('poss', 'your', [your], 'PRON'), ('dobj', 'mother', [your, mother], 'NOUN'), ('punct', '?', [?], 'PUNCT')]\n",
      "\n",
      "\n",
      "who sings the song i'll do anything for you?\n",
      "[('ROOT', 'sings')]\n",
      "[('nsubj', 'who', [who], 'PRON'), ('ROOT', 'sings', [who, sings, the, song, i, 'll, do, anything, for, you, ?], 'VERB'), ('det', 'the', [the], 'DET'), ('dobj', 'song', [the, song], 'NOUN'), ('nsubj', 'i', [i], 'PRON'), ('aux', \"'ll\", ['ll], 'AUX'), ('ccomp', 'do', [i, 'll, do, anything, for, you], 'VERB'), ('dobj', 'anything', [anything], 'PRON'), ('dative', 'for', [for, you], 'ADP'), ('pobj', 'you', [you], 'PRON'), ('punct', '?', [?], 'PUNCT')]\n",
      "\n",
      "\n"
     ]
    }
   ],
   "source": [
    "for ex in examples:\n",
    "    res = nlp(ex)\n",
    "    print(res)\n",
    "    print([(x.dep_,x.text) for x in res if x.dep_ == \"ROOT\"])\n",
    "    print([(x.dep_, x.text, [i for i in x.subtree], x.pos_) for x in res])\n",
    "    print(\"\\n\")"
   ]
  },
  {
   "cell_type": "code",
   "execution_count": null,
   "id": "dffc69fa-bb4d-4fb7-8a71-f8f4ce7e5958",
   "metadata": {},
   "outputs": [],
   "source": [
    "# if comthing is eitehr prep or xcomp"
   ]
  },
  {
   "cell_type": "code",
   "execution_count": 27,
   "id": "a7e0cfff-7839-4835-b665-ea3d47d49b90",
   "metadata": {},
   "outputs": [],
   "source": [
    "dp= \"/home/seraphina/contriever/beir/results/contriever/all_metrics_all_seeds_gender.pkl\""
   ]
  },
  {
   "cell_type": "code",
   "execution_count": 28,
   "id": "b94594d7-fda8-4258-b037-a8326caf242d",
   "metadata": {},
   "outputs": [],
   "source": [
    "df = pd.read_pickle(dp)"
   ]
  },
  {
   "cell_type": "code",
   "execution_count": 36,
   "id": "cb097ccb-cca6-4f90-bb2d-7dda20c8d0db",
   "metadata": {},
   "outputs": [
    {
     "data": {
      "text/plain": [
       "array([36.39, 37.29, 37.88, 38.14, 37.79, 37.02, 37.85, 37.33, 36.85,\n",
       "       36.98, 37.51, 37.64, 36.77, 37.63, 37.7 , 37.69, 37.08, 37.52,\n",
       "       36.82, 37.34, 37.73])"
      ]
     },
     "execution_count": 36,
     "metadata": {},
     "output_type": "execute_result"
    }
   ],
   "source": [
    "df[df[\"data_type\"] == \"raw\"][\"compression\"].unique()"
   ]
  },
  {
   "cell_type": "code",
   "execution_count": 22,
   "id": "c6951dbb-0698-4d43-be9a-86ea36933951",
   "metadata": {},
   "outputs": [],
   "source": [
    "with open(\"biasinbios_type2model2seed2compression.pkl\", \"rb\") as fin:\n",
    "    test = pickle.load(fin)"
   ]
  },
  {
   "cell_type": "code",
   "execution_count": 23,
   "id": "0c7a77ed-e2c9-4487-b4d0-72ab4ce6063f",
   "metadata": {},
   "outputs": [
    {
     "data": {
      "text/plain": [
       "{'scrubbed': defaultdict(dict,\n",
       "             {'contriever-msmarco': {'seed_42': 1.78},\n",
       "              'contriever': {'seed_13': 1.79,\n",
       "               'seed_12': 1.8,\n",
       "               'seed_11': 1.78,\n",
       "               'seed_10': 1.79,\n",
       "               'seed_9': 1.8,\n",
       "               'seed_1': 1.8,\n",
       "               'seed_16': 1.79,\n",
       "               'seed_14': 1.79,\n",
       "               'seed_0': 1.8,\n",
       "               'seed_5': 1.8,\n",
       "               'seed_7': 1.77,\n",
       "               'seed_4': 1.8,\n",
       "               'seed_2': 1.8,\n",
       "               'seed_8': 1.79,\n",
       "               'seed_6': 1.8},\n",
       "              'bert': {'seed_8': 1.69,\n",
       "               'seed_0': 1.69,\n",
       "               'seed_4': 1.65,\n",
       "               'seed_13': 1.65,\n",
       "               'seed_6': 1.66,\n",
       "               'seed_11': 1.67,\n",
       "               'seed_5': 1.65,\n",
       "               'seed_7': 1.65,\n",
       "               'seed_10': 1.67,\n",
       "               'seed_14': 1.69,\n",
       "               'seed_9': 1.66,\n",
       "               'seed_2': 1.68,\n",
       "               'seed_16': 1.67,\n",
       "               'seed_1': 1.66,\n",
       "               'seed_12': 1.68}}),\n",
       " 'raw': defaultdict(dict,\n",
       "             {'bert': {'seed_3': 34.23,\n",
       "               'seed_20': 30.19,\n",
       "               'seed_2': 31.85,\n",
       "               'seed_22': 29.92,\n",
       "               'seed_23': 27.7,\n",
       "               'seed_24': 31.17,\n",
       "               'seed_19': 29.09,\n",
       "               'seed_15': 32.02,\n",
       "               'seed_21': 33.74,\n",
       "               'seed_17': 31.91,\n",
       "               'seed_18': 32.43,\n",
       "               'seed_9': 32.68,\n",
       "               'seed_14': 33.14,\n",
       "               'seed_10': 32.73,\n",
       "               'seed_12': 32.64,\n",
       "               'seed_13': 33.31,\n",
       "               'seed_11': 30.62,\n",
       "               'seed_8': 31.12,\n",
       "               'seed_6': 30.22,\n",
       "               'seed_5': 31.71,\n",
       "               'seed_4': 32.89,\n",
       "               'seed_0': 32.54,\n",
       "               'seed_7': 25.11,\n",
       "               'seed_16': 32.69,\n",
       "               'seed_1': 32.2,\n",
       "               'seed_42': 31.43},\n",
       "              'contriever': {'seed_3': 37.34,\n",
       "               'seed_0': 36.39,\n",
       "               'seed_20': 37.69,\n",
       "               'seed_19': 37.7,\n",
       "               'seed_23': 37.08,\n",
       "               'seed_21': 37.34,\n",
       "               'seed_18': 37.63,\n",
       "               'seed_17': 37.79,\n",
       "               'seed_22': 37.73,\n",
       "               'seed_24': 37.52,\n",
       "               'seed_15': 37.79,\n",
       "               'seed_16': 36.77,\n",
       "               'seed_14': 37.64,\n",
       "               'seed_13': 37.72,\n",
       "               'seed_12': 37.51,\n",
       "               'seed_11': 36.98,\n",
       "               'seed_9': 37.33,\n",
       "               'seed_8': 37.85,\n",
       "               'seed_10': 36.85,\n",
       "               'seed_7': 37.02,\n",
       "               'seed_5': 38.14,\n",
       "               'seed_6': 37.79,\n",
       "               'seed_4': 37.88,\n",
       "               'seed_1': 36.82,\n",
       "               'seed_2': 37.29},\n",
       "              'mcontriever-msmarco': {'seed_0': 32.74},\n",
       "              'mcontriever': {'seed_0': 35.54},\n",
       "              'contriever-msmarco': {'seed_0': 33.57}})}"
      ]
     },
     "execution_count": 23,
     "metadata": {},
     "output_type": "execute_result"
    }
   ],
   "source": [
    "test"
   ]
  },
  {
   "cell_type": "code",
   "execution_count": 203,
   "id": "50269931-68c9-41a3-b845-8f225871456a",
   "metadata": {},
   "outputs": [
    {
     "name": "stdout",
     "output_type": "stream",
     "text": [
      "{'dialog': [[{'text': 'Ashok Lavasa', 'name': 'Ashok Lavasa', 'label_candidates': ['ABOUT:gender-neutral', 'ABOUT:female', 'ABOUT:male', 'ABOUT:non-binary'], 'episode_done': True, 'id': 'md_gender:wikipedia', 'eval_labels': ['ABOUT:male']}, {'id': 'RepeatLabelAgent', 'text': 'ABOUT:male', 'episode_done': False, 'metrics': {'exs': 1, 'accuracy': 1.0, 'precision': 1.0, 'recall': 1.0, 'f1': 1.0, 'bleu-4': 1.0000000000000004e-06}}]], 'context': [], 'metadata_path': 'tmp.metadata'}\n",
      "----\n",
      "{'dialog': [[{'text': 'Ashok Lavasa (IAST: \"Aśoka Lavāsā\") (born 21 October 1957) is a retired 1980 batch IAS officer of Haryana cadre and is one of the two Election Commissioners of India. He has also served as the Finance Secretary of India, Environment, Forests and Climate Change Secretary of India and Civil Aviation Secretary of India.', 'name': 'Ashok Lavasa', 'label_candidates': ['ABOUT:gender-neutral', 'ABOUT:female', 'ABOUT:male', 'ABOUT:non-binary'], 'episode_done': True, 'id': 'md_gender:wikipedia', 'eval_labels': ['ABOUT:male']}, {'id': 'RepeatLabelAgent', 'text': 'ABOUT:male', 'episode_done': False, 'metrics': {'exs': 1, 'accuracy': 1.0, 'precision': 1.0, 'recall': 1.0, 'f1': 1.0, 'bleu-4': 1.0000000000000004e-06}}]], 'context': [], 'metadata_path': 'tmp.metadata'}\n",
      "----\n",
      "{'dialog': [[{'text': 'Ashok Lavasa is a graduate (BA) and a postgraduate (MA) in English from Delhi University, he also has an MBA degree from Southern Cross University, New South Wales.', 'name': 'Ashok Lavasa', 'label_candidates': ['ABOUT:gender-neutral', 'ABOUT:female', 'ABOUT:male', 'ABOUT:non-binary'], 'episode_done': True, 'id': 'md_gender:wikipedia', 'eval_labels': ['ABOUT:male']}, {'id': 'RepeatLabelAgent', 'text': 'ABOUT:male', 'episode_done': False, 'metrics': {'exs': 1, 'accuracy': 1.0, 'precision': 1.0, 'recall': 1.0, 'f1': 1.0, 'bleu-4': 1.0000000000000004e-06}}]], 'context': [], 'metadata_path': 'tmp.metadata'}\n",
      "----\n",
      "{'dialog': [[{'text': 'Before being appointed as an IAS officer, Lavasa taught literature. He also had a stint with the State Bank of India.', 'name': 'Ashok Lavasa', 'label_candidates': ['ABOUT:gender-neutral', 'ABOUT:female', 'ABOUT:male', 'ABOUT:non-binary'], 'episode_done': True, 'id': 'md_gender:wikipedia', 'eval_labels': ['ABOUT:male']}, {'id': 'RepeatLabelAgent', 'text': 'ABOUT:male', 'episode_done': False, 'metrics': {'exs': 1, 'accuracy': 1.0, 'precision': 1.0, 'recall': 1.0, 'f1': 1.0, 'bleu-4': 1.0000000000000004e-06}}]], 'context': [], 'metadata_path': 'tmp.metadata'}\n",
      "----\n",
      "{'dialog': [[{'text': 'Ashok Lavasa has served in key positions for both the Union Government and the Government of Haryana, like as Principal Secretary and Financial Commissioner (Renewable Energy Sources), Principal Secretary and Financial Commissioner (Power), Chief Coordinator (Industries), Resident Commissioner of Haryana, Managing Director of Haryana State Federation of Co-operative Sugar Mills (HSFCOSML), Director of Haryana State Industrial Development Corporation (HSIDC), Managing Director of Haryana Tourism Corporation (HTC), and as the Deputy Commissioner and District Magistrate of Jind and Gurgaon districts in the Haryana Government, and as the Union Finance Secretary, Union Environment, Forests and Climate Change Secretary, Union Civil Aviation Secretary, Special Secretary in the Ministry of Power, Joint Secretary in the Ministry of Home Affairs, and as a Joint Secretary in the Department of Economic Affairs of the Ministry of Finance in the Union Government.', 'name': 'Ashok Lavasa', 'label_candidates': ['ABOUT:gender-neutral', 'ABOUT:female', 'ABOUT:male', 'ABOUT:non-binary'], 'episode_done': True, 'id': 'md_gender:wikipedia', 'eval_labels': ['ABOUT:male']}, {'id': 'RepeatLabelAgent', 'text': 'ABOUT:male', 'episode_done': False, 'metrics': {'exs': 1, 'accuracy': 1.0, 'precision': 1.0, 'recall': 1.0, 'f1': 1.0, 'bleu-4': 1.0000000000000004e-06}}]], 'context': [], 'metadata_path': 'tmp.metadata'}\n",
      "----\n",
      "{'dialog': [[{'text': 'Ashok Lavasa was appointed as the Union Civil Aviation Secretary by the Appointments Committee of the Cabinet (ACC) in December 2014, he assumed office on 1 January 2014, and demitted it on 29 August 2014, when he was appointed as the Union Environment, Forests and Climate Change Secretary.', 'name': 'Ashok Lavasa', 'label_candidates': ['ABOUT:gender-neutral', 'ABOUT:female', 'ABOUT:male', 'ABOUT:non-binary'], 'episode_done': True, 'id': 'md_gender:wikipedia', 'eval_labels': ['ABOUT:male']}, {'id': 'RepeatLabelAgent', 'text': 'ABOUT:male', 'episode_done': False, 'metrics': {'exs': 1, 'accuracy': 1.0, 'precision': 1.0, 'recall': 1.0, 'f1': 1.0, 'bleu-4': 1.0000000000000004e-06}}]], 'context': [], 'metadata_path': 'tmp.metadata'}\n",
      "----\n",
      "{'dialog': [[{'text': 'Ashok Lavasa was appointed as the Union Environment, Forests and Climate Change Secretary by the Appointments Committee of the Cabinet (ACC) in August 2014, he assumed office on 29 August 2014, and demitted it on 30 April 2016, when he was appointed as the Union Expenditure Secretary. ', 'name': 'Ashok Lavasa', 'label_candidates': ['ABOUT:gender-neutral', 'ABOUT:female', 'ABOUT:male', 'ABOUT:non-binary'], 'episode_done': True, 'id': 'md_gender:wikipedia', 'eval_labels': ['ABOUT:male']}, {'id': 'RepeatLabelAgent', 'text': 'ABOUT:male', 'episode_done': False, 'metrics': {'exs': 1, 'accuracy': 1.0, 'precision': 1.0, 'recall': 1.0, 'f1': 1.0, 'bleu-4': 1.0000000000000004e-06}}]], 'context': [], 'metadata_path': 'tmp.metadata'}\n",
      "----\n",
      "{'dialog': [[{'text': 'Ashok Lavasa was appointed as the Union Expenditure Secretary by the Appointments Committee of the Cabinet (ACC) in April 2016, he assumed office on 30 April 2016, and demitted it and simultaneously superannuated from service on 30 October 2017.', 'name': 'Ashok Lavasa', 'label_candidates': ['ABOUT:gender-neutral', 'ABOUT:female', 'ABOUT:male', 'ABOUT:non-binary'], 'episode_done': True, 'id': 'md_gender:wikipedia', 'eval_labels': ['ABOUT:male']}, {'id': 'RepeatLabelAgent', 'text': 'ABOUT:male', 'episode_done': False, 'metrics': {'exs': 1, 'accuracy': 1.0, 'precision': 1.0, 'recall': 1.0, 'f1': 1.0, 'bleu-4': 1.0000000000000004e-06}}]], 'context': [], 'metadata_path': 'tmp.metadata'}\n",
      "----\n",
      "{'dialog': [[{'text': 'As the seniormost Secretary in the Ministry of Finance after the retirement of Ratan Watal, Lavasa was designated as Finance Secretary in May 2016.', 'name': 'Ashok Lavasa', 'label_candidates': ['ABOUT:gender-neutral', 'ABOUT:female', 'ABOUT:male', 'ABOUT:non-binary'], 'episode_done': True, 'id': 'md_gender:wikipedia', 'eval_labels': ['ABOUT:male']}, {'id': 'RepeatLabelAgent', 'text': 'ABOUT:male', 'episode_done': False, 'metrics': {'exs': 1, 'accuracy': 1.0, 'precision': 1.0, 'recall': 1.0, 'f1': 1.0, 'bleu-4': 1.0000000000000004e-06}}]], 'context': [], 'metadata_path': 'tmp.metadata'}\n",
      "----\n",
      "{'dialog': [[{'text': 'Post-retirement, Ashok Lavasa was appointed as one of the two Election Commissioners of India in January 2018. Lavasa assumed charge as Election Commissioner on 23 January 2018.', 'name': 'Ashok Lavasa', 'label_candidates': ['ABOUT:gender-neutral', 'ABOUT:female', 'ABOUT:male', 'ABOUT:non-binary'], 'episode_done': True, 'id': 'md_gender:wikipedia', 'eval_labels': ['ABOUT:male']}, {'id': 'RepeatLabelAgent', 'text': 'ABOUT:male', 'episode_done': False, 'metrics': {'exs': 1, 'accuracy': 1.0, 'precision': 1.0, 'recall': 1.0, 'f1': 1.0, 'bleu-4': 1.0000000000000004e-06}}]], 'context': [], 'metadata_path': 'tmp.metadata'}\n",
      "----\n",
      "{'dialog': [[{'text': 'Bishal Das', 'name': 'Bishal Das', 'label_candidates': ['ABOUT:gender-neutral', 'ABOUT:female', 'ABOUT:male', 'ABOUT:non-binary'], 'episode_done': True, 'id': 'md_gender:wikipedia', 'eval_labels': ['ABOUT:male']}, {'id': 'RepeatLabelAgent', 'text': 'ABOUT:male', 'episode_done': False, 'metrics': {'exs': 1, 'accuracy': 1.0, 'precision': 1.0, 'recall': 1.0, 'f1': 1.0, 'bleu-4': 1.0000000000000004e-06}}]], 'context': [], 'metadata_path': 'tmp.metadata'}\n",
      "----\n"
     ]
    }
   ],
   "source": [
    "wiki = \"tmp.jsonl\"\n",
    "with jsonlines.open(wiki) as reader:\n",
    "    for i, entry in enumerate(reader):\n",
    "        print(entry)\n",
    "        print(\"----\")\n",
    "        if i==10:\n",
    "            break"
   ]
  },
  {
   "cell_type": "code",
   "execution_count": 201,
   "id": "4c6dc265-ffd5-4f6a-99a5-e13f54e9bf0d",
   "metadata": {},
   "outputs": [
    {
     "data": {
      "text/plain": [
       "{'dialog': [[{'text': 'Ashok Lavasa',\n",
       "    'name': 'Ashok Lavasa',\n",
       "    'label_candidates': ['ABOUT:gender-neutral',\n",
       "     'ABOUT:female',\n",
       "     'ABOUT:male',\n",
       "     'ABOUT:non-binary'],\n",
       "    'episode_done': True,\n",
       "    'id': 'md_gender:wikipedia',\n",
       "    'eval_labels': ['ABOUT:male']},\n",
       "   {'id': 'RepeatLabelAgent',\n",
       "    'text': 'ABOUT:male',\n",
       "    'episode_done': False,\n",
       "    'metrics': {'exs': 1,\n",
       "     'accuracy': 1.0,\n",
       "     'precision': 1.0,\n",
       "     'recall': 1.0,\n",
       "     'f1': 1.0,\n",
       "     'bleu-4': 1.0000000000000004e-06}}]],\n",
       " 'context': [],\n",
       " 'metadata_path': 'tmp.metadata'}"
      ]
     },
     "execution_count": 201,
     "metadata": {},
     "output_type": "execute_result"
    }
   ],
   "source": [
    "data"
   ]
  },
  {
   "cell_type": "code",
   "execution_count": 200,
   "id": "ef3c688b-4853-4dc8-bcf5-c546dce87f49",
   "metadata": {},
   "outputs": [],
   "source": [
    "with open(\"results/type2model2seed2compression.pkl\", \"rb\") as fin:\n",
    "            m2s2c = pickle.load(fin)"
   ]
  },
  {
   "cell_type": "code",
   "execution_count": 181,
   "id": "6c1d93c0-717f-4eda-bad0-ee0aa7df58e3",
   "metadata": {},
   "outputs": [
    {
     "data": {
      "text/plain": [
       "{'raw': defaultdict(dict,\n",
       "             {'bert': {'seed_9': 32.68,\n",
       "               'seed_14': 33.14,\n",
       "               'seed_10': 32.73,\n",
       "               'seed_12': 32.64,\n",
       "               'seed_13': 33.31,\n",
       "               'seed_11': 30.62,\n",
       "               'seed_8': 31.12,\n",
       "               'seed_6': 30.22,\n",
       "               'seed_5': 31.71,\n",
       "               'seed_4': 32.89,\n",
       "               'seed_2': 31.85,\n",
       "               'seed_0': 31.43,\n",
       "               'seed_7': 25.11,\n",
       "               'seed_16': 32.69,\n",
       "               'seed_1': 32.2},\n",
       "              'contriever': {'seed_16': 36.77,\n",
       "               'seed_14': 37.64,\n",
       "               'seed_13': 37.72,\n",
       "               'seed_0': 36.39,\n",
       "               'seed_12': 37.51,\n",
       "               'seed_11': 36.98,\n",
       "               'seed_9': 37.33,\n",
       "               'seed_8': 37.85,\n",
       "               'seed_10': 36.85,\n",
       "               'seed_7': 37.02,\n",
       "               'seed_5': 38.14,\n",
       "               'seed_6': 37.79,\n",
       "               'seed_4': 37.88,\n",
       "               'seed_1': 36.82,\n",
       "               'seed_2': 37.29},\n",
       "              'mcontriever-msmarco': {'seed_0': 32.74},\n",
       "              'mcontriever': {'seed_0': 35.54},\n",
       "              'contriever-msmarco': {'seed_0': 33.57}}),\n",
       " 'scrubbed': defaultdict(dict,\n",
       "             {'contriever': {'seed_13': 1.79,\n",
       "               'seed_12': 1.8,\n",
       "               'seed_11': 1.78,\n",
       "               'seed_10': 1.79,\n",
       "               'seed_9': 1.8,\n",
       "               'seed_1': 1.8,\n",
       "               'seed_16': 1.79,\n",
       "               'seed_14': 1.79,\n",
       "               'seed_0': 1.8,\n",
       "               'seed_5': 1.8,\n",
       "               'seed_7': 1.77,\n",
       "               'seed_4': 1.8,\n",
       "               'seed_2': 1.8,\n",
       "               'seed_8': 1.79,\n",
       "               'seed_6': 1.8},\n",
       "              'bert': {'seed_8': 1.69,\n",
       "               'seed_0': 1.69,\n",
       "               'seed_4': 1.65,\n",
       "               'seed_13': 1.65,\n",
       "               'seed_6': 1.66,\n",
       "               'seed_11': 1.67,\n",
       "               'seed_5': 1.65,\n",
       "               'seed_7': 1.65,\n",
       "               'seed_10': 1.67,\n",
       "               'seed_14': 1.69,\n",
       "               'seed_9': 1.66,\n",
       "               'seed_2': 1.68,\n",
       "               'seed_16': 1.67,\n",
       "               'seed_1': 1.66,\n",
       "               'seed_12': 1.68}})}"
      ]
     },
     "execution_count": 181,
     "metadata": {},
     "output_type": "execute_result"
    }
   ],
   "source": [
    "m2s2c\n",
    "#[\"contriever\"]"
   ]
  },
  {
   "cell_type": "code",
   "execution_count": 182,
   "id": "112e68e9-3314-49f4-94e3-1dc327d6b588",
   "metadata": {},
   "outputs": [],
   "source": [
    "### fix wandb\n",
    "project_name=\"seraphinatarrant/Bias in Bios MDL probing\"\n",
    "api = wandb.Api()\n",
    "# Project is specified by <entity/project-name>\n",
    "runs = api.runs(project_name)\n"
   ]
  },
  {
   "cell_type": "code",
   "execution_count": 152,
   "id": "c1d649ca-3132-4d86-aa65-31bd320308f6",
   "metadata": {},
   "outputs": [],
   "source": [
    "for run in runs:\n",
    "    if run.config[\"model\"] == \"bert\":\n",
    "        #print(\"yes\")\n",
    "        run.config[\"model_subtype\"] = run.config[\"model\"]\n",
    "        run.update()"
   ]
  },
  {
   "cell_type": "code",
   "execution_count": 155,
   "id": "979d7353-4ed7-4630-b0de-a13483478c3e",
   "metadata": {},
   "outputs": [],
   "source": [
    "for run in runs:\n",
    "    if \"architecture\" in run.config:\n",
    "        del run.config[\"architecture\"]\n",
    "        run.update()"
   ]
  },
  {
   "cell_type": "code",
   "execution_count": 192,
   "id": "d38c5332-bf3c-4c11-8456-d6f8601edfd1",
   "metadata": {},
   "outputs": [],
   "source": [
    "for run in runs:\n",
    "    if run.name == \"major-water-12\":\n",
    "        run.config[\"seed\"] = 42\n",
    "        run.config[\"model_seed\"] = 42\n",
    "        run.update()\n"
   ]
  },
  {
   "cell_type": "code",
   "execution_count": 64,
   "id": "d81d33f9-30c6-4e73-80ca-7f595e2f284d",
   "metadata": {},
   "outputs": [],
   "source": [
    "test = torch.rand(393423, 768)"
   ]
  },
  {
   "cell_type": "code",
   "execution_count": 66,
   "id": "44503f11-f948-4393-9812-823e28b49388",
   "metadata": {},
   "outputs": [
    {
     "data": {
      "text/plain": [
       "tensor([[0.0340, 0.1019, 0.4120,  ..., 0.8725, 0.3032, 0.1334],\n",
       "        [0.3287, 0.0562, 0.6702,  ..., 0.3756, 0.8273, 0.2865],\n",
       "        [0.0790, 0.8859, 0.3092,  ..., 0.7342, 0.3595, 0.6041],\n",
       "        ...,\n",
       "        [0.9530, 0.3197, 0.1757,  ..., 0.6333, 0.2717, 0.2646],\n",
       "        [0.2507, 0.2747, 0.0665,  ..., 0.4058, 0.9625, 0.5300],\n",
       "        [0.7284, 0.9791, 0.0971,  ..., 0.4099, 0.7184, 0.1446]])"
      ]
     },
     "execution_count": 66,
     "metadata": {},
     "output_type": "execute_result"
    }
   ],
   "source": [
    "test[393000:393300, :]"
   ]
  },
  {
   "cell_type": "code",
   "execution_count": 2,
   "id": "f6c9f64c-8908-48b9-8576-2ec6e55536c6",
   "metadata": {},
   "outputs": [],
   "source": [
    "bios_dir = \"data/biasbios/\""
   ]
  },
  {
   "cell_type": "code",
   "execution_count": 161,
   "id": "3295196a-634a-4142-af4e-d5a323643681",
   "metadata": {},
   "outputs": [],
   "source": [
    "bsd = torch.load(\"data/biasbios/dev.tokens_scrubbed_bert.pt\")"
   ]
  },
  {
   "cell_type": "code",
   "execution_count": 162,
   "id": "b7eb6c46-e78a-4014-bf70-9ac7f208aa2e",
   "metadata": {},
   "outputs": [],
   "source": [
    "bd = torch.load(\"data/biasbios/dev.tokens_raw_bert.pt\")"
   ]
  },
  {
   "cell_type": "code",
   "execution_count": 163,
   "id": "eb0866f1-fda5-40fb-a801-799f60824a71",
   "metadata": {},
   "outputs": [
    {
     "data": {
      "text/plain": [
       "{'X': {'input_ids': tensor([[ 101, 2852, 1012,  ...,    0,    0,    0],\n",
       "         [ 101, 1035, 2470,  ...,    0,    0,    0],\n",
       "         [ 101, 1035, 2038,  ...,    0,    0,    0],\n",
       "         ...,\n",
       "         [ 101, 1035, 2318,  ...,    0,    0,    0],\n",
       "         [ 101, 1035, 3322,  ...,    0,    0,    0],\n",
       "         [ 101, 1035, 2038,  ...,    0,    0,    0]]), 'token_type_ids': tensor([[0, 0, 0,  ..., 0, 0, 0],\n",
       "         [0, 0, 0,  ..., 0, 0, 0],\n",
       "         [0, 0, 0,  ..., 0, 0, 0],\n",
       "         ...,\n",
       "         [0, 0, 0,  ..., 0, 0, 0],\n",
       "         [0, 0, 0,  ..., 0, 0, 0],\n",
       "         [0, 0, 0,  ..., 0, 0, 0]]), 'attention_mask': tensor([[1, 1, 1,  ..., 0, 0, 0],\n",
       "         [1, 1, 1,  ..., 0, 0, 0],\n",
       "         [1, 1, 1,  ..., 0, 0, 0],\n",
       "         ...,\n",
       "         [1, 1, 1,  ..., 0, 0, 0],\n",
       "         [1, 1, 1,  ..., 0, 0, 0],\n",
       "         [1, 1, 1,  ..., 0, 0, 0]])},\n",
       " 'masks': tensor([[1, 1, 1,  ..., 0, 0, 0],\n",
       "         [1, 1, 1,  ..., 0, 0, 0],\n",
       "         [1, 1, 1,  ..., 0, 0, 0],\n",
       "         ...,\n",
       "         [1, 1, 1,  ..., 0, 0, 0],\n",
       "         [1, 1, 1,  ..., 0, 0, 0],\n",
       "         [1, 1, 1,  ..., 0, 0, 0]]),\n",
       " 'y': array(['Joel E. Holman, MD is a practicing Orthopedic Surgeon in Nephi, UT.',\n",
       "        'Jordache A. Ellapen is an Assistant Professor of Feminist Studies in Culture and Media in the Women and Gender Studies Program in the Department of Historical Studies at UTM and holds a graduate appointment in the Women & Gender Studies Institute.',\n",
       "        'Julia Lauter is an independent journalist based in Hamburg.', ...,\n",
       "        'Troy Goodall is a talented photographer from New Zealand who came up with a pretty unique idea.',\n",
       "        'Gail Odorico is a paralegal in the Vancouver Office of Lawson Lundell LLP and has been part of the firm since April 2001.',\n",
       "        'Connie Schumacher, PhD, RN, is a registered nurse seconded to McMaster’s Deptartment of Health Research Methods, Evidence, and Impact.'],\n",
       "       dtype='<U674'),\n",
       " 'z': array(['m', 'm', 'f', ..., 'm', 'f', 'f'], dtype='<U1')}"
      ]
     },
     "execution_count": 163,
     "metadata": {},
     "output_type": "execute_result"
    }
   ],
   "source": [
    "bsd"
   ]
  },
  {
   "cell_type": "code",
   "execution_count": 164,
   "id": "ebc3e5f0-4f12-49ea-b983-6dd93f877d9f",
   "metadata": {},
   "outputs": [
    {
     "data": {
      "text/plain": [
       "{'X': {'input_ids': tensor([[ 101, 2852, 1012,  ...,    0,    0,    0],\n",
       "         [ 101, 2010, 2470,  ...,    0,    0,    0],\n",
       "         [ 101, 2016, 2038,  ...,    0,    0,    0],\n",
       "         ...,\n",
       "         [ 101, 9553, 2318,  ...,    0,    0,    0],\n",
       "         [ 101, 2016, 3322,  ...,    0,    0,    0],\n",
       "         [ 101, 2016, 2038,  ...,    0,    0,    0]]), 'token_type_ids': tensor([[0, 0, 0,  ..., 0, 0, 0],\n",
       "         [0, 0, 0,  ..., 0, 0, 0],\n",
       "         [0, 0, 0,  ..., 0, 0, 0],\n",
       "         ...,\n",
       "         [0, 0, 0,  ..., 0, 0, 0],\n",
       "         [0, 0, 0,  ..., 0, 0, 0],\n",
       "         [0, 0, 0,  ..., 0, 0, 0]]), 'attention_mask': tensor([[1, 1, 1,  ..., 0, 0, 0],\n",
       "         [1, 1, 1,  ..., 0, 0, 0],\n",
       "         [1, 1, 1,  ..., 0, 0, 0],\n",
       "         ...,\n",
       "         [1, 1, 1,  ..., 0, 0, 0],\n",
       "         [1, 1, 1,  ..., 0, 0, 0],\n",
       "         [1, 1, 1,  ..., 0, 0, 0]])},\n",
       " 'masks': tensor([[1, 1, 1,  ..., 0, 0, 0],\n",
       "         [1, 1, 1,  ..., 0, 0, 0],\n",
       "         [1, 1, 1,  ..., 0, 0, 0],\n",
       "         ...,\n",
       "         [1, 1, 1,  ..., 0, 0, 0],\n",
       "         [1, 1, 1,  ..., 0, 0, 0],\n",
       "         [1, 1, 1,  ..., 0, 0, 0]]),\n",
       " 'y': array(['Joel E. Holman, MD is a practicing Orthopedic Surgeon in Nephi, UT.',\n",
       "        'Jordache A. Ellapen is an Assistant Professor of Feminist Studies in Culture and Media in the Women and Gender Studies Program in the Department of Historical Studies at UTM and holds a graduate appointment in the Women & Gender Studies Institute.',\n",
       "        'Julia Lauter is an independent journalist based in Hamburg.', ...,\n",
       "        'Troy Goodall is a talented photographer from New Zealand who came up with a pretty unique idea.',\n",
       "        'Gail Odorico is a paralegal in the Vancouver Office of Lawson Lundell LLP and has been part of the firm since April 2001.',\n",
       "        'Connie Schumacher, PhD, RN, is a registered nurse seconded to McMaster’s Deptartment of Health Research Methods, Evidence, and Impact.'],\n",
       "       dtype='<U674'),\n",
       " 'z': array(['m', 'm', 'f', ..., 'm', 'f', 'f'], dtype='<U1')}"
      ]
     },
     "execution_count": 164,
     "metadata": {},
     "output_type": "execute_result"
    }
   ],
   "source": [
    "bd"
   ]
  },
  {
   "cell_type": "code",
   "execution_count": 13,
   "id": "fec1949d-59e6-4b0f-bb69-3b7762912773",
   "metadata": {},
   "outputs": [
    {
     "name": "stdout",
     "output_type": "stream",
     "text": [
      "255710\n",
      "39369\n",
      "98344\n"
     ]
    }
   ],
   "source": [
    "mylist=[]\n",
    "count = 0\n",
    "for x in [\"train\", \"dev\", \"test\"]:\n",
    "    with open(os.path.join(bios_dir, f\"{x}.pickle\"), \"rb\") as fin:\n",
    "        data = pickle.load(fin)\n",
    "        print(len(data))\n",
    "        count += len(data)\n",
    "        mylist.extend(data)"
   ]
  },
  {
   "cell_type": "code",
   "execution_count": 17,
   "id": "16ca462c-dbb4-4135-b2d5-9b91a4c77841",
   "metadata": {},
   "outputs": [
    {
     "data": {
      "text/plain": [
       "{'g': 'm',\n",
       " 'p': 'professor',\n",
       " 'text': 'Presenter: Ivan V. Korendovych, PhD, is an Assistant Professor in the Department of Chemistry at Syracuse University. Dr. Korendovych received his PhD from Tufts University for his work on oxygen activation. He then moved on to the University of Pennsylvania Medical School where he developed small protein catalysts. Since 2011, he has taught at Syracuse University. His current research interests are focused on discovery of antimicrobial drugs as well as creating biosensors for metals. Dr. Korendovych is a recipient of the 2007 Young Investigator Award from the American Chemical Society in Inorganic Chemistry.',\n",
       " 'start': 117,\n",
       " 'hard_text': 'Dr. Korendovych received his PhD from Tufts University for his work on oxygen activation . He then moved on to the University of Pennsylvania Medical School where he developed small protein catalysts . Since 2011 , he has taught at Syracuse University . His current research interests are focused on discovery of antimicrobial drugs as well as creating biosensors for metals . Dr. Korendovych is a recipient of the 2007 Young Investigator Award from the American Chemical Society in Inorganic Chemistry .',\n",
       " 'hard_text_untokenized': 'Dr. Korendovych received his PhD from Tufts University for his work on oxygen activation. He then moved on to the University of Pennsylvania Medical School where he developed small protein catalysts. Since 2011, he has taught at Syracuse University. His current research interests are focused on discovery of antimicrobial drugs as well as creating biosensors for metals. Dr. Korendovych is a recipient of the 2007 Young Investigator Award from the American Chemical Society in Inorganic Chemistry.',\n",
       " 'text_without_gender': 'Dr. _ received _ PhD from Tufts University for _ work on oxygen activation. _ then moved on to the University of Pennsylvania Medical School where _ developed small protein catalysts. Since 2011, _ has taught at Syracuse University. _ current research interests are focused on discovery of antimicrobial drugs as well as creating biosensors for metals. Dr. _ is a recipient of the 2007 Young Investigator Award from the American Chemical Society in Inorganic Chemistry.'}"
      ]
     },
     "execution_count": 17,
     "metadata": {},
     "output_type": "execute_result"
    }
   ],
   "source": [
    "mylist[100]"
   ]
  },
  {
   "cell_type": "code",
   "execution_count": 19,
   "id": "6ae0553b-19b7-48be-b307-e33963767f9b",
   "metadata": {},
   "outputs": [
    {
     "data": {
      "text/plain": [
       "'Presenter: Ivan V. Korendovych, PhD, is an Assistant Professor in the Department of Chemistry at Syracuse University.'"
      ]
     },
     "execution_count": 19,
     "metadata": {},
     "output_type": "execute_result"
    }
   ],
   "source": [
    "mylist[100]['text'][:mylist[100]['start']]"
   ]
  },
  {
   "cell_type": "code",
   "execution_count": 15,
   "id": "a1c43404-f002-49ae-bebc-ca78457718b0",
   "metadata": {},
   "outputs": [],
   "source": [
    "with open(os.path.join(bios_dir,\"BIOS.pkl\"), \"wb\") as fout:\n",
    "    pickle.dump(mylist, fout) "
   ]
  },
  {
   "cell_type": "code",
   "execution_count": 7,
   "id": "114ae9a1-b726-424c-a444-382c0e44686a",
   "metadata": {},
   "outputs": [],
   "source": [
    "from contriever.src.contriever import Contriever"
   ]
  },
  {
   "cell_type": "code",
   "execution_count": 5,
   "id": "afba10bb-c965-4629-b9ef-7ddff02a27f0",
   "metadata": {},
   "outputs": [],
   "source": [
    "from transformers import AutoTokenizer"
   ]
  },
  {
   "cell_type": "code",
   "execution_count": 6,
   "id": "dd864ee2-b544-45eb-a50f-95c66a35d70f",
   "metadata": {},
   "outputs": [
    {
     "name": "stderr",
     "output_type": "stream",
     "text": [
      "Some weights of the model checkpoint at facebook/contriever were not used when initializing Contriever: ['pooler.dense.bias', 'pooler.dense.weight']\n",
      "- This IS expected if you are initializing Contriever from the checkpoint of a model trained on another task or with another architecture (e.g. initializing a BertForSequenceClassification model from a BertForPreTraining model).\n",
      "- This IS NOT expected if you are initializing Contriever from the checkpoint of a model that you expect to be exactly identical (initializing a BertForSequenceClassification model from a BertForSequenceClassification model).\n",
      "Some weights of the model checkpoint at facebook/contriever-msmarco were not used when initializing Contriever: ['pooler.dense.bias', 'pooler.dense.weight']\n",
      "- This IS expected if you are initializing Contriever from the checkpoint of a model trained on another task or with another architecture (e.g. initializing a BertForSequenceClassification model from a BertForPreTraining model).\n",
      "- This IS NOT expected if you are initializing Contriever from the checkpoint of a model that you expect to be exactly identical (initializing a BertForSequenceClassification model from a BertForSequenceClassification model).\n"
     ]
    }
   ],
   "source": [
    "contriever = Contriever.from_pretrained(\"facebook/contriever\") \n",
    "contriever_msmarco = Contriever.from_pretrained(\"facebook/contriever-msmarco\")\n",
    "mcontriever = Contriever.from_pretrained(\"facebook/mcontriever\")\n",
    "mcontriever_msmarco = Contriever.from_pretrained(\"facebook/mcontriever-msmarco\")"
   ]
  },
  {
   "cell_type": "code",
   "execution_count": 34,
   "id": "1c50aa63-6ada-43c4-8fb8-32ea47b7b58e",
   "metadata": {},
   "outputs": [],
   "source": [
    "from datasets import load_dataset"
   ]
  },
  {
   "cell_type": "code",
   "execution_count": 35,
   "id": "76340309-c91d-4fdc-9b99-59322acabc94",
   "metadata": {},
   "outputs": [],
   "source": [
    "dataset_names = [\"funpedia\", \"new_data\", \"image_chat\", \"wizard\", \"convai2_inferred\", \"light_inferred\", \"opensubtitles_inferred\"]\n",
    "parl_dataset = \"md_gender:wikipedia\""
   ]
  },
  {
   "cell_type": "code",
   "execution_count": null,
   "id": "506f65ed-6e36-4d32-88e6-4f115dfbaece",
   "metadata": {},
   "outputs": [],
   "source": [
    "for name in dataset_names:\n",
    "    this_data = load_dataset(\"md_gender_bias\", name)\n",
    "    count = 0\n",
    "    for x in this_data:\n",
    "        count += this_data[x].num_rows\n",
    "    print(f\"{name}: {count}\")"
   ]
  },
  {
   "cell_type": "code",
   "execution_count": null,
   "id": "2f1eff40-2af4-4de4-82b2-425637d3fe50",
   "metadata": {},
   "outputs": [],
   "source": [
    "this_data = load_dataset(\"md_gender_bias\", \"new_data\")"
   ]
  },
  {
   "cell_type": "code",
   "execution_count": 49,
   "id": "e9666e57-ed73-4247-a174-6621d6f84e53",
   "metadata": {
    "tags": []
   },
   "outputs": [
    {
     "data": {
      "text/plain": [
       "{0, 1, 2, 3, 4, 5}"
      ]
     },
     "execution_count": 49,
     "metadata": {},
     "output_type": "execute_result"
    }
   ],
   "source": [
    "set([i[0] for i in this_data[\"train\"]['labels']])"
   ]
  },
  {
   "cell_type": "code",
   "execution_count": 58,
   "id": "a3e501dd-14b1-480f-ad64-56e6566e1766",
   "metadata": {},
   "outputs": [
    {
     "data": {
      "text/plain": [
       "{'text': ['He designed monumental Lovissa War Cemetery in 1920.',\n",
       "  'She works as a volunteer firefighter.',\n",
       "  'She participated in the FIVB volleyball grand champions cup in 2001.',\n",
       "  'Correct ! Walter Havighurst was an author of many books. He loved the book Annie Oakley of the Wild West.',\n",
       "  'Yes, she released only one album with them, \"wołanie o słońce nad światem\"',\n",
       "  'i played a lot with my male friends',\n",
       "  'i am a man and i do construction',\n",
       "  'i am a man who loves veggies too',\n",
       "  \"no i'm too feminine to watch football\",\n",
       "  'you take the abbie sawyer to there man'],\n",
       " 'original': [' She designed monumental Loviisa war cemetery in 1920',\n",
       "  'I work as a volunteer firefighter.',\n",
       "  'She participated in the FIVB volleyball grand champions cup in 2001',\n",
       "  'Correct! Walter Havighurst was an author of many books. I loved the book Annie Oakley of the Wild West.',\n",
       "  'yes, He released only one album with them, \"Wołanie o słońce nad światem\"',\n",
       "  'I played when I was younger. What do you do?',\n",
       "  'I am a woman and I work as a receptionist at a lawyers office',\n",
       "  'I am a vegetarian . I like swimming ',\n",
       "  'No no, I dont really like football... I concentrate only on my yoga',\n",
       "  \"You take the Abbie Sawyer Memorial Highway to get there don't you?\"],\n",
       " 'labels': [[1], [4], [0], [1], [0], [1], [5], [3], [4], [5]],\n",
       " 'class_type': [0, 2, 0, 0, 0, 0, 2, 1, 2, 2],\n",
       " 'turker_gender': [4, 4, 4, 4, 4, 4, 4, 4, 4, 4],\n",
       " 'episode_done': [True, True, True, True, True, True, True, True, True, True],\n",
       " 'confidence': ['certain',\n",
       "  'certain',\n",
       "  'certain',\n",
       "  'certain',\n",
       "  'certain',\n",
       "  'unsure',\n",
       "  'pretty sure',\n",
       "  'certain',\n",
       "  'pretty sure',\n",
       "  'pretty sure']}"
      ]
     },
     "execution_count": 58,
     "metadata": {},
     "output_type": "execute_result"
    }
   ],
   "source": [
    "this_data[\"train\"][:10]"
   ]
  },
  {
   "cell_type": "code",
   "execution_count": 50,
   "id": "237cd955-70a3-4082-99df-1a5c909b97ef",
   "metadata": {},
   "outputs": [],
   "source": [
    "import tarfile"
   ]
  },
  {
   "cell_type": "code",
   "execution_count": 55,
   "id": "2b77d587-a149-4be7-b0ae-e84e844404de",
   "metadata": {},
   "outputs": [],
   "source": [
    "parlpath = \"data/md_gender/data_to_release/new_data/data.jsonl\""
   ]
  },
  {
   "cell_type": "code",
   "execution_count": 54,
   "id": "709de04c-8593-4fa9-9157-faf8aa20b23e",
   "metadata": {},
   "outputs": [],
   "source": [
    "import json"
   ]
  },
  {
   "cell_type": "code",
   "execution_count": 56,
   "id": "9f9f0e06-539d-4ad5-8276-707ac6a6990b",
   "metadata": {},
   "outputs": [
    {
     "ename": "JSONDecodeError",
     "evalue": "Extra data: line 2 column 1 (char 253)",
     "output_type": "error",
     "traceback": [
      "\u001b[0;31m---------------------------------------------------------------------------\u001b[0m",
      "\u001b[0;31mJSONDecodeError\u001b[0m                           Traceback (most recent call last)",
      "Input \u001b[0;32mIn [56]\u001b[0m, in \u001b[0;36m<cell line: 1>\u001b[0;34m()\u001b[0m\n\u001b[1;32m      1\u001b[0m \u001b[38;5;28;01mwith\u001b[39;00m \u001b[38;5;28mopen\u001b[39m(parlpath, \u001b[38;5;124m'\u001b[39m\u001b[38;5;124mr\u001b[39m\u001b[38;5;124m'\u001b[39m) \u001b[38;5;28;01mas\u001b[39;00m fin:\n\u001b[0;32m----> 2\u001b[0m     d \u001b[38;5;241m=\u001b[39m \u001b[43mjson\u001b[49m\u001b[38;5;241;43m.\u001b[39;49m\u001b[43mload\u001b[49m\u001b[43m(\u001b[49m\u001b[43mfin\u001b[49m\u001b[43m)\u001b[49m\n",
      "File \u001b[0;32m~/.conda/envs/sgt/lib/python3.9/json/__init__.py:293\u001b[0m, in \u001b[0;36mload\u001b[0;34m(fp, cls, object_hook, parse_float, parse_int, parse_constant, object_pairs_hook, **kw)\u001b[0m\n\u001b[1;32m    274\u001b[0m \u001b[38;5;28;01mdef\u001b[39;00m \u001b[38;5;21mload\u001b[39m(fp, \u001b[38;5;241m*\u001b[39m, \u001b[38;5;28mcls\u001b[39m\u001b[38;5;241m=\u001b[39m\u001b[38;5;28;01mNone\u001b[39;00m, object_hook\u001b[38;5;241m=\u001b[39m\u001b[38;5;28;01mNone\u001b[39;00m, parse_float\u001b[38;5;241m=\u001b[39m\u001b[38;5;28;01mNone\u001b[39;00m,\n\u001b[1;32m    275\u001b[0m         parse_int\u001b[38;5;241m=\u001b[39m\u001b[38;5;28;01mNone\u001b[39;00m, parse_constant\u001b[38;5;241m=\u001b[39m\u001b[38;5;28;01mNone\u001b[39;00m, object_pairs_hook\u001b[38;5;241m=\u001b[39m\u001b[38;5;28;01mNone\u001b[39;00m, \u001b[38;5;241m*\u001b[39m\u001b[38;5;241m*\u001b[39mkw):\n\u001b[1;32m    276\u001b[0m     \u001b[38;5;124;03m\"\"\"Deserialize ``fp`` (a ``.read()``-supporting file-like object containing\u001b[39;00m\n\u001b[1;32m    277\u001b[0m \u001b[38;5;124;03m    a JSON document) to a Python object.\u001b[39;00m\n\u001b[1;32m    278\u001b[0m \n\u001b[0;32m   (...)\u001b[0m\n\u001b[1;32m    291\u001b[0m \u001b[38;5;124;03m    kwarg; otherwise ``JSONDecoder`` is used.\u001b[39;00m\n\u001b[1;32m    292\u001b[0m \u001b[38;5;124;03m    \"\"\"\u001b[39;00m\n\u001b[0;32m--> 293\u001b[0m     \u001b[38;5;28;01mreturn\u001b[39;00m \u001b[43mloads\u001b[49m\u001b[43m(\u001b[49m\u001b[43mfp\u001b[49m\u001b[38;5;241;43m.\u001b[39;49m\u001b[43mread\u001b[49m\u001b[43m(\u001b[49m\u001b[43m)\u001b[49m\u001b[43m,\u001b[49m\n\u001b[1;32m    294\u001b[0m \u001b[43m        \u001b[49m\u001b[38;5;28;43mcls\u001b[39;49m\u001b[38;5;241;43m=\u001b[39;49m\u001b[38;5;28;43mcls\u001b[39;49m\u001b[43m,\u001b[49m\u001b[43m \u001b[49m\u001b[43mobject_hook\u001b[49m\u001b[38;5;241;43m=\u001b[39;49m\u001b[43mobject_hook\u001b[49m\u001b[43m,\u001b[49m\n\u001b[1;32m    295\u001b[0m \u001b[43m        \u001b[49m\u001b[43mparse_float\u001b[49m\u001b[38;5;241;43m=\u001b[39;49m\u001b[43mparse_float\u001b[49m\u001b[43m,\u001b[49m\u001b[43m \u001b[49m\u001b[43mparse_int\u001b[49m\u001b[38;5;241;43m=\u001b[39;49m\u001b[43mparse_int\u001b[49m\u001b[43m,\u001b[49m\n\u001b[1;32m    296\u001b[0m \u001b[43m        \u001b[49m\u001b[43mparse_constant\u001b[49m\u001b[38;5;241;43m=\u001b[39;49m\u001b[43mparse_constant\u001b[49m\u001b[43m,\u001b[49m\u001b[43m \u001b[49m\u001b[43mobject_pairs_hook\u001b[49m\u001b[38;5;241;43m=\u001b[39;49m\u001b[43mobject_pairs_hook\u001b[49m\u001b[43m,\u001b[49m\u001b[43m \u001b[49m\u001b[38;5;241;43m*\u001b[39;49m\u001b[38;5;241;43m*\u001b[39;49m\u001b[43mkw\u001b[49m\u001b[43m)\u001b[49m\n",
      "File \u001b[0;32m~/.conda/envs/sgt/lib/python3.9/json/__init__.py:346\u001b[0m, in \u001b[0;36mloads\u001b[0;34m(s, cls, object_hook, parse_float, parse_int, parse_constant, object_pairs_hook, **kw)\u001b[0m\n\u001b[1;32m    341\u001b[0m     s \u001b[38;5;241m=\u001b[39m s\u001b[38;5;241m.\u001b[39mdecode(detect_encoding(s), \u001b[38;5;124m'\u001b[39m\u001b[38;5;124msurrogatepass\u001b[39m\u001b[38;5;124m'\u001b[39m)\n\u001b[1;32m    343\u001b[0m \u001b[38;5;28;01mif\u001b[39;00m (\u001b[38;5;28mcls\u001b[39m \u001b[38;5;129;01mis\u001b[39;00m \u001b[38;5;28;01mNone\u001b[39;00m \u001b[38;5;129;01mand\u001b[39;00m object_hook \u001b[38;5;129;01mis\u001b[39;00m \u001b[38;5;28;01mNone\u001b[39;00m \u001b[38;5;129;01mand\u001b[39;00m\n\u001b[1;32m    344\u001b[0m         parse_int \u001b[38;5;129;01mis\u001b[39;00m \u001b[38;5;28;01mNone\u001b[39;00m \u001b[38;5;129;01mand\u001b[39;00m parse_float \u001b[38;5;129;01mis\u001b[39;00m \u001b[38;5;28;01mNone\u001b[39;00m \u001b[38;5;129;01mand\u001b[39;00m\n\u001b[1;32m    345\u001b[0m         parse_constant \u001b[38;5;129;01mis\u001b[39;00m \u001b[38;5;28;01mNone\u001b[39;00m \u001b[38;5;129;01mand\u001b[39;00m object_pairs_hook \u001b[38;5;129;01mis\u001b[39;00m \u001b[38;5;28;01mNone\u001b[39;00m \u001b[38;5;129;01mand\u001b[39;00m \u001b[38;5;129;01mnot\u001b[39;00m kw):\n\u001b[0;32m--> 346\u001b[0m     \u001b[38;5;28;01mreturn\u001b[39;00m \u001b[43m_default_decoder\u001b[49m\u001b[38;5;241;43m.\u001b[39;49m\u001b[43mdecode\u001b[49m\u001b[43m(\u001b[49m\u001b[43ms\u001b[49m\u001b[43m)\u001b[49m\n\u001b[1;32m    347\u001b[0m \u001b[38;5;28;01mif\u001b[39;00m \u001b[38;5;28mcls\u001b[39m \u001b[38;5;129;01mis\u001b[39;00m \u001b[38;5;28;01mNone\u001b[39;00m:\n\u001b[1;32m    348\u001b[0m     \u001b[38;5;28mcls\u001b[39m \u001b[38;5;241m=\u001b[39m JSONDecoder\n",
      "File \u001b[0;32m~/.conda/envs/sgt/lib/python3.9/json/decoder.py:340\u001b[0m, in \u001b[0;36mJSONDecoder.decode\u001b[0;34m(self, s, _w)\u001b[0m\n\u001b[1;32m    338\u001b[0m end \u001b[38;5;241m=\u001b[39m _w(s, end)\u001b[38;5;241m.\u001b[39mend()\n\u001b[1;32m    339\u001b[0m \u001b[38;5;28;01mif\u001b[39;00m end \u001b[38;5;241m!=\u001b[39m \u001b[38;5;28mlen\u001b[39m(s):\n\u001b[0;32m--> 340\u001b[0m     \u001b[38;5;28;01mraise\u001b[39;00m JSONDecodeError(\u001b[38;5;124m\"\u001b[39m\u001b[38;5;124mExtra data\u001b[39m\u001b[38;5;124m\"\u001b[39m, s, end)\n\u001b[1;32m    341\u001b[0m \u001b[38;5;28;01mreturn\u001b[39;00m obj\n",
      "\u001b[0;31mJSONDecodeError\u001b[0m: Extra data: line 2 column 1 (char 253)"
     ]
    }
   ],
   "source": [
    "with open(parlpath, 'r') as fin:\n",
    "    d = json.load(fin)"
   ]
  },
  {
   "cell_type": "code",
   "execution_count": 33,
   "id": "1a07e62d-ee7c-4fdf-967c-1988aa503d34",
   "metadata": {},
   "outputs": [],
   "source": [
    "import torch\n",
    "from tqdm import tqdm\n",
    "from transformers i\n",
    "from contriever.src.contriever import Contriever"
   ]
  },
  {
   "cell_type": "code",
   "execution_count": 39,
   "id": "a87d3768-d04a-44f0-a7d2-e2ad1c870275",
   "metadata": {},
   "outputs": [],
   "source": [
    "data_path = \"data/biasbios/tokens_raw_contriever_batch.pt\"\n",
    "\n",
    "data = torch.load(data_path)"
   ]
  },
  {
   "cell_type": "code",
   "execution_count": 22,
   "id": "6bd96c0c-d0cf-43e3-863e-fd92d601c9fc",
   "metadata": {},
   "outputs": [],
   "source": [
    "roberta_data = torch.load(\"data/biasbios/tokens_raw_roberta-base_128.pt\")"
   ]
  },
  {
   "cell_type": "code",
   "execution_count": 23,
   "id": "ea45bcba-7611-4fed-8809-148fc768c259",
   "metadata": {},
   "outputs": [
    {
     "data": {
      "text/plain": [
       "(393423, 128)"
      ]
     },
     "execution_count": 23,
     "metadata": {},
     "output_type": "execute_result"
    }
   ],
   "source": [
    "data['X'].shape\n",
    "roberta_data[\"X\"].shape"
   ]
  },
  {
   "cell_type": "code",
   "execution_count": 40,
   "id": "23e89801-0884-4414-bf4a-6fd861c1131f",
   "metadata": {},
   "outputs": [],
   "source": [
    "input_data = data[\"X\"]"
   ]
  },
  {
   "cell_type": "code",
   "execution_count": 24,
   "id": "beb6d369-d6ec-4bcc-b673-c6004c88d797",
   "metadata": {},
   "outputs": [
    {
     "data": {
      "text/plain": [
       "(30, 512)"
      ]
     },
     "execution_count": 24,
     "metadata": {},
     "output_type": "execute_result"
    }
   ],
   "source": [
    "input_data[0:30,:].shape"
   ]
  },
  {
   "cell_type": "code",
   "execution_count": 27,
   "id": "edf03370-7fcd-4f12-8878-5eb548bbb108",
   "metadata": {},
   "outputs": [
    {
     "data": {
      "text/plain": [
       "(512,)"
      ]
     },
     "execution_count": 27,
     "metadata": {},
     "output_type": "execute_result"
    }
   ],
   "source": [
    "input_data[0].shape"
   ]
  },
  {
   "cell_type": "code",
   "execution_count": 28,
   "id": "62a7478c-6030-4ad4-90dc-15f8380a055c",
   "metadata": {},
   "outputs": [],
   "source": [
    "X = torch.tensor(data['X']).to(\"cuda\")"
   ]
  },
  {
   "cell_type": "code",
   "execution_count": 30,
   "id": "1e322185-6d27-4e2c-8eff-f2ad6630fb21",
   "metadata": {},
   "outputs": [
    {
     "name": "stderr",
     "output_type": "stream",
     "text": [
      "/tmp/ipykernel_1703629/198053703.py:1: UserWarning: To copy construct from a tensor, it is recommended to use sourceTensor.clone().detach() or sourceTensor.clone().detach().requires_grad_(True), rather than torch.tensor(sourceTensor).\n",
      "  attn = torch.tensor(data['masks']).to(\"cuda\")\n"
     ]
    }
   ],
   "source": [
    "attn = torch.tensor(data['masks']).to(\"cuda\")"
   ]
  },
  {
   "cell_type": "code",
   "execution_count": 63,
   "id": "dd3a2383-1a96-4aff-9667-9e1f7f8c6bcb",
   "metadata": {},
   "outputs": [
    {
     "data": {
      "text/plain": [
       "393423"
      ]
     },
     "execution_count": 63,
     "metadata": {},
     "output_type": "execute_result"
    }
   ],
   "source": [
    "len(data['y'])"
   ]
  },
  {
   "cell_type": "code",
   "execution_count": 41,
   "id": "9d616ae0-043a-4ad4-a7c9-481e250e27c5",
   "metadata": {},
   "outputs": [],
   "source": [
    "for key in input_data:\n",
    "    input_data[key] = input_data[key].to(\"cuda\")\n",
    "    input_data[key].requires_grad = False"
   ]
  },
  {
   "cell_type": "code",
   "execution_count": 102,
   "id": "b2d20377-4e20-4ff2-8d8f-0ea920ced01c",
   "metadata": {},
   "outputs": [],
   "source": [
    "from transformers import AutoModel\n",
    "import numpy as np"
   ]
  },
  {
   "cell_type": "code",
   "execution_count": 116,
   "id": "00ca8e4e-ede4-4ef6-9ab5-b8c316b8ee6a",
   "metadata": {},
   "outputs": [
    {
     "name": "stderr",
     "output_type": "stream",
     "text": [
      "Some weights of the model checkpoint at bert-base-uncased were not used when initializing BertModel: ['cls.predictions.transform.dense.bias', 'cls.predictions.transform.LayerNorm.weight', 'cls.seq_relationship.weight', 'cls.seq_relationship.bias', 'cls.predictions.transform.LayerNorm.bias', 'cls.predictions.bias', 'cls.predictions.transform.dense.weight', 'cls.predictions.decoder.weight']\n",
      "- This IS expected if you are initializing BertModel from the checkpoint of a model trained on another task or with another architecture (e.g. initializing a BertForSequenceClassification model from a BertForPreTraining model).\n",
      "- This IS NOT expected if you are initializing BertModel from the checkpoint of a model that you expect to be exactly identical (initializing a BertForSequenceClassification model from a BertForSequenceClassification model).\n"
     ]
    }
   ],
   "source": [
    "model_version = \"bert-base-uncased\"\n",
    "model = AutoModel.from_pretrained(model_version)"
   ]
  },
  {
   "cell_type": "code",
   "execution_count": null,
   "id": "657f972d-f6be-4c14-b1cb-e819fec95bfc",
   "metadata": {},
   "outputs": [],
   "source": []
  },
  {
   "cell_type": "code",
   "execution_count": 204,
   "id": "f5cc9fa7-8370-4c96-9bff-b81e5b30fe19",
   "metadata": {},
   "outputs": [],
   "source": [
    "\"\"\" Implementation of OKapi BM25 with sklearn's TfidfVectorizer\n",
    "Distributed as CC-0 (https://creativecommons.org/publicdomain/zero/1.0/)\n",
    "\"\"\"\n",
    "\n",
    "import numpy as np\n",
    "from sklearn.feature_extraction.text import TfidfVectorizer\n",
    "from scipy import sparse\n",
    "\n",
    "\n",
    "class BM25(object):\n",
    "    def __init__(self, b=0.75, k1=1.6):\n",
    "        self.vectorizer = TfidfVectorizer(norm=None, smooth_idf=False)\n",
    "        self.b = b\n",
    "        self.k1 = k1\n",
    "\n",
    "    def fit(self, X):\n",
    "        \"\"\" Fit IDF to documents X \"\"\"\n",
    "        self.vectorizer.fit(X)\n",
    "        y = super(TfidfVectorizer, self.vectorizer).transform(X)\n",
    "        self.avdl = y.sum(1).mean()\n",
    "\n",
    "    def transform(self, q, X):\n",
    "        \"\"\" Calculate BM25 between query q and documents X \"\"\"\n",
    "        b, k1, avdl = self.b, self.k1, self.avdl\n",
    "\n",
    "        # apply CountVectorizer\n",
    "        X = super(TfidfVectorizer, self.vectorizer).transform(X)\n",
    "        len_X = X.sum(1).A1\n",
    "        q, = super(TfidfVectorizer, self.vectorizer).transform([q])\n",
    "        assert sparse.isspmatrix_csr(q)\n",
    "\n",
    "        # convert to csc for better column slicing\n",
    "        X = X.tocsc()[:, q.indices]\n",
    "        denom = X + (k1 * (1 - b + b * len_X / avdl))[:, None]\n",
    "        # idf(t) = log [ n / df(t) ] + 1 in sklearn, so it need to be coneverted\n",
    "        # to idf(t) = log [ n / df(t) ] with minus 1\n",
    "        idf = self.vectorizer._tfidf.idf_[None, q.indices] - 1.\n",
    "        numer = X.multiply(np.broadcast_to(idf, X.shape)) * (k1 + 1)                                                          \n",
    "        return (numer / denom).sum(1).A1"
   ]
  },
  {
   "cell_type": "raw",
   "id": "487423e4-1d97-423c-8005-4da4f9bc642d",
   "metadata": {},
   "source": [
    "from sklearn.datasets import fetch_20newsgroups\n",
    "\n",
    "\n",
    "texts = fetch_20newsgroups(subset='train').data\n",
    "bm25 = BM25()\n",
    "bm25.fit(texts[1:])"
   ]
  },
  {
   "cell_type": "code",
   "execution_count": 218,
   "id": "55c63aa4-3836-4b53-ae1d-ee3d367101ff",
   "metadata": {},
   "outputs": [
    {
     "data": {
      "text/plain": [
       "\"From: lerxst@wam.umd.edu (where's my thing)\\nSubject: WHAT car is this!?\\nNntp-Posting-Host: rac3.wam.umd.edu\\nOrganization: University of Maryland, College Park\\nLines: 15\\n\\n I was wondering if anyone out there could enlighten me on this car I saw\\nthe other day. It was a 2-door sports car, looked to be from the late 60s/\\nearly 70s. It was called a Bricklin. The doors were really small. In addition,\\nthe front bumper was separate from the rest of the body. This is \\nall I know. If anyone can tellme a model name, engine specs, years\\nof production, where this car is made, history, or whatever info you\\nhave on this funky looking car, please e-mail.\\n\\nThanks,\\n- IL\\n   ---- brought to you by your neighborhood Lerxst ----\\n\\n\\n\\n\\n\""
      ]
     },
     "execution_count": 218,
     "metadata": {},
     "output_type": "execute_result"
    }
   ],
   "source": [
    "texts[0]"
   ]
  },
  {
   "cell_type": "code",
   "execution_count": null,
   "id": "14025f21-8b2a-4074-a6a9-5ecba5f60e78",
   "metadata": {},
   "outputs": [],
   "source": []
  },
  {
   "cell_type": "code",
   "execution_count": 286,
   "id": "94dc38e8-091b-478a-9686-86a5558cbc0b",
   "metadata": {},
   "outputs": [],
   "source": [
    "from scipy.sparse._csr import csr_matrix"
   ]
  },
  {
   "cell_type": "code",
   "execution_count": 287,
   "id": "07c08cc2-0917-43c7-8937-1a837b1cbfa9",
   "metadata": {},
   "outputs": [
    {
     "data": {
      "text/plain": [
       "True"
      ]
     },
     "execution_count": 287,
     "metadata": {},
     "output_type": "execute_result"
    }
   ],
   "source": [
    "type(v) == csr_matrix"
   ]
  },
  {
   "cell_type": "code",
   "execution_count": 207,
   "id": "400d4396-e2bb-4495-bc4e-31477ecd2178",
   "metadata": {},
   "outputs": [],
   "source": [
    "x = bm25.transform(texts[0], texts)"
   ]
  },
  {
   "cell_type": "code",
   "execution_count": 225,
   "id": "2352537e-3802-49a1-810b-e83c99fb45fc",
   "metadata": {},
   "outputs": [],
   "source": [
    "v = bm25.vectorizer.transform(texts)"
   ]
  },
  {
   "cell_type": "code",
   "execution_count": 234,
   "id": "68155101-de33-4678-b9d3-791fbde553c6",
   "metadata": {},
   "outputs": [],
   "source": [
    "row_idx, col_idx = v.nonzero()"
   ]
  },
  {
   "cell_type": "code",
   "execution_count": 251,
   "id": "c0a01fc2-4661-45be-88a7-7db34a1d511a",
   "metadata": {},
   "outputs": [
    {
     "data": {
      "text/plain": [
       "array([      0,      89,     182, ..., 1787372, 1787496, 1787565],\n",
       "      dtype=int32)"
      ]
     },
     "execution_count": 251,
     "metadata": {},
     "output_type": "execute_result"
    }
   ],
   "source": [
    "v.indptr"
   ]
  },
  {
   "cell_type": "code",
   "execution_count": 253,
   "id": "5c809cb7-ba6a-4359-b007-73f235c2d5de",
   "metadata": {},
   "outputs": [
    {
     "name": "stderr",
     "output_type": "stream",
     "text": [
      "/tmp/ipykernel_1769822/3529406853.py:1: UserWarning: Sparse CSR tensor support is in beta state. If you miss a functionality in the sparse tensor support, please submit a feature request to https://github.com/pytorch/pytorch/issues. (Triggered internally at  ../aten/src/ATen/SparseCsrTensorImpl.cpp:68.)\n",
      "  v2 = torch.sparse_csr_tensor(v.indptr, col_idx, v.data)\n"
     ]
    }
   ],
   "source": [
    "v2 = torch.sparse_csr_tensor(v.indptr, col_idx, v.data)"
   ]
  },
  {
   "cell_type": "code",
   "execution_count": 277,
   "id": "1e3fef9e-4e95-433e-836c-baa9d5b71181",
   "metadata": {},
   "outputs": [
    {
     "data": {
      "text/plain": [
       "array([ 1.96154037,  4.44206357,  3.14996236,  2.09781706,  1.92409981,\n",
       "        2.635225  ,  2.87149285,  2.72087676,  2.98512025, 10.02139561,\n",
       "        7.84880114,  7.28918535,  2.21715466,  4.41212937,  3.84909068,\n",
       "        4.42562485,  1.91699813,  2.58913798,  6.41441184,  2.8778311 ,\n",
       "        4.05144104,  1.        ,  6.11420008,  5.08668371,  5.85637097,\n",
       "        5.86779967,  4.63997565, 12.76492813,  7.24266533,  1.37234173,\n",
       "        8.72426987,  7.00150328,  2.89591266,  5.92698854,  5.32307249,\n",
       "        6.44423668,  1.04031386,  7.48681348,  6.89972058,  3.71630481,\n",
       "        2.32168955,  4.47591107, 11.10916859,  2.26946349,  4.10322634,\n",
       "        4.30062156,  2.74336084,  6.96641196,  2.26687247,  4.62328077,\n",
       "        2.06497595,  2.83207333,  8.13648321, 13.44557975,  3.20360928,\n",
       "        1.00327593,  3.63790887,  2.146965  ,  7.50049444,  7.24266533,\n",
       "        3.47514275,  8.25426624,  2.66127523,  1.27477187, 34.16779327,\n",
       "        3.53353772,  2.30167247,  8.38779764,  1.52518917,  3.59082715,\n",
       "        8.72426987,  4.13319861,  2.32069568,  1.        ,  5.25853397,\n",
       "        8.72426987,  5.53791724,  3.67955527, 14.48533067,  7.33797551,\n",
       "        4.37270245,  2.45782863, 16.77559527, 16.77559527,  5.05559313,\n",
       "        3.64659918,  5.30982727,  7.76875843,  3.5180678 ,  9.41938056,\n",
       "        8.03112269,  1.56156235,  6.96641196,  8.72426987,  2.00694897,\n",
       "        5.92355522,  5.21234535,  8.54194832, 10.33370779,  7.76875843,\n",
       "       10.33370779,  5.4064541 ,  3.36674065,  6.75018885, 10.33370779,\n",
       "        3.64286551,  8.94741342,  5.32976148,  8.35769938])"
      ]
     },
     "execution_count": 278,
     "metadata": {},
     "output_type": "execute_result"
    }
   ],
   "source": [
    "v[10].data"
   ]
  },
  {
   "cell_type": "code",
   "execution_count": 283,
   "id": "f92d75e4-c190-4aad-b8cb-878f974e2278",
   "metadata": {},
   "outputs": [
    {
     "data": {
      "text/plain": [
       "tensor(indices=tensor([[125110, 125095, 124616, 124332, 123984, 123759, 123196,\n",
       "                        121265, 119714, 117230, 116882, 116139, 115475, 114702,\n",
       "                        114646, 114586, 114579, 114520, 114455, 114428, 111695,\n",
       "                        111322, 110130, 108718, 106965, 104702, 103528, 101898,\n",
       "                        100059,  99721,  98828,  94986,  94362,  91722,  91192,\n",
       "                         90774,  90379,  90364,  90266,  90097,  89919,  89860,\n",
       "                         89550,  89362,  87170,  85447,  84681,  83914,  83706,\n",
       "                         83256,  80638,  80005,  79785,  76681,  76377,  76032,\n",
       "                         76007,  75901,  75033,  75028,  72384,  69511,  68766,\n",
       "                         68532,  68524,  66670,  64186,  63910,  62221,  61959,\n",
       "                         60731,  59534,  58830,  56979,  55597,  54163,  53441,\n",
       "                         51268,  49331,  49328,  48421,  47982,  41633,  40647,\n",
       "                         40477,  37423,  35194,  35151,  33527,  33301,  32489,\n",
       "                         32311,  30868,  29451,  28601,  28146,  27721,  25568,\n",
       "                         21480,  12963,  11976,   8042,   6475,   6437,   5791,\n",
       "                          3802,   1410,   1049,      0]]),\n",
       "       values=tensor([ 1.9615,  4.4421,  3.1500,  2.0978,  1.9241,  2.6352,\n",
       "                       2.8715,  2.7209,  2.9851, 10.0214,  7.8488,  7.2892,\n",
       "                       2.2172,  4.4121,  3.8491,  4.4256,  1.9170,  2.5891,\n",
       "                       6.4144,  2.8778,  4.0514,  1.0000,  6.1142,  5.0867,\n",
       "                       5.8564,  5.8678,  4.6400, 12.7649,  7.2427,  1.3723,\n",
       "                       8.7243,  7.0015,  2.8959,  5.9270,  5.3231,  6.4442,\n",
       "                       1.0403,  7.4868,  6.8997,  3.7163,  2.3217,  4.4759,\n",
       "                      11.1092,  2.2695,  4.1032,  4.3006,  2.7434,  6.9664,\n",
       "                       2.2669,  4.6233,  2.0650,  2.8321,  8.1365, 13.4456,\n",
       "                       3.2036,  1.0033,  3.6379,  2.1470,  7.5005,  7.2427,\n",
       "                       3.4751,  8.2543,  2.6613,  1.2748, 34.1678,  3.5335,\n",
       "                       2.3017,  8.3878,  1.5252,  3.5908,  8.7243,  4.1332,\n",
       "                       2.3207,  1.0000,  5.2585,  8.7243,  5.5379,  3.6796,\n",
       "                      14.4853,  7.3380,  4.3727,  2.4578, 16.7756, 16.7756,\n",
       "                       5.0556,  3.6466,  5.3098,  7.7688,  3.5181,  9.4194,\n",
       "                       8.0311,  1.5616,  6.9664,  8.7243,  2.0069,  5.9236,\n",
       "                       5.2123,  8.5419, 10.3337,  7.7688, 10.3337,  5.4065,\n",
       "                       3.3667,  6.7502, 10.3337,  3.6429,  8.9474,  5.3298,\n",
       "                       8.3577]),\n",
       "       size=(130107,), nnz=109, dtype=torch.float64, layout=torch.sparse_coo)"
      ]
     },
     "execution_count": 283,
     "metadata": {},
     "output_type": "execute_result"
    }
   ],
   "source": [
    "v2[10].data"
   ]
  },
  {
   "cell_type": "code",
   "execution_count": 110,
   "id": "5e5a413f-604c-4542-a360-79fc47f9b66d",
   "metadata": {},
   "outputs": [],
   "source": [
    "model=\"bert\"\n",
    "train_tok=f\"data/biasbios/train.tokens_raw_{model}.pt\"\n",
    "dev_tok=f\"data/biasbios/dev.tokens_raw_{model}.pt\"\n",
    "test_tok=f\"data/biasbios/test.tokens_raw_{model}.pt\""
   ]
  },
  {
   "cell_type": "code",
   "execution_count": 343,
   "id": "ef8c4831-3139-45e1-9712-f264321880fd",
   "metadata": {},
   "outputs": [],
   "source": [
    "ds1 = torch.load(\"test.pt\")"
   ]
  },
  {
   "cell_type": "code",
   "execution_count": 329,
   "id": "8eef2943-da67-4add-b809-fde223fbd3ad",
   "metadata": {},
   "outputs": [
    {
     "data": {
      "text/plain": [
       "torch.Size([300000, 512])"
      ]
     },
     "execution_count": 329,
     "metadata": {},
     "output_type": "execute_result"
    }
   ],
   "source": [
    "ds.tensors[0].shape"
   ]
  },
  {
   "cell_type": "code",
   "execution_count": 379,
   "id": "31f1466c-e4cf-48d2-8685-8ed64b7d0480",
   "metadata": {},
   "outputs": [],
   "source": [
    "from torch.utils.data import ConcatDataset, DataLoader"
   ]
  },
  {
   "cell_type": "code",
   "execution_count": 311,
   "id": "9a7be788-e3ec-40f8-a109-8aeecbc9f70f",
   "metadata": {},
   "outputs": [
    {
     "name": "stderr",
     "output_type": "stream",
     "text": [
      "/tmp/ipykernel_1769822/941439938.py:1: UserWarning: To copy construct from a tensor, it is recommended to use sourceTensor.clone().detach() or sourceTensor.clone().detach().requires_grad_(True), rather than torch.tensor(sourceTensor).\n",
      "  ds = TensorDataset(data[\"X\"][\"input_ids\"].int(), torch.tensor(data[\"X\"][\"attention_mask\"]).char(), data['z'])\n"
     ]
    }
   ],
   "source": [
    "ds = TensorDataset(data[\"X\"][\"input_ids\"].int(), torch.tensor(data[\"X\"][\"attention_mask\"]).char(), data['z'])\n"
   ]
  },
  {
   "cell_type": "code",
   "execution_count": 385,
   "id": "6cbbe848-4fc0-4f92-8c43-be37255a381a",
   "metadata": {},
   "outputs": [
    {
     "data": {
      "text/plain": [
       "(tensor([[  101,  2002,  2001,  ...,     0,     0,     0],\n",
       "         [  101,  8840, 14226,  ...,     0,     0,     0],\n",
       "         [  101, 18553, 12819,  ...,     0,     0,     0],\n",
       "         ...,\n",
       "         [  101,  1062,  7140,  ...,     0,     0,     0],\n",
       "         [  101,  1000,  1052,  ...,     0,     0,     0],\n",
       "         [  101,  2016,  2351,  ...,     0,     0,     0]], dtype=torch.int32),\n",
       " tensor([[1, 1, 1,  ..., 0, 0, 0],\n",
       "         [1, 1, 1,  ..., 0, 0, 0],\n",
       "         [1, 1, 1,  ..., 0, 0, 0],\n",
       "         ...,\n",
       "         [1, 1, 1,  ..., 0, 0, 0],\n",
       "         [1, 1, 1,  ..., 0, 0, 0],\n",
       "         [1, 1, 1,  ..., 0, 0, 0]], dtype=torch.int8),\n",
       " tensor([0, 0, 0,  ..., 1, 0, 1], dtype=torch.int8))"
      ]
     },
     "execution_count": 385,
     "metadata": {},
     "output_type": "execute_result"
    }
   ],
   "source": [
    "ds.tensors"
   ]
  },
  {
   "cell_type": "code",
   "execution_count": 344,
   "id": "211a511c-8e0e-4bc5-8258-8422a38e85e9",
   "metadata": {},
   "outputs": [],
   "source": [
    "all_ds"
   ]
  },
  {
   "cell_type": "code",
   "execution_count": 345,
   "id": "9daed6f6-9c1c-49a2-ab71-09182394eb4c",
   "metadata": {},
   "outputs": [
    {
     "name": "stderr",
     "output_type": "stream",
     "text": [
      "100%|███████████████████████████████████████████████████████████████████████████████████████████████████████| 3/3 [02:05<00:00, 41.99s/it]\n"
     ]
    }
   ],
   "source": [
    "for i in tqdm(range(1,4)):\n",
    "    data = torch.load(f\"data/md_gender/wikipedia/dev.tokens_raw_bert.pt.{i}\")\n",
    "    all_ds.append(TensorDataset(data[\"X\"][\"input_ids\"].int(), data[\"X\"][\"attention_mask\"].char(), torch.tensor(data['z']).char()))"
   ]
  },
  {
   "cell_type": "code",
   "execution_count": 347,
   "id": "6b73b767-5fd6-4dc2-af0e-d0977dd7b689",
   "metadata": {},
   "outputs": [],
   "source": [
    "torch.save(ConcatDataset(all_ds), \"data/md_gender/wikipedia/dev.tokens_raw_bert.pt.all\",)"
   ]
  },
  {
   "cell_type": "code",
   "execution_count": 382,
   "id": "d442fbca-d9b8-4bbb-9430-94335e2f2140",
   "metadata": {},
   "outputs": [],
   "source": [
    "ds_test = torch.load(\"data/md_gender/wikipedia/archive/dev.tokens_raw_bert.pt.all\")"
   ]
  },
  {
   "cell_type": "code",
   "execution_count": 383,
   "id": "9906d082-b336-454c-8d6e-bf780209f688",
   "metadata": {},
   "outputs": [
    {
     "data": {
      "text/plain": [
       "torch.utils.data.dataset.ConcatDataset"
      ]
     },
     "execution_count": 383,
     "metadata": {},
     "output_type": "execute_result"
    }
   ],
   "source": [
    "type(ds_test)"
   ]
  },
  {
   "cell_type": "code",
   "execution_count": 389,
   "id": "3a11ac06-44dc-4d73-99b3-74b6396ba88d",
   "metadata": {},
   "outputs": [],
   "source": [
    "t = torch.load(\"data/md_gender/wikipedia/vectors_extracted_from_trained_models/contriever/seed_0/0.train.vectors_raw_contriever_new.pt\")"
   ]
  },
  {
   "cell_type": "code",
   "execution_count": 401,
   "id": "496ac4c9-4d2b-448d-85ad-3d02dd03f2ea",
   "metadata": {},
   "outputs": [],
   "source": [
    "_counter = Counter([i.item() for i in t.tensors[1]])"
   ]
  },
  {
   "cell_type": "code",
   "execution_count": 413,
   "id": "4dd2acd1-2abd-464a-8c24-403122eda53e",
   "metadata": {},
   "outputs": [
    {
     "data": {
      "text/plain": [
       "'0: 78.744%\\n2: 8.179230769230768%\\n1: 13.07230769230769%\\n3: 0.004461538461538462%'"
      ]
     },
     "execution_count": 413,
     "metadata": {},
     "output_type": "execute_result"
    }
   ],
   "source": [
    "\"\\n\".join([f\"{key}: {val/650000*100}%\" for key, val in _counter.items()])"
   ]
  },
  {
   "cell_type": "code",
   "execution_count": 378,
   "id": "8a7c4822-5ba5-40f5-8aad-6952ae98a835",
   "metadata": {},
   "outputs": [
    {
     "data": {
      "text/plain": [
       "{0, 1, 2, 3}"
      ]
     },
     "execution_count": 378,
     "metadata": {},
     "output_type": "execute_result"
    }
   ],
   "source": [
    "set(x.item() for x in d.datasets[0].tensors[2].unique())"
   ]
  },
  {
   "cell_type": "code",
   "execution_count": 422,
   "id": "136766d9-dede-4303-90d2-2b91fbc317b8",
   "metadata": {},
   "outputs": [
    {
     "data": {
      "text/plain": [
       "torch.float32"
      ]
     },
     "execution_count": 422,
     "metadata": {},
     "output_type": "execute_result"
    }
   ],
   "source": [
    "t.tensors[0].dtype"
   ]
  },
  {
   "cell_type": "code",
   "execution_count": 112,
   "id": "a939d705-dc0b-4169-9ac9-924ce30a325b",
   "metadata": {},
   "outputs": [],
   "source": [
    "input_data = data['X']\n",
    "vectors = []\n",
    "labels = []\n",
    "genders = []\n",
    "\n",
    "y = data['y']\n",
    "z = data['z']"
   ]
  },
  {
   "cell_type": "code",
   "execution_count": 99,
   "id": "ed920ad5-f6ec-4aae-aa94-93d109e66907",
   "metadata": {},
   "outputs": [],
   "source": [
    "bert_lengths = [torch.count_nonzero(i).item() for i in input_data[\"attention_mask\"]]"
   ]
  },
  {
   "cell_type": "code",
   "execution_count": 107,
   "id": "1af36303-8a33-4fcc-8264-b0b56a2f6bcc",
   "metadata": {},
   "outputs": [
    {
     "data": {
      "text/plain": [
       "True"
      ]
     },
     "execution_count": 107,
     "metadata": {},
     "output_type": "execute_result"
    }
   ],
   "source": [
    "contriever_lengths == bert_lengths"
   ]
  },
  {
   "cell_type": "code",
   "execution_count": 45,
   "id": "4b7c129a-e6d3-4eeb-acb9-773c43fb1138",
   "metadata": {},
   "outputs": [],
   "source": [
    "num_samples = len(input_data[\"input_ids\"])\n",
    "            # for key in input_data:\n",
    "            #     input_data[key] = input_data[key].to(device)\n",
    "start_idx = 0\n",
    "vectors = []\n",
    "device = \"cuda\""
   ]
  },
  {
   "cell_type": "code",
   "execution_count": 121,
   "id": "242ca76a-4cef-4366-bb39-5ebacc23d716",
   "metadata": {},
   "outputs": [],
   "source": [
    "device=\"cuda:1\""
   ]
  },
  {
   "cell_type": "code",
   "execution_count": 122,
   "id": "8c6b05c7-1cf2-4387-8b64-d9b63c7af3f9",
   "metadata": {},
   "outputs": [],
   "source": [
    "start_idx, last_idx = 0, 10\n",
    "with torch.no_grad():\n",
    "    input_ids = input_data[\"input_ids\"][start_idx:last_idx,:].to(device)\n",
    "    attns = input_data[\"attention_mask\"][start_idx:last_idx,:].to(device)\n",
    "    v = model(input_ids, attention_mask=attns)\n",
    "    "
   ]
  },
  {
   "cell_type": "code",
   "execution_count": 131,
   "id": "4084136e-0fb7-4a6f-a92a-bb40f897e5ee",
   "metadata": {},
   "outputs": [],
   "source": [
    "v = v.last_hidden_state.cpu().detach()"
   ]
  },
  {
   "cell_type": "code",
   "execution_count": 138,
   "id": "92f1ac79-4f41-4610-9887-4c4e9fb86f22",
   "metadata": {},
   "outputs": [
    {
     "data": {
      "text/plain": [
       "tensor([[True, True, True,  ..., True, True, True],\n",
       "        [True, True, True,  ..., True, True, True],\n",
       "        [True, True, True,  ..., True, True, True],\n",
       "        ...,\n",
       "        [True, True, True,  ..., True, True, True],\n",
       "        [True, True, True,  ..., True, True, True],\n",
       "        [True, True, True,  ..., True, True, True]])"
      ]
     },
     "execution_count": 138,
     "metadata": {},
     "output_type": "execute_result"
    }
   ],
   "source": [
    "vcat = torch.cat([v,v],dim=0)\n",
    "vcat[0] == vcat[10]\n"
   ]
  },
  {
   "cell_type": "code",
   "execution_count": 137,
   "id": "ee97a705-c052-4234-9f3b-deb29cecf689",
   "metadata": {},
   "outputs": [
    {
     "data": {
      "text/plain": [
       "tensor([[-0.4252,  0.1884, -0.0299,  ...,  0.4893,  0.5312,  0.3602],\n",
       "        [-1.0323,  0.5132, -0.4543,  ...,  0.5786,  1.0955, -0.5138],\n",
       "        [-0.8278, -0.0589, -0.1802,  ...,  1.3841,  0.8857, -1.5629],\n",
       "        ...,\n",
       "        [ 0.4036, -0.2770,  0.5035,  ...,  0.0131, -0.1179,  0.1435],\n",
       "        [ 0.2341,  0.0206,  0.5684,  ..., -0.0109, -0.1405,  0.2937],\n",
       "        [ 0.2289, -0.0943,  0.4422,  ..., -0.0665, -0.0431,  0.4522]])"
      ]
     },
     "execution_count": 137,
     "metadata": {},
     "output_type": "execute_result"
    }
   ],
   "source": [
    "vcat[10]"
   ]
  },
  {
   "cell_type": "code",
   "execution_count": 74,
   "id": "af515324-3b93-4696-b5af-23ba96cda542",
   "metadata": {},
   "outputs": [],
   "source": [
    "x = torch.zeros(30,768)\n",
    "y = torch.zeros(2,768)"
   ]
  },
  {
   "cell_type": "code",
   "execution_count": 84,
   "id": "53dbad3c-6197-45e0-ba67-5edb7b22a971",
   "metadata": {},
   "outputs": [
    {
     "data": {
      "text/plain": [
       "torch.Size([32, 768])"
      ]
     },
     "execution_count": 84,
     "metadata": {},
     "output_type": "execute_result"
    }
   ],
   "source": [
    "torch.cat([x,y], dim=0).shape"
   ]
  },
  {
   "cell_type": "code",
   "execution_count": 414,
   "id": "7d2dd857-1e41-4335-89b0-c8fdb0150888",
   "metadata": {},
   "outputs": [],
   "source": [
    "#e = model(**input_data) "
   ]
  },
  {
   "cell_type": "code",
   "execution_count": 1,
   "id": "35eeb9bf-41f7-43be-a8f6-44f9239ff5d6",
   "metadata": {},
   "outputs": [],
   "source": [
    "r_path = \"data/winobias/extracted_vectors/roberta-base/basic/vectors_roberta-base.pt\""
   ]
  },
  {
   "cell_type": "code",
   "execution_count": 29,
   "id": "c7a42562-a706-4c41-9725-2f9acae70dab",
   "metadata": {},
   "outputs": [],
   "source": [
    "from torch.utils.data import TensorDataset"
   ]
  },
  {
   "cell_type": "code",
   "execution_count": 3,
   "id": "e62f735a-6014-44a4-807c-f802a4bdaa60",
   "metadata": {},
   "outputs": [],
   "source": [
    "import torch\n",
    "v = torch.load(r_path)"
   ]
  },
  {
   "cell_type": "code",
   "execution_count": 415,
   "id": "34f8de2b-244d-4197-ac05-6649a049a34d",
   "metadata": {},
   "outputs": [
    {
     "data": {
      "text/plain": [
       "False"
      ]
     },
     "execution_count": 415,
     "metadata": {},
     "output_type": "execute_result"
    }
   ],
   "source": []
  },
  {
   "cell_type": "code",
   "execution_count": 5,
   "id": "8bbbf059-c08d-4470-a400-db3d44dd9827",
   "metadata": {},
   "outputs": [
    {
     "data": {
      "text/plain": [
       "dict_keys(['X', 'z', 'original index', 'professions'])"
      ]
     },
     "execution_count": 5,
     "metadata": {},
     "output_type": "execute_result"
    }
   ],
   "source": [
    "v.keys()"
   ]
  },
  {
   "cell_type": "code",
   "execution_count": 6,
   "id": "3095bf85-0112-40a4-85cd-fc505c5b0b32",
   "metadata": {},
   "outputs": [],
   "source": [
    "from datasets import Dataset"
   ]
  },
  {
   "cell_type": "code",
   "execution_count": 10,
   "id": "99652436-d114-4541-a7b7-4b1d6b98b63e",
   "metadata": {},
   "outputs": [],
   "source": [
    "v_bb = torch.load(\"data/biasbios/vectors_extracted_from_trained_models/contriever/seed_0/dev.vectors_raw_contriever.pt\")"
   ]
  },
  {
   "cell_type": "code",
   "execution_count": 11,
   "id": "634f7eb2-3863-43ea-9a06-687ecac79d97",
   "metadata": {},
   "outputs": [
    {
     "data": {
      "text/plain": [
       "{'X': tensor([[-0.0306, -0.0315, -0.0677,  ..., -0.0769, -0.0994, -0.0369],\n",
       "         [ 0.0063,  0.0169,  0.0437,  ..., -0.0168, -0.0927, -0.0098],\n",
       "         [ 0.0692, -0.0162,  0.0102,  ...,  0.0428, -0.0485, -0.0188],\n",
       "         ...,\n",
       "         [-0.0582, -0.0377, -0.0446,  ..., -0.0389,  0.0487, -0.0472],\n",
       "         [ 0.0445, -0.0442, -0.0356,  ...,  0.0107, -0.0374, -0.0134],\n",
       "         [ 0.0081,  0.0008, -0.0028,  ...,  0.0191, -0.0443, -0.0282]],\n",
       "        device='cuda:0'),\n",
       " 'y': array(['Joel E. Holman, MD is a practicing Orthopedic Surgeon in Nephi, UT.',\n",
       "        'Jordache A. Ellapen is an Assistant Professor of Feminist Studies in Culture and Media in the Women and Gender Studies Program in the Department of Historical Studies at UTM and holds a graduate appointment in the Women & Gender Studies Institute.',\n",
       "        'Julia Lauter is an independent journalist based in Hamburg.', ...,\n",
       "        'Troy Goodall is a talented photographer from New Zealand who came up with a pretty unique idea.',\n",
       "        'Gail Odorico is a paralegal in the Vancouver Office of Lawson Lundell LLP and has been part of the firm since April 2001.',\n",
       "        'Connie Schumacher, PhD, RN, is a registered nurse seconded to McMaster’s Deptartment of Health Research Methods, Evidence, and Impact.'],\n",
       "       dtype='<U674'),\n",
       " 'z': array(['m', 'm', 'f', ..., 'm', 'f', 'f'], dtype='<U1')}"
      ]
     },
     "execution_count": 11,
     "metadata": {},
     "output_type": "execute_result"
    }
   ],
   "source": [
    "v_bb"
   ]
  },
  {
   "cell_type": "code",
   "execution_count": 12,
   "id": "7c87d8c5-c0ee-41a0-9e88-08b19276e31a",
   "metadata": {},
   "outputs": [],
   "source": [
    "str2int = {'f': 1, 'm': 0}"
   ]
  },
  {
   "cell_type": "code",
   "execution_count": 24,
   "id": "20f2328e-4ac5-4ad6-9f41-01f030d4cdf3",
   "metadata": {},
   "outputs": [
    {
     "ename": "TypeError",
     "evalue": "'map' object is not subscriptable",
     "output_type": "error",
     "traceback": [
      "\u001b[0;31m---------------------------------------------------------------------------\u001b[0m",
      "\u001b[0;31mTypeError\u001b[0m                                 Traceback (most recent call last)",
      "Input \u001b[0;32mIn [24]\u001b[0m, in \u001b[0;36m<cell line: 1>\u001b[0;34m()\u001b[0m\n\u001b[0;32m----> 1\u001b[0m \u001b[38;5;28;43mmap\u001b[39;49m\u001b[43m(\u001b[49m\u001b[43mstr2int\u001b[49m\u001b[43m,\u001b[49m\u001b[43mv_bb\u001b[49m\u001b[43m[\u001b[49m\u001b[38;5;124;43m'\u001b[39;49m\u001b[38;5;124;43mz\u001b[39;49m\u001b[38;5;124;43m'\u001b[39;49m\u001b[43m]\u001b[49m\u001b[43m)\u001b[49m\u001b[43m[\u001b[49m\u001b[38;5;124;43m'\u001b[39;49m\u001b[38;5;124;43mz\u001b[39;49m\u001b[38;5;124;43m'\u001b[39;49m\u001b[43m]\u001b[49m\n",
      "\u001b[0;31mTypeError\u001b[0m: 'map' object is not subscriptable"
     ]
    }
   ],
   "source": [
    "map(str2int,v_bb['z'])['z']"
   ]
  },
  {
   "cell_type": "code",
   "execution_count": 27,
   "id": "3d10f20d-9f5f-4a70-b41e-426111cb0c45",
   "metadata": {},
   "outputs": [],
   "source": [
    "def preprocess_probing_data(X, z):\n",
    "    z[z == 'f'] = 1\n",
    "    z[z == 'm'] = 0\n",
    "    z = z.astype(int)\n",
    "    X, z = X, torch.tensor(z).long()\n",
    "\n",
    "    return TensorDataset(X, z)\n"
   ]
  },
  {
   "cell_type": "code",
   "execution_count": 30,
   "id": "6ef382e1-e167-47c7-bd30-25a45112c811",
   "metadata": {
    "tags": []
   },
   "outputs": [],
   "source": [
    "xx = preprocess_probing_data(v_bb['X'], v_bb['z'])"
   ]
  },
  {
   "cell_type": "code",
   "execution_count": 416,
   "id": "ba382182-27d6-4a29-9b90-13bd7db18562",
   "metadata": {},
   "outputs": [
    {
     "data": {
      "text/plain": [
       "(tensor([[-0.0306, -0.0315, -0.0677,  ..., -0.0769, -0.0994, -0.0369],\n",
       "         [ 0.0063,  0.0169,  0.0437,  ..., -0.0168, -0.0927, -0.0098],\n",
       "         [ 0.0692, -0.0162,  0.0102,  ...,  0.0428, -0.0485, -0.0188],\n",
       "         ...,\n",
       "         [-0.0582, -0.0377, -0.0446,  ..., -0.0389,  0.0487, -0.0472],\n",
       "         [ 0.0445, -0.0442, -0.0356,  ...,  0.0107, -0.0374, -0.0134],\n",
       "         [ 0.0081,  0.0008, -0.0028,  ...,  0.0191, -0.0443, -0.0282]],\n",
       "        device='cuda:0'),\n",
       " tensor([0, 0, 1,  ..., 0, 1, 1]))"
      ]
     },
     "execution_count": 416,
     "metadata": {},
     "output_type": "execute_result"
    }
   ],
   "source": [
    "xx.tensors"
   ]
  },
  {
   "cell_type": "code",
   "execution_count": null,
   "id": "9fb30585-b865-4555-b41b-229d5064e434",
   "metadata": {},
   "outputs": [],
   "source": []
  }
 ],
 "metadata": {
  "kernelspec": {
   "display_name": "sgt",
   "language": "python",
   "name": "sgt"
  },
  "language_info": {
   "codemirror_mode": {
    "name": "ipython",
    "version": 3
   },
   "file_extension": ".py",
   "mimetype": "text/x-python",
   "name": "python",
   "nbconvert_exporter": "python",
   "pygments_lexer": "ipython3",
   "version": "3.9.13"
  }
 },
 "nbformat": 4,
 "nbformat_minor": 5
}
