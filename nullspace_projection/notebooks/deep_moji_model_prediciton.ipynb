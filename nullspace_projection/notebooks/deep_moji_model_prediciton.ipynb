{
 "cells": [
  {
   "cell_type": "code",
   "execution_count": 1,
   "metadata": {},
   "outputs": [],
   "source": [
    "import sys\n",
    "import json\n",
    "from collections import defaultdict, Counter\n",
    "import itertools\n",
    "\n",
    "from allennlp.models.archival import load_archive\n",
    "from allennlp.predictors import Predictor\n",
    "from allennlp.models.ensemble import Ensemble\n",
    "\n",
    "from tqdm import tqdm\n",
    "import numpy as np\n",
    "\n",
    "import torch"
   ]
  },
  {
   "cell_type": "code",
   "execution_count": 2,
   "metadata": {},
   "outputs": [
    {
     "name": "stdout",
     "output_type": "stream",
     "text": [
      "Using matplotlib backend: agg\n"
     ]
    }
   ],
   "source": [
    "import matplotlib.pyplot as plt\n",
    "\n",
    "%matplotlib\n",
    "%matplotlib inline  "
   ]
  },
  {
   "cell_type": "code",
   "execution_count": 3,
   "metadata": {},
   "outputs": [],
   "source": [
    "sys.path.append('../src/framework/models/')\n",
    "sys.path.append('../src/framework/dataset_readers/')\n",
    "sys.path.append('../src/framework/predictors/')\n",
    "from deep_moji_model import DeepMojiModel\n",
    "from deep_moji_reader import DeepMojiReader\n",
    "# from src.framework.predictors"
   ]
  },
  {
   "cell_type": "code",
   "execution_count": 4,
   "metadata": {},
   "outputs": [],
   "source": [
    "archive_model = load_archive('../src/allen_logs/deep_moji_balanced2/model.tar.gz')#, cuda_device=3)\n",
    "# predictor_elmo = Predictor.from_archive(archive_elmo, 'nfh_classification')"
   ]
  },
  {
   "cell_type": "code",
   "execution_count": 5,
   "metadata": {},
   "outputs": [
    {
     "data": {
      "text/plain": [
       "Archive(model=DeepMojiModel(\n",
       "  (scorer): Sequential(\n",
       "    (0): Linear(in_features=2304, out_features=300, bias=True)\n",
       "    (1): Tanh()\n",
       "    (2): Linear(in_features=300, out_features=2, bias=True)\n",
       "  )\n",
       "  (loss): CrossEntropyLoss()\n",
       "), config=<allennlp.common.params.Params object at 0x7f5b2e0411d0>)"
      ]
     },
     "execution_count": 5,
     "metadata": {},
     "output_type": "execute_result"
    }
   ],
   "source": [
    "archive_model"
   ]
  },
  {
   "cell_type": "code",
   "execution_count": 7,
   "metadata": {},
   "outputs": [
    {
     "data": {
      "text/plain": [
       "DeepMojiModel(\n",
       "  (scorer): Sequential(\n",
       "    (0): Linear(in_features=2304, out_features=300, bias=True)\n",
       "    (1): Tanh()\n",
       "    (2): Linear(in_features=300, out_features=2, bias=True)\n",
       "  )\n",
       "  (loss): CrossEntropyLoss()\n",
       ")"
      ]
     },
     "execution_count": 7,
     "metadata": {},
     "output_type": "execute_result"
    }
   ],
   "source": [
    "archive_model.model"
   ]
  },
  {
   "cell_type": "code",
   "execution_count": 8,
   "metadata": {},
   "outputs": [],
   "source": [
    "vec = torch.tensor(np.random.rand(1, 2304)).float()"
   ]
  },
  {
   "cell_type": "code",
   "execution_count": 9,
   "metadata": {},
   "outputs": [
    {
     "data": {
      "text/plain": [
       "{'y_hat': tensor([1])}"
      ]
     },
     "execution_count": 9,
     "metadata": {},
     "output_type": "execute_result"
    }
   ],
   "source": [
    "archive_model.model(vec)"
   ]
  },
  {
   "cell_type": "code",
   "execution_count": 10,
   "metadata": {},
   "outputs": [],
   "source": [
    "module = archive_model.extract_module('scorer')"
   ]
  },
  {
   "cell_type": "code",
   "execution_count": 14,
   "metadata": {},
   "outputs": [
    {
     "data": {
      "text/plain": [
       "3"
      ]
     },
     "execution_count": 14,
     "metadata": {},
     "output_type": "execute_result"
    }
   ],
   "source": [
    "len(module)"
   ]
  },
  {
   "cell_type": "code",
   "execution_count": 15,
   "metadata": {
    "scrolled": true
   },
   "outputs": [],
   "source": [
    "x = vec\n",
    "for layer in module[:2]:\n",
    "    x = layer(x)\n",
    "#     print(x)"
   ]
  },
  {
   "cell_type": "code",
   "execution_count": 16,
   "metadata": {
    "scrolled": true
   },
   "outputs": [
    {
     "data": {
      "text/plain": [
       "tensor([[ 0.9787, -0.9997,  0.9825,  0.6857,  0.9304, -0.8528,  0.9981,  0.2299,\n",
       "         -0.9999,  0.9967,  0.3081,  0.9989, -0.6227,  0.7911, -0.9767,  0.9969,\n",
       "         -0.9004, -0.8723, -0.9890, -0.1890,  0.5829, -0.9551,  0.9999,  0.4626,\n",
       "          0.4074, -0.9984,  0.9801,  0.9499,  0.9466, -0.9944, -0.5481,  1.0000,\n",
       "         -0.6941,  0.9813, -0.8472, -1.0000,  0.9629,  0.9156,  0.9137, -0.0885,\n",
       "          0.5921, -0.3396, -0.9464, -0.9992,  0.7965,  0.9531,  0.9889,  0.9954,\n",
       "         -0.9517, -0.9913, -0.8844,  0.9999, -0.5206,  0.9956, -0.5383,  0.9875,\n",
       "          0.6395, -0.9851, -0.9914,  0.9985,  0.9881,  0.7991,  0.9675,  0.1948,\n",
       "          1.0000, -0.9966,  0.7548,  0.9868,  0.9999, -0.9081, -0.9952, -0.4961,\n",
       "         -0.9280, -0.9879, -0.6180, -0.9677, -0.3289, -0.9575,  0.9973,  1.0000,\n",
       "          0.4667, -0.9969, -0.7461, -1.0000, -0.9193,  0.5447, -0.9547, -0.9975,\n",
       "         -0.9468, -0.9972,  0.6840,  0.9956,  1.0000,  0.9991, -0.9595, -0.8784,\n",
       "          0.8830,  0.9958,  1.0000, -0.9933,  0.9978,  0.7390, -0.5892,  0.9873,\n",
       "         -0.4962, -0.7768, -0.9311, -0.8969, -0.9974,  0.6608,  0.9411,  0.4873,\n",
       "          0.9999, -0.9798,  0.9612, -0.9686, -0.9831,  0.3327, -0.9986,  0.8715,\n",
       "         -0.9816,  0.9984, -0.9990,  0.9995,  0.9918,  0.9996, -1.0000,  0.0930,\n",
       "          0.9826, -0.7884,  0.8815,  0.8218, -0.7945,  0.9970, -0.3478, -0.9089,\n",
       "          0.7302,  0.9390, -0.8575,  0.9999, -1.0000,  0.9980, -0.8021, -1.0000,\n",
       "         -0.9950,  0.0915,  0.6346,  0.9549, -0.8740, -0.9999,  0.8601,  0.4442,\n",
       "          0.9986,  0.2017, -0.9989, -0.9854,  0.9648,  0.9445,  0.8245,  0.5673,\n",
       "         -0.9818,  0.9840,  0.9111, -0.7371, -0.9967, -0.9999, -0.7552, -0.9817,\n",
       "         -0.8058, -0.9093,  0.9999,  0.9027, -0.9998,  0.8906, -0.9993,  0.6482,\n",
       "         -0.8966,  0.9415,  0.6337,  0.9746,  1.0000,  0.9917, -0.5097,  1.0000,\n",
       "          0.9999, -0.9723, -0.9154, -0.9800,  0.9987,  0.8161, -0.8161,  0.9119,\n",
       "          0.8421,  1.0000, -0.9865,  0.2431, -1.0000, -0.5944,  0.9974,  0.9206,\n",
       "          0.7591,  0.9997, -0.8789,  0.5145,  0.7919,  0.9467,  0.5982, -0.9803,\n",
       "          0.9816,  0.2414, -1.0000,  0.6597,  0.9919, -0.9825,  0.9395,  0.9222,\n",
       "          0.9884,  0.1373,  0.8532, -0.0853,  0.9999,  0.8694,  0.5477,  0.9821,\n",
       "          0.6067,  0.2506,  0.9295,  0.9528,  0.5453, -0.7515,  0.9709,  0.7842,\n",
       "         -0.4215, -0.9199, -0.9999,  0.9722, -0.9998, -0.9484,  0.5464, -0.9500,\n",
       "         -0.4185,  0.6763, -1.0000,  0.2462,  0.9967,  0.9834, -0.9978, -0.5308,\n",
       "         -0.4815, -0.9483,  0.8964, -1.0000, -0.8829, -0.7101,  0.8572, -0.9728,\n",
       "         -0.1648, -0.8927, -0.7946,  0.9997,  0.9934, -0.9858, -0.4740,  0.9368,\n",
       "          0.6649,  0.9316,  0.9423,  0.9831,  0.9966, -0.9791,  0.9379, -0.8657,\n",
       "         -0.9993, -0.7481, -0.9995, -0.1642, -0.8902,  0.8979,  0.7249,  0.9994,\n",
       "         -0.9205,  0.9716, -0.9969, -0.9981,  0.9841, -0.6002,  0.9847,  0.9878,\n",
       "          0.1771, -1.0000, -0.8710,  0.0131,  0.9813, -1.0000,  0.7814, -0.8513,\n",
       "          0.9986, -0.6929,  0.9594, -0.9926]])"
      ]
     },
     "execution_count": 16,
     "metadata": {},
     "output_type": "execute_result"
    }
   ],
   "source": [
    "x"
   ]
  },
  {
   "cell_type": "code",
   "execution_count": 30,
   "metadata": {},
   "outputs": [],
   "source": [
    "def transform_vec(in_vec, model):\n",
    "    module = model.extract_module('scorer')\n",
    "    \n",
    "    x = torch.tensor(in_vec).float()\n",
    "    for layer in module[:2]:\n",
    "        x = layer(x)\n",
    "    return x"
   ]
  },
  {
   "cell_type": "code",
   "execution_count": 37,
   "metadata": {},
   "outputs": [],
   "source": [
    "def read_data_file(input_file: str):\n",
    "    vecs = np.load(input_file)\n",
    "    return vecs\n",
    "\n",
    "def calculate_vectors(in_dir, out_dir):\n",
    "    for split in ['train', 'dev', 'test']:\n",
    "        for vectors in ['pos_pos', 'pos_neg', 'neg_pos', 'neg_neg']:\n",
    "            data = read_data_file(in_dir + '/' + split + '/' + vectors + '.npy')\n",
    "            transformed_vec = transform_vec(data, archive_model)\n",
    "            np.save(out_dir + '/' + split + '/' + vectors + '.npy', transformed_vec)"
   ]
  },
  {
   "cell_type": "code",
   "execution_count": 38,
   "metadata": {},
   "outputs": [],
   "source": [
    "calculate_vectors('../data/emoji_sent_race/', '../data/emoji_sent_race_mlp')"
   ]
  }
 ],
 "metadata": {
  "kernelspec": {
   "display_name": "nullspace",
   "language": "python",
   "name": "nullspace"
  }
 },
 "nbformat": 4,
 "nbformat_minor": 2
}
