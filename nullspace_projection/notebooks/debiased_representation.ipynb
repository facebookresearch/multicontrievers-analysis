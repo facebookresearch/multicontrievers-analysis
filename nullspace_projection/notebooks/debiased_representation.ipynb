{
 "cells": [
  {
   "cell_type": "code",
   "execution_count": 1,
   "metadata": {},
   "outputs": [],
   "source": [
    "import numpy as np\n",
    "from sklearn.svm import LinearSVC\n",
    "from sklearn.linear_model import SGDClassifier, LogisticRegression\n",
    "from sklearn.neural_network import MLPClassifier\n",
    "from sklearn.utils import shuffle\n",
    "\n",
    "from collections import Counter, defaultdict\n",
    "\n",
    "import json\n",
    "from collections import defaultdict\n",
    "import matplotlib.pyplot as plt"
   ]
  },
  {
   "cell_type": "code",
   "execution_count": 2,
   "metadata": {},
   "outputs": [],
   "source": [
    "import seaborn as sns\n",
    "# sns.set()\n",
    "sns.set_style(\"whitegrid\")"
   ]
  },
  {
   "cell_type": "code",
   "execution_count": 3,
   "metadata": {},
   "outputs": [],
   "source": [
    "import sys\n",
    "sys.path.append('..')\n",
    "from src import debias"
   ]
  },
  {
   "cell_type": "code",
   "execution_count": 4,
   "metadata": {},
   "outputs": [],
   "source": [
    "def load_data(path, size, ratio=0.5):\n",
    "    fnames = [\"neg_neg.npy\", \"neg_pos.npy\", \"pos_neg.npy\", \"pos_pos.npy\"]\n",
    "    protected_labels = [0, 1, 0, 1]\n",
    "    main_labels = [0, 0, 1, 1]\n",
    "    X, Y_p, Y_m = [], [], []\n",
    "    n1 = int(size * ratio / 2)\n",
    "    n2 = int(size * (1 - ratio) / 2)\n",
    "#     print(n1, n2)\n",
    "\n",
    "    for fname, p_label, m_label, n in zip(fnames, protected_labels, main_labels, [n1, n2, n2, n1]):\n",
    "#         print(path + '/' + fname)\n",
    "#         print(np.load(path + '/' + fname).shape)\n",
    "        data = np.load(path + '/' + fname)[:n]\n",
    "        for x in data:\n",
    "            X.append(x)\n",
    "        for _ in data:\n",
    "            Y_p.append(p_label)\n",
    "        for _ in data:\n",
    "            Y_m.append(m_label)\n",
    "\n",
    "    Y_p = np.array(Y_p)\n",
    "    Y_m = np.array(Y_m)\n",
    "    X = np.array(X)\n",
    "    X, Y_p, Y_m = shuffle(X, Y_p, Y_m, random_state=0)\n",
    "    return X, Y_p, Y_m"
   ]
  },
  {
   "cell_type": "code",
   "execution_count": 5,
   "metadata": {},
   "outputs": [],
   "source": [
    "def get_TPR(y_main, y_hat_main, y_protected):\n",
    "    \n",
    "    all_y = list(Counter(y_main).keys())\n",
    "    \n",
    "    protected_vals = defaultdict(dict)\n",
    "    for label in all_y:\n",
    "        for i in range(2):\n",
    "            used_vals = (y_main == label) & (y_protected == i)\n",
    "            y_label = y_main[used_vals]\n",
    "            y_hat_label = y_hat_main[used_vals]\n",
    "            protected_vals['y:{}'.format(label)]['p:{}'.format(i)] = (y_label == y_hat_label).mean()\n",
    "            \n",
    "    diffs = {}\n",
    "    for k, v in protected_vals.items():\n",
    "        vals = list(v.values())\n",
    "        diffs[k] = vals[0] - vals[1]\n",
    "    return protected_vals, diffs"
   ]
  },
  {
   "cell_type": "code",
   "execution_count": 51,
   "metadata": {},
   "outputs": [
    {
     "data": {
      "text/plain": [
       "dict_values([-0.30746933667083864, 0.49425093867334163])"
      ]
     },
     "execution_count": 51,
     "metadata": {},
     "output_type": "execute_result"
    }
   ],
   "source": [
    "get_TPR(y_m_dev, biased_classifier.predict(x_dev), y_p_dev)[1].values()"
   ]
  },
  {
   "cell_type": "code",
   "execution_count": 6,
   "metadata": {},
   "outputs": [],
   "source": [
    "def rms(arr):\n",
    "    return np.sqrt(np.mean(np.square(arr)))"
   ]
  },
  {
   "cell_type": "code",
   "execution_count": 7,
   "metadata": {
    "scrolled": true
   },
   "outputs": [],
   "source": [
    "results = defaultdict(dict)\n",
    "\n",
    "for ratio in [0.5, 0.6, 0.7, 0.8]:\n",
    "\n",
    "    x_train, y_p_train, y_m_train = load_data(\n",
    "        '../data/emoji_sent_race_{}/train/'.format(ratio),\n",
    "        size=100000, ratio=ratio)\n",
    "    x_dev, y_p_dev, y_m_dev = load_data(\n",
    "        '../data/emoji_sent_race_{}/test/'.format(ratio),\n",
    "        size=100000, ratio=0.5)\n",
    "    \n",
    "    biased_classifier = LinearSVC(fit_intercept=True, class_weight='balanced', dual=False, C=0.1, max_iter=10000)\n",
    "\n",
    "    biased_classifier.fit(x_train, y_m_train)\n",
    "    biased_score = biased_classifier.score(x_dev, y_m_dev)\n",
    "    \n",
    "    P = np.load('../data/emoji_sent_race_{}/P_svm.num-clfs=300.npy'.format(ratio), allow_pickle=True)\n",
    "    P = P[1]\n",
    "    n_dims = 120\n",
    "#     n_dims = 70\n",
    "    if ratio == 0.5:\n",
    "        n_dims = 200\n",
    "    elif ratio == 0.6:\n",
    "        n_dims = 100\n",
    "    elif ratio == 0.7:\n",
    "        n_dims = 115\n",
    "    elif ratio == 0.8:\n",
    "        n_dims = 200\n",
    "    P = debias.get_projection_to_intersection_of_nullspaces(P[:n_dims], input_dim=300)\n",
    "    \n",
    "    debiased_x_train = P.dot(x_train.T).T\n",
    "    debiased_x_dev = P.dot(x_dev.T).T\n",
    "\n",
    "    classifier = LinearSVC(fit_intercept=True, class_weight='balanced', dual=False, C=0.1, max_iter=10000)\n",
    "\n",
    "    classifier.fit(debiased_x_train, y_m_train)\n",
    "    debiased_score = classifier.score(debiased_x_dev, y_m_dev)\n",
    "    \n",
    "    p_classifier = SGDClassifier(warm_start=True, loss='log', n_jobs=64, max_iter=10000, random_state=0, tol=1e-3)\n",
    "    p_classifier.fit(debiased_x_train, y_p_train)\n",
    "    p_score = p_classifier.score(debiased_x_dev, y_p_dev)\n",
    "    results[ratio]['p_acc'] = p_score\n",
    "    \n",
    "    _, biased_diffs = get_TPR(y_m_dev, biased_classifier.predict(x_dev), y_p_dev)\n",
    "    \n",
    "    _, debiased_diffs = get_TPR(y_m_dev, classifier.predict(debiased_x_dev), y_p_dev)\n",
    "    \n",
    "#     results[ratio]['biased_diff_tpr'] = biased_diffs['y:0']\n",
    "    results[ratio]['biased_diff_tpr'] = rms(list(biased_diffs.values()))\n",
    "#     results[ratio]['debiased_diff_tpr'] = debiased_diffs['y:0']\n",
    "    results[ratio]['debiased_diff_tpr'] = rms(list(debiased_diffs.values()))\n",
    "    \n",
    "    results[ratio]['biased_acc'] = biased_score\n",
    "    results[ratio]['debiased_acc'] = debiased_score"
   ]
  },
  {
   "cell_type": "code",
   "execution_count": 13,
   "metadata": {
    "scrolled": true
   },
   "outputs": [
    {
     "data": {
      "text/plain": [
       "defaultdict(dict,\n",
       "            {0.5: {'p_acc': 0.517,\n",
       "              'biased_diff_tpr': 0.19000000000000006,\n",
       "              'debiased_diff_tpr': 0.16200000000000003,\n",
       "              'biased_acc': 0.7595,\n",
       "              'debiased_acc': 0.7525},\n",
       "             0.6: {'p_acc': 0.6165,\n",
       "              'biased_diff_tpr': 0.2891666666666667,\n",
       "              'debiased_diff_tpr': 0.21500000000000008,\n",
       "              'biased_acc': 0.783,\n",
       "              'debiased_acc': 0.7375},\n",
       "             0.7: {'p_acc': 0.623,\n",
       "              'biased_diff_tpr': 0.3771428571428571,\n",
       "              'debiased_diff_tpr': 0.24095238095238097,\n",
       "              'biased_acc': 0.8085,\n",
       "              'debiased_acc': 0.6645},\n",
       "             0.8: {'p_acc': 0.6331331331331331,\n",
       "              'biased_diff_tpr': 0.44906407035175877,\n",
       "              'debiased_diff_tpr': 0.15108668341708542,\n",
       "              'biased_acc': 0.8423423423423423,\n",
       "              'debiased_acc': 0.6721721721721722}})"
      ]
     },
     "execution_count": 13,
     "metadata": {},
     "output_type": "execute_result"
    }
   ],
   "source": [
    "results"
   ]
  },
  {
   "cell_type": "code",
   "execution_count": 8,
   "metadata": {},
   "outputs": [
    {
     "data": {
      "text/plain": [
       "defaultdict(dict,\n",
       "            {0.5: {'p_acc': 0.5157539384846211,\n",
       "              'biased_diff_tpr': 0.152341531246204,\n",
       "              'debiased_diff_tpr': 0.11717221236744547,\n",
       "              'biased_acc': 0.7580645161290323,\n",
       "              'debiased_acc': 0.7534383595898975},\n",
       "             0.6: {'p_acc': 0.5878969742435609,\n",
       "              'biased_diff_tpr': 0.23854565356548424,\n",
       "              'debiased_diff_tpr': 0.17784194035108863,\n",
       "              'biased_acc': 0.7576894223555889,\n",
       "              'debiased_acc': 0.7149287321830458},\n",
       "             0.7: {'p_acc': 0.5740185046261566,\n",
       "              'biased_diff_tpr': 0.3248818642517531,\n",
       "              'debiased_diff_tpr': 0.15601789337104066,\n",
       "              'biased_acc': 0.7408102025506377,\n",
       "              'debiased_acc': 0.6475368842210553},\n",
       "             0.8: {'p_acc': 0.5703925981495374,\n",
       "              'biased_diff_tpr': 0.40913329572191975,\n",
       "              'debiased_diff_tpr': 0.15847001555011755,\n",
       "              'biased_acc': 0.7161790447611903,\n",
       "              'debiased_acc': 0.6224056014003501}})"
      ]
     },
     "execution_count": 8,
     "metadata": {},
     "output_type": "execute_result"
    }
   ],
   "source": [
    "results"
   ]
  },
  {
   "cell_type": "code",
   "execution_count": 60,
   "metadata": {},
   "outputs": [],
   "source": [
    "plot_results = defaultdict(list)\n",
    "for r in [0.5, 0.6, 0.7, 0.8]:\n",
    "    plot_results['biased_diff_tpr'].append(results[r]['biased_diff_tpr'])\n",
    "    plot_results['debiased_diff_tpr'].append(results[r]['debiased_diff_tpr'])\n",
    "    plot_results['biased_acc'].append(results[r]['biased_acc'])\n",
    "    plot_results['debiased_acc'].append(results[r]['debiased_acc'])\n",
    "    "
   ]
  },
  {
   "cell_type": "code",
   "execution_count": 15,
   "metadata": {},
   "outputs": [
    {
     "data": {
      "text/plain": [
       "defaultdict(list,\n",
       "            {'biased_diff_tpr': [0.19000000000000006,\n",
       "              0.2891666666666667,\n",
       "              0.3771428571428571,\n",
       "              0.44906407035175877],\n",
       "             'debiased_diff_tpr': [0.16200000000000003,\n",
       "              0.21500000000000008,\n",
       "              0.24095238095238097,\n",
       "              0.15108668341708542],\n",
       "             'biased_acc': [0.7595, 0.783, 0.8085, 0.8423423423423423],\n",
       "             'debiased_acc': [0.7525, 0.7375, 0.6645, 0.6721721721721722]})"
      ]
     },
     "execution_count": 15,
     "metadata": {},
     "output_type": "execute_result"
    }
   ],
   "source": [
    "plot_results"
   ]
  },
  {
   "cell_type": "code",
   "execution_count": 57,
   "metadata": {},
   "outputs": [],
   "source": [
    "def data2plot(results):\n",
    "    x = [0.5, 0.6, 0.7, 0.8]\n",
    "\n",
    "    fig, ax1 = plt.subplots()\n",
    "\n",
    "    color = 'tab:red'\n",
    "    ax1.set_xlabel('ratio')\n",
    "    ax1.set_ylabel('diff tpr', color=color)\n",
    "    ax1.plot(x, results['biased_diff_tpr'], '.--', label='biased tpr diff', color=color)\n",
    "    ax1.plot(x, results['debiased_diff_tpr'], '*:', label='debiased tpr diff', color=color)\n",
    "    ax1.tick_params(axis='y', labelcolor=color)\n",
    "    plt.ylim(0.,0.6)\n",
    "\n",
    "    ax2 = ax1.twinx()  # instantiate a second axes that shares the same x-axis\n",
    "\n",
    "    color = 'tab:blue'\n",
    "    ax2.set_ylabel('acc', color=color)  # we already handled the x-label with ax1\n",
    "    ax2.plot(x, results['biased_acc'], '^-', label='biased acc', color=color)\n",
    "    ax2.plot(x, results['debiased_acc'], 'o--', label='debiased acc', color=color)\n",
    "    ax2.tick_params(axis='y', labelcolor=color)\n",
    "    \n",
    "    # ask matplotlib for the plotted objects and their labels\n",
    "    lines, labels = ax1.get_legend_handles_labels()\n",
    "    lines2, labels2 = ax2.get_legend_handles_labels()\n",
    "    ax2.legend(lines, labels, loc='lower right')\n",
    "    \n",
    "    from matplotlib.legend import Legend\n",
    "    leg = Legend(ax2, lines2, labels2,\n",
    "             loc='upper left', frameon=False)\n",
    "    ax2.add_artist(leg);\n",
    "\n",
    "    plt.title('TPR rates as a function of the ratio')\n",
    "    plt.ylim(0.5,.85)\n",
    "#     plt.legend()\n",
    "#     plt.savefig('tpr_rates_ratio.png', dpi=1000)\n",
    "    plt.show()\n",
    "    \n",
    "# data2plot(plot_results)"
   ]
  },
  {
   "cell_type": "code",
   "execution_count": 62,
   "metadata": {},
   "outputs": [
    {
     "data": {
      "image/png": "[encoded data removed]",
      "text/plain": [
       "<Figure size 432x288 with 2 Axes>"
      ]
     },
     "metadata": {},
     "output_type": "display_data"
    }
   ],
   "source": [
    "data2plot(plot_results)"
   ]
  },
  {
   "cell_type": "code",
   "execution_count": 18,
   "metadata": {
    "scrolled": true
   },
   "outputs": [
    {
     "data": {
      "text/plain": [
       "defaultdict(dict,\n",
       "            {0.5: {'p_acc': 0.517,\n",
       "              'biased_diff_tpr': 0.19000000000000006,\n",
       "              'debiased_diff_tpr': 0.16200000000000003,\n",
       "              'biased_acc': 0.7595,\n",
       "              'debiased_acc': 0.7525},\n",
       "             0.6: {'p_acc': 0.6165,\n",
       "              'biased_diff_tpr': 0.2891666666666667,\n",
       "              'debiased_diff_tpr': 0.21500000000000008,\n",
       "              'biased_acc': 0.783,\n",
       "              'debiased_acc': 0.7375},\n",
       "             0.7: {'p_acc': 0.623,\n",
       "              'biased_diff_tpr': 0.3771428571428571,\n",
       "              'debiased_diff_tpr': 0.24095238095238097,\n",
       "              'biased_acc': 0.8085,\n",
       "              'debiased_acc': 0.6645},\n",
       "             0.8: {'p_acc': 0.6331331331331331,\n",
       "              'biased_diff_tpr': 0.44906407035175877,\n",
       "              'debiased_diff_tpr': 0.15108668341708542,\n",
       "              'biased_acc': 0.8423423423423423,\n",
       "              'debiased_acc': 0.6721721721721722}})"
      ]
     },
     "execution_count": 18,
     "metadata": {},
     "output_type": "execute_result"
    }
   ],
   "source": [
    "results"
   ]
  },
  {
   "cell_type": "code",
   "execution_count": 9,
   "metadata": {},
   "outputs": [
    {
     "name": "stdout",
     "output_type": "stream",
     "text": [
      "Ratio & Sentiment (Acc) & Sentiment + INLP (Acc) & Diff TPR & Diff TPR + INLP\n",
      "0.5 \t 0.76 & \t 0.75 & \t\t 0.15 & \t\t 0.12\n",
      "0.6 \t 0.76 & \t 0.71 & \t\t 0.24 & \t\t 0.18\n",
      "0.7 \t 0.74 & \t 0.65 & \t\t 0.32 & \t\t 0.16\n",
      "0.8 \t 0.72 & \t 0.62 & \t\t 0.41 & \t\t 0.16\n"
     ]
    }
   ],
   "source": [
    "print('Ratio & Sentiment (Acc) & Sentiment + INLP (Acc) & Diff TPR & Diff TPR + INLP')\n",
    "for ratio, vals in results.items():\n",
    "    print('{} \\t {:.2f} & \\t {:.2f} & \\t\\t {:.2f} & \\t\\t {:.2f}'\n",
    "          .format(ratio, vals['biased_acc'], vals['debiased_acc'], vals['biased_diff_tpr'], vals['debiased_diff_tpr'], '.2f'))"
   ]
  },
  {
   "cell_type": "markdown",
   "metadata": {},
   "source": [
    "# Accuracy - TPR rate tradeoff"
   ]
  },
  {
   "cell_type": "code",
   "execution_count": 22,
   "metadata": {},
   "outputs": [],
   "source": [
    "ratio = 0.8\n",
    "x_train, y_p_train, y_m_train = load_data(\n",
    "        '../data/emoji_sent_race_{}/train/'.format(ratio),\n",
    "        size=40000, ratio=ratio)\n",
    "x_dev, y_p_dev, y_m_dev = load_data(\n",
    "    '../data/emoji_sent_race_{}/dev/'.format(ratio),\n",
    "    size=8000, ratio=ratio)\n",
    "\n",
    "all_Ps = np.load('../data/emoji_sent_race_{}/P_svm.num-clfs=300.npy'.format(ratio), allow_pickle=True)\n",
    "rowspaces = all_Ps[1]"
   ]
  },
  {
   "cell_type": "code",
   "execution_count": 23,
   "metadata": {},
   "outputs": [],
   "source": [
    "from tqdm import tqdm_notebook as tqdm"
   ]
  },
  {
   "cell_type": "code",
   "execution_count": 24,
   "metadata": {},
   "outputs": [
    {
     "data": {
      "text/plain": [
       "231"
      ]
     },
     "execution_count": 24,
     "metadata": {},
     "output_type": "execute_result"
    }
   ],
   "source": [
    "len(rowspaces)"
   ]
  },
  {
   "cell_type": "code",
   "execution_count": 25,
   "metadata": {},
   "outputs": [
    {
     "data": {
      "text/plain": [
       "(300, 300)"
      ]
     },
     "execution_count": 25,
     "metadata": {},
     "output_type": "execute_result"
    }
   ],
   "source": [
    "rowspaces[0].shape"
   ]
  },
  {
   "cell_type": "code",
   "execution_count": 41,
   "metadata": {},
   "outputs": [
    {
     "data": {
      "application/vnd.jupyter.widget-view+json": {
       "model_id": "bcf624468a514891b24043c91bdcdf7c",
       "version_major": 2,
       "version_minor": 0
      },
      "text/plain": [
       "HBox(children=(IntProgress(value=0, max=200), HTML(value='')))"
      ]
     },
     "metadata": {},
     "output_type": "display_data"
    },
    {
     "name": "stdout",
     "output_type": "stream",
     "text": [
      "\n"
     ]
    }
   ],
   "source": [
    "ratio_tradeoff = defaultdict(dict)\n",
    "\n",
    "for p_iteration in tqdm(range(1, 201)):\n",
    "    \n",
    "    P = debias.get_projection_to_intersection_of_nullspaces(rowspaces[:p_iteration], input_dim=300)\n",
    "    \n",
    "    debiased_x_train = P.dot(x_train.T).T\n",
    "    debiased_x_dev = P.dot(x_dev.T).T\n",
    "    \n",
    "    classifier = LinearSVC(fit_intercept=True, class_weight='balanced', dual=False, C=0.1, max_iter=10000)\n",
    "\n",
    "    classifier.fit(debiased_x_train, y_m_train)\n",
    "    debiased_score = classifier.score(debiased_x_dev, y_m_dev)\n",
    "    \n",
    "    _, debiased_diffs = get_TPR(y_m_dev, classifier.predict(debiased_x_dev), y_p_dev)\n",
    "    \n",
    "    ratio_tradeoff[p_iteration]['debiased_diff_tpr'] = debiased_diffs['y:0']\n",
    "    ratio_tradeoff[p_iteration]['debiased_acc'] = debiased_score"
   ]
  },
  {
   "cell_type": "code",
   "execution_count": 1,
   "metadata": {},
   "outputs": [],
   "source": [
    "# ratio_tradeoff"
   ]
  },
  {
   "cell_type": "code",
   "execution_count": 48,
   "metadata": {},
   "outputs": [
    {
     "data": {
      "image/png": "[encoded data removed]",
      "text/plain": [
       "<Figure size 432x288 with 1 Axes>"
      ]
     },
     "metadata": {},
     "output_type": "display_data"
    }
   ],
   "source": [
    "def data2plot(x, y1, y2, x_label=None, y_label=None, title=None):\n",
    "\n",
    "    # label is optional, and is used for the legend\n",
    "    # here, the third arguemtns are a mix of the `marker' and the `linestyle'\n",
    "    ax = plt.plot(x, y1, '.--', label='TPR-Gap')\n",
    "    ax = plt.plot(x, y2, '*:', label='accuracy')\n",
    "\n",
    "    if y_label:\n",
    "        plt.ylabel(y_label)\n",
    "    if x_label:\n",
    "        plt.xlabel(x_label)\n",
    "    if title:\n",
    "        plt.title(title)\n",
    "\n",
    "    # Optional (and many times useful)\n",
    "    # plt.ylim(0.5,0.90)\n",
    "    plt.legend(loc='lower left', frameon=True)\n",
    "    \n",
    "    plt.tight_layout()\n",
    "    # \n",
    "    plt.savefig('acc_tpr.pdf', dpi=1000)\n",
    "    plt.show()\n",
    "    \n",
    "data2plot(list(ratio_tradeoff.keys()),\n",
    "          [x['debiased_diff_tpr'] for x in ratio_tradeoff.values()],\n",
    "          [x['debiased_acc'] for x in ratio_tradeoff.values()], 'P iter', title='')"
   ]
  }
 ],
 "metadata": {
  "kernelspec": {
   "display_name": "nullspace",
   "language": "python",
   "name": "nullspace"
  }
 },
 "nbformat": 4,
 "nbformat_minor": 2
}
