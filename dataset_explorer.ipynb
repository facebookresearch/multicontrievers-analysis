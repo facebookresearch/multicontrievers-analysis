{
 "cells": [
  {
   "cell_type": "code",
   "execution_count": 2,
   "id": "c7bbb17a-88b9-410e-9f7a-4779ce271082",
   "metadata": {},
   "outputs": [],
   "source": [
    "from datasets import load_dataset, Features, Value, Sequence\n",
    "import torch\n",
    "import pandas as pd\n",
    "from tqdm import tqdm\n",
    "import numpy as np"
   ]
  },
  {
   "cell_type": "code",
   "execution_count": null,
   "id": "bf139d6e-1e0a-4503-ab53-9e30b64b4266",
   "metadata": {},
   "outputs": [],
   "source": [
    "msmarco = load_dataset(\"ms_marco\", 'v1.1')"
   ]
  },
  {
   "cell_type": "code",
   "execution_count": 31,
   "id": "8380fffb-140e-4805-96ee-7bdaf6397852",
   "metadata": {},
   "outputs": [],
   "source": [
    "all_queries = set(msmarco[\"test\"]['query']) | set(msmarco[\"train\"]['query']) | set(msmarco[\"validation\"]['query'])"
   ]
  },
  {
   "cell_type": "code",
   "execution_count": 36,
   "id": "9cc01452-7608-463f-b183-20471fe2c366",
   "metadata": {},
   "outputs": [
    {
     "data": {
      "text/plain": [
       "[]"
      ]
     },
     "execution_count": 36,
     "metadata": {},
     "output_type": "execute_result"
    }
   ],
   "source": [
    "[print(q) for q in all_queries if \"sojourn\" in q]"
   ]
  },
  {
   "cell_type": "code",
   "execution_count": null,
   "id": "6831f8f2-a4fd-4983-9314-f4d064bc827c",
   "metadata": {},
   "outputs": [],
   "source": [
    "#nq_raw = pd.read_json(\"nq_raw/train.jsonl\", lines=True)"
   ]
  },
  {
   "cell_type": "code",
   "execution_count": 335,
   "id": "3a3897ec-b81a-457a-8738-a6649287cac9",
   "metadata": {},
   "outputs": [],
   "source": [
    "train_ex = {\"question\": \"how long do you have to answer a question in family feud\", \"title\": \"Family Feud\", \"candidates\": [\"Family Feud\\n\\n\\n\\n\\n\\nGenre\\nGame show\\n\\n\\nCreated by\\nMark Goodson\\n\\n\\nDirected by\\n\\n\\n\\nPaul Alter (1976\\u201385, 1988\\u201390)\\nMarc Breslow (1988\\u201393)\\nAndy Felsher (1990\\u201395)\\nLenn Goodside (1999\\u201302)\\nKen Fuchs (2002\\u2013present)\\nHugh Bartlett (2013\\u201314)\\n\\n\\n\\n\\n\\nPresented by\\n\\n\\n\\nRichard Dawson (1976\\u201385, 1994\\u201395)\\nRay Combs (1988\\u201394)\\nLouie Anderson (1999\\u20132002)\\nRichard Karn (2002\\u201306)\\nJohn O'Hurley (2006\\u201310)\\nSteve Harvey (2010\\u2013present)\\n\\n\\n\\n\\n\\nNarrated by\\n\\n\\n\\nGene Wood (1976\\u201385, 1988\\u201395)\\nBurton Richardson (1999\\u20132010)\\nJoey Fatone (2010\\u201315)\\nRubin Ervin (2015\\u2013present)\\n\\n\\n\\n\\n\\nTheme music composer\\n\\n\\n\\nScore Productions (1976\\u201385, 1988\\u201395, 2002\\u201303, 2008\\u2013present)\\nEdd Kalehoff (1994\\u201395)\\nJohn Lewis Parker (1999\\u20132008)\\n\\n\\n\\n\\n\\nCountry of origin\\nUnited States\\n\\n\\nOriginal language(s)\\nEnglish\\n\\n\\nProduction\\n\\n\\nProducer(s)\\n\\n\\n\\nHoward Felsher (1976\\u201385, 1988\\u201395)\\nCathy Dawson (1976\\u201385)\\nGary Dawson (1984\\u201385, 1994\\u201395)\\n\\n\\n\\n\\n\\nRunning time\\n\\n\\n\\n22\\u201326 minutes:\\nABC (1976\\u201385)\\nCBS (1988\\u201392)\\nSyndicated (1977\\u201385, 1988\\u201395, 1999\\u2013present)\\n42\\u201344 minutes:\\nABC specials (1979\\u201384, 2015\\u2013present)\\nCBS (1992\\u201393)\\nSyndicated (1994\\u201395)\\n\\n\\n\\n\\n\\nProduction company(s)\\n\\n\\n\\nMark Goodson-Bill Todman Productions (1976\\u201382)\\nMark Goodson Productions (1982\\u201385, 1988\\u201395, 1999\\u20132002)\\nFremantleMedia (2002\\u2013present)\\n\\n\\n\\n\\n\\nDistributor\\n\\n\\n\\nViacom Enterprises (1977\\u201385)\\nLBS Communications (1988\\u201391)\\nTribune Entertainment (1999\\u20132007)\\n20th Television (2007-present)\\nDebmar-Mercury (2007\\u2013present)\\n\\n\\n\\n\\n\\nRelease\\n\\n\\nOriginal network\\n\\n\\n\\nABC (1976\\u201385, 2015\\u2013present)\\nCBS (1988\\u201393)\\nSyndicated (1977\\u201385, 1988\\u201395, 1999\\u2013present)\\n\\n\\n\\n\\n\\nOriginal release\\nJuly 12, 1976\\u00a0(1976-07-12)\\u00a0\\u2013 present\\n\\n\\nChronology\\n\\n\\nRelated shows\\n\\n\\n\\n100 latinos dijeron\\nCelebrity Family Feud\\n\\u00bfQu\\u00e9 dice la gente?\\n\\n\\n\\n\\n\\nExternal links\\n\\n\\nWebsite\", \"Family Feud\", \"Genre\\nGame show\", \"Created by\\nMark Goodson\", \"Directed by\\n\\n\\n\\nPaul Alter (1976\\u201385, 1988\\u201390)\\nMarc Breslow (1988\\u201393)\\nAndy Felsher (1990\\u201395)\\nLenn Goodside (1999\\u201302)\\nKen Fuchs (2002\\u2013present)\\nHugh Bartlett (2013\\u201314)\", \"Paul Alter (1976\\u201385, 1988\\u201390)\\nMarc Breslow (1988\\u201393)\\nAndy Felsher (1990\\u201395)\\nLenn Goodside (1999\\u201302)\\nKen Fuchs (2002\\u2013present)\\nHugh Bartlett (2013\\u201314)\", \"Paul Alter (1976\\u201385, 1988\\u201390)\", \"Marc Breslow (1988\\u00e2\\u20ac\\u201c93)\", \"Andy Felsher (1990\\u00e2\\u20ac\\u201c95)\", \"Lenn Goodside (1999\\u00e2\\u20ac\\u201c02)\", \"Ken Fuchs (2002\\u00e2\\u20ac\\u201cpresent)\", \"Hugh Bartlett (2013\\u00e2\\u20ac\\u201c14)\", \"Presented by\\n\\n\\n\\nRichard Dawson (1976\\u201385, 1994\\u201395)\\nRay Combs (1988\\u201394)\\nLouie Anderson (1999\\u20132002)\\nRichard Karn (2002\\u201306)\\nJohn O'Hurley (2006\\u201310)\\nSteve Harvey (2010\\u2013present)\", \"Richard Dawson (1976\\u201385, 1994\\u201395)\\nRay Combs (1988\\u201394)\\nLouie Anderson (1999\\u20132002)\\nRichard Karn (2002\\u201306)\\nJohn O'Hurley (2006\\u201310)\\nSteve Harvey (2010\\u2013present)\", \"Richard Dawson (1976\\u201385, 1994\\u201395)\", \"Ray Combs (1988\\u00e2\\u20ac\\u201c94)\", \"Louie Anderson (1999\\u00e2\\u20ac\\u201c2002)\", \"Richard Karn (2002\\u00e2\\u20ac\\u201c06)\", \"John O'Hurley (2006\\u00e2\\u20ac\\u201c10)\", \"Steve Harvey (2010\\u00e2\\u20ac\\u201cpresent)\", \"Narrated by\\n\\n\\n\\nGene Wood (1976\\u201385, 1988\\u201395)\\nBurton Richardson (1999\\u20132010)\\nJoey Fatone (2010\\u201315)\\nRubin Ervin (2015\\u2013present)\", \"Gene Wood (1976\\u201385, 1988\\u201395)\\nBurton Richardson (1999\\u20132010)\\nJoey Fatone (2010\\u201315)\\nRubin Ervin (2015\\u2013present)\", \"Gene Wood (1976\\u201385, 1988\\u201395)\", \"Burton Richardson (1999\\u00e2\\u20ac\\u201c2010)\", \"Joey Fatone (2010\\u00e2\\u20ac\\u201c15)\", \"Rubin Ervin (2015\\u00e2\\u20ac\\u201cpresent)\", \"Theme music composer\\n\\n\\n\\nScore Productions (1976\\u201385, 1988\\u201395, 2002\\u201303, 2008\\u2013present)\\nEdd Kalehoff (1994\\u201395)\\nJohn Lewis Parker (1999\\u20132008)\", \"Score Productions (1976\\u201385, 1988\\u201395, 2002\\u201303, 2008\\u2013present)\\nEdd Kalehoff (1994\\u201395)\\nJohn Lewis Parker (1999\\u20132008)\", \"Score Productions (1976\\u201385, 1988\\u201395, 2002\\u201303, 2008\\u2013present)\", \"Edd Kalehoff (1994\\u00e2\\u20ac\\u201c95)\", \"John Lewis Parker (1999\\u00e2\\u20ac\\u201c2008)\", \"Country of origin\\nUnited States\", \"Original language(s)\\nEnglish\", \"Production\", \"Producer(s)\\n\\n\\n\\nHoward Felsher (1976\\u201385, 1988\\u201395)\\nCathy Dawson (1976\\u201385)\\nGary Dawson (1984\\u201385, 1994\\u201395)\", \"Howard Felsher (1976\\u201385, 1988\\u201395)\\nCathy Dawson (1976\\u201385)\\nGary Dawson (1984\\u201385, 1994\\u201395)\", \"Howard Felsher (1976\\u201385, 1988\\u201395)\", \"Cathy Dawson (1976\\u00e2\\u20ac\\u201c85)\", \"Gary Dawson (1984\\u201385, 1994\\u201395)\", \"Running time\\n\\n\\n\\n22\\u201326 minutes:\\nABC (1976\\u201385)\\nCBS (1988\\u201392)\\nSyndicated (1977\\u201385, 1988\\u201395, 1999\\u2013present)\\n42\\u201344 minutes:\\nABC specials (1979\\u201384, 2015\\u2013present)\\nCBS (1992\\u201393)\\nSyndicated (1994\\u201395)\", \"22\\u201326 minutes:\\nABC (1976\\u201385)\\nCBS (1988\\u201392)\\nSyndicated (1977\\u201385, 1988\\u201395, 1999\\u2013present)\\n42\\u201344 minutes:\\nABC specials (1979\\u201384, 2015\\u2013present)\\nCBS (1992\\u201393)\\nSyndicated (1994\\u201395)\", \"22\\u00e2\\u20ac\\u201c26 minutes:\", \"ABC (1976\\u00e2\\u20ac\\u201c85)\", \"CBS (1988\\u00e2\\u20ac\\u201c92)\", \"Syndicated (1977\\u201385, 1988\\u201395, 1999\\u2013present)\", \"42\\u00e2\\u20ac\\u201c44 minutes:\", \"ABC specials (1979\\u201384, 2015\\u2013present)\", \"CBS (1992\\u00e2\\u20ac\\u201c93)\", \"Syndicated (1994\\u00e2\\u20ac\\u201c95)\", \"Production company(s)\\n\\n\\n\\nMark Goodson-Bill Todman Productions (1976\\u201382)\\nMark Goodson Productions (1982\\u201385, 1988\\u201395, 1999\\u20132002)\\nFremantleMedia (2002\\u2013present)\", \"Mark Goodson-Bill Todman Productions (1976\\u201382)\\nMark Goodson Productions (1982\\u201385, 1988\\u201395, 1999\\u20132002)\\nFremantleMedia (2002\\u2013present)\", \"Mark Goodson-Bill Todman Productions (1976\\u00e2\\u20ac\\u201c82)\", \"Mark Goodson Productions (1982\\u201385, 1988\\u201395, 1999\\u20132002)\", \"FremantleMedia (2002\\u00e2\\u20ac\\u201cpresent)\", \"Distributor\\n\\n\\n\\nViacom Enterprises (1977\\u201385)\\nLBS Communications (1988\\u201391)\\nTribune Entertainment (1999\\u20132007)\\n20th Television (2007-present)\\nDebmar-Mercury (2007\\u2013present)\", \"Viacom Enterprises (1977\\u201385)\\nLBS Communications (1988\\u201391)\\nTribune Entertainment (1999\\u20132007)\\n20th Television (2007-present)\\nDebmar-Mercury (2007\\u2013present)\", \"Viacom Enterprises (1977\\u00e2\\u20ac\\u201c85)\", \"LBS Communications (1988\\u00e2\\u20ac\\u201c91)\", \"Tribune Entertainment (1999\\u00e2\\u20ac\\u201c2007)\", \"20th Television (2007-present)\\nDebmar-Mercury (2007\\u00e2\\u20ac\\u201cpresent)\", \"Release\", \"Original network\\n\\n\\n\\nABC (1976\\u201385, 2015\\u2013present)\\nCBS (1988\\u201393)\\nSyndicated (1977\\u201385, 1988\\u201395, 1999\\u2013present)\", \"ABC (1976\\u201385, 2015\\u2013present)\\nCBS (1988\\u201393)\\nSyndicated (1977\\u201385, 1988\\u201395, 1999\\u2013present)\", \"ABC (1976\\u201385, 2015\\u2013present)\", \"CBS (1988\\u00e2\\u20ac\\u201c93)\", \"Syndicated (1977\\u201385, 1988\\u201395, 1999\\u2013present)\", \"Original release\\nJuly 12, 1976\\u00a0(1976-07-12)\\u00a0\\u2013 present\", \"Chronology\", \"Related shows\\n\\n\\n\\n100 latinos dijeron\\nCelebrity Family Feud\\n\\u00bfQu\\u00e9 dice la gente?\", \"100 latinos dijeron\\nCelebrity Family Feud\\n\\u00bfQu\\u00e9 dice la gente?\", \"100 latinos dijeron\", \"Celebrity Family Feud\", \"\\u00bfQu\\u00e9 dice la gente?\", \"External links\", \"Website\", \"Family Feud is an American television game show created by Mark Goodson where two families compete to name the most popular responses to survey questions in order to win cash and prizes. It is considered a spin-off of Match Game, whose panel included original host Richard Dawson.\", \"The program premiered on ABC on July 12, 1976, and ran as part of its daytime schedule until June 14, 1985. The program was re-launched by CBS on July 4, 1988, and ran until September 10, 1993. Three separate editions for syndication were also produced. The first aired from September 19, 1977, to September 6, 1985. The second aired from September 19, 1988, to September 8, 1995. The current syndicated series premiered on September 20, 1999.\", \"The ABC network version of the show and the first syndicated series were hosted by Richard Dawson. Ray Combs hosted the CBS series and the first six seasons of the accompanying syndicated version, then was replaced by Dawson for the final season. The 1999 syndicated series has been hosted by Louie Anderson (1999\\u20132002), Richard Karn (2002\\u201306), John O'Hurley (2006\\u201310), and Steve Harvey (2010\\u2013present). Announcers for the series have included Gene Wood (1976\\u201385, 1988\\u201395), Burton Richardson (1999\\u20132010, syndication; 2015\\u2013present, ABC), Joey Fatone (2010\\u201315), and Rubin Ervin (2015\\u2013present).\", \"The program has spawned multiple regional adaptations in over 50 international markets outside the United States. Within a year of its debut, the original version became the number one game show in daytime television; however, as viewing habits changed, the ratings declined. Harvey's takeover in 2010 increased Nielsen ratings significantly and eventually placed the program among the top five most popular syndicated television shows in the country. In 2013, TV Guide ranked Family Feud third in its list of the 60 greatest game shows of all time.\", \"Two family teams of five contestants each compete to win cash and prizes. The original version of the show began with the families being introduced, seated opposite each other as if posing for family portraits, after which the host interviewed them.[1]\", \"Unlike most game shows, there is no minimum age necessary to participate in Family Feud. Each round begins with a \\\"face-off\\\" question that serves as a toss-up between two opposing contestants. The host asks a survey question that was previously posed to a group of 100 people (e.g., \\\"Name the hour that you get up on Sunday mornings.\\\").[2] A certain number of answers are concealed on the board, ranked by popularity of the survey's responses. Only answers said by at least two people can appear on the board. The first contestant to buzz-in gives an answer; if it is the most popular, his/her family immediately wins the face-off. Otherwise, the opponent responds and the family member providing the higher-ranked answer wins. Ties are broken in favor of the contestant who buzzes-in first. If neither contestant's answer is on the board, the other eight contestants have a chance to respond, one at a time from alternating sides, until an answer is revealed. The family that wins the face-off may choose to play the question or pass control to their opponents (except on the Combs version, when the family who won the face-off automatically gained control of the question).[2]\", \"The family with control of the question then tries to win the round by guessing all of the remaining concealed answers, with each member giving one answer in sequence. Giving an answer not on the board, or failing to respond within the allotted time, earns one strike. If the family earns three strikes, their opponents are given one chance to \\\"steal\\\" the points for the round by guessing any remaining concealed answer; failing to do so awards the points back to the family that originally had control.[2] Any answers on the board that have not been guessed are then revealed.\", \"While a family has control of a question, the members are not allowed to discuss possible answers with one another; each person must respond individually. However, the opposing family may confer in preparation for an attempt to steal, and their captain must respond for them when such an attempt is made.\", \"Answers are worth one point for every person in the 100-member survey who gave them. The winning family in each round scores the total points for all revealed answers to that question, including those given during the face-off but excluding the one used to steal (if applicable). The number of answers on the board decreases from round to round, and as the game progresses, certain rounds are played for double or triple point value. The first family to score 300 points wins the game and advances to the Fast Money bonus round for a chance to win a cash bonus. Until 1992, both teams received $1 per point scored.[1]\", \"Prior to 1999, the game continued as normal until one family reached the necessary total to win. Since then, if neither team reaches the goal after four rounds (or, from 1999 to 2002, if both teams were tied with the same score after the final round), one last question is played for triple value with only the #1 answer displayed.\", \"The goal of 300 points has been in place in the rules of almost every version of the show. However, when the program premiered in 1976, the goal was 200 points. For the 1984\\u00e2\\u20ac\\u201c85 season of both the daytime and syndicated program, the goal was increased to 400 points.[3] For several seasons after the 1999 return to syndication, there was no specific point goal. Instead, four rounds were played, with the last for triple points and only one strike. The family with the most points after the fourth round won the game.\", \"Two members of the winning family play Fast Money for a chance to win a cash bonus. One contestant is onstage with the host, while the other is sequestered backstage so that he/she cannot hear the first portion of the round. The first contestant is asked five rapid-fire survey questions and has a set time limit in which to answer them (originally 15 seconds, extended to 20 in 1994). The clock begins to run only after the first question is asked, and the first contestant may pass on a question and return to it after all five have been asked, if time remains.\", \"After the first contestant has either answered all five questions or run out of time, the host reveals how many people in the survey matched each of his/her answers. The board is then cleared except for the total score, and the second contestant is then brought out to answer the same five questions. The same rules are followed, but the time limit is extended by five seconds (originally 20, then extended to 25); in addition, if the second contestant duplicates an answer given by the first, a buzzer sounds and he/she must give another answer. If the two contestants reach a combined total of 200 points or more, the family wins the bonus. If not, they are given $5 per point scored as a consolation prize.[2]\", \"The grand prize for winning Fast Money has varied. When the program aired in daytime, families played for $5,000.[4][5] The grand prize for syndicated episodes was $10,000 for much of its existence. In 2001, the prize was doubled to $20,000 at the request of then-host Louie Anderson.[6]\", \"When Family Feud premiered on ABC, network rules dictated how much a family could win. Once any family reached $25,000, they were retired as champions.[7] The accompanying syndicated series that premiered in 1977 featured two new families each episode because of tape bicycling (a practice then common in syndicated television).\", \"The CBS daytime and syndicated versions which began airing in 1988 also featured returning champions, who could appear for a maximum of five days.[8] For a brief period in the 1994\\u00e2\\u20ac\\u201c95 season which aired in syndication, there were no returning champions. For these episodes, two new families competed in this first half of each episode. The second half featured former champion families who appeared on Family Feud between 1977 and 1985, with the winner of the first half of the show playing one of these families in the second half.[9]\", \"From 1999 to 2002, two new families appeared on each episode. The returning champions rule was reinstated with the same five-day limit starting with the 2002\\u201303 season.[10] Starting with the 2009\\u201310 season, a family that wins five matches also wins a new car.\", \"In June 1992, the CBS daytime edition of Feud expanded from thirty to sixty minutes and became known as Family Feud Challenge. As part of the change, a new round was added at the start of each game called \\\"Bullseye\\\". This round determined the potential Fast Money stake for each team.[11] Each team was given a starting value for their bank and attempted to come up with the top answer to a survey question to add to it. The Bullseye round was added to the syndicated edition in September 1992.\", \"The first two members of each family appeared at the face-off podium and were asked a question to which only the number-one answer was available. Giving the top answer added the value for that question to the family's bank. The process then repeated with the four remaining members from each family. On the first half of the daytime version, families were staked with $2,500. The first question was worth $500, with each succeeding question worth $500 more than the previous, with the final question worth $2,500. This allowed for a potential maximum bank of $10,000. For the second half of the daytime version, and also on the syndicated version, all values were doubled, making the maximum potential bank $20,000. The team that eventually won the game played for their bank in Fast Money.\", \"When Richard Dawson returned as host of the program in 1994, the round's name was changed to the \\\"Bankroll\\\" round.[12] Although the goal remained of giving only the number-one answer, the format was modified to three questions from five, with only one member of each family participating for all three questions. The initial stake for each family remained the same ($2,500 in the first half of the hour and $5,000 in the second). However, the value for each question was $500, $1,500 and $2,500 in the first half, with values doubling for the second half. This meant a potential maximum bank of $7,000 in the first half and $14,000 in the second.[12]\", \"The Bullseye round temporarily returned during the 2009\\u00e2\\u20ac\\u201c10 season. It was played similarly as the format used from 1992 to 1994 on the syndicated version, with five questions worth from $1,000 to $5,000. However, each family was given a $15,000 starting stake, which meant a potential maximum of a $30,000 bank.\", \"The ABC and first syndicated versions of Family Feud were hosted by Richard Dawson. As writer David Marc put it, Dawson's on-air personality \\\"fell somewhere between the brainless sincerity of Wink Martindale and the raunchy cynicism of Chuck Barris\\\".[13] Dawson showed himself to have insistent affections for all of the female members of each family that competed on the show, regardless of age.[13] Writers Tim Brooks, Jon Ellowitz, and Earle F. Marsh owed Family Feud's popularity to Dawson's \\\"glib familiarity\\\" (he had previously played Newkirk on Hogan's Heroes) and \\\"ready wit\\\" (from his tenure as a panelist on Match Game).[1] The show's original announcer was Gene Wood,[14] with Johnny Gilbert and Rod Roddy serving as occasional substitutes.[15]\", \"In 1988, Ray Combs took over Dawson's role as host on CBS and in syndication with Wood returning as announcer and Roddy, Art James, and Charlie O'Donnell serving in that role when Wood was not available.[15] Combs hosted the program until the daytime version's cancellation in 1993 and the syndicated version until the end of the 1993\\u201394 season. Dawson returned to the show at the request of Mark Goodson Productions for the 1994\\u201395 season.[16]\", \"When Feud returned to syndication in 1999, it was initially hosted by Louie Anderson,[1] with Burton Richardson as the new announcer.[17] Richard Karn was selected to take over for Anderson when season four premiered in 2002,[1] and when season eight premiered in 2006, Karn was replaced by John O'Hurley.[1] In 2010, both O'Hurley and Richardson departed from the show; comedian Steve Harvey was named the new host for season twelve,[18] and a pre-recorded track of former 'N Sync member Joey Fatone's voice was used until 2015,[19] when Rubin Ervin, who has been a member of the production staff as the warmup man for the audience since Harvey took over, became the announcer. (Richardson still announces for Celebrity Family Feud.)\", \"The first four versions of the show were directed by Paul Alter and produced by Howard Felsher and Cathy Dawson. For the 1988 versions, Gary Dawson worked with the show as a third producer, and Alter was joined by two other directors, Marc Breslow and Andy Felsher.[15] The 1999 version's main staff include executive producer Gabrielle Johnston, supervising producers Kristin Bjorklund and Brian Hawley, and director Ken Fuchs; Johnston and Bjorklund previously worked as associate producers of the 1980s version.[20] The show's classic theme tune was written by an uncredited Walt Levinsky for Score Productions. The themes used from 1999 to 2008 were written by John Lewis Parker.[20] The production rights to the show were originally owned by the production company Goodson shared with his partner Bill Todman, but were sold to their current holder, FremantleMedia, when it acquired all of Goodson and Todman's works in 2002.[20]\", \"Mark Goodson created Family Feud during the increasing popularity of his earlier game show Match Game, which set daytime ratings records in 1976, and on which Dawson had previously appeared as one of its most popular panelists. Match Game aired on CBS, and by 1976, CBS vice president Fred Silverman (who had originally commissioned Match Game) had moved to a new position as President of ABC. The show premiered on ABC's daytime lineup at 1:30 p.m. (EST) on July 12, 1976, and although it was not an immediate hit, before long it became a ratings winner and eventually surpassed Match Game to become the No. 1 game show in daytime. Due to the expansion of All My Children to one hour in April 1977 (taking up the entire 1 pm. to 2 p.m. hour), the show moved to 11:30 a.m., as the second part of an hour that had daytime reruns of Happy Days (later Laverne & Shirley) as its lead-in. When $20,000 Pyramid was cancelled in June 1980, it moved a half-hour back to 12 noon. [21] It remained the most popular daytime game show until Merv Griffin's game show Wheel of Fortune surpassed it in 1984.[2] From 1978 until 1984, ABC periodically broadcast hour-long primetime \\\"All-Star Specials\\\", in which celebrity casts from various primetime lineup TV series competed instead of ordinary families.[1] The popularity of the program inspired Goodson to consider producing a nighttime edition, which launched in syndication on September 18, 1977. Like many other game shows at the time, the nighttime Feud aired once a week; it expanded to twice a week in January 1979,[2] and finally to five nights a week (Monday through Friday) in the fall of 1980. However, the viewing habits of both daytime and syndicated audiences were changing.[2] When Griffin launched Wheel's syndicated version, starring Pat Sajak and Vanna White, in 1983, that show climbed the ratings to the point where it unseated Feud as the highest-rated syndicated show;[22] the syndicated premiere of Wheel's sister show Jeopardy! with Alex Trebek as host also siphoned ratings from Feud with its early success. With declining ratings, and as part of a scheduling reshuffle with two of ABC's half-hour soaps, the show moved back to the 11:30 a.m. timeslot in October 1984, as the second part of a one-hour game show block with Trivia Trap (later All-Star Blitz) as its lead in, hoping to make a dent in the ratings of The Price is Right.\", \"Despite the ratings decline, there was some interest in keeping the show in production. In a 2011 interview, Dawson recalled a meeting with executives from Viacom Enterprises about keeping the show for one more season. Dawson was growing tired of the grueling taping schedule and initially wanted to stop altogether. After discussing the situation with ABC and Viacom, Dawson said that he would return for a final syndicated season of thirty-nine weeks of episodes but would not continue doing the daytime series. After this, Dawson did not hear from Viacom for approximately a week and once they contacted him again, Dawson was told that Viacom was no longer interested in continuing the syndicated Feud beyond the 1984\\u201385 season.[23] Viacom made this official in January 1985 ahead of that year's NATPE convention, and within a few weeks, ABC decided that it too would not renew Feud for the 1985\\u201386 season.[24] The daytime version came to an end on June 14, 1985.[2] The syndicated version aired its last new episode on May 17, 1985, and continued to air in reruns after that until September 6, 1985.[2]\", \"Family Feud moved to CBS with Combs hosting on July 4, 1988 at 10:00 a.m. (EST), replacing The $25,000 Pyramid. Like its predecessor, this version also had an accompanying syndicated edition which launched in September of that year. It moved to 10:30 a.m. in January 1991 to make room for a short-lived talk show starring Barbara DeAngelis. At that timeslot, it replaced the daytime Wheel of Fortune which moved back to NBC. [1] In June 1992, the network version expanded from its original half-hour format to a full hour from 10 a.m.-11 a.m., and was retitled The Family Feud Challenge;[1] this new format featured three families per episode, which included two new families competing in the first half-hour for the right to play the returning champions in the second half. The Family Feud Challenge aired its final new episode on March 26, 1993, with reruns airing until September 10.[25] The syndicated Feud, meanwhile, remained in production and entered its sixth season in the fall of 1993.\", \"However, the ratings picture was not particularly good for the syndicated edition. For much of its run to this point, the syndicated Feud had to deal with stations dropping the series or moving it to undesirable time slots such as overnights. By 1992, the ratings had hit a low point and by the time the sixth season premiered, distributor All American Television was threatening to cancel the series unless ratings improved and changes were made. The responsibility for this fell on Jonathan Goodson, who had taken over his father's company when Mark Goodson died in 1992. One of the options considered was a host change.[16]\", \"When the revival launched in 1988, Mark Goodson had not even considered former host Richard Dawson to return due to lingering bad feelings between Dawson and the production team. After hiring Ray Combs, Goodson threw his loyalties behind him and refused to consider changing hosts despite the slipping ratings. However, the younger Goodson did not have the ties to Combs that his father did and felt that a change would at least require consideration. After meeting with his staff, Goodson offered Dawson a contract to return as host of the syndicated Feud and the semi-retired Dawson agreed to return. Combs finished out the remainder of the season but, upset by the decision to replace him, he departed from the studio as soon as he signed off on the final episode of his tenure.[16]\", \"A revamped Family Feud returned for a seventh season in September 1994 with Dawson in his role as host. The show expanded from thirty to sixty minutes, reinstated the Family Feud Challenge format, and did various other things to try to improve the ratings of the show such as build a more modern-looking set, feature families that had previously been champions on the original Feud, and have more themed weeks. Although Dawson did bring a brief ratings surge when he came back, the show could not sustain it long term and Feud came to a conclusion at the end of the 1994\\u00e2\\u20ac\\u201c95 season.\", \"Family Feud returned in syndication on September 20, 1999, with comedian Louie Anderson as host.[26] After Richard Karn took over the show, the format was changed to reintroduce returning champions, allowing them to appear for up to five days. However, even after Karn's takeover, Anderson-hosted episodes continued in reruns that aired on PAX TV/Ion Television.[1] In John O'Hurley's later days, the show's Nielsen ratings were at 1.5 (putting it in danger of cancellation), but when comedian Steve Harvey took over, ratings increased by as much as 40%,[27] and within two short years, the show was rated at 4.0, and had become the fifth most popular syndicated program.[28] Fox News' Paulette Cohn argued that Harvey's \\\"relatability,\\\" or \\\"understanding of what the people at home want to know,\\\" is what saved the show from cancellation;[29] Harvey himself argued, \\\"If someone said an answer that was so ridiculous, I knew that the people at home behind the camera had to be going, 'What did they just say?' \\u00e2\\u20ac\\u00a6 They gave this answer that doesn't have a shot in hell of being up there. The fact that I recognize that, that's comedic genius to me. I think that's [made] the difference.\\\"[29]\", \"Since Harvey became host, Family Feud has regularly ranked among the top 10 highest-rated programs in all of daytime television programming and third among game shows (behind Wheel of Fortune and Jeopardy!); in February 2014, the show achieved a 6.0 share in the Nielsen ratings, with approximately 8.8 million viewers.[30] In June 2015, Family Feud eclipsed Wheel of Fortune as the most-watched syndicated game show on television.[31]\", \"Reruns of the Dawson, Combs, and Anderson hosted episodes have been included among Buzzr's acquisitions since its launch on June 1, 2015.[32] On June 13, 2016, American episodes hosted by Harvey began airing on the UK digital terrestrial and satellite channel Challenge.[33]\", \"Production of Family Feud was shifted from Universal Orlando to Harvey's hometown of Atlanta in 2011, primarily at the Atlanta Civic Center. Harvey was also originating a syndicated radio show from Atlanta, and the state of Georgia also issued tax credits for the production. In 2017, production moved to Los Angeles Center Studios in Los Angeles to accommodate Harvey's new syndicated talk show Steve, returning production of the regular series back to Los Angeles for the first time since 2010.[34][35][36][37]\", \"Family Feud won the Daytime Emmy Award for Outstanding Game/Audience Participation Show in 1977, and the show has twice won the Daytime Emmy for Outstanding Game Show Host, once with Dawson (1978) and again with Harvey (2014) and (2017).[38][39] Feud ranked number 3 on Game Show Network (GSN)'s 2006 list of the 50 Greatest Game Shows of All Time,[40] and also on TV Guide's 2013 list of the 60 greatest game shows ever.[41]\", \"Tara Ariano and Sarah D. Bunting, founders of the website Television Without Pity, wrote that they hated the 1999 syndicated version, saying \\\"Give us classic Feud every time\\\", citing both Dawson and Combs as hosts. Additionally, they called Anderson an \\\"alleged sexual harasser and full-time sphere\\\".[42]\", \"It was reported that the public responded negatively to several videos posted on the official Family Feud web site in September 2015 in which contestants on the current version gave sexually explicit answers to survey questions.[43] Dan Gainor of the Media Research Center suggested that the responses are in line with sexual content becoming more commonplace on television.[43]\", \"The popularity of Family Feud in the United States has led it to become a worldwide franchise, with over 50 adaptations outside the United States. Countries that have aired their own versions of the show include Australia, Canada, France, Germany, Indonesia, Japan, Malaysia, Mexico, the Netherlands, New Zealand, Philippines, Poland, Russia, Thailand, the United Kingdom, and Vietnam, among others.\", \"Since the show's premiere in 1976, many home versions of Family Feud have been released in various formats. Milton Bradley, Pressman Games, and Endless Games have all released traditional board games based on the show,[44][45] while Imagination Entertainment released the program in a DVD game format.[46]\", \"The game has been released in other formats by multiple companies; Coleco Adam released the first computer version of the show in 1983, and Sharedata followed in 1987 with versions for MS-DOS, Commodore 64, and Apple II computers.[47] GameTek released versions for Nintendo Entertainment System, Super NES, Genesis, 3DO, and PC (on CD-ROM) between 1990 and 1995.[48] Hasbro Interactive released a version in 2000 for the PC and PlayStation.[49] In 2006, versions were released for PlayStation 2, Game Boy Advance, and PC.[50] Seattle-based Mobliss Inc. also released a mobile version of Family Feud that was available on Sprint, Verizon, and Cingular.[51][52][53] Glu Mobile later released a newer mobile version of Family Feud for other carriers.[54]\", \"Most recently, in conjunction with Ludia, Ubisoft has video games for multiple platforms. The first of these was entitled Family Feud: 2010 Edition and was released for the Wii, Nintendo DS, and PC in September 2009.[55] Ubisoft then released Family Feud Decades the next year, which featured sets and survey questions from television versions of all four decades the show has been on air.[56] A third game, entitled Family Feud: 2012 Edition was released for the Wii and Xbox 360 in 2011.[57]\", \"In addition to the home games, a DVD set titled All-Star Family Feud was released on January 8, 2008 and featured a total of 15 celebrity episodes from the original ABC/syndicated versions on its four discs.[58] It was re-issued as The Best of All-Star Family Feud on February 2, 2010.[59]\"], \"passage_types\": [\"table\", \"table\", \"table\", \"table\", \"table\", \"list\", \"list\", \"list\", \"list\", \"list\", \"list\", \"list\", \"table\", \"list\", \"list\", \"list\", \"list\", \"list\", \"list\", \"list\", \"table\", \"list\", \"list\", \"list\", \"list\", \"list\", \"table\", \"list\", \"list\", \"list\", \"list\", \"table\", \"table\", \"table\", \"table\", \"list\", \"list\", \"list\", \"list\", \"table\", \"list\", \"list\", \"list\", \"list\", \"list\", \"list\", \"list\", \"list\", \"list\", \"table\", \"list\", \"list\", \"list\", \"list\", \"table\", \"list\", \"list\", \"list\", \"list\", \"list\", \"table\", \"table\", \"list\", \"list\", \"list\", \"list\", \"table\", \"table\", \"table\", \"list\", \"list\", \"list\", \"list\", \"table\", \"table\", \"text\", \"text\", \"text\", \"text\", \"text\", \"text\", \"text\", \"text\", \"text\", \"text\", \"text\", \"text\", \"text\", \"text\", \"text\", \"text\", \"text\", \"text\", \"text\", \"text\", \"text\", \"text\", \"text\", \"text\", \"text\", \"text\", \"text\", \"text\", \"text\", \"text\", \"text\", \"text\", \"text\", \"text\", \"text\", \"text\", \"text\", \"text\", \"text\", \"text\", \"text\", \"text\", \"text\"], \"long_answers\": []}"
   ]
  },
  {
   "cell_type": "code",
   "execution_count": 346,
   "id": "ad181129-a0c5-4a7d-b261-e44e16219ec5",
   "metadata": {},
   "outputs": [
    {
     "data": {
      "text/plain": [
       "[\"Family Feud\\n\\n\\n\\n\\n\\nGenre\\nGame show\\n\\n\\nCreated by\\nMark Goodson\\n\\n\\nDirected by\\n\\n\\n\\nPaul Alter (1976–85, 1988–90)\\nMarc Breslow (1988–93)\\nAndy Felsher (1990–95)\\nLenn Goodside (1999–02)\\nKen Fuchs (2002–present)\\nHugh Bartlett (2013–14)\\n\\n\\n\\n\\n\\nPresented by\\n\\n\\n\\nRichard Dawson (1976–85, 1994–95)\\nRay Combs (1988–94)\\nLouie Anderson (1999–2002)\\nRichard Karn (2002–06)\\nJohn O'Hurley (2006–10)\\nSteve Harvey (2010–present)\\n\\n\\n\\n\\n\\nNarrated by\\n\\n\\n\\nGene Wood (1976–85, 1988–95)\\nBurton Richardson (1999–2010)\\nJoey Fatone (2010–15)\\nRubin Ervin (2015–present)\\n\\n\\n\\n\\n\\nTheme music composer\\n\\n\\n\\nScore Productions (1976–85, 1988–95, 2002–03, 2008–present)\\nEdd Kalehoff (1994–95)\\nJohn Lewis Parker (1999–2008)\\n\\n\\n\\n\\n\\nCountry of origin\\nUnited States\\n\\n\\nOriginal language(s)\\nEnglish\\n\\n\\nProduction\\n\\n\\nProducer(s)\\n\\n\\n\\nHoward Felsher (1976–85, 1988–95)\\nCathy Dawson (1976–85)\\nGary Dawson (1984–85, 1994–95)\\n\\n\\n\\n\\n\\nRunning time\\n\\n\\n\\n22–26 minutes:\\nABC (1976–85)\\nCBS (1988–92)\\nSyndicated (1977–85, 1988–95, 1999–present)\\n42–44 minutes:\\nABC specials (1979–84, 2015–present)\\nCBS (1992–93)\\nSyndicated (1994–95)\\n\\n\\n\\n\\n\\nProduction company(s)\\n\\n\\n\\nMark Goodson-Bill Todman Productions (1976–82)\\nMark Goodson Productions (1982–85, 1988–95, 1999–2002)\\nFremantleMedia (2002–present)\\n\\n\\n\\n\\n\\nDistributor\\n\\n\\n\\nViacom Enterprises (1977–85)\\nLBS Communications (1988–91)\\nTribune Entertainment (1999–2007)\\n20th Television (2007-present)\\nDebmar-Mercury (2007–present)\\n\\n\\n\\n\\n\\nRelease\\n\\n\\nOriginal network\\n\\n\\n\\nABC (1976–85, 2015–present)\\nCBS (1988–93)\\nSyndicated (1977–85, 1988–95, 1999–present)\\n\\n\\n\\n\\n\\nOriginal release\\nJuly 12, 1976\\xa0(1976-07-12)\\xa0– present\\n\\n\\nChronology\\n\\n\\nRelated shows\\n\\n\\n\\n100 latinos dijeron\\nCelebrity Family Feud\\n¿Qué dice la gente?\\n\\n\\n\\n\\n\\nExternal links\\n\\n\\nWebsite\",\n",
       " 'Family Feud',\n",
       " 'Genre\\nGame show',\n",
       " 'Created by\\nMark Goodson',\n",
       " 'Directed by\\n\\n\\n\\nPaul Alter (1976–85, 1988–90)\\nMarc Breslow (1988–93)\\nAndy Felsher (1990–95)\\nLenn Goodside (1999–02)\\nKen Fuchs (2002–present)\\nHugh Bartlett (2013–14)',\n",
       " 'Paul Alter (1976–85, 1988–90)\\nMarc Breslow (1988–93)\\nAndy Felsher (1990–95)\\nLenn Goodside (1999–02)\\nKen Fuchs (2002–present)\\nHugh Bartlett (2013–14)',\n",
       " 'Paul Alter (1976–85, 1988–90)',\n",
       " 'Marc Breslow (1988â€“93)',\n",
       " 'Andy Felsher (1990â€“95)',\n",
       " 'Lenn Goodside (1999â€“02)',\n",
       " 'Ken Fuchs (2002â€“present)',\n",
       " 'Hugh Bartlett (2013â€“14)',\n",
       " \"Presented by\\n\\n\\n\\nRichard Dawson (1976–85, 1994–95)\\nRay Combs (1988–94)\\nLouie Anderson (1999–2002)\\nRichard Karn (2002–06)\\nJohn O'Hurley (2006–10)\\nSteve Harvey (2010–present)\"]"
      ]
     },
     "execution_count": 346,
     "metadata": {},
     "output_type": "execute_result"
    }
   ],
   "source": [
    "#train_ex[\"passage_types\"][:13]\n",
    "train_ex[\"candidates\"][:13]"
   ]
  },
  {
   "cell_type": "code",
   "execution_count": 329,
   "id": "cd484290-257e-4c06-8e9a-8299727febc4",
   "metadata": {},
   "outputs": [],
   "source": [
    "nq_features = Features({'question': Value(dtype='string', id=None), 'title': Value(dtype='string', id=None), 'candidates': Sequence(feature=Value(dtype='string', id=None), length=-1, id=None), 'passage_types': Sequence(feature=Value(dtype='string', id=None), length=-1, id=None), 'long_answers': Sequence(feature=Value(dtype='int64', id=None), length=-1, id=None)} 'document_url': Value(dtype='string', id=None)})"
   ]
  },
  {
   "cell_type": "code",
   "execution_count": null,
   "id": "f24531d0-b116-42ca-a99e-867beee5ecaf",
   "metadata": {},
   "outputs": [],
   "source": [
    "nq_train = load_dataset(\"sentence-transformers/NQ-retrieval\", split=\"train\")"
   ]
  },
  {
   "cell_type": "code",
   "execution_count": null,
   "id": "33034cea-cefb-475f-83e7-f0aaf1a17257",
   "metadata": {},
   "outputs": [],
   "source": [
    "nq_validation = load_dataset(\"sentence-transformers/NQ-retrieval\", split=\"validation\")"
   ]
  },
  {
   "cell_type": "code",
   "execution_count": 320,
   "id": "e04056a1-5541-4fea-b606-acf561034efb",
   "metadata": {},
   "outputs": [],
   "source": [
    "dev1 = {\"question\": \"types and causes of male and female infertility\", \"title\": \"Infertility\", \"candidates\": [\"Infertility\\n\\n\\nSpecialty\\nUrology, gynecology\\n\\n\\nFrequency\\n113 million (2015)[1]\", \"Infertility\", \"Specialty\\nUrology, gynecology\", \"Frequency\\n113 million (2015)[1]\", \"Infertility is the inability of a person, animal or plant to reproduce by natural means. It is usually not the natural state of a healthy adult, except notably among certain eusocial species (mostly haplodiploid insects).\", \"In humans, infertility is the inability to become pregnant or carry a pregnancy to full term. There are many causes of infertility, including some that medical intervention can treat.[2] Estimates from 1997 suggest that worldwide about five percent of all heterosexual couples have an unresolved problem with infertility. Many more couples, however, experience involuntary childlessness for at least one year: estimates range from 12% to 28%.\\\" [3] 20-30% of infertility cases are due to male infertility, 20-35% are due to female infertility, and 25-40% are due to combined problems in both parts.[4] In 10-20% of cases, no cause is found.[4] The most common cause of female infertility is ovulatory problems which generally manifest themselves by sparse or absent menstrual periods.[5] Male infertility is most commonly due to deficiencies in the semen, and semen quality is used as a surrogate measure of male fecundity.[6]\", \"Women who are fertile experience a natural period of fertility before and during ovulation, and they are naturally infertile for the rest of the menstrual cycle. Fertility awareness methods are used to discern when these changes occur by tracking changes in cervical mucus or basal body temperature.\", \"\\\"Demographers tend to define infertility as childlessness in a population of women of reproductive age,\\\" whereas \\\"the epidemiological definition refers to \\\"trying for\\\" or \\\"time to\\\" a pregnancy, generally in a population of women exposed to\\\" a probability of conception.[7] Currently, female fertility normally peaks at age 24 and diminishes after 30, with pregnancy occurring rarely after age 50.[8] A female is most fertile within 24 hours of ovulation.[8] Male fertility peaks usually at age 25 and declines after age 40.[8] The time needed to pass (during which the couple tries to conceive) for that couple to be diagnosed with infertility differs between different jurisdictions. Existing definitions of infertility lack uniformity, rendering comparisons in prevalence between countries or over time problematic. Therefore, data estimating the prevalence of infertility cited by various sources differs significantly.[7] A couple that tries unsuccessfully to have a child after a certain period of time (often a short period, but definitions vary) is sometimes said to be subfertile, meaning less fertile than a typical couple. Both infertility and subfertility are defined as the inability to conceive after a certain period of time (the length of which vary), so often the two terms overlap.\", \"The World Health Organization defines infertility as follows:[9]\", \"\\u201c\\nInfertility is \\u201ca disease of the reproductive system defined by the failure to achieve a clinical pregnancy after 12 months or more of regular unprotected sexual intercourse (and there is no other reason, such as breastfeeding or postpartum amenorrhoea). Primary infertility is infertility in a couple who have never had a child. Secondary infertility is failure to conceive following a previous pregnancy. Infertility may be caused by infection in the man or woman, but often there is no obvious underlying cause.\\n\\u201d\", \"\\u201c\\nInfertility is \\u201ca disease of the reproductive system defined by the failure to achieve a clinical pregnancy after 12 months or more of regular unprotected sexual intercourse (and there is no other reason, such as breastfeeding or postpartum amenorrhoea). Primary infertility is infertility in a couple who have never had a child. Secondary infertility is failure to conceive following a previous pregnancy. Infertility may be caused by infection in the man or woman, but often there is no obvious underlying cause.\\n\\u201d\", \"One definition of infertility that is frequently used in the United States by reproductive endocrinologists, doctors who specialize in infertility, to consider a couple eligible for treatment is:\", \"a woman under 35 has not conceived after 12 months of contraceptive-free intercourse. Twelve months is the lower reference limit for Time to Pregnancy (TTP) by the World Health Organization.[6]\\na woman over 35 has not conceived after 6 months of contraceptive-free sexual intercourse.\", \"a woman under 35 has not conceived after 12 months of contraceptive-free intercourse. Twelve months is the lower reference limit for Time to Pregnancy (TTP) by the World Health Organization.[6]\", \"a woman over 35 has not conceived after 6 months of contraceptive-free sexual intercourse.\", \"These time intervals would seem to be reversed; this is an area where public policy trumps science. The idea is that for women beyond age 35, every month counts and if made to wait another 6 months to prove the necessity of medical intervention, the problem could become worse. The corollary to this is that, by definition, failure to conceive in women under 35 isn't regarded with the same urgency as it is in those over 35.\", \"In the UK, previous NICE guidelines defined infertility as failure to conceive after regular unprotected sexual intercourse for 2 years in the absence of known reproductive pathology.[10] Updated NICE guidelines do not include a specific definition, but recommend that \\\"A woman of reproductive age who has not conceived after 1 year of unprotected vaginal sexual intercourse, in the absence of any known cause of infertility, should be offered further clinical assessment and investigation along with her partner, with earlier referral to a specialist if the woman is over 36 years of age.[11]\", \"Researchers commonly base demographic studies on infertility prevalence on a five-year period.[12] Practical measurement problems, however, exist for any definition, because it is difficult to measure continuous exposure to the risk of pregnancy over a period of years.\", \"Primary infertility is defined as the absence of a live birth for women who desire a child and have been in a union for at least 12 months, during which they have not used any contraceptives.[13] The World Health Organisation also adds that 'women whose pregnancy spontaneously miscarries, or whose pregnancy results in a still born child, without ever having had a live birth would present with primarily infertility'.[14]\", \"Secondary infertility is defined as the absence of a live birth for women who desire a child and have been in a union for at least 12 months since their last live birth, during which they did not use any contraceptives.[14]\", \"Thus the distinguishing feature is whether or not the couple have ever had a pregnancy which led to a live birth.\", \"The consequences of infertility are manifold and can include societal repercussions and personal suffering. Advances in assisted reproductive technologies, such as IVF, can offer hope to many couples where treatment is available, although barriers exist in terms of medical coverage and affordability. The medicalization of infertility has unwittingly led to a disregard for the emotional responses that couples experience, which include distress, loss of control, stigmatization, and a disruption in the developmental trajectory of adulthood.[15]\", \"Infertility may have psychological effects. Partners may become more anxious to conceive, increasing sexual dysfunction.[16] Marital discord often develops, especially when they are under pressure to make medical decisions. Women trying to conceive often have depression rates similar to women who have heart disease or cancer.[17] Emotional stress and marital difficulties are greater in couples where the infertility lies with the man.[18]\", \"Older people with adult children appear to live longer.[19] Why this is the case is unclear and may dependent in part on those who have children adopting a healthier lifestyle, support from children, or the circumstances that led to not having children.[19]\", \"In many cultures, inability to conceive bears a stigma. In closed social groups, a degree of rejection (or a sense of being rejected by the couple) may cause considerable anxiety and disappointment. Some respond by actively avoiding the issue altogether; middle-class men are the most likely to respond in this way.[20]\", \"In the United States some treatments for infertility, including diagnostic tests, surgery and therapy for depression, can qualify one for Family and Medical Leave Act leave. It has been suggested that infertility be classified as a form of disability.[21]\", \"Antisperm antibodies (ASA) have been considered as infertility cause in around 10\\u201330% of infertile couples.[22] In both men and women, ASA production are directed against surface antigens on sperm, which can interfere with sperm motility and transport through the female reproductive tract, inhibiting capacitation and acrosome reaction, impaired fertilization, influence on the implantation process, and impaired growth and development of the embryo. Factors contributing to the formation of antisperm antibodies in women are disturbance of normal immunoregulatory mechanisms, infection, violation of the integrity of the mucous membranes, accidental rape and unprotected oral or anal sex. Risk factors for the formation of antisperm antibodies in men include the breakdown of the blood\\u2011testis barrier, trauma and surgery, orchitis, varicocele, infections, prostatitis, testicular cancer, failure of immunosuppression and unprotected receptive anal or oral sex with men.[22][23]\", \"Infections with the following sexually transmitted pathogens have a negative effect on fertility: Chlamydia trachomatis and Neisseria gonorrhoeae. There is a consistent association of Mycoplasma genitalium infection and female reproductive tract syndromes. M. genitalium infection is associated with increased risk of infertility.[24][25]\", \"A Robertsonian translocation in either partner may cause recurrent spontaneous abortions or complete infertility.[citation needed]\", \"Mutations to NR5A1 gene encoding Steroidogenic Factor-1 (SF-1) have been found in a small subset of men with non-obstructive male factor infertility where the cause is unknown. Results of one study investigating a cohort of 315 men revealed changes within the hinge region of SF-1 and no rare allelic variants in fertile control men. Affected individuals displayed more severe forms of infertility such as azoospermia and severe oligozoospermia.[26]\", \"Factors that can cause male as well as female infertility are:\", \"DNA damage\\n\\nDNA damage reduces fertility in female ovocytes, as caused by smoking,[27] other xenobiotic DNA damaging agents (such as radiation or chemotherapy)[28] or accumulation of the oxidative DNA damage 8-hydroxy-deoxyguanosine[29]\\nDNA damage reduces fertility in male sperm, as caused by oxidative DNA damage,[30] smoking,[27] other xenobiotic DNA damaging agents (such as drugs or chemotherapy)[31] or other DNA damaging agents including reactive oxygen species, fever or high testicular temperature[32]. The damaged DNA related to infertility manifests itself by the increased susceptibility to denaturation inducible by heat or acid [33] and/or by the presence of double-strand breaks that can be detected by the TUNEL assay. [34]\\n\\n\\nGeneral factors\\n\\nDiabetes mellitus,[35][36] thyroid disorders,[37] undiagnosed and untreated coeliac disease,[38][39][40][41] adrenal disease[42]\\n\\n\\nHypothalamic-pituitary factors\\n\\n\\nHyperprolactinemia\\nHypopituitarism\\nThe presence of anti-thyroid antibodies is associated with an increased risk of unexplained subfertility with an odds ratio of 1.5 and 95% confidence interval of 1.1\\u00e2\\u20ac\\u201c2.0.[43]\\n\\n\\nEnvironmental factors\\n\\nToxins such as glues, volatile organic solvents or silicones, physical agents, chemical dusts, and pesticides.[44][45] Tobacco smokers are 60% more likely to be infertile than non-smokers.[46]\", \"DNA damage\\n\\nDNA damage reduces fertility in female ovocytes, as caused by smoking,[27] other xenobiotic DNA damaging agents (such as radiation or chemotherapy)[28] or accumulation of the oxidative DNA damage 8-hydroxy-deoxyguanosine[29]\\nDNA damage reduces fertility in male sperm, as caused by oxidative DNA damage,[30] smoking,[27] other xenobiotic DNA damaging agents (such as drugs or chemotherapy)[31] or other DNA damaging agents including reactive oxygen species, fever or high testicular temperature[32]. The damaged DNA related to infertility manifests itself by the increased susceptibility to denaturation inducible by heat or acid [33] and/or by the presence of double-strand breaks that can be detected by the TUNEL assay. [34]\", \"DNA damage reduces fertility in female ovocytes, as caused by smoking,[27] other xenobiotic DNA damaging agents (such as radiation or chemotherapy)[28] or accumulation of the oxidative DNA damage 8-hydroxy-deoxyguanosine[29]\\nDNA damage reduces fertility in male sperm, as caused by oxidative DNA damage,[30] smoking,[27] other xenobiotic DNA damaging agents (such as drugs or chemotherapy)[31] or other DNA damaging agents including reactive oxygen species, fever or high testicular temperature[32]. The damaged DNA related to infertility manifests itself by the increased susceptibility to denaturation inducible by heat or acid [33] and/or by the presence of double-strand breaks that can be detected by the TUNEL assay. [34]\", \"DNA damage reduces fertility in female ovocytes, as caused by smoking,[27] other xenobiotic DNA damaging agents (such as radiation or chemotherapy)[28] or accumulation of the oxidative DNA damage 8-hydroxy-deoxyguanosine[29]\", \"DNA damage reduces fertility in male sperm, as caused by oxidative DNA damage,[30] smoking,[27] other xenobiotic DNA damaging agents (such as drugs or chemotherapy)[31] or other DNA damaging agents including reactive oxygen species, fever or high testicular temperature[32]. The damaged DNA related to infertility manifests itself by the increased susceptibility to denaturation inducible by heat or acid [33] and/or by the presence of double-strand breaks that can be detected by the TUNEL assay. [34]\", \"General factors\\n\\nDiabetes mellitus,[35][36] thyroid disorders,[37] undiagnosed and untreated coeliac disease,[38][39][40][41] adrenal disease[42]\", \"Diabetes mellitus,[35][36] thyroid disorders,[37] undiagnosed and untreated coeliac disease,[38][39][40][41] adrenal disease[42]\", \"Diabetes mellitus,[35][36] thyroid disorders,[37] undiagnosed and untreated coeliac disease,[38][39][40][41] adrenal disease[42]\", \"Hypothalamic-pituitary factors\\n\\n\\nHyperprolactinemia\\nHypopituitarism\\nThe presence of anti-thyroid antibodies is associated with an increased risk of unexplained subfertility with an odds ratio of 1.5 and 95% confidence interval of 1.1\\u00e2\\u20ac\\u201c2.0.[43]\", \"Hyperprolactinemia\\nHypopituitarism\\nThe presence of anti-thyroid antibodies is associated with an increased risk of unexplained subfertility with an odds ratio of 1.5 and 95% confidence interval of 1.1\\u00e2\\u20ac\\u201c2.0.[43]\", \"The presence of anti-thyroid antibodies is associated with an increased risk of unexplained subfertility with an odds ratio of 1.5 and 95% confidence interval of 1.1\\u00e2\\u20ac\\u201c2.0.[43]\", \"Environmental factors\\n\\nToxins such as glues, volatile organic solvents or silicones, physical agents, chemical dusts, and pesticides.[44][45] Tobacco smokers are 60% more likely to be infertile than non-smokers.[46]\", \"Toxins such as glues, volatile organic solvents or silicones, physical agents, chemical dusts, and pesticides.[44][45] Tobacco smokers are 60% more likely to be infertile than non-smokers.[46]\", \"Toxins such as glues, volatile organic solvents or silicones, physical agents, chemical dusts, and pesticides.[44][45] Tobacco smokers are 60% more likely to be infertile than non-smokers.[46]\", \"German scientists have reported that a virus called Adeno-associated virus might have a role in male infertility,[47] though it is otherwise not harmful.[48] Other diseases such as chlamydia, and gonorrhea can also cause infertility, due to internal scarring (fallopian tube obstruction).[49][50][51]\", \"The following causes of infertility may only be found in females. For a woman to conceive, certain things have to happen: vaginal intercourse must take place around the time when an egg is released from her ovary; the system that produces eggs has to be working at optimum levels; and her hormones must be balanced.[52]\", \"For women, problems with fertilisation arise mainly from either structural problems in the Fallopian tube or uterus or problems releasing eggs. Infertility may be caused by blockage of the Fallopian tube due to malformations, infections such as chlamydia and/or scar tissue. For example, endometriosis can cause infertility with the growth of endometrial tissue in the Fallopian tubes and/or around the ovaries. Endometriosis is usually more common in women in their mid-twenties and older, especially when postponed childbirth has taken place.[53]\", \"Another major cause of infertility in women may be the inability to ovulate. Malformation of the eggs themselves may complicate conception. For example, polycystic ovarian syndrome is when the eggs only partially developed within the ovary and there is an excess of male hormones. Some women are infertile because their ovaries do not mature and release eggs. In this case synthetic FSH by injection or Clomid (Clomiphene citrate) via a pill can be given to stimulate follicles to mature in the ovaries.\", \"Other factors that can affect a woman's chances of conceiving include being overweight or underweight,[54] or her age as female fertility declines after the age of 30.[55]\", \"Sometimes it can be a combination of factors, and sometimes a clear cause is never established.\", \"Common causes of infertility of females include:\", \"ovulation problems (e.g. polycystic ovarian syndrome, PCOS, the leading reason why women present to fertility clinics due to anovulatory infertility.[56])\\ntubal blockage\\npelvic inflammatory disease caused by infections like tuberculosis\\nage-related factors\\nuterine problems\\nprevious tubal ligation\\nendometriosis\\nadvanced maternal age\\nimmune infertility\", \"ovulation problems (e.g. polycystic ovarian syndrome, PCOS, the leading reason why women present to fertility clinics due to anovulatory infertility.[56])\", \"pelvic inflammatory disease caused by infections like tuberculosis\", \"age-related factors\", \"previous tubal ligation\", \"advanced maternal age\", \"The main cause of male infertility is low semen quality. In men who have the necessary reproductive organs to procreate, infertility can be caused by low sperm count due to endocrine problems, drugs, radiation, or infection. There may be testicular malformations, hormone imbalance, or blockage of the man's duct system. Although many of these can be treated through surgery or hormonal substitutions, some may be indefinite.[57] Infertility associated with viable, but immotile sperm may be caused by primary ciliary dyskinesia. The sperm must provide the zygote with DNA, centrioles, and activation factor for the embryo to develop. A defect in any of these sperm structures may result in infertility that will not be detected by semen analysis.[58] Antisperm antibodies cause immune infertility. [22][23]\", \"In some cases, both the man and woman may be infertile or sub-fertile, and the couple's infertility arises from the combination of these conditions. In other cases, the cause is suspected to be immunological or genetic; it may be that each partner is independently fertile but the couple cannot conceive together without assistance.\", \"In the US, up to 20% of infertile couples have unexplained infertility.[59] In these cases abnormalities are likely to be present but not detected by current methods. Possible problems could be that the egg is not released at the optimum time for fertilization, that it may not enter the fallopian tube, sperm may not be able to reach the egg, fertilization may fail to occur, transport of the zygote may be disturbed, or implantation fails. It is increasingly recognized that egg quality is of critical importance and women of advanced maternal age have eggs of reduced capacity for normal and successful fertilization. Also, polymorphisms in folate pathway genes could be one reason for fertility complications in some women with unexplained infertility.[60] However, a growing body of evidence suggests that epigenetic modifications in sperm may be partially responsible.[61][62]\", \"If both partners are young and healthy and have been trying to conceive for one year without success, a visit to a physician or women's health nurse practitioner (WHNP) could help to highlight potential medical problems earlier rather than later. The doctor or WHNP may also be able to suggest lifestyle changes to increase the chances of conceiving.[63]\", \"Women over the age of 35 should see their physician or WHNP after six months as fertility tests can take some time to complete, and age may affect the treatment options that are open in that case.\", \"A doctor or WHNP takes a medical history and gives a physical examination. They can also carry out some basic tests on both partners to see if there is an identifiable reason for not having achieved a pregnancy. If necessary, they refer patients to a fertility clinic or local hospital for more specialized tests. The results of these tests help determine the best fertility treatment.\", \"Treatment depends on the cause of infertility, but may include counselling, fertility treatments, which include in vitro fertilization. According to ESHRE recommendations, couples with an estimated live birth rate of 40% or higher per year are encouraged to continue aiming for a spontaneous pregnancy.[64] Treatment methods for infertility may be grouped as medical or complementary and alternative treatments. Some methods may be used in concert with other methods. Drugs used for both women and men[65] include clomiphene citrate, human menopausal gonadotropin (hMG), follicle-stimulating hormone (FSH), human chorionic gonadotropin (hCG), gonadotropin-releasing hormone (GnRH) analogues, aromatase inhibitors, and metformin.\", \"Medical treatment of infertility generally involves the use of fertility medication, medical device, surgery, or a combination of the following. If the sperm are of good quality and the mechanics of the woman's reproductive structures are good (patent fallopian tubes, no adhesions or scarring), a course of ovarian stimulating medication maybe used. The physician or WHNP may also suggest using a conception cap cervical cap, which the patient uses at home by placing the sperm inside the cap and putting the conception device on the cervix, or intrauterine insemination (IUI), in which the doctor or WHNP introduces sperm into the uterus during ovulation, via a catheter. In these methods, fertilization occurs inside the body.\", \"If conservative medical treatments fail to achieve a full term pregnancy, the physician or WHNP may suggest the patient undergo in vitro fertilization (IVF). IVF and related techniques (ICSI, ZIFT, GIFT) are called assisted reproductive technology (ART) techniques.\", \"ART techniques generally start with stimulating the ovaries to increase egg production. After stimulation, the physician surgically extracts one or more eggs from the ovary, and unites them with sperm in a laboratory setting, with the intent of producing one or more embryos. Fertilization takes place outside the body, and the fertilized egg is reinserted into the woman's reproductive tract, in a procedure called embryo transfer.\", \"Other medical techniques are e.g. tuboplasty, assisted hatching, and Preimplantation genetic diagnosis.\", \"IVF is the most commonly used ART. It has been proven useful in overcoming infertility conditions, such as blocked or damaged tubes, endometriosis, repeated IUI failure, unexplained infertility, poor ovarian reserve, poor or even nil sperm count.\", \"ICSI technique is used in case of poor semen quality, low sperm count or failed fertilization attempts during prior IVF cycles. This technique involves an injection of a single healthy sperm directly injected into mature egg. The fertilized embryo is then transferred to womb.\", \"Fertility tourism is the practice of traveling to another country for fertility treatments.[66] It may be regarded as a form of medical tourism. The main reasons for fertility tourism are legal regulation of the sought procedure in the home country, or lower price. In-vitro fertilization and donor insemination are major procedures involved.\", \"Prevalence of infertility varies depending on the definition, i.e. on the time span involved in the failure to conceive.\", \"Infertility rates have increased by 4% since the 1980s, mostly from problems with fecundity due to an increase in age.[67]\\nFertility problems affect one in seven couples in the UK. Most couples (about 84%) who have regular sexual intercourse (that is, every two to three days) and who do not use contraception get pregnant within a year. About 92 out of 100 couples who are trying to get pregnant do so within two years.[68]\\nWomen become less fertile as they get older. For women aged 35, about 94% who have regular unprotected sexual intercourse get pregnant after three years of trying. For women aged 38, however, only about 77%. The effect of age upon men's fertility is less clear.[68]\\nIn people going forward for IVF in the UK, roughly half of fertility problems with a diagnosed cause are due to problems with the man, and about half due to problems with the woman. However, about one in five cases of infertility has no clear diagnosed cause.[69]\\nIn Britain, male factor infertility accounts for 25% of infertile couples, while 25% remain unexplained. 50% are female causes with 25% being due to anovulation and 25% tubal problems/other.[70]\\nIn Sweden, approximately 10% of couples wanting children are infertile.[71] In approximately one third of these cases the man is the factor, in one third the woman is the factor, and in the remaining third the infertility is a product of factors on both parts.\", \"Infertility rates have increased by 4% since the 1980s, mostly from problems with fecundity due to an increase in age.[67]\", \"Fertility problems affect one in seven couples in the UK. Most couples (about 84%) who have regular sexual intercourse (that is, every two to three days) and who do not use contraception get pregnant within a year. About 92 out of 100 couples who are trying to get pregnant do so within two years.[68]\", \"Women become less fertile as they get older. For women aged 35, about 94% who have regular unprotected sexual intercourse get pregnant after three years of trying. For women aged 38, however, only about 77%. The effect of age upon men's fertility is less clear.[68]\", \"In people going forward for IVF in the UK, roughly half of fertility problems with a diagnosed cause are due to problems with the man, and about half due to problems with the woman. However, about one in five cases of infertility has no clear diagnosed cause.[69]\", \"In Britain, male factor infertility accounts for 25% of infertile couples, while 25% remain unexplained. 50% are female causes with 25% being due to anovulation and 25% tubal problems/other.[70]\", \"In Sweden, approximately 10% of couples wanting children are infertile.[71] In approximately one third of these cases the man is the factor, in one third the woman is the factor, and in the remaining third the infertility is a product of factors on both parts.\", \"Perhaps except for infertility in science fiction, films and other fiction depicting emotional struggles of assisted reproductive technology have had an upswing first in the latter part of the 2000s decade, although the techniques have been available for decades.[72] Yet, the number of people that can relate to it by personal experience in one way or another is ever growing, and the variety of trials and struggles is huge.[72]\", \"Pixar's Up contains a depiction of infertility in an extended life montage that lasts the first few minutes of the film.[73]\", \"Other individual examples are referred to individual subarticles of assisted reproductive technology\", \"There are several ethical issues associated with infertility and its treatment.\", \"High-cost treatments are out of financial reach for some couples.\\nDebate over whether health insurance companies (e.g. in the US) should be required to cover infertility treatment.\\nAllocation of medical resources that could be used elsewhere\\nThe legal status of embryos fertilized in vitro and not transferred in vivo. (See also Beginning of pregnancy controversy).\\nPro-life opposition to the destruction of embryos not transferred in vivo.\\nIVF and other fertility treatments have resulted in an increase in multiple births, provoking ethical analysis because of the link between multiple pregnancies, premature birth, and a host of health problems.\\nReligious leaders' opinions on fertility treatments; for example, the Roman Catholic Church views infertility as a calling to adopt or to use natural treatments (medication, surgery, and/or cycle charting) and members must reject assisted reproductive technologies.\\nInfertility caused by DNA defects on the Y chromosome is passed on from father to son. If natural selection is the primary error correction mechanism that prevents random mutations on the Y chromosome, then fertility treatments for men with abnormal sperm (in particular ICSI) only defer the underlying problem to the next male generation.\", \"High-cost treatments are out of financial reach for some couples.\", \"Debate over whether health insurance companies (e.g. in the US) should be required to cover infertility treatment.\", \"Allocation of medical resources that could be used elsewhere\", \"The legal status of embryos fertilized in vitro and not transferred in vivo. (See also Beginning of pregnancy controversy).\", \"Pro-life opposition to the destruction of embryos not transferred in vivo.\", \"IVF and other fertility treatments have resulted in an increase in multiple births, provoking ethical analysis because of the link between multiple pregnancies, premature birth, and a host of health problems.\", \"Religious leaders' opinions on fertility treatments; for example, the Roman Catholic Church views infertility as a calling to adopt or to use natural treatments (medication, surgery, and/or cycle charting) and members must reject assisted reproductive technologies.\", \"Infertility caused by DNA defects on the Y chromosome is passed on from father to son. If natural selection is the primary error correction mechanism that prevents random mutations on the Y chromosome, then fertility treatments for men with abnormal sperm (in particular ICSI) only defer the underlying problem to the next male generation.\", \"Many countries have special frameworks for dealing with the ethical and social issues around fertility treatment.\", \"One of the best known is the HFEA \\u00e2\\u20ac\\u201c The UK's regulator for fertility treatment and embryo research. This was set up on 1 August 1991 following a detailed commission of enquiry led by Mary Warnock in the 1980s\\nA similar model to the HFEA has been adopted by the rest of the countries in the European Union. Each country has its own body or bodies responsible for the inspection and licensing of fertility treatment under the EU Tissues and Cells directive [74]\\nRegulatory bodies are also found in Canada [75] and in the state of Victoria in Australia [76]\", \"One of the best known is the HFEA \\u00e2\\u20ac\\u201c The UK's regulator for fertility treatment and embryo research. This was set up on 1 August 1991 following a detailed commission of enquiry led by Mary Warnock in the 1980s\", \"A similar model to the HFEA has been adopted by the rest of the countries in the European Union. Each country has its own body or bodies responsible for the inspection and licensing of fertility treatment under the EU Tissues and Cells directive [74]\", \"Regulatory bodies are also found in Canada [75] and in the state of Victoria in Australia [76]\", \"hideThis section has multiple issues. Please help improve it or discuss these issues on the talk page. (Learn how and when to remove these template messages)\\n\\n\\n\\n\\n\\n\\n\\nThis section may require cleanup to meet Wikipedia's quality standards. The specific problem is: confusing Please help improve this section if you can. (September 2016) (Learn how and when to remove this template message)\\n\\n\\n\\n\\n\\n\\n\\n\\n\\nThis section contains weasel words: vague phrasing that often accompanies biased or unverifiable information. Such statements should be clarified or removed. (September 2016)\\n\\n\\n\\n\\n\\n\\n\\n\\n\\nThis section may be unbalanced towards certain viewpoints. Please improve the article by adding information on neglected viewpoints, or discuss the issue on the talk page. (September 2016)\\n\\n\\n\\n\\n\\n\\n\\n\\n\\nThe neutrality of this section is disputed. Relevant discussion may be found on the talk page. Please do not remove this message until conditions to do so are met. (September 2016) (Learn how and when to remove this template message)\\n\\n\\n\\n\\n\\n\\n\\n\\n\\nThis section relies largely or entirely on a single source. Relevant discussion may be found on the talk page. Please help improve this article by introducing citations to additional sources. (September 2016)\\n\\n\\n\\n\\n\\n\\n\\n\\n\\nThis section possibly contains original research. Please improve it by verifying the claims made and adding inline citations. Statements consisting only of original research should be removed. (September 2016) (Learn how and when to remove this template message)\\n\\n\\n\\n\\n\\n\\n\\n\\n\\nThis article may not properly summarize its corresponding main article. Please help improve it by rewriting it in an encyclopedic style. (Learn how and when to remove this template message)\\n\\n\\n\\n\\n\\n\\n\\n\\n\\nThis section may be confusing or unclear to readers. Please help us clarify the section. There might be a discussion about this on the talk page. (September 2016) (Learn how and when to remove this template message)\\n\\n\\n\\n\\n\\n(Learn how and when to remove this template message)\", \"hideThis section has multiple issues. Please help improve it or discuss these issues on the talk page. (Learn how and when to remove these template messages)\\n\\n\\n\\n\\n\\n\\n\\nThis section may require cleanup to meet Wikipedia's quality standards. The specific problem is: confusing Please help improve this section if you can. (September 2016) (Learn how and when to remove this template message)\\n\\n\\n\\n\\n\\n\\n\\n\\n\\nThis section contains weasel words: vague phrasing that often accompanies biased or unverifiable information. Such statements should be clarified or removed. (September 2016)\\n\\n\\n\\n\\n\\n\\n\\n\\n\\nThis section may be unbalanced towards certain viewpoints. Please improve the article by adding information on neglected viewpoints, or discuss the issue on the talk page. (September 2016)\\n\\n\\n\\n\\n\\n\\n\\n\\n\\nThe neutrality of this section is disputed. Relevant discussion may be found on the talk page. Please do not remove this message until conditions to do so are met. (September 2016) (Learn how and when to remove this template message)\\n\\n\\n\\n\\n\\n\\n\\n\\n\\nThis section relies largely or entirely on a single source. Relevant discussion may be found on the talk page. Please help improve this article by introducing citations to additional sources. (September 2016)\\n\\n\\n\\n\\n\\n\\n\\n\\n\\nThis section possibly contains original research. Please improve it by verifying the claims made and adding inline citations. Statements consisting only of original research should be removed. (September 2016) (Learn how and when to remove this template message)\\n\\n\\n\\n\\n\\n\\n\\n\\n\\nThis article may not properly summarize its corresponding main article. Please help improve it by rewriting it in an encyclopedic style. (Learn how and when to remove this template message)\\n\\n\\n\\n\\n\\n\\n\\n\\n\\nThis section may be confusing or unclear to readers. Please help us clarify the section. There might be a discussion about this on the talk page. (September 2016) (Learn how and when to remove this template message)\\n\\n\\n\\n\\n\\n(Learn how and when to remove this template message)\", \"This section may require cleanup to meet Wikipedia's quality standards. The specific problem is: confusing Please help improve this section if you can. (September 2016) (Learn how and when to remove this template message)\", \"This section may require cleanup to meet Wikipedia's quality standards. The specific problem is: confusing Please help improve this section if you can. (September 2016) (Learn how and when to remove this template message)\", \"This section contains weasel words: vague phrasing that often accompanies biased or unverifiable information. Such statements should be clarified or removed. (September 2016)\", \"This section contains weasel words: vague phrasing that often accompanies biased or unverifiable information. Such statements should be clarified or removed. (September 2016)\", \"This section may be unbalanced towards certain viewpoints. Please improve the article by adding information on neglected viewpoints, or discuss the issue on the talk page. (September 2016)\", \"This section may be unbalanced towards certain viewpoints. Please improve the article by adding information on neglected viewpoints, or discuss the issue on the talk page. (September 2016)\", \"The neutrality of this section is disputed. Relevant discussion may be found on the talk page. Please do not remove this message until conditions to do so are met. (September 2016) (Learn how and when to remove this template message)\", \"The neutrality of this section is disputed. Relevant discussion may be found on the talk page. Please do not remove this message until conditions to do so are met. (September 2016) (Learn how and when to remove this template message)\", \"This section relies largely or entirely on a single source. Relevant discussion may be found on the talk page. Please help improve this article by introducing citations to additional sources. (September 2016)\", \"This section relies largely or entirely on a single source. Relevant discussion may be found on the talk page. Please help improve this article by introducing citations to additional sources. (September 2016)\", \"This section possibly contains original research. Please improve it by verifying the claims made and adding inline citations. Statements consisting only of original research should be removed. (September 2016) (Learn how and when to remove this template message)\", \"This section possibly contains original research. Please improve it by verifying the claims made and adding inline citations. Statements consisting only of original research should be removed. (September 2016) (Learn how and when to remove this template message)\", \"This article may not properly summarize its corresponding main article. Please help improve it by rewriting it in an encyclopedic style. (Learn how and when to remove this template message)\", \"This article may not properly summarize its corresponding main article. Please help improve it by rewriting it in an encyclopedic style. (Learn how and when to remove this template message)\", \"This section may be confusing or unclear to readers. Please help us clarify the section. There might be a discussion about this on the talk page. (September 2016) (Learn how and when to remove this template message)\", \"This section may be confusing or unclear to readers. Please help us clarify the section. There might be a discussion about this on the talk page. (September 2016) (Learn how and when to remove this template message)\", \"Infertility is often not seen (by the West) as being an issue outside industrialized countries.[77] This is because of assumptions about overpopulation problems and hyper fertility in developing countries, and a perceived need for them to decrease their populations and birth rates.[78] The lack of health care and high rates of life-threatening illness (such as HIV/AIDS) in developing countries, such as those in Africa, are supporting reasons for the inadequate supply of fertility treatment options.[79] Fertility treatments, even simple ones such as treatment for STIs that cause infertility, are therefore not usually made available to individuals in these countries.[80]\", \"Despite this, infertility has profound effects on individuals in developing countries, as the production of children is often highly socially valued and is vital for social security and health networks as well as for family income generation.[81] Infertility in these societies often leads to social stigmatization and abandonment by spouses.[82] Infertility is, in fact, common in sub-Saharan Africa. Unlike in the West, secondary infertility is more common than primary infertility, being most often the result of untreated STIs or complications from pregnancy/birth.[83]\", \"Due to the assumptions surrounding issues of hyper-fertility in developing countries, ethical controversy surrounds the idea of whether or not access to assisted reproductive technologies should comprise a critical aspect of reproductive health or at least, whether or not the distribution and access of such technologies should be subject to greater equity.[84] However, as highlighted by Inhorn [85] the overarching conceptualisation of infertility, to a great extent, disguises important distinctions that can be made within a local context, both demographically and epidemiological and moreover, that these factors are highly significant in the ethics of reproduction. An important factor, argues Inhorn,[85] is the positioning of men within the paradigm of reproductive health, whereby because rates of general infertility mask differences between male and female infertility, men remain a largely invisible facet within the theorisation and discourse surrounding infertility, as well as the related treatments and biotechnologies. This is particularly significant given that male infertility accounts for more than half of all cases of infertility [86] and moreover, it is evident that the attitudes and behaviours of men have profound implications for the reproductive health of both individuals and couples.[87] For example, Inhorn [82] notes that when couples in Egypt are faced with seemingly intractable infertility problems - due to a range of family and societal pressures that centre around the place of children in constituting the gender identity of men and women - it is often the women who is forced to seek continued treatment; this continues to occur, even in known instances of male infertility and that the constant seeking of treatment frequently becomes iatrogenic for the women. Inhorn states that infertility often leads to \\u201cmarital demise, physical violence, emotional abuse, social exclusion, community exile, ineffective and iatrogenic therapies, poverty, old age insecurity, increased risk of HIV/AIDS, and death\\u201d[79] Significantly, Inhorn demonstrates that this phenomenon can not simply be explained by a lack of knowledge, rather it occurs in a complex interaction between the centrality of children in the male gender identity as a symbol of maturity and the relative lack of power of women in Egyptian society, whereby they effectively become scapegoats for a culturally accepted narrative as a site of blame for the lack of childlessness. It should be emphasised that this is not simply an issue of \\u201cwomen oppressed by men\\u201d but rather, that men and women both share the burden of this narrative, but in different, unequal and highly complex ways. Therefore, while the notion that reproductive health is a \\u2018women\\u2019s issue\\u2019, may have powerful social currency, especially within popular discourse and indigenous systems of meaning, the reality of infertility suggests that medical and health paradigms have a significant part to play in challenging the validity of this entrenched belief . Moreover, the effectiveness of any therapeutic intervention, medical or otherwise will be contingent on such outcomes and has an important part to play in the alleviation of gendered suffering, especially the burden imposed on women, who continue to suffer disproportionately from the effects of infertility.\", \"High costs may also be a factor and research by the Genk Institute for Fertility Technology, in Belgium, claimed a much lower cost methodology (about 90% reduction) with similar efficacy, which may be suitable for some fertility treatment.[88] At the 1994 United Nations International Conference on Population and Development (ICPD) in Cairo, the prevention and treatment of infertility was accepted into the program of action for reproductive healthcare. Infertility has shown to have a greater effect on developing nations than on birth rates or population control, but also on a social level as well. Reproduction is a large aspect of life for many cultures within developing nations, and infertility can lead to social and familial problems such as rejection or abandonment as well as personal psychological issues. Currently, fertility treatment options and programs are only available through private health sectors in developing nations and little-to-no treatment is available through public health sectors. The fertility treatment options offered through the private sectors are often costly or not easily accessible. Additionally, counseling is considered an essential aspect of fertility treatment, and due to lack of education and resources such forms of therapy remain scarce as well. While quality fertility care is not readily available in developing nations (such as sub-Saharan African countries), a standard procedure of care could be easily implemented for a low cost as a basic intervention. The lack of fertility treatment is problematic, and high birth and population rates are every reason to implement treatment options rather than reject them.[79]\"], \"passage_types\": [\"table\", \"table\", \"table\", \"table\", \"text\", \"text\", \"text\", \"text\", \"text\", \"table\", \"table\", \"text\", \"list\", \"list\", \"list\", \"text\", \"text\", \"text\", \"text\", \"text\", \"text\", \"text\", \"text\", \"text\", \"text\", \"text\", \"text\", \"text\", \"text\", \"text\", \"text\", \"list\", \"list\", \"list\", \"list\", \"list\", \"list\", \"list\", \"list\", \"list\", \"list\", \"list\", \"list\", \"list\", \"list\", \"text\", \"text\", \"text\", \"text\", \"text\", \"text\", \"text\", \"list\", \"list\", \"list\", \"list\", \"list\", \"list\", \"text\", \"text\", \"text\", \"text\", \"text\", \"text\", \"text\", \"text\", \"text\", \"text\", \"text\", \"text\", \"text\", \"text\", \"text\", \"list\", \"list\", \"list\", \"list\", \"list\", \"list\", \"list\", \"text\", \"text\", \"text\", \"text\", \"list\", \"list\", \"list\", \"list\", \"list\", \"list\", \"list\", \"list\", \"list\", \"text\", \"list\", \"list\", \"list\", \"list\", \"table\", \"table\", \"table\", \"table\", \"table\", \"table\", \"table\", \"table\", \"table\", \"table\", \"table\", \"table\", \"table\", \"table\", \"table\", \"table\", \"table\", \"table\", \"text\", \"text\", \"text\", \"text\"], \"long_answers\": [], \"document_url\": \"https://en.wikipedia.org//w/index.php?title=Infertility&amp;oldid=836413300\"}"
   ]
  },
  {
   "cell_type": "code",
   "execution_count": 321,
   "id": "acbbf26d-d0b2-455c-9898-3dc8c3ac6a20",
   "metadata": {},
   "outputs": [
    {
     "data": {
      "text/plain": [
       "dict_keys(['question', 'title', 'candidates', 'passage_types', 'long_answers', 'document_url'])"
      ]
     },
     "execution_count": 321,
     "metadata": {},
     "output_type": "execute_result"
    }
   ],
   "source": [
    "dev1.keys()"
   ]
  },
  {
   "cell_type": "code",
   "execution_count": 190,
   "id": "d77fbc3a-8908-45e6-8ff6-b3721b3239d7",
   "metadata": {},
   "outputs": [],
   "source": [
    "### Wikipedia processing"
   ]
  },
  {
   "cell_type": "code",
   "execution_count": 148,
   "id": "1a74e6cc-0ce2-4031-b4b1-0ac500368625",
   "metadata": {},
   "outputs": [],
   "source": [
    "with open(\"wiki_out_log\", \"r\") as fin:\n",
    "    wiki = fin.readlines()"
   ]
  },
  {
   "cell_type": "code",
   "execution_count": 157,
   "id": "0e8ee56f-0e6b-440c-baf5-0e2253ce0c96",
   "metadata": {},
   "outputs": [],
   "source": [
    "short_samples = {\n",
    "    \"text\": [],\n",
    "    \"gender\": []\n",
    "}\n",
    "long_samples = {\n",
    "    \"text\": [],\n",
    "    \"gender\": []\n",
    "}\n",
    "short_text_lens, long_text_lens = [], []"
   ]
  },
  {
   "cell_type": "code",
   "execution_count": 158,
   "id": "10d745d5-0032-4a36-adbd-52f46e700f7b",
   "metadata": {},
   "outputs": [],
   "source": [
    "label2int = {\n",
    "    \"ABOUT:male\": 0,\n",
    "    \"ABOUT:female\": 1,\n",
    "    \"ABOUT:gender-neutral\": 2\n",
    "            }"
   ]
  },
  {
   "cell_type": "code",
   "execution_count": 156,
   "id": "cf553dfe-ee9f-4ce4-9979-3b027f286ff4",
   "metadata": {},
   "outputs": [],
   "source": [
    "def convert_label(label, label2int):\n",
    "    if label in label2int:\n",
    "        return label2int[label]\n",
    "    else:\n",
    "        print(f\"adding new label {label}\")\n",
    "        max_int = max(label2int.values())\n",
    "        label2int[label] = max_int + 1\n",
    "        return max_int + 1"
   ]
  },
  {
   "cell_type": "code",
   "execution_count": null,
   "id": "5e4f895c-1385-4f11-a0c9-8b03d621d718",
   "metadata": {},
   "outputs": [],
   "source": [
    "# split on tabs, then on :, then text is 1 and label is 2, then convert label2int"
   ]
  },
  {
   "cell_type": "code",
   "execution_count": 163,
   "id": "2634eb37-0614-489a-987f-7be6e3efb486",
   "metadata": {},
   "outputs": [
    {
     "name": "stderr",
     "output_type": "stream",
     "text": [
      "243779it [00:00, 310132.84it/s]"
     ]
    },
    {
     "name": "stdout",
     "output_type": "stream",
     "text": [
      "adding new label ABOUT:non-binary\n"
     ]
    },
    {
     "name": "stderr",
     "output_type": "stream",
     "text": [
      "27688998it [01:08, 405854.67it/s]\n"
     ]
    }
   ],
   "source": [
    "for i, line in tqdm(enumerate(wiki)):\n",
    "    if not line:\n",
    "        continue\n",
    "    data = line.split(\"\\t\")\n",
    "    nitems = len(data)\n",
    "    if nitems < 4:\n",
    "        if nitems > 1:\n",
    "            print(f\"unexpected data length of {nitems}\")\n",
    "        continue\n",
    "    text = data[1].split(\":\")[1]\n",
    "    label = data[2].split(\":\", 1)[1]\n",
    "    label = convert_label(label, label2int)\n",
    "    # filter texts too short\n",
    "    nwords = len(text.split())\n",
    "    if nwords < 10:\n",
    "        short_samples[\"text\"].append(text)\n",
    "        short_samples[\"gender\"].append(label)\n",
    "        short_text_lens.append(nwords)\n",
    "    else:\n",
    "        long_samples[\"text\"].append(text)\n",
    "        long_samples[\"gender\"].append(label)\n",
    "        long_text_lens.append(nwords)"
   ]
  },
  {
   "cell_type": "code",
   "execution_count": 183,
   "id": "19380520-3fda-4a53-ae8d-4d26745116c4",
   "metadata": {},
   "outputs": [],
   "source": [
    "from sklearn.model_selection import train_test_split"
   ]
  },
  {
   "cell_type": "code",
   "execution_count": 184,
   "id": "059dd2d9-154d-431c-9608-6b6011b1c748",
   "metadata": {},
   "outputs": [],
   "source": [
    "text_train, text_val_test, label_train, label_val_test = train_test_split(long_samples[\"text\"], long_samples[\"gender\"], test_size=0.35)"
   ]
  },
  {
   "cell_type": "code",
   "execution_count": 185,
   "id": "b0d4b61f-4227-42c0-91bd-dcc3f4cf83c3",
   "metadata": {},
   "outputs": [],
   "source": [
    "text_test, text_val, label_test, label_val = train_test_split(text_val_test, label_val_test, test_size=0.25)"
   ]
  },
  {
   "cell_type": "code",
   "execution_count": 204,
   "id": "7f2d2d98-ba40-4b6a-b67d-9f049bcd8063",
   "metadata": {},
   "outputs": [],
   "source": [
    "wiki_splits = {\n",
    "    \"train\": [],\n",
    "    \"dev\": [],\n",
    "    \"test\": [],\n",
    "}"
   ]
  },
  {
   "cell_type": "code",
   "execution_count": 211,
   "id": "2e7cf821-7e85-45e8-ac77-6e95f1bb6848",
   "metadata": {},
   "outputs": [
    {
     "ename": "ModuleNotFoundError",
     "evalue": "No module named 'cPickle'",
     "output_type": "error",
     "traceback": [
      "\u001b[0;31m---------------------------------------------------------------------------\u001b[0m",
      "\u001b[0;31mModuleNotFoundError\u001b[0m                       Traceback (most recent call last)",
      "Input \u001b[0;32mIn [211]\u001b[0m, in \u001b[0;36m<cell line: 1>\u001b[0;34m()\u001b[0m\n\u001b[0;32m----> 1\u001b[0m \u001b[38;5;28;01mimport\u001b[39;00m \u001b[38;5;21;01mcPickle\u001b[39;00m \u001b[38;5;28;01mas\u001b[39;00m \u001b[38;5;21;01mpickle\u001b[39;00m\n",
      "\u001b[0;31mModuleNotFoundError\u001b[0m: No module named 'cPickle'"
     ]
    }
   ],
   "source": [
    "import cPickle as pickle"
   ]
  },
  {
   "cell_type": "code",
   "execution_count": 209,
   "id": "ae2f438c-96b5-47ff-aaf3-ca72bfdb874b",
   "metadata": {},
   "outputs": [],
   "source": [
    "wiki_splits[\"test\"] = [{\"text\": i, \"gender\": j} for i,j in zip(text_test, label_test)]\n",
    "wiki_splits[\"train\"] = [{\"text\": i, \"gender\": j} for i,j in zip(text_train, label_train)]\n",
    "wiki_splits[\"dev\"] = [{\"text\": i, \"gender\": j} for i,j in zip(text_val, label_val)]"
   ]
  },
  {
   "cell_type": "code",
   "execution_count": 210,
   "id": "0ca46d2c-c4fe-47da-bc57-151db5e93754",
   "metadata": {},
   "outputs": [],
   "source": [
    "for split in [\"train\", \"dev\", \"test\"]:\n",
    "    with open(f\"data/md_gender/wikipedia/{split}.pickle\", \"wb\") as fout:\n",
    "        this_split = wiki_splits[split]\n",
    "        pickle.dump(this_split, fout)"
   ]
  },
  {
   "cell_type": "code",
   "execution_count": 236,
   "id": "1093df92-6332-48ca-b70e-87a0ab95b104",
   "metadata": {},
   "outputs": [
    {
     "data": {
      "text/plain": [
       "934649"
      ]
     },
     "execution_count": 236,
     "metadata": {},
     "output_type": "execute_result"
    }
   ],
   "source": [
    "len(wiki_splits[\"dev\"])"
   ]
  },
  {
   "cell_type": "code",
   "execution_count": 200,
   "id": "678fc093-b222-4325-beea-363d2b59e832",
   "metadata": {},
   "outputs": [
    {
     "data": {
      "text/plain": [
       "2942"
      ]
     },
     "execution_count": 200,
     "metadata": {},
     "output_type": "execute_result"
    }
   ],
   "source": [
    "np.min(long_text_lens)"
   ]
  },
  {
   "cell_type": "code",
   "execution_count": null,
   "id": "8a200ada-73e0-41bf-a986-7f128ada7151",
   "metadata": {},
   "outputs": [],
   "source": [
    "\n",
    "\n",
    "dataset = load_dataset(\"md_gender_bias\", \"yelp_inferred\")"
   ]
  },
  {
   "cell_type": "code",
   "execution_count": 26,
   "id": "e09451f7-0e66-44df-a6ba-52b8c747a8c9",
   "metadata": {},
   "outputs": [
    {
     "data": {
      "text/plain": [
       "{'text': 'great low cost company .',\n",
       " 'binary_label': 1,\n",
       " 'binary_score': 0.5863999724388123}"
      ]
     },
     "execution_count": 26,
     "metadata": {},
     "output_type": "execute_result"
    }
   ],
   "source": [
    "dataset[\"train\"][1]"
   ]
  },
  {
   "cell_type": "code",
   "execution_count": 27,
   "id": "0337e5f0-b352-4fd6-b350-b41293c98ba4",
   "metadata": {},
   "outputs": [],
   "source": [
    "from collections import Counter\n",
    "\n",
    "all_lengths = [len(sent['text'].split()) for sent in dataset[\"train\"]]\n",
    "c = Counter(all_lengths)"
   ]
  },
  {
   "cell_type": "code",
   "execution_count": null,
   "id": "739f1219-d83c-47c7-90e9-f34040dee1d3",
   "metadata": {},
   "outputs": [],
   "source": [
    "# TODO process so have chunks of TOPIC : Text: gender. Assert that all genders should match"
   ]
  },
  {
   "cell_type": "code",
   "execution_count": 227,
   "id": "357c388f-126d-4149-b47e-c18f7852a07d",
   "metadata": {},
   "outputs": [],
   "source": [
    "test = torch.load(\"data/md_gender/wizard_binary/dev.tokens_raw_contriever_new.pt\")"
   ]
  },
  {
   "cell_type": "code",
   "execution_count": 235,
   "id": "76afad48-301d-4cdf-83f6-aa8031031403",
   "metadata": {},
   "outputs": [
    {
     "data": {
      "text/plain": [
       "{'input_ids': tensor([[  101,  1045,  2052,  ...,     0,     0,     0],\n",
       "        [  101,  1045,  2699,  ...,  2111,  1029,   102],\n",
       "        [  101,  1045, 19597,  ...,     0,     0,     0],\n",
       "        ...,\n",
       "        [  101,  1045,  2293,  ...,     0,     0,     0],\n",
       "        [  101,  1045,  2031,  ...,     0,     0,     0],\n",
       "        [  101,  2017,  2812,  ...,     0,     0,     0]]), 'token_type_ids': tensor([[0, 0, 0,  ..., 0, 0, 0],\n",
       "        [0, 0, 0,  ..., 0, 0, 0],\n",
       "        [0, 0, 0,  ..., 0, 0, 0],\n",
       "        ...,\n",
       "        [0, 0, 0,  ..., 0, 0, 0],\n",
       "        [0, 0, 0,  ..., 0, 0, 0],\n",
       "        [0, 0, 0,  ..., 0, 0, 0]]), 'attention_mask': tensor([[1, 1, 1,  ..., 0, 0, 0],\n",
       "        [1, 1, 1,  ..., 1, 1, 1],\n",
       "        [1, 1, 1,  ..., 0, 0, 0],\n",
       "        ...,\n",
       "        [1, 1, 1,  ..., 0, 0, 0],\n",
       "        [1, 1, 1,  ..., 0, 0, 0],\n",
       "        [1, 1, 1,  ..., 0, 0, 0]])}"
      ]
     },
     "execution_count": 235,
     "metadata": {},
     "output_type": "execute_result"
    }
   ],
   "source": [
    "test['X']"
   ]
  },
  {
   "cell_type": "code",
   "execution_count": 223,
   "id": "0e6ca60f-c783-4842-8e56-10a5f1a56e64",
   "metadata": {},
   "outputs": [],
   "source": [
    "with open(\"data/md_gender/wikipedia/test.pickle\", \"rb\") as fin:\n",
    "    wiki_test = pickle.load(fin)"
   ]
  },
  {
   "cell_type": "code",
   "execution_count": 225,
   "id": "00dcd85b-d0a6-40a7-b80b-045095fe1307",
   "metadata": {},
   "outputs": [
    {
     "data": {
      "text/plain": [
       "[{'text': \"Although she finished second, her position on the SNP regional list took her to Holyrood, after which she divorced and reverted to her maiden name. She contested Tweeddale, Ettrick and Lauderdale at both the 2003 and 2007 elections, coming within 1,000 votes of victory on both occasions and being subsequently elected on the regional South of Scotland list. In 2004, she ran as a candidate for the Deputy Leadership of the SNP after the resignation of Leader John Swinney propelled Deputy Leader Roseanna Cunningham into the contest to replace him. After the election she was reshuffled from chair of the Scottish Parliament's Health committee to Shadow Minister for Social Justice, generally seen by media commentators as an upwards shift. In June 2005, she was elected Honorary President of the Federation of Student Nationalists. \",\n",
       "  'gender': 1},\n",
       " {'text': 'Križanić was born in Obrh, near Ozalj (in present-day Croatia) in 1618, a period of political turmoil and of Turkish invasions into Croatia. He attended a Jesuit grammar school in Ljubljana and a Jesuit gymnasium in Zagreb from 1629 to 1635. His father died when he was 17 years old, at approximately the same time he graduated from the gymnasium. He began attending the University of Bologna in 1638 to study theology and graduated in 1640. Shortly after graduating Križanić began attending the Greek College of St. Athanasius, a center in Rome for the training of Catholic missionaries who would work with Orthodox Christians, from which he graduated in 1642. By the end of his life he was proficient in ten languages. While Križanić had a strong desire to travel to Moscow with the ambitious goal of uniting the Roman Catholic and Russian Orthodox churches, he was assigned missionary duties in Zagreb, where he was a teacher at the Zagreb Theological Seminary as well as a priest in several neighboring towns.',\n",
       "  'gender': 0},\n",
       " {'text': 'In solidarity with other activists in her organization, Paul purposefully strove to receive the seven-month jail sentence that started on October 20, 1917. She began serving her time in the District Jail.',\n",
       "  'gender': 1},\n",
       " {'text': 'Riemerschmid was born in Munich, the sixth of nine children of Eduard Riemerschmid, who headed the Munich distillery founded by his father Anton Riemerschmid, and his wife Amalie. After completing his Abitur at the Wilhelmsgymnasium in 1886 and military service in the army, he studied at the Academy of Fine Arts, Munich under Gabriel Hackl and Ludwig von Löfftz from 1888 to 1890 and then worked as an independent artist and architect.',\n",
       "  'gender': 0},\n",
       " {'text': \"Truitt grew up in Easton, on Maryland's Eastern Shore, and spent her teenage years in Asheville, North Carolina. She graduated from Bryn Mawr College with a degree in psychology in 1943. She declined an offer to pursue a Ph.D. in Yale University’s psychology department and worked briefly as a nurse in a psychiatric ward at Massachusetts General Hospital, Boston. She left the field of psychology in the mid-1940s, first writing fiction and then enrolling in courses offered by the Institute of Contemporary Art in Washington, D.C.\",\n",
       "  'gender': 1}]"
      ]
     },
     "execution_count": 225,
     "metadata": {},
     "output_type": "execute_result"
    }
   ],
   "source": [
    "wiki_test[:5]"
   ]
  },
  {
   "cell_type": "code",
   "execution_count": null,
   "id": "c0e0f7a1-487b-4d97-a180-d94cc3aa32de",
   "metadata": {},
   "outputs": [],
   "source": [
    "wizard = load_dataset(\"md_gender_bias\", \"wizard\")"
   ]
  },
  {
   "cell_type": "code",
   "execution_count": 58,
   "id": "8d45adbe-8226-47e8-a023-6fcd2f50c5f1",
   "metadata": {},
   "outputs": [
    {
     "data": {
      "text/plain": [
       "Dataset({\n",
       "    features: ['text', 'chosen_topic', 'gender'],\n",
       "    num_rows: 470\n",
       "})"
      ]
     },
     "execution_count": 58,
     "metadata": {},
     "output_type": "execute_result"
    }
   ],
   "source": [
    "wizard[\"test\"]\n"
   ]
  },
  {
   "cell_type": "code",
   "execution_count": 69,
   "id": "7560aae4-33bd-4959-98e9-4fe039da8896",
   "metadata": {},
   "outputs": [],
   "source": [
    "wizard_lengths = [len(sent['text'].split()) for sent in wizard[\"train\"]]\n",
    "w = Counter(wizard_lengths)"
   ]
  },
  {
   "cell_type": "code",
   "execution_count": 70,
   "id": "699b7671-84fe-467f-b2d6-ff7398c77f28",
   "metadata": {},
   "outputs": [
    {
     "data": {
      "text/plain": [
       "[(14, 605),\n",
       " (10, 605),\n",
       " (13, 595),\n",
       " (11, 590),\n",
       " (12, 579),\n",
       " (15, 555),\n",
       " (17, 555),\n",
       " (9, 531),\n",
       " (16, 530),\n",
       " (8, 513),\n",
       " (18, 504),\n",
       " (19, 427),\n",
       " (7, 423),\n",
       " (20, 386),\n",
       " (21, 359),\n",
       " (6, 309),\n",
       " (22, 283),\n",
       " (5, 250),\n",
       " (23, 239),\n",
       " (24, 208),\n",
       " (25, 192),\n",
       " (26, 161),\n",
       " (4, 123),\n",
       " (27, 116),\n",
       " (28, 110),\n",
       " (29, 89),\n",
       " (30, 80),\n",
       " (31, 79),\n",
       " (3, 65),\n",
       " (32, 53),\n",
       " (33, 47),\n",
       " (34, 44),\n",
       " (35, 42),\n",
       " (2, 27),\n",
       " (36, 25),\n",
       " (39, 20),\n",
       " (1, 20),\n",
       " (37, 19),\n",
       " (38, 18),\n",
       " (40, 10),\n",
       " (42, 9),\n",
       " (41, 7),\n",
       " (50, 5),\n",
       " (43, 4),\n",
       " (52, 4),\n",
       " (45, 4),\n",
       " (49, 3),\n",
       " (51, 3),\n",
       " (53, 3),\n",
       " (48, 2),\n",
       " (56, 2),\n",
       " (65, 2),\n",
       " (54, 2),\n",
       " (44, 2),\n",
       " (58, 2),\n",
       " (46, 2),\n",
       " (71, 2),\n",
       " (68, 1),\n",
       " (57, 1),\n",
       " (69, 1),\n",
       " (62, 1),\n",
       " (47, 1)]"
      ]
     },
     "execution_count": 70,
     "metadata": {},
     "output_type": "execute_result"
    }
   ],
   "source": [
    "w.most_common()"
   ]
  },
  {
   "cell_type": "code",
   "execution_count": 47,
   "id": "43bdcec9-31de-4086-9520-b42dadc83930",
   "metadata": {},
   "outputs": [],
   "source": [
    "#### Process wizard of wikipedia\n",
    "# text, chosen_topic, gender\n",
    "# assemble text based on topic, when topic changes new text\n",
    "# assert all gender labels the same and assign new gender\n",
    "def merge_topics(data):\n",
    "    curr_topic = data[0][\"chosen_topic\"] \n",
    "    all_data = []\n",
    "    texts, genders = [], []\n",
    "    for entry in data:\n",
    "        if entry[\"chosen_topic\"] != curr_topic: # save and reset\n",
    "            uniq_genders = set(genders)\n",
    "            if len(uniq_genders) > 1:\n",
    "                assert f\"too many genders for topic {curr_topic}. Genders found: {genders}\"\n",
    "            all_data.append({\n",
    "                \"text\": \"\\n\".join(texts),\n",
    "                \"chosen_topic\": curr_topic,\n",
    "                \"gender\": uniq_genders.pop()\n",
    "            })\n",
    "            curr_topic = entry[\"chosen_topic\"]\n",
    "            texts, genders = [], []\n",
    "        else:\n",
    "            texts.append(entry[\"text\"])\n",
    "            genders.append(entry[\"gender\"])\n",
    "    return all_data\n",
    "        "
   ]
  },
  {
   "cell_type": "code",
   "execution_count": 43,
   "id": "1cf4b22a-1e78-4356-9ec2-3d85a61c3334",
   "metadata": {},
   "outputs": [],
   "source": [
    "merged_train = wizard[\"train\"].map(met, batched=True, remove_columns=dataset.column_names"
   ]
  },
  {
   "cell_type": "code",
   "execution_count": 123,
   "id": "ae0cbe88-03f8-4550-8ed8-8dbf7cc3dbf5",
   "metadata": {},
   "outputs": [],
   "source": [
    "merged_train = merge_topics(wizard[\"train\"])\n",
    "merged_val = merge_topics(wizard[\"validation\"])\n",
    "merged_test = merge_topics(wizard[\"test\"])"
   ]
  },
  {
   "cell_type": "code",
   "execution_count": 124,
   "id": "2a6b9160-5efa-477a-800a-0d212e52fac0",
   "metadata": {},
   "outputs": [
    {
     "data": {
      "text/plain": [
       "list"
      ]
     },
     "execution_count": 124,
     "metadata": {},
     "output_type": "execute_result"
    }
   ],
   "source": []
  },
  {
   "cell_type": "code",
   "execution_count": 66,
   "id": "016fd1fb-44c4-40e4-be1a-8677b0547454",
   "metadata": {},
   "outputs": [],
   "source": [
    "with open(\"data/md_gender/wizard.test.pickle\", \"wb\") as fout:\n",
    "    pickle.dump(merged_test, fout)"
   ]
  },
  {
   "cell_type": "code",
   "execution_count": 67,
   "id": "fa314b03-5076-4ed5-8272-ddca02c8a5c4",
   "metadata": {},
   "outputs": [],
   "source": [
    "with open(\"data/md_gender/wizard.test.pickle\", \"rb\") as fin:\n",
    "    w = pickle.load(fin)"
   ]
  },
  {
   "cell_type": "code",
   "execution_count": 71,
   "id": "1bd4f137-0d49-45dc-9882-9300a56c1aa7",
   "metadata": {},
   "outputs": [],
   "source": [
    "wizard_merge_lengths = [len(sent['text'].split()) for sent in merged_train]\n",
    "w_merge = Counter(wizard_merge_lengths)"
   ]
  },
  {
   "cell_type": "code",
   "execution_count": 88,
   "id": "a4ec699f-5231-4992-8ff2-b9989fc0d216",
   "metadata": {},
   "outputs": [],
   "source": [
    "con_test_wiz = torch.load(\"data/md_gender/wizard/train.tokens_raw_contriever_new.pt\")"
   ]
  },
  {
   "cell_type": "code",
   "execution_count": 128,
   "id": "c325781e-60ef-483d-9e7b-358910b34f69",
   "metadata": {},
   "outputs": [
    {
     "data": {
      "text/plain": [
       "51"
      ]
     },
     "execution_count": 128,
     "metadata": {},
     "output_type": "execute_result"
    }
   ],
   "source": [
    "len(merged_test)"
   ]
  },
  {
   "cell_type": "code",
   "execution_count": 115,
   "id": "3876b9f9-1b6a-4748-a297-1f0920ae5c58",
   "metadata": {},
   "outputs": [],
   "source": [
    "def change_ints(x):\n",
    "    if x[\"gender\"] == 2:\n",
    "        x[\"gender\"] = 0\n",
    "    return x"
   ]
  },
  {
   "cell_type": "code",
   "execution_count": 121,
   "id": "6d4a4e8d-c643-4ade-bf20-f74474bd7aca",
   "metadata": {},
   "outputs": [],
   "source": [
    "def filter_gender_neutral(ds):\n",
    "    new_ds = filter(lambda x: x[\"gender\"] > 0, ds)\n",
    "    new_ds = map(change_ints, new_ds)\n",
    "    return list(new_ds)"
   ]
  },
  {
   "cell_type": "code",
   "execution_count": 141,
   "id": "03296d22-6f11-4a79-9c42-bf5d4c32b2a8",
   "metadata": {},
   "outputs": [],
   "source": [
    "filtered_ds = filter_gender_neutral(merged_train)"
   ]
  },
  {
   "cell_type": "code",
   "execution_count": 142,
   "id": "a560d96e-0413-488e-8779-e9c67b4a8a45",
   "metadata": {},
   "outputs": [
    {
     "data": {
      "text/plain": [
       "936"
      ]
     },
     "execution_count": 142,
     "metadata": {},
     "output_type": "execute_result"
    }
   ],
   "source": [
    "len(filtered_ds)"
   ]
  },
  {
   "cell_type": "code",
   "execution_count": 143,
   "id": "34bf8924-1a00-430a-becd-57d69c9af2d2",
   "metadata": {},
   "outputs": [],
   "source": [
    "with open(\"data/md_gender/wizard/filtered/train.pickle\", \"wb\") as fout:\n",
    "    pickle.dump(filtered_ds, fout)"
   ]
  },
  {
   "cell_type": "code",
   "execution_count": 129,
   "id": "23cd4fa5-72f8-476b-82f8-ca30ac57e0fc",
   "metadata": {},
   "outputs": [
    {
     "data": {
      "text/plain": [
       "Counter({112: 10,\n",
       "         135: 14,\n",
       "         137: 14,\n",
       "         173: 5,\n",
       "         111: 14,\n",
       "         136: 12,\n",
       "         91: 13,\n",
       "         88: 14,\n",
       "         133: 8,\n",
       "         99: 11,\n",
       "         94: 12,\n",
       "         208: 5,\n",
       "         106: 9,\n",
       "         216: 1,\n",
       "         86: 5,\n",
       "         92: 7,\n",
       "         117: 16,\n",
       "         119: 12,\n",
       "         77: 7,\n",
       "         131: 14,\n",
       "         124: 10,\n",
       "         209: 2,\n",
       "         80: 9,\n",
       "         195: 4,\n",
       "         79: 10,\n",
       "         143: 7,\n",
       "         103: 18,\n",
       "         145: 6,\n",
       "         156: 10,\n",
       "         95: 10,\n",
       "         161: 8,\n",
       "         149: 5,\n",
       "         102: 15,\n",
       "         160: 7,\n",
       "         105: 12,\n",
       "         129: 8,\n",
       "         100: 16,\n",
       "         134: 5,\n",
       "         126: 9,\n",
       "         142: 12,\n",
       "         96: 7,\n",
       "         121: 12,\n",
       "         125: 12,\n",
       "         227: 2,\n",
       "         74: 5,\n",
       "         159: 14,\n",
       "         83: 9,\n",
       "         186: 3,\n",
       "         166: 5,\n",
       "         107: 5,\n",
       "         164: 8,\n",
       "         108: 17,\n",
       "         64: 1,\n",
       "         66: 3,\n",
       "         84: 11,\n",
       "         174: 5,\n",
       "         113: 5,\n",
       "         58: 4,\n",
       "         116: 19,\n",
       "         82: 3,\n",
       "         193: 2,\n",
       "         56: 5,\n",
       "         179: 5,\n",
       "         87: 8,\n",
       "         98: 15,\n",
       "         165: 7,\n",
       "         326: 1,\n",
       "         144: 7,\n",
       "         101: 10,\n",
       "         141: 11,\n",
       "         150: 7,\n",
       "         162: 4,\n",
       "         109: 10,\n",
       "         104: 16,\n",
       "         307: 1,\n",
       "         157: 9,\n",
       "         70: 6,\n",
       "         132: 11,\n",
       "         61: 4,\n",
       "         163: 9,\n",
       "         85: 9,\n",
       "         76: 7,\n",
       "         71: 3,\n",
       "         140: 10,\n",
       "         189: 3,\n",
       "         155: 10,\n",
       "         198: 5,\n",
       "         205: 2,\n",
       "         89: 9,\n",
       "         176: 2,\n",
       "         90: 13,\n",
       "         261: 1,\n",
       "         187: 4,\n",
       "         73: 6,\n",
       "         265: 2,\n",
       "         120: 10,\n",
       "         369: 1,\n",
       "         115: 17,\n",
       "         130: 11,\n",
       "         69: 6,\n",
       "         177: 5,\n",
       "         154: 8,\n",
       "         93: 9,\n",
       "         223: 2,\n",
       "         172: 5,\n",
       "         59: 4,\n",
       "         138: 9,\n",
       "         72: 5,\n",
       "         128: 7,\n",
       "         127: 13,\n",
       "         245: 1,\n",
       "         158: 10,\n",
       "         114: 13,\n",
       "         147: 7,\n",
       "         148: 9,\n",
       "         57: 1,\n",
       "         221: 1,\n",
       "         171: 3,\n",
       "         75: 5,\n",
       "         170: 5,\n",
       "         178: 3,\n",
       "         151: 4,\n",
       "         243: 1,\n",
       "         97: 9,\n",
       "         81: 2,\n",
       "         118: 12,\n",
       "         168: 2,\n",
       "         110: 6,\n",
       "         244: 1,\n",
       "         78: 5,\n",
       "         167: 4,\n",
       "         191: 3,\n",
       "         152: 5,\n",
       "         68: 4,\n",
       "         139: 6,\n",
       "         146: 11,\n",
       "         169: 3,\n",
       "         123: 10,\n",
       "         122: 5,\n",
       "         286: 1,\n",
       "         196: 4,\n",
       "         175: 2,\n",
       "         200: 1,\n",
       "         188: 2,\n",
       "         206: 3,\n",
       "         67: 3,\n",
       "         153: 4,\n",
       "         184: 4,\n",
       "         390: 1,\n",
       "         217: 1,\n",
       "         268: 1,\n",
       "         190: 1,\n",
       "         201: 3,\n",
       "         181: 2,\n",
       "         246: 2,\n",
       "         212: 1,\n",
       "         247: 1,\n",
       "         312: 1,\n",
       "         237: 1,\n",
       "         314: 1,\n",
       "         192: 5,\n",
       "         241: 1,\n",
       "         53: 1,\n",
       "         258: 1,\n",
       "         393: 1,\n",
       "         51: 1,\n",
       "         182: 2,\n",
       "         272: 1,\n",
       "         183: 3,\n",
       "         194: 2,\n",
       "         199: 1,\n",
       "         197: 3,\n",
       "         219: 2,\n",
       "         254: 1,\n",
       "         63: 3,\n",
       "         305: 1,\n",
       "         262: 1,\n",
       "         236: 1,\n",
       "         54: 1,\n",
       "         253: 1,\n",
       "         202: 1,\n",
       "         207: 1,\n",
       "         48: 1,\n",
       "         185: 2,\n",
       "         40: 1,\n",
       "         229: 1,\n",
       "         321: 1,\n",
       "         213: 1,\n",
       "         242: 1,\n",
       "         210: 1,\n",
       "         291: 1,\n",
       "         257: 1,\n",
       "         271: 1,\n",
       "         180: 1,\n",
       "         359: 1,\n",
       "         274: 1,\n",
       "         215: 1,\n",
       "         344: 1,\n",
       "         322: 1,\n",
       "         225: 1,\n",
       "         65: 1,\n",
       "         339: 1})"
      ]
     },
     "execution_count": 129,
     "metadata": {},
     "output_type": "execute_result"
    }
   ],
   "source": [
    "w_merge"
   ]
  },
  {
   "cell_type": "code",
   "execution_count": 134,
   "id": "85084003-4bf5-49ae-8df3-7c842312673f",
   "metadata": {},
   "outputs": [
    {
     "data": {
      "text/plain": [
       "122.0"
      ]
     },
     "execution_count": 134,
     "metadata": {},
     "output_type": "execute_result"
    }
   ],
   "source": [
    "import numpy as np\n",
    "np.median(wizard_merge_lengths)"
   ]
  },
  {
   "cell_type": "code",
   "execution_count": 202,
   "id": "637c5350-f008-4bf9-9f09-90f49690d386",
   "metadata": {},
   "outputs": [],
   "source": [
    "with open(\"data/md_gender/wikipedia/test.pickle\", \"rb\") as fin:\n",
    "    data = pickle.load(fin)"
   ]
  },
  {
   "cell_type": "code",
   "execution_count": 205,
   "id": "d5a23ed0-71e0-45fe-9c42-2ea37c75b90d",
   "metadata": {},
   "outputs": [],
   "source": [
    "with open(\"data/md_gender/wizard_binary/test.pickle\", \"rb\") as fin:\n",
    "    data2 = pickle.load(fin)"
   ]
  },
  {
   "cell_type": "code",
   "execution_count": 206,
   "id": "0ecc2d24-6d75-4e07-98b5-9299016d2d31",
   "metadata": {},
   "outputs": [
    {
     "data": {
      "text/plain": [
       "[{'text': 'Stephen Hawking is my favorite psysicist!\\nStephen Hawking, my goodness.  I am pretty sure i heard his robot voice on that TV show \"The Big Bang Theory\".  Wasn\\'t he also a recurring cast member on \"The Simpsons\"?\\nYes! But I\\'m not sure that was actually him speaking. He was first to make a theory about cosmology.\\nCosmology.  I think Carl Sagan was a cosmologist as well.  What do you think they did with Stephen Hawkings robot computer?  I mean, its not like it could be used by someone else.  Did they give it to Goodwill or something?\\nHaha, I hope that didn\\'t go to Goodwill. He was ranked #25 in BBC\\'s poll of 100 greatest Britons. Probably in a museum\\nI wonder if Madam tussaud\\'s wax museum in London has a wax mannequin of Stephen Hawking in their collection?  That would be creepy.\\nWould definitely be creepy. He has won many awards so he is probably in that museum.\\nAnyway, i know i have been pretty irreverent here, but i would like to say that he was a very courageous man to deal with all the challenges in his life and continue to work and be outspoken on topics he believed in.  He will be missed.',\n",
       "  'chosen_topic': 'Stephen Hawking',\n",
       "  'gender': 0},\n",
       " {'text': \"Yes, I like them. They are interesting.and prehistoric looking.  I like turtles too.\\nI agree, they definitely have a prehistoric look to them. There are also over 6000 species spread across the world.\\nDo they have teeth and does their bite hurt if they bite you?\\nMy Iguanas have teeth but they have never bitten me. I don't think it would hurt terribly because mine are small. Iguanas can vary in length though.\\nDo you let them run around the house and do they get along with other animals?\\nI don't let them run around the house, usually they stay in their container instead. Occasionally my friend brings her dog and they seem to get along when I bring them out briefly.\\nWhat do they eat? I've heard they need warmth and a lot of sunlight.\",\n",
       "  'chosen_topic': 'Iguana',\n",
       "  'gender': 0},\n",
       " {'text': 'She sure is, I have read all three volumes of her juvenile writings in manuscript and even her unfinished novel, The Watsons.\\nDo you know anything about her that might be of interest to me?\\nWell I know that she often wrote about the dependence of women on marriage in the pursuit of favourable social standing and economic security.\\nYeah she was a very impowered woman. we ned more of them now more than ever\\nIndeed, I just love her use of irony, along with her realism and social commentary, Its earned her acclaim among critics and scholars for many years. \\nYeah she was able to write with such emotion it was great\\nIndeed she was, she was so influential and her literature will remain popular for many years to come. ',\n",
       "  'chosen_topic': 'Jane Austen',\n",
       "  'gender': 1},\n",
       " {'text': \"trust me, i know... I actually voted for me, what was i thinking? I mean both candidates were pretty bad and i didn't want hilary to become a president\\nI think that's what most people were thinking, his populist positions appealed to many male, white, blue-collar, non-college degree holding individuals.\\nand i'm actually black :) I can't wait for the next elections. I hope next time we will have better candidates. \\nIt's hard to imagine someone who owned the Miss Universe and Miss USA pageants from 1996 to 2015 is the current president.\\nI feel so bad for women who used to date him or be married to him. He is so disrespectful. How does Melania tolerate him?\\nI guess the money helps, supposedly he has an estimated net worth of 3.5 billion according to Forbes.\\nThat's a lot of money. When he started running for a president I didn't even think he's gonna make it this far!\\nA lot of people thought the same I think, somehow he managed to defeat 16 opponents in the primaries though.\\nWe failed big time. Where was he born, do you know?\",\n",
       "  'chosen_topic': 'Donald Trump',\n",
       "  'gender': 0},\n",
       " {'text': 'I think I have heard her before, but I am not sure.  What does she sing?\\nIn 2017 she performed a song called \"To Learn Her\"...Have you heard of that song?\\nNo, I have not.  What else does she sing?\\nSome of her top 10 would include; \"Little Red Wagon\"\\nLol, I have never heard that, either.  I have definitely heard of her, but maybe I just have never heard her.\\nlol\\nSo, how long has she been a performer?\\nMiranda Lambert has been performing for about 13 years\\nThat is a long time.  She really must be popular.',\n",
       "  'chosen_topic': 'Miranda Lambert',\n",
       "  'gender': 1},\n",
       " {'text': \"That's awesome! It's a very prestigious line of guitars, first sold in 1952! Plenty of famous people have Gibson Les Paul's.\\nI did not know they started making Gibson les Paul's that long ago. They make quality guitars.\\nIndeed, the Les Paul has been continually produced in countless versions and editions since its release, so there is lots of variety in that time span!\\nDo you know where the make the Les Paul guitars?\\nI'm unsure of where, but I do know that it was designed by Ted McCarthy, factory manager John Huis and their team, along with the guitarist Les Paul. \\nThat is interesting. Did Les Paul play in a famous band?\\nNot in a band but he did make music himself! He was known for jazz and popular music, he's considered the pioneer of the solid-body electric guitar.\\nOh wow. I did not know that. I will have to look up some of his music.\\nYou should! He experimented with various types of music and had some unique sounds for his time. \",\n",
       "  'chosen_topic': 'Gibson Les Paul',\n",
       "  'gender': 0},\n",
       " {'text': 'I\\'d agree with that, he\\'s won 16 grand slam singles titles!\\nWhat do you think was he\\'s best grand slam victory ever?\\nI think all of his victories were great, I can\\'t decide, they don\\'t call him \"The King of Clay\" for nothing!\\nWho do you think is he\\'s greatest adversary?\\nAndre Agassi for sure. They may have not competed at the same time but he completed the golden slam first.\\nWhat about Federer? He and Nadal seem to be Neck and neck.  \\nYeah I guess Federer would be even more appropriate seeming he\\'s won more Grand Slam titles.',\n",
       "  'chosen_topic': 'Rafael Nadal',\n",
       "  'gender': 0},\n",
       " {'text': \"I love his movies\\nHe was born on January 17th, 1962.\\nOh hes quite old.\\nI know, James Eugene Carrey looks good for his age.\\nYea he does and hes so funny and cool.\\nHe's not even just an actor, but also a comedian and impressionist.\\nHes so good at comedy so it makes sense\",\n",
       "  'chosen_topic': 'Jim Carrey',\n",
       "  'gender': 0},\n",
       " {'text': \"He's most well known for his best selling novel The Notebook, perhaps you've heard of it, but never read it?\\nOh, i've watched a movie it was great\\nI've never seen it, but I've heard good reviews about it. The book was quite popular, it made New York Times best-seller list in its first week of release.\\nhow cool! it was a very good movie! i cried a lot! I wanna know more about this autor\\nWell just some background, he was born in Omaha, Nebraska and wrote his first novel in 1985 while he was a student at the University of Notre Dame.\\nwow, do you know the name of his first novel?\\nYes it was called The Passing, though his first published work didn't come until 1990.\\nwhat was the passing about?\\nI'm not sure to be honest I've never read it. His first published book was called Wokini: A Lakota Journey to Happiness and Self-Understanding just for reference. \",\n",
       "  'chosen_topic': 'Nicholas Sparks',\n",
       "  'gender': 0},\n",
       " {'text': \"How big do they get?\\nThey can range in their length.\\nOh what else can you tell me? What do they eat?\\nThey're herbivores, so they eat a lot of plants.\\nGood to know cause I was a little scared of them lol\\nThey have a third eye, so it would be bad if they weren't.\\nNow that is just plain creepy lol\\nIt is, but you wouldn't have to worry about them unless you lived in mexico or south america.\",\n",
       "  'chosen_topic': 'Iguana',\n",
       "  'gender': 0},\n",
       " {'text': 'Tell me more about that, I am very interested.\\nThe third season of Rick and Morty ended on October 1, 2017.\\nThat is truly sad times, I wish there was another season out right now.\\nA fourth season has been discussed, and hinted at in the post-credits scene of the third season finale.\\nThat is amazing, i will have to go and watch that post credit scene.\\nRick and Morty has received universal acclaim.\\nYes, it is quite amazing to watch and I love all of it.',\n",
       "  'chosen_topic': 'Rick and Morty',\n",
       "  'gender': 0},\n",
       " {'text': \"Hi i am not sure but if it's true it sounds funny. Don't you think?\\nYeah especially since he is known for his slapstick performances!\\nYeah i like him as an actor. I think that he's pretty cool. What about you? What are your thoughts regarding him?\\nI like him a lot, I think he's genuine because he can do anything. He was in dumb and dumber and had a little different role in liar liar\\nYear i believe he's a great actor, i love his movies.\\nYeah his very serious role in eternal sunshine of the spotless mind was pretty intense\\nYeah i wish i could've meet him in real life.\\nWell he is still working as a producer and other things, so maybe you will run into him at an event\\nYeah i would like that someday. What about you would you like to meet him?\",\n",
       "  'chosen_topic': 'Jim Carrey',\n",
       "  'gender': 0},\n",
       " {'text': 'Wow,  she must be have a bunch of talent to be all that\\nSure! She presents choreographed violin performances, both live and in music videos found on her eponymous YouTube channel, \\nWhen did she come to limelight \\nHer music video \"Crystallize\" finished as the eighth-most watched video of 2012, and her cover version of \"Radioactive\" with Pentatonix won Response of the Year \\nOhhh,  she has sang with pentatonix,  I love them.  So what is your favorite song of hers\\nCrystallize,a song by American violinist Lindsey Stirling from her self-titled studio album\\nOh,  I see.  Please  tell me more about her,  because I\\'m loving her already \\nStirling\\'s eponymous debut album was a commercial success in Europe, selling 200,000 copies in Germany, winning a platinum certification; three additional certifications were given by Austria\\nWow.  That is huge success',\n",
       "  'chosen_topic': 'Lindsey Stirling',\n",
       "  'gender': 0},\n",
       " {'text': \"I don't but would love to if you convince me about it :)\\nIts great to unwind and relax and play a few tunes, especially with friends round.  There are 3 main types, the acoustic guitar, the steel-string and the archtop.  I have just about masted the steel string so far.\\nAmazing, do you know the history of when they started using it?\\nthe oldest guitar is around 3500 years old! The modern guitar was preceded by the gittern, then the vihuela and before that the four course renaissance guitar.\\nNice, what types of guitars are out there?\\nWell I think the coolest are the electric guitars.  They use one or more pickups to convert the string vibrations into electric signals.  examples are The Fender Stratocaster or The Gibson Les Paul\\nAmazing information. How much do you think it would cost to buy one?\\nYou can pick up a cheap guitar for 40 dollars but for the The Fender Stratocaster you can be talking 1500 dollars or more!!\",\n",
       "  'chosen_topic': 'Guitar',\n",
       "  'gender': 0},\n",
       " {'text': 'My kids love it!  It\\'s  part of the \"My Little Pony\" toy franchise - my kids watch the show and have the toys!\\nYea I bet its really popular among children, I have lots of the MLP toys, Who makes the MLP toys do you know? \\nI think they are made by Hasbro - interestingly, the show garnered a lot of praise from parental groups and television critics! That doesn\\'t happen often!\\nYes I think something like that is pretty rare, MLP in my opinion caters to a wide spectrum of people and even adults.\\nThe show was actually developed to appeal to girls, their target demographic! But my son loves the show anyway!\\nThat\\'s awesome, The shows animation is so good that even adults like moms will enjoy watching it, especially with their kids. \\nThere\\'s quite a fandom out there - they call themselves bronies or brony - that\\'s a combination of \"bro\" and \"pony\"  LOL\\nOh yes, I have heard of them, They have conventions every year if I\\'m not mistaken. Do you happen to know where the next one will be held?\\nBronyCon?  I don\\'t know when the next one is, but the 2016 BronyCon had 7,609 attendees!',\n",
       "  'chosen_topic': 'My Little Pony: Friendship Is Magic fandom',\n",
       "  'gender': 1},\n",
       " {'text': \"I like Saturday Night Live, but never saw Fallon's late night show.\\nYeah following SNL and some movies he returned to television as the host of the Tonight Show\\nHuh, that's interesting. He made an appearance in Jurassic World, didn't he?\\nI don't believe so, I think that he has just done some comedy albums and has written 5 books.  \\nOh, that's neat. Have you listened to any of the albums or read the books?\\nI havent haha, The only thing that Ive seen him in besides his show and SNL is his movie Fever PItch from 2005\\nI've never seen that one. I'd be willing to give one of his albums a try though.\\nYeah they would be good.  He was actually born in Brooklyn which is what got him involved in SNL\\nCool! My girlfriend's parents are from Brooklyn. I'll have to ask them if they're fans.\",\n",
       "  'chosen_topic': 'Jimmy Fallon',\n",
       "  'gender': 0},\n",
       " {'text': 'Me too, his music is so catchy! Do you know where he was born?\\nHe was born in Halifax, West Yorkshire. However, he was raised in Framlingham, Suffolk.\\nHow did he get involved in the music scene?\\nHe actually attended the Academy of Contemporary Music as an undergrad.\\nWhen did he first start gaining notoriety?\\nHe came out with No  in 2011 and continued to gain fame since then.\\nHas he won any awards for his music?',\n",
       "  'chosen_topic': 'Ed Sheeran',\n",
       "  'gender': 0},\n",
       " {'text': 'Can\\'t say I do, who is he?\\nHe is an author, among other things. Maybe you\\'ve seen the movies the Notebook or A Walk To Remember? The latter stars Mandy Moore and Shayne West, among others!\\nAhh right, Ryan Gosling was in The Notebook, yeah Nicholas Sparks is a writer.\\nYeah, Ryan Gosling and Rachel McAdams made such a cute couple in that movie. I think they won an award for best on-screen kiss.\\nlol fancy winning an award for an on screen kiss, easy money huh? Yeah the film was a hit I remember, both good actors.\\nYeah, I want to say it was a Nickelodeon Teen\\'s Choice Award? \"If you\\'re a bird, I\\'m a bird.\" \\nYeah I guess it was a coming of age film, yes that quote, \\'If you\\'re a bird..etc\\' comes form the pen of Nicholas Sparks, famous quote.',\n",
       "  'chosen_topic': 'Nicholas Sparks',\n",
       "  'gender': 0},\n",
       " {'text': \"Yeah I love the way it sounds.\\nits either a hollow wooden body or uses an amplifier\\nThey both sound so different since one is acoustic and one is electric.\\nyea, guitars usually only have 6 strings\\nThat makes sense, same with stuff like the bass.\\nyou play it by plucking the strings with a pick\\nCan't you just use your fingers too?\\nyea fingers, thumbs, or fingernails all work\\nHmm that's interesting!\",\n",
       "  'chosen_topic': 'Guitar',\n",
       "  'gender': 0},\n",
       " {'text': \"Oh yes, that is an amazing race!\\nDo you know when the race was first organized?\\nI don't. Tell me about it.\\nIt seem it was in 1903, and its purpose was to increase sales for the newspaper L'Auto\\nWow, and look at what it is now.  Didn't Lance Armstrong win many times?\\nYes, seven times, but after admitting to doping the award were voided.\\nOh goodness that's terrible.\\nYes he was banned from sanctioned Olympic sports for life too\\nThat is such a shame.\",\n",
       "  'chosen_topic': 'Tour de France',\n",
       "  'gender': 0},\n",
       " {'text': \"Yes she definetely has made quite the stir.  As i recall her name was miley Stewart on that show and it's to bad she was not the teen idol she could have been.\\nI am not really sure if that is real Miley or is it just some PR stunt to get more publicity, but it is truly sad to see her in such an image\\nIt is sad that Miley and other actors feel that have to use sexually explicit behavior to get the attention of higher up executives in the fields and move their careers up\\nIndeed. I think it has become a normal thing in Hollywood to cause a stir in the form of controversy to make your way up\\nIt's to bad her father Billy Ray couldn't have had more of an influence on her b/c they always seemed like they were close\\nProbably. But her recent appearance in several released social media images indicates some hope that she is returning to normal again\\nThat would be great!  Maybe as she gets older she will focus more on her acting career as an adult an do things that are more suited to an image that reflects that.\",\n",
       "  'chosen_topic': 'Miley Cyrus',\n",
       "  'gender': 1},\n",
       " {'text': \"I do.  Not well.  It is a fretted intrument with six strings\\nYes I know. I have an acoustic guitar. It's made of mahogany. \\nWhat kind of guitar to you have?  I have always liked the Gibson Hummingbird.  It is their first square shoulder dreadnought\\nWow, yeah that's a nice one. I have a Washburn guitar.\\nNice.  They have been around a long time.  Since 1883 and were based out of Chicago.\\nReally? I had no idea they were so old. Do you know how old guitars have been around for?\\nI really do not.  I know it originated from something called the gittern\",\n",
       "  'chosen_topic': 'Guitar',\n",
       "  'gender': 0},\n",
       " {'text': \"I know a bit. I know his artwork is a conglomeration of mass produced objects.\\nI especially love his various works using matchsticks. Have you seen them?\\nI have! They are absolutely amazing. He is extremely talented. I don't understand how someone can make match sticks, coat hangers and newspapers look so incredible.\\nIt blows my mind too! I am absolutely stunned at his piece of Marilyn Monroe. His Nikola Tesla piece is pretty rad too.\\nI have not seen that one, I will have to look it up. Nikola Tesla was an inventor and engineer, correct?\\nYes he was. A brilliant one, I might add. Apparently Einstein stole more than a few of his ideas. It's amazing that David Mach chose to immortalize Tesla through art.\\nWhat are some of his other styles you enjoy? Have you seen his early magazine pieces such as Adding Fuel to the Fire?\",\n",
       "  'chosen_topic': 'David Mach',\n",
       "  'gender': 0},\n",
       " {'text': \"Yes, I have one of the more common ones, the green iguana. \\nAwesome. They are very good swimmers. I take them in our pool outside sometimes. They look a lot like dinosaurs!\\nHow big are yours? Mine are fairly small. \\nThey are close to 1 meter. Do you know where iguanas originate?\\nThey were first described in 1768 by an Austrian naturalist. \\nInteresting, and from what area of the world are they from?\\nThey can be found in Mexico, Central America, South American, and the Caribbean\\nCool. I just bought mine at the pet store! It's amazing to think they come from these areas. \\nDoes yours have scales behind their neck?\",\n",
       "  'chosen_topic': 'Iguana',\n",
       "  'gender': 0},\n",
       " {'text': \"Interesting, I think they are a traditional Vietnamese breed of small domestic pig,rright?\\nyes they are. they are all under 100 pounds full grown. i have some that are around 25 pounds full grown.\\nAs I've read they are black and has short legs and a low hanging belly, that give them their name. Are yours like that?\\nyes they are, i even have some that are white with black legs\\nAnd do you breed them for their meat? I've heard it has a good flavor.\\nyes i do. We also sell them as house pets.\\nI think they originated in Nam Dinh province of Vietnam.\\nIm not sure. but they sure do have their own personalities. they are very playful\\nAnd they must look funny, with a belly that I believe in some cases may drag on the ground.\",\n",
       "  'chosen_topic': 'Vietnamese Pot-bellied',\n",
       "  'gender': 0},\n",
       " {'text': 'Nice.  I have always been a big Atlanta Braves fan\\nCool, Trout is a six-time MLB All-Star. That is impressive.\\nThat is very impressive.  Are the Angels a good team\\nYeah they are pretty decent. They used to be called the Anaheim Angels.\\nNice.  When did they change their name?\\nIt was a court case and they switched in 2014 after Orange county lost in court.\\nWow.  That is interesting.  Do they have any other famous players',\n",
       "  'chosen_topic': 'Mike Trout',\n",
       "  'gender': 0},\n",
       " {'text': 'He is amazing right? He was an American painter, art instructor, and television host.\\nhe was so insanely amazing and nice, great human being\\nYeah, his show \"The Joy of Painting\" was on PBS from 1983 to 1994. I liked to watch it a lot.\\ni love falling asleep to his twitch stream that plays all day. its so soothing.\\nFunny you mention that. He gained a lot of popularity on YouTube after his death. Nice to see a new generation appreciate his work.\\ndefinitely, so sad he and his wife died of cancer, a disgusting fate for such a great person\\nPoor family to go through that. Bob has a half-brother named Jim, who he mentioned on his show.\\nyea he was on it a few times i think he had some kids on it too.\\nHe actually lost part of his left index finger from a carpenter accident.',\n",
       "  'chosen_topic': 'Bob Ross',\n",
       "  'gender': 0},\n",
       " {'text': 'How many people make up the band?\\nI think  they are four in number , the majority of their career, the group consisted of Michael \"Mike D\" Diamond (vocals, drums), Adam \"MCA\" Yauch (vocals, bass) and Adam \"Ad-Rock\" Horovitz \\nHow many record did they sell?\\nA lot,  The Beastie Boys have sold 26 million records in the United States and 50 million records worldwide\\nWhat was their first album?\\nI don\\'t  really know,  After achieving moderate local success with the 1983 experimental hip hop 12-inch single \"Cooky Puss\", Schellenbach dropped out \\nHow were they discovered?',\n",
       "  'chosen_topic': 'Beastie Boys',\n",
       "  'gender': 0},\n",
       " {'text': 'Most definitely. They are currently on Netflix.\\nIts so nostalgic. Bob Ross\\'s show \"The Joy of Painting\" originally aired from 1983 to 1994. What a long run.\\nI remember watching it and being unable to change the channel.\\nBob Ross is really mesmerizing. Before it got on Netflix, the influx of attention was because he got so popular on Youtube.\\nI can definitely see that. Netflix was smart to pick up the series.\\nBob Ross was raised in Orlando Florida by his parents Jack and Ollie Ross. I bet he had some great landscape to paint out there.\\nWhen did he die?',\n",
       "  'chosen_topic': 'Bob Ross',\n",
       "  'gender': 0},\n",
       " {'text': \"I'm not sure on the echo but I use the Amazon Alexa which is similar they both are like personal assistant devices. \\nWhen did the echo first debut?\\nIt became available worldwide in June 2015. What will you be using the echo for if deciding to purchase one?\\nI'm not sure. What are some of it's features?\\nSo what made you just decide I want a echo? Some features I use my Alexa for is music streaming, alarms reminders things like that.\\nI just hear about it a lot in the media and I like to stay updated with new technology? Do I have to be an Amazon Prime user to purchase one?\\nNo it is more of a smart speaker with Amazon where a to Amazon prime is a membership for shipping from Amazon. \\nAre there any privacy concerns I should know about when using the device?\\nWith the Echo no your privacy is well covered privacy issues is only a concern when you are protecting your information through social media etc the echo is strictly a speaker voice assistant. \",\n",
       "  'chosen_topic': 'Amazon Echo',\n",
       "  'gender': 0},\n",
       " {'text': 'Aww..I bet it was cute! I read that lizards are native to tropical areas of Mexico, central america, south america, and the carribean\\nI live in a sub-tropical area. I used to take him out on the beach and he liked to swim in the surf.\\nThere are two species of \"Iguana\" the green iguana and the lesser antillaean Iguana\\nJunior was a green iguana. His favorite food was Strawberries.\\nI read they can range in length including their tail.  About how long was yours?\\nHe wasn\\'t super long. Maybe a couple of feet. Kinda a little guy as iguanas go.\\nI read that they have a third eye on their heads\\nDo they really? I never noticed that. One fun factoid though: I fed him a vegetarian diet. If you feed them meat, you risk salmonella when handling them.\\nI also read they have a row of spines running down their backs',\n",
       "  'chosen_topic': 'Iguana',\n",
       "  'gender': 0},\n",
       " {'text': \"Yes! Stephen King is quite popular, no wonder his books have sold more than 350 million copies, many of which have been adapted into feature films and television series!\\nWow, that's awesome!  I've read The Stand, and that was one long book!\\nAlong with long books, he has also written around 200 short stories, most of which has been collected in book collections.\\nThat's amazing!  I've seen a few of his movies, but I don't remember what they were though - have you seen any?\\nI've seen Stephen King's most recent film addition, I think it was the clown movie called IT? I've also seen that movie called The Dark Tower which was a few years ago.\\nYes!  IT was one of the ones I've seen!  I bet he's been writing a long time considering all the books and short stories he's written!\\nYes, he is one experienced writer for sure. He has published over 54 acclaimed novels, including seven under the pen name Richard Bachman!\",\n",
       "  'chosen_topic': 'Stephen King',\n",
       "  'gender': 0},\n",
       " {'text': \"Yes! Jimi Hendrix is famous for his version of the National Anthem, as performed at Woodstock, right?\\nYes that is him he was also the Rock and Roll Hall of Fame greatest in rock.\\nHow interesting. When was he inducted into the Rock and Roll Hall of Fame?\\nHe got that Hall of Fame back in April 1983 a while ago he is a legend.\\nHow impressive. What is Jimi Hendrix's background? Where is he from? When was he born?\\nHe was born November 27th 1942 in Seattle, Washington a great man and guitarist. \\nDo you know of any other famous people from Seattle, Washington?\",\n",
       "  'chosen_topic': 'Jimi Hendrix',\n",
       "  'gender': 0},\n",
       " {'text': 'I think Justin Drew Bieber, the Canadian singer is a fantastic singer\\nsome of his music isnt too bad, but i dont care much for it.\\nFor a musican that was discovered for his awesome Youtube videos and signed  I think he must be good \\nwhen was that? seems like its been a while.\\n2008. His first album after being signed on \"my world\" had seven songs that got to the billboard chart hot 100 songs.\\nwow time sure does fly, 10 years already.\\nYes, I am sure you are familiar with \"Under the Mistletoe\" which was available November 2011. It got to number 1 when it was released in 2011',\n",
       "  'chosen_topic': 'Justin Bieber',\n",
       "  'gender': 0},\n",
       " {'text': \"I never know that was his real name! I don't know much about him. \\nHe was born in  Honolulu Hawaii and comes from a  family of musicians and began as a child playing in various local venues.\\nI also did not know he was from Hawaii. Didn't he play at the Super Bowl a few years back?\\nAfter graduating highscool he went to LA to try to jump start his musical career.\\nWhat are some of his biggest hits?\\nMotown Record labels dropped him but Atlantic signed him in 2009.\\nWow, I bet Motown regrets dropping him. Do you have any favorite songs of his?\\nHe has been featured on hooks and and singles for other artists and also perform as a single artist.\\nIs the song Happy by Bruno Mars?\",\n",
       "  'chosen_topic': 'Bruno Mars',\n",
       "  'gender': 0},\n",
       " {'text': 'I don\\'t know much about sculptors at all. I do love art, too, though.\\nMany people call sculpture one of the  plastic arts\\nI\\'ve never heard of that term. What does \"plastic art\" mean?\\nAny form is visual are is plastic art. painting, sculpture name it\\nSo what forms of art are left that wouldn\\'t be considered plastic art?\\nA sculptor can use any form of material he chooses. But sculpting requires the sole process of carving, assembled by welding or modelling, or molded, or cast.\\nWell now I feel as if  you\\'re just being repetitive and ignoring my questions :(',\n",
       "  'chosen_topic': 'David Mach',\n",
       "  'gender': 0},\n",
       " {'text': \"I remember Lance Armstrong winning a bunch of those, but wasn't he a cheater?\\nEffectively, he was stripped of his seven wins, but it is a very tough event,\\nYes, I have heard that.  How many days does the race last?\\nAlmost a month, and in the July heat, so it is very demanding. \\nIt is, and isn't the terrain very hilly?\\nYeah, it goes through mountain chains like the Alps or the Pyrénées.\\nThat must be tough going through those mountains.  How fast do the bikes travel?\\nIt depends, in a mountain  (;like the Alps) they can maintain 15 mph, which is very fast for an incline. On the flat, like Champs-Élysée, they can go at 40 mph.\\nWow, that is fast.  It would be scary going 40 mph in a pack of bicycles.\",\n",
       "  'chosen_topic': 'Tour de France',\n",
       "  'gender': 0},\n",
       " {'text': \"Not much,  but I know a few things.  For example, I know the guitar is a type of chordophone, traditionally constructed from wood and strung with either gut, nylon or steel string.\\nThat's interesting, what exactly is a chordophone?\\nA chordophone is a musical instrument that makes sound by way of a vibrating string stretched between two points.\\nThat makes sense, do you know when the guitar was invented?\\nNot exactly, but the modern guitar was preceded by the gittern, the vihuela, the four-course Renaissance and the five-course baroque guitar.\\nWow it sounds like it has quite the history, what exactly is a gittern?\\nA guittern was a small gut instrument that first appears in literature during 13th century in Western Europe.\\nFascinating, do you know anything cool about the electric guitar?\\nWell an electric guitar uses one or more pickups to convert the vibration of its string into electrical signals.\",\n",
       "  'chosen_topic': 'Guitar',\n",
       "  'gender': 0},\n",
       " {'text': 'No...who are the Beastie boys\\nThe Beastie Boys were a hip hop group from New York City. They were 3 white, Jewish rappers who made it in the world of rap music. They\\'re pretty legendary.\\nWow...tell me more about them...I love hip hop\\nIt\\'s funny because The Beastie Boys started out as a punk band but then turned to rap music. They had a great first album called \"Licensed To Ill\" but I always liked \"Paul\\'s Boutique\" better.\\nThat\\'s lovely, the Beastie boys are good. What year did they hit the radio waves?\\nWell they toured with Madonna in 1985 and then released License To Ill and that album just exploded. They\\'re the biggest selling rap group of all time.\\nThis is interesting. Did they win any granny?\\nI don\\'t know but they\\'ve sold 50 million records worldwide. Not bad!\\nWow, that\\'s great. The beastie boys are good',\n",
       "  'chosen_topic': 'Beastie Boys',\n",
       "  'gender': 0}]"
      ]
     },
     "execution_count": 206,
     "metadata": {},
     "output_type": "execute_result"
    }
   ],
   "source": [
    "data2"
   ]
  },
  {
   "cell_type": "code",
   "execution_count": 238,
   "id": "155edae4-bd7a-4929-bee8-ce8bcc77a7e1",
   "metadata": {},
   "outputs": [],
   "source": [
    "with open(\"data/biasbios/dev.pickle\", \"rb\") as fin:\n",
    "    x = pickle.load(fin)"
   ]
  },
  {
   "cell_type": "code",
   "execution_count": 254,
   "id": "e9dbcdc5-892a-4452-80c1-8858c45d11de",
   "metadata": {},
   "outputs": [],
   "source": [
    "import random\n",
    "short_x = random.sample(x, 1200)"
   ]
  },
  {
   "cell_type": "code",
   "execution_count": 255,
   "id": "aa67b8b1-44a9-4bda-8fc1-887a0a19a46f",
   "metadata": {},
   "outputs": [],
   "source": [
    "short_x_train, short_x_dev, short_x_test = short_x[:1001], short_x[1001:1070], short_x[1070:]"
   ]
  },
  {
   "cell_type": "code",
   "execution_count": 259,
   "id": "00a6b098-bb0e-45f3-a622-2ec08f24caa2",
   "metadata": {},
   "outputs": [],
   "source": [
    "with open(\"data/biasbios/short/test1.pickle\", \"wb\") as fout:\n",
    "    pickle.dump(short_x_test, fout)"
   ]
  },
  {
   "cell_type": "code",
   "execution_count": 307,
   "id": "d32e47cb-5e2d-4446-bec3-d4b41846cd59",
   "metadata": {},
   "outputs": [],
   "source": [
    "splits = [\"train\", \"dev\", \"test\"]"
   ]
  },
  {
   "cell_type": "code",
   "execution_count": 308,
   "id": "b1e17bad-c24f-4a3e-ad7b-68c083419684",
   "metadata": {},
   "outputs": [],
   "source": [
    "all_data = []\n",
    "for split in splits:\n",
    "    with open(f\"data/md_gender/wikipedia/{split}.pickle\", \"rb\") as fin:\n",
    "        d = pickle.load(fin)\n",
    "        all_data.extend(d)"
   ]
  },
  {
   "cell_type": "code",
   "execution_count": 313,
   "id": "865705d9-0b34-42da-a8c8-e4ce43dffe77",
   "metadata": {},
   "outputs": [],
   "source": [
    "binary_data = list(filter(lambda x:x[\"gender\"] in [0,1], all_data))"
   ]
  },
  {
   "cell_type": "code",
   "execution_count": 315,
   "id": "b7d16729-0a06-42fe-a591-86c865755c86",
   "metadata": {},
   "outputs": [
    {
     "data": {
      "text/plain": [
       "0.9181120046434557"
      ]
     },
     "execution_count": 315,
     "metadata": {},
     "output_type": "execute_result"
    }
   ],
   "source": [
    "len(binary_data)/n"
   ]
  },
  {
   "cell_type": "code",
   "execution_count": 316,
   "id": "7b8797d2-ceb7-4266-958a-1e595083ac9f",
   "metadata": {},
   "outputs": [],
   "source": [
    "random.shuffle(binary_data)"
   ]
  },
  {
   "cell_type": "code",
   "execution_count": 317,
   "id": "a7bf9582-4c74-445c-a773-8e3eaae6e332",
   "metadata": {},
   "outputs": [],
   "source": [
    "binary_n = len(binary_data)\n",
    "chunk = 1000000"
   ]
  },
  {
   "cell_type": "code",
   "execution_count": 288,
   "id": "af1324eb-1515-4803-bff4-24bf5b89a010",
   "metadata": {},
   "outputs": [],
   "source": [
    "import os\n",
    "from utils.DataUtils import process_dataset"
   ]
  },
  {
   "cell_type": "code",
   "execution_count": null,
   "id": "c2386b04-094d-41e6-97fa-ba715de3bd4a",
   "metadata": {},
   "outputs": [],
   "source": [
    "count = 0\n",
    "for i in range(0,n,chunk):\n",
    "    this_chunk = binary_data[i:i+chunk]\n",
    "    train, val_test = train_test_split(this_chunk, test_size=0.35)\n",
    "    test, val = train_test_split(val_test, test_size=0.25)\n",
    "    for split_name, split in zip(splits, [train, val, test]):\n",
    "        with open(f\"data/md_gender/wikipedia_binary/{count}.{split_name}.pickle\", \"wb\") as fout:\n",
    "            pickle.dump(split, fout)\n",
    "    count += 1\n",
    "    "
   ]
  },
  {
   "cell_type": "code",
   "execution_count": 283,
   "id": "a966891f-7292-4319-b0fd-c2e68286281e",
   "metadata": {},
   "outputs": [
    {
     "name": "stdout",
     "output_type": "stream",
     "text": [
      "87500\n"
     ]
    }
   ],
   "source": [
    "with open(\"data/md_gender/wikipedia/0.dev.pickle\", \"rb\") as fin:\n",
    "    x = pickle.load(fin)\n",
    "    print(len(x))"
   ]
  },
  {
   "cell_type": "code",
   "execution_count": 284,
   "id": "7eaee7ff-c4af-4339-bfae-0315d2bb866d",
   "metadata": {},
   "outputs": [],
   "source": [
    "### grab random samples from datasets"
   ]
  },
  {
   "cell_type": "code",
   "execution_count": 299,
   "id": "8c58e530-16c1-4df4-86cd-435ee1610daf",
   "metadata": {},
   "outputs": [],
   "source": [
    "datasets = {\"biasinbios\": \"data/biasbios/\", \"wikipedia\": \"data/md_gender/wikipedia/\", \"wizard\": \"data/md_gender/wizard/\"}\n",
    "n_samples = 10\n"
   ]
  },
  {
   "cell_type": "code",
   "execution_count": 305,
   "id": "a1fb9844-96bb-49b3-b5d2-7841b24c42ed",
   "metadata": {},
   "outputs": [
    {
     "name": "stderr",
     "output_type": "stream",
     "text": [
      "100%|█████████████████████████████████████████████████████████████████████████████████████████| 255710/255710 [00:00<00:00, 492816.98it/s]\n",
      "100%|██████████████████████████████████████████████████████████████████████████████████████| 6943105/6943105 [00:03<00:00, 1844230.72it/s]\n",
      "100%|████████████████████████████████████████████████████████████████████████████████████████████| 1129/1129 [00:00<00:00, 1020114.01it/s]\n"
     ]
    }
   ],
   "source": [
    "for ds_name in datasets.keys():\n",
    "    with open(os.path.join(datasets[ds_name],\"train.pickle\"), \"rb\") as fin:\n",
    "        ds = pickle.load(fin)\n",
    "    text, label, gender = process_dataset(ds_name, ds, \"raw\")\n",
    "    df = pd.DataFrame(data={\"text\": text, \"gender\": gender})\n",
    "    samples = df.sample(n_samples)\n",
    "    samples[\"text\"].to_csv(f\"{ds_name}_{n_samples}.csv\")\n",
    "    samples.to_csv(f\"{ds_name}_{n_samples}_gold.csv\")"
   ]
  },
  {
   "cell_type": "code",
   "execution_count": 306,
   "id": "fd03ef4b-2199-48ab-b810-129cea013b86",
   "metadata": {},
   "outputs": [
    {
     "name": "stderr",
     "output_type": "stream",
     "text": [
      "100%|█████████████████████████████████████████████████████████████████████████████████████████| 255710/255710 [00:00<00:00, 823856.06it/s]\n"
     ]
    }
   ],
   "source": [
    "ds_name = \"biasinbios\"\n",
    "with open(os.path.join(datasets[ds_name],\"train.pickle\"), \"rb\") as fin:\n",
    "        ds = pickle.load(fin)\n",
    "text, label, gender = process_dataset(ds_name, ds, \"scrubbed\")\n",
    "df = pd.DataFrame(data={\"text\": text, \"gender\": gender})\n",
    "samples = df.sample(n_samples)\n",
    "samples[\"text\"].to_csv(f\"{ds_name}_scrubbed_{n_samples}.csv\")\n",
    "samples.to_csv(f\"{ds_name}_scrubbed_{n_samples}_gold.csv\")"
   ]
  },
  {
   "cell_type": "code",
   "execution_count": 347,
   "id": "13136e20-b6f2-463b-b85e-e3423b141a21",
   "metadata": {},
   "outputs": [],
   "source": [
    "### grab random samples from queries"
   ]
  },
  {
   "cell_type": "code",
   "execution_count": 11,
   "id": "53484c53-a57c-4c0d-8844-c141c7ae52e6",
   "metadata": {},
   "outputs": [],
   "source": [
    "male_q = pd.read_json(\"/home/seraphina/contriever/beir/nq-train-new-male/queries.jsonl\", lines=True)\n",
    "female_q = pd.read_json(\"/home/seraphina/contriever/beir/nq-train-new-female/queries.jsonl\", lines=True)\n",
    "neutral_q = pd.read_json(\"/home/seraphina/contriever/beir/nq-train-new-complement/queries.jsonl\", lines=True)\n",
    "gender_q = pd.read_json(\"/home/seraphina/contriever/beir/nq-train-new-gender/queries.jsonl\", lines=True)"
   ]
  },
  {
   "cell_type": "code",
   "execution_count": 12,
   "id": "574c7019-52e6-480d-8571-6c3652e3d201",
   "metadata": {},
   "outputs": [],
   "source": [
    "male_q[\"orig_gender\"] = \"m\"\n",
    "female_q[\"orig_gender\"] = \"f\"\n",
    "neutral_q[\"orig_gender\"] = \"n\"\n",
    "gender_q[\"orig_gender\"] = \"g\""
   ]
  },
  {
   "cell_type": "code",
   "execution_count": 13,
   "id": "31fd6740-0029-408b-ba2b-b65c52d07a13",
   "metadata": {},
   "outputs": [],
   "source": [
    "for df, df_name in [(male_q, \"male\"), (female_q, \"female\"), (neutral_q, \"nongender\"), (gender_q, \"gender\")]:\n",
    "    del df[\"metadata\"]\n",
    "    df.to_csv(f\"all_nq_queries_{df_name}.csv\")"
   ]
  },
  {
   "cell_type": "code",
   "execution_count": 389,
   "id": "5457e328-c430-44a8-8744-ebee78d7815f",
   "metadata": {},
   "outputs": [],
   "source": [
    "all_samples = []\n",
    "gender_num, neutral_num = 142, 500\n",
    "male_df = male_q.sample(gender_num)\n",
    "male_df[\"orig_gender\"] = \"m\"\n",
    "female_df = female_q.sample(gender_num)\n",
    "female_df[\"orig_gender\"] = \"f\"\n",
    "neutral_df = neutral_q.sample(neutral_num)\n",
    "neutral_df[\"orig_gender\"] = \"n\"\n",
    "\n",
    "samples_df = pd.concat([male_df, female_df, neutral_df], ignore_index=True)\n",
    "del samples_df[\"metadata\"]"
   ]
  },
  {
   "cell_type": "code",
   "execution_count": 390,
   "id": "fa8d4a43-5c49-4255-bfd5-fd1a4fa1cce3",
   "metadata": {},
   "outputs": [],
   "source": [
    "samples_df = samples_df.sample(frac=1, ignore_index=True)"
   ]
  },
  {
   "cell_type": "code",
   "execution_count": 391,
   "id": "417ce502-3052-4e10-9327-2e4635d61ff7",
   "metadata": {},
   "outputs": [
    {
     "data": {
      "text/html": [
       "<div>\n",
       "<style scoped>\n",
       "    .dataframe tbody tr th:only-of-type {\n",
       "        vertical-align: middle;\n",
       "    }\n",
       "\n",
       "    .dataframe tbody tr th {\n",
       "        vertical-align: top;\n",
       "    }\n",
       "\n",
       "    .dataframe thead th {\n",
       "        text-align: right;\n",
       "    }\n",
       "</style>\n",
       "<table border=\"1\" class=\"dataframe\">\n",
       "  <thead>\n",
       "    <tr style=\"text-align: right;\">\n",
       "      <th></th>\n",
       "      <th>_id</th>\n",
       "      <th>text</th>\n",
       "      <th>orig_gender</th>\n",
       "    </tr>\n",
       "  </thead>\n",
       "  <tbody>\n",
       "    <tr>\n",
       "      <th>0</th>\n",
       "      <td>train1255</td>\n",
       "      <td>who was the guy that shot himself on tv</td>\n",
       "      <td>m</td>\n",
       "    </tr>\n",
       "    <tr>\n",
       "      <th>1</th>\n",
       "      <td>train1312</td>\n",
       "      <td>who played ms pearly on friday after next</td>\n",
       "      <td>f</td>\n",
       "    </tr>\n",
       "    <tr>\n",
       "      <th>2</th>\n",
       "      <td>train8811</td>\n",
       "      <td>who was the girl that played punky brewster</td>\n",
       "      <td>f</td>\n",
       "    </tr>\n",
       "    <tr>\n",
       "      <th>3</th>\n",
       "      <td>train3639</td>\n",
       "      <td>who is langley air force base named for</td>\n",
       "      <td>n</td>\n",
       "    </tr>\n",
       "    <tr>\n",
       "      <th>4</th>\n",
       "      <td>train31045</td>\n",
       "      <td>who wrote the song the greatest man i never knew</td>\n",
       "      <td>m</td>\n",
       "    </tr>\n",
       "    <tr>\n",
       "      <th>...</th>\n",
       "      <td>...</td>\n",
       "      <td>...</td>\n",
       "      <td>...</td>\n",
       "    </tr>\n",
       "    <tr>\n",
       "      <th>779</th>\n",
       "      <td>train31706</td>\n",
       "      <td>who played rhea perlman's husband on cheers</td>\n",
       "      <td>m</td>\n",
       "    </tr>\n",
       "    <tr>\n",
       "      <th>780</th>\n",
       "      <td>train560</td>\n",
       "      <td>who sang turn back the hands of time</td>\n",
       "      <td>n</td>\n",
       "    </tr>\n",
       "    <tr>\n",
       "      <th>781</th>\n",
       "      <td>train4457</td>\n",
       "      <td>who is the famous coach in facing the giants</td>\n",
       "      <td>n</td>\n",
       "    </tr>\n",
       "    <tr>\n",
       "      <th>782</th>\n",
       "      <td>train4445</td>\n",
       "      <td>who is considered the mother of philippine fol...</td>\n",
       "      <td>f</td>\n",
       "    </tr>\n",
       "    <tr>\n",
       "      <th>783</th>\n",
       "      <td>train12897</td>\n",
       "      <td>who sings the song i'll do anything for you</td>\n",
       "      <td>n</td>\n",
       "    </tr>\n",
       "  </tbody>\n",
       "</table>\n",
       "<p>784 rows × 3 columns</p>\n",
       "</div>"
      ],
      "text/plain": [
       "            _id                                               text orig_gender\n",
       "0     train1255            who was the guy that shot himself on tv           m\n",
       "1     train1312          who played ms pearly on friday after next           f\n",
       "2     train8811        who was the girl that played punky brewster           f\n",
       "3     train3639            who is langley air force base named for           n\n",
       "4    train31045   who wrote the song the greatest man i never knew           m\n",
       "..          ...                                                ...         ...\n",
       "779  train31706        who played rhea perlman's husband on cheers           m\n",
       "780    train560               who sang turn back the hands of time           n\n",
       "781   train4457       who is the famous coach in facing the giants           n\n",
       "782   train4445  who is considered the mother of philippine fol...           f\n",
       "783  train12897        who sings the song i'll do anything for you           n\n",
       "\n",
       "[784 rows x 3 columns]"
      ]
     },
     "execution_count": 391,
     "metadata": {},
     "output_type": "execute_result"
    }
   ],
   "source": [
    "samples_df"
   ]
  },
  {
   "cell_type": "code",
   "execution_count": 392,
   "id": "5dbde6ec-844c-42cb-90db-7a8ff9b63fc4",
   "metadata": {},
   "outputs": [],
   "source": [
    "samples_df[\"text\"].to_csv(\"nq_train_samples.csv\")\n",
    "samples_df.to_csv(\"nq_train_samples_gold.csv\")"
   ]
  },
  {
   "cell_type": "code",
   "execution_count": 356,
   "id": "b05e8967-4c6d-4a38-a3e5-910d6967c5bf",
   "metadata": {},
   "outputs": [],
   "source": [
    "male_female_overlap = set(male_q[\"_id\"].unique()) & set(female_q[\"_id\"].unique())"
   ]
  },
  {
   "cell_type": "code",
   "execution_count": 357,
   "id": "acca382c-a70f-476a-b0b7-3cf5c7c35054",
   "metadata": {},
   "outputs": [
    {
     "data": {
      "text/plain": [
       "97"
      ]
     },
     "execution_count": 357,
     "metadata": {},
     "output_type": "execute_result"
    }
   ],
   "source": [
    "len(male_female_overlap)"
   ]
  },
  {
   "cell_type": "code",
   "execution_count": 363,
   "id": "b0e720bd-dde8-4c9d-97a2-5adc50dd0cba",
   "metadata": {},
   "outputs": [],
   "source": [
    "male_q[male_q[\"_id\"].isin(male_female_overlap)].to_csv(\"both_gender_queries.csv\")"
   ]
  },
  {
   "cell_type": "code",
   "execution_count": 394,
   "id": "9367dd35-3e19-47de-8a3c-084ef3c9e51e",
   "metadata": {},
   "outputs": [],
   "source": [
    "with open(\"data/biasbios/test.pickle\", \"rb\") as fin:\n",
    "    biasbios = pickle.load(fin)"
   ]
  },
  {
   "cell_type": "code",
   "execution_count": 454,
   "id": "8b6111ea-a9ca-4afe-b923-f92d0040b345",
   "metadata": {},
   "outputs": [],
   "source": [
    "prof_dist = Counter(x[\"p\"] for x in biasbios)"
   ]
  },
  {
   "cell_type": "code",
   "execution_count": 459,
   "id": "86f2212d-7298-4083-8522-4c1aefc752fa",
   "metadata": {},
   "outputs": [
    {
     "name": "stdout",
     "output_type": "stream",
     "text": [
      "professor 30.02420076466282\n",
      "physician 9.803343366143334\n",
      "attorney 8.288253477588873\n",
      "photographer 6.183397055234686\n",
      "journalist 5.070975351826243\n",
      "nurse 4.821849833238429\n",
      "psychologist 4.650004067355405\n",
      "teacher 4.117180509232897\n",
      "dentist 3.6799398031399986\n",
      "surgeon 3.373871308874969\n",
      "architect 2.570568616285691\n",
      "painter 1.966566338566664\n",
      "model 1.9065728463353127\n",
      "poet 1.781501667615716\n",
      "filmmaker 1.781501667615716\n",
      "software_engineer 1.7550638574798667\n",
      "accountant 1.4367932969982917\n",
      "composer 1.4235743919303667\n",
      "dietitian 1.0107378182705604\n",
      "comedian 0.7107703571138045\n",
      "chiropractor 0.659928414544863\n",
      "pastor 0.6436589929228016\n",
      "paralegal 0.4484259334580656\n",
      "yoga_teacher 0.42198812332221586\n",
      "dj 0.37724721386154725\n",
      "interior_designer 0.3711461807532742\n",
      "personal_trainer 0.3640283087936224\n",
      "rapper 0.35691043683397056\n"
     ]
    }
   ],
   "source": [
    "for key, val in prof_dist.most_common():\n",
    "    print(key, val/sum(prof_dist.values())*100)"
   ]
  },
  {
   "cell_type": "code",
   "execution_count": 3,
   "id": "4398c66d-f373-4962-b38a-c8196b1e5801",
   "metadata": {},
   "outputs": [],
   "source": [
    "dev_vec = torch.load(\"data/biasbios/vectors_extracted_from_trained_models/contriever/seed_18/dev.vectors_raw_contriever_new.pt\")"
   ]
  },
  {
   "cell_type": "code",
   "execution_count": 10,
   "id": "8620e179-6f55-4464-a9db-aa8bbfbd1020",
   "metadata": {},
   "outputs": [
    {
     "data": {
      "text/plain": [
       "Counter({'m': 20565, 'f': 18804})"
      ]
     },
     "execution_count": 10,
     "metadata": {},
     "output_type": "execute_result"
    }
   ],
   "source": [
    "from collections import Counter\n",
    "Counter(dev_vec['z'])"
   ]
  },
  {
   "cell_type": "code",
   "execution_count": 407,
   "id": "7142c9d2-eeab-4cf6-8d4b-a587e50aa747",
   "metadata": {},
   "outputs": [],
   "source": [
    "dev_tok = torch.load(\"data/biasbios/dev.tokens_raw_bert.pt\")"
   ]
  },
  {
   "cell_type": "code",
   "execution_count": 426,
   "id": "f245caa6-d3cd-442e-8e57-c0178362c6b6",
   "metadata": {},
   "outputs": [
    {
     "data": {
      "text/plain": [
       "{'accountant',\n",
       " 'architect',\n",
       " 'attorney',\n",
       " 'chiropractor',\n",
       " 'comedian',\n",
       " 'composer',\n",
       " 'dentist',\n",
       " 'dietitian',\n",
       " 'dj',\n",
       " 'filmmaker',\n",
       " 'interior_designer',\n",
       " 'journalist',\n",
       " 'model',\n",
       " 'nurse',\n",
       " 'painter',\n",
       " 'paralegal',\n",
       " 'pastor',\n",
       " 'personal_trainer',\n",
       " 'photographer',\n",
       " 'physician',\n",
       " 'poet',\n",
       " 'professor',\n",
       " 'psychologist',\n",
       " 'rapper',\n",
       " 'software_engineer',\n",
       " 'surgeon',\n",
       " 'teacher',\n",
       " 'yoga_teacher'}"
      ]
     },
     "execution_count": 426,
     "metadata": {},
     "output_type": "execute_result"
    }
   ],
   "source": [
    "set(dev_tok[\"y\"])"
   ]
  },
  {
   "cell_type": "code",
   "execution_count": 429,
   "id": "fbf4708d-a9a3-41e4-aa9a-20d3f9f5ac41",
   "metadata": {},
   "outputs": [],
   "source": [
    "from datasets import ClassLabel\n",
    "\n",
    "labels = ClassLabel(names=[\"f\",\"m\"])"
   ]
  },
  {
   "cell_type": "code",
   "execution_count": 430,
   "id": "033de865-acf9-4f46-a171-4e92386e5d3a",
   "metadata": {},
   "outputs": [
    {
     "data": {
      "text/plain": [
       "1"
      ]
     },
     "execution_count": 430,
     "metadata": {},
     "output_type": "execute_result"
    }
   ],
   "source": [
    "labels.str2int('m')"
   ]
  },
  {
   "cell_type": "code",
   "execution_count": 432,
   "id": "e5664506-522b-4b6a-a36b-4f9c94a6c145",
   "metadata": {},
   "outputs": [
    {
     "data": {
      "text/plain": [
       "{'X': tensor([[-0.0625, -0.0219,  0.0074,  ...,  0.0602,  0.0017,  0.0193],\n",
       "         [ 0.0342,  0.0428, -0.0506,  ..., -0.0064,  0.0109,  0.0310],\n",
       "         [-0.0258, -0.0631, -0.0433,  ..., -0.0003,  0.0663, -0.0652],\n",
       "         ...,\n",
       "         [-0.0361, -0.0905, -0.0396,  ..., -0.0347,  0.0348, -0.0235],\n",
       "         [-0.0387,  0.0088,  0.0098,  ...,  0.0431,  0.0318,  0.0054],\n",
       "         [-0.0312, -0.0363, -0.0363,  ..., -0.0337,  0.0750,  0.0413]],\n",
       "        device='cuda:0'),\n",
       " 'y': array(['surgeon', 'professor', 'journalist', ..., 'photographer',\n",
       "        'paralegal', 'nurse'], dtype='<U17'),\n",
       " 'z': array(['m', 'm', 'f', ..., 'm', 'f', 'f'], dtype='<U1')}"
      ]
     },
     "execution_count": 432,
     "metadata": {},
     "output_type": "execute_result"
    }
   ],
   "source": [
    "dev_vec"
   ]
  },
  {
   "cell_type": "code",
   "execution_count": 433,
   "id": "55bfd780-c169-46a8-9058-5b74f6fbbfd4",
   "metadata": {},
   "outputs": [],
   "source": [
    "q2t = pd.read_json(\"data/question2topic.dev.jsonl\", lines=True)"
   ]
  },
  {
   "cell_type": "code",
   "execution_count": 444,
   "id": "01a81007-c418-412c-8862-1a47e0f51125",
   "metadata": {},
   "outputs": [
    {
     "data": {
      "text/html": [
       "<div>\n",
       "<style scoped>\n",
       "    .dataframe tbody tr th:only-of-type {\n",
       "        vertical-align: middle;\n",
       "    }\n",
       "\n",
       "    .dataframe tbody tr th {\n",
       "        vertical-align: top;\n",
       "    }\n",
       "\n",
       "    .dataframe thead th {\n",
       "        text-align: right;\n",
       "    }\n",
       "</style>\n",
       "<table border=\"1\" class=\"dataframe\">\n",
       "  <thead>\n",
       "    <tr style=\"text-align: right;\">\n",
       "      <th></th>\n",
       "      <th>question</th>\n",
       "      <th>topic</th>\n",
       "    </tr>\n",
       "  </thead>\n",
       "  <tbody>\n",
       "    <tr>\n",
       "      <th>0</th>\n",
       "      <td>who wrote the song photograph by ringo starr</td>\n",
       "      <td>Culture.Media.Music</td>\n",
       "    </tr>\n",
       "    <tr>\n",
       "      <th>1</th>\n",
       "      <td>where are the giant redwoods located in califo...</td>\n",
       "      <td>Geography.Regions.Americas.North_America</td>\n",
       "    </tr>\n",
       "    <tr>\n",
       "      <th>2</th>\n",
       "      <td>who was the first chief minister of west bengal</td>\n",
       "      <td>Geography.Regions.Asia.South_Asia</td>\n",
       "    </tr>\n",
       "    <tr>\n",
       "      <th>3</th>\n",
       "      <td>who sings got my mind set on you</td>\n",
       "      <td>Culture.Media.Music</td>\n",
       "    </tr>\n",
       "    <tr>\n",
       "      <th>4</th>\n",
       "      <td>two main types of research methods used in psy...</td>\n",
       "      <td>STEM.Medicine_&amp;_Health</td>\n",
       "    </tr>\n",
       "    <tr>\n",
       "      <th>...</th>\n",
       "      <td>...</td>\n",
       "      <td>...</td>\n",
       "    </tr>\n",
       "    <tr>\n",
       "      <th>2533</th>\n",
       "      <td>when does the regular season start in mlb</td>\n",
       "      <td>Culture.Sports</td>\n",
       "    </tr>\n",
       "    <tr>\n",
       "      <th>2534</th>\n",
       "      <td>when is season 4 of flash coming out</td>\n",
       "      <td>Culture.Media.Television</td>\n",
       "    </tr>\n",
       "    <tr>\n",
       "      <th>2535</th>\n",
       "      <td>who sang for lee bowman in my dream is yours</td>\n",
       "      <td>Culture.Media.Films</td>\n",
       "    </tr>\n",
       "    <tr>\n",
       "      <th>2536</th>\n",
       "      <td>role of malonyl coa in fatty acid synthesis</td>\n",
       "      <td>STEM.STEM*</td>\n",
       "    </tr>\n",
       "    <tr>\n",
       "      <th>2537</th>\n",
       "      <td>who said some are born great in twelfth night</td>\n",
       "      <td>Culture.Performing_arts</td>\n",
       "    </tr>\n",
       "  </tbody>\n",
       "</table>\n",
       "<p>2538 rows × 2 columns</p>\n",
       "</div>"
      ],
      "text/plain": [
       "                                               question  \\\n",
       "0          who wrote the song photograph by ringo starr   \n",
       "1     where are the giant redwoods located in califo...   \n",
       "2       who was the first chief minister of west bengal   \n",
       "3                      who sings got my mind set on you   \n",
       "4     two main types of research methods used in psy...   \n",
       "...                                                 ...   \n",
       "2533          when does the regular season start in mlb   \n",
       "2534               when is season 4 of flash coming out   \n",
       "2535       who sang for lee bowman in my dream is yours   \n",
       "2536        role of malonyl coa in fatty acid synthesis   \n",
       "2537      who said some are born great in twelfth night   \n",
       "\n",
       "                                         topic  \n",
       "0                          Culture.Media.Music  \n",
       "1     Geography.Regions.Americas.North_America  \n",
       "2            Geography.Regions.Asia.South_Asia  \n",
       "3                          Culture.Media.Music  \n",
       "4                       STEM.Medicine_&_Health  \n",
       "...                                        ...  \n",
       "2533                            Culture.Sports  \n",
       "2534                  Culture.Media.Television  \n",
       "2535                       Culture.Media.Films  \n",
       "2536                                STEM.STEM*  \n",
       "2537                   Culture.Performing_arts  \n",
       "\n",
       "[2538 rows x 2 columns]"
      ]
     },
     "execution_count": 444,
     "metadata": {},
     "output_type": "execute_result"
    }
   ],
   "source": [
    "q2t"
   ]
  },
  {
   "cell_type": "code",
   "execution_count": 460,
   "id": "7f29558f-e352-420a-94ef-88a8d37f9d2c",
   "metadata": {},
   "outputs": [],
   "source": [
    "p2t = pd.read_json(\"data/passage2topic.jsonl\", lines=True)"
   ]
  },
  {
   "cell_type": "code",
   "execution_count": 441,
   "id": "fab39cb5-0cdd-4503-856f-3972090e95c8",
   "metadata": {},
   "outputs": [],
   "source": [
    "from collections import Counter\n",
    "c = Counter(q2t[\"topic\"].values)"
   ]
  },
  {
   "cell_type": "code",
   "execution_count": 469,
   "id": "c2eac3ef-1738-4a0e-9cd0-2cd197befae0",
   "metadata": {},
   "outputs": [
    {
     "name": "stdout",
     "output_type": "stream",
     "text": [
      "STEM.STEM* 353822 19.33\n",
      "Culture.Media.Media* 139818 7.64\n",
      "Geography.Regions.Europe.Northern_Europe 125284 6.84\n",
      "Geography.Regions.Europe.Europe* 97467 5.32\n",
      "Culture.Philosophy_and_religion 78468 4.29\n",
      "Geography.Regions.Asia.Asia* 70931 3.88\n",
      "Geography.Regions.Asia.South_Asia 65893 3.6\n",
      "STEM.Biology 59047 3.23\n",
      "Geography.Regions.Europe.Western_Europe 50976 2.78\n",
      "Geography.Regions.Americas.North_America 50499 2.76\n",
      "Culture.Media.Music 45875 2.51\n",
      "Geography.Regions.Europe.Southern_Europe 41659 2.28\n",
      "History_and_Society.Business_and_economics 41523 2.27\n",
      "Culture.Biography.Biography* 36868 2.01\n",
      "History_and_Society.History 33834 1.85\n",
      "Geography.Regions.Asia.East_Asia 31946 1.75\n",
      "Culture.Sports 31596 1.73\n",
      "History_and_Society.Military_and_warfare 27111 1.48\n",
      "Geography.Regions.Oceania 25098 1.37\n",
      "Geography.Regions.Asia.West_Asia 23425 1.28\n",
      "History_and_Society.Politics_and_government 22821 1.25\n",
      "Culture.Food_and_drink 22490 1.23\n",
      "Geography.Regions.Africa.Africa* 22453 1.23\n",
      "Culture.Literature 22003 1.2\n",
      "History_and_Society.Transportation 21574 1.18\n",
      "Culture.Internet_culture 20552 1.12\n",
      "Culture.Media.Television 20377 1.11\n",
      "Geography.Regions.Asia.Southeast_Asia 19677 1.08\n",
      "Geography.Regions.Europe.Eastern_Europe 19012 1.04\n",
      "STEM.Medicine_&_Health 16507 0.9\n",
      "Culture.Visual_arts.Visual_arts* 15448 0.84\n",
      "Geography.Regions.Americas.South_America 13083 0.71\n",
      "Culture.Linguistics 13000 0.71\n",
      "History_and_Society.Society 12928 0.71\n",
      "Culture.Visual_arts.Comics_and_Anime 12830 0.7\n",
      "Culture.Media.Films 10667 0.58\n",
      "STEM.Earth_and_environment 9261 0.51\n",
      "Culture.Media.Radio 9246 0.51\n",
      "Geography.Regions.Americas.Central_America 7878 0.43\n",
      "Geography.Regions.Asia.North_Asia 6815 0.37\n",
      "STEM.Computing 6790 0.37\n",
      "STEM.Technology 6546 0.36\n",
      "Culture.Media.Entertainment 5966 0.33\n",
      "STEM.Space 5735 0.31\n",
      "Culture.Media.Video_games 4828 0.26\n",
      "Geography.Geographical 4665 0.25\n",
      "STEM.Chemistry 4612 0.25\n",
      "STEM.Engineering 4602 0.25\n",
      "Culture.Visual_arts.Architecture 4478 0.24\n",
      "Geography.Regions.Africa.Southern_Africa 4348 0.24\n",
      "Culture.Performing_arts 3948 0.22\n",
      "Geography.Regions.Africa.Eastern_Africa 3913 0.21\n",
      "Geography.Regions.Africa.Northern_Africa 3803 0.21\n",
      "Culture.Visual_arts.Fashion 3496 0.19\n",
      "History_and_Society.Education 3087 0.17\n",
      "Geography.Regions.Africa.Western_Africa 2631 0.14\n",
      "STEM.Mathematics 2598 0.14\n",
      "Culture.Media.Books 1198 0.07\n",
      "STEM.Physics 972 0.05\n",
      "Geography.Regions.Asia.Central_Asia 758 0.04\n",
      "STEM.Libraries_&_Information 657 0.04\n",
      "Culture.Biography.Women 566 0.03\n",
      "Geography.Regions.Africa.Central_Africa 368 0.02\n",
      "Culture.Media.Software 83 0.0\n"
     ]
    }
   ],
   "source": [
    "for key, val in passage_c.most_common():\n",
    "    print(key, val, np.round(val/sum(passage_c.values())*100, 2))"
   ]
  },
  {
   "cell_type": "code",
   "execution_count": 461,
   "id": "d9bc4f68-19e4-4ab7-b1e3-fa85dd9814b3",
   "metadata": {},
   "outputs": [],
   "source": [
    "passage_c = Counter(p2t[\"topic\"].values) "
   ]
  },
  {
   "cell_type": "code",
   "execution_count": 464,
   "id": "5b0f9ea2-0aeb-4318-8339-d025356c92e8",
   "metadata": {},
   "outputs": [
    {
     "data": {
      "text/plain": [
       "[('STEM.STEM*', 353822),\n",
       " ('Culture.Media.Media*', 139818),\n",
       " ('Geography.Regions.Europe.Northern_Europe', 125284),\n",
       " ('Geography.Regions.Europe.Europe*', 97467),\n",
       " ('Culture.Philosophy_and_religion', 78468),\n",
       " ('Geography.Regions.Asia.Asia*', 70931),\n",
       " ('Geography.Regions.Asia.South_Asia', 65893),\n",
       " ('STEM.Biology', 59047),\n",
       " ('Geography.Regions.Europe.Western_Europe', 50976),\n",
       " ('Geography.Regions.Americas.North_America', 50499),\n",
       " ('Culture.Media.Music', 45875),\n",
       " ('Geography.Regions.Europe.Southern_Europe', 41659),\n",
       " ('History_and_Society.Business_and_economics', 41523),\n",
       " ('Culture.Biography.Biography*', 36868),\n",
       " ('History_and_Society.History', 33834),\n",
       " ('Geography.Regions.Asia.East_Asia', 31946),\n",
       " ('Culture.Sports', 31596),\n",
       " ('History_and_Society.Military_and_warfare', 27111),\n",
       " ('Geography.Regions.Oceania', 25098),\n",
       " ('Geography.Regions.Asia.West_Asia', 23425),\n",
       " ('History_and_Society.Politics_and_government', 22821),\n",
       " ('Culture.Food_and_drink', 22490),\n",
       " ('Geography.Regions.Africa.Africa*', 22453),\n",
       " ('Culture.Literature', 22003),\n",
       " ('History_and_Society.Transportation', 21574),\n",
       " ('Culture.Internet_culture', 20552),\n",
       " ('Culture.Media.Television', 20377),\n",
       " ('Geography.Regions.Asia.Southeast_Asia', 19677),\n",
       " ('Geography.Regions.Europe.Eastern_Europe', 19012),\n",
       " ('STEM.Medicine_&_Health', 16507),\n",
       " ('Culture.Visual_arts.Visual_arts*', 15448),\n",
       " ('Geography.Regions.Americas.South_America', 13083),\n",
       " ('Culture.Linguistics', 13000),\n",
       " ('History_and_Society.Society', 12928),\n",
       " ('Culture.Visual_arts.Comics_and_Anime', 12830),\n",
       " ('Culture.Media.Films', 10667),\n",
       " ('STEM.Earth_and_environment', 9261),\n",
       " ('Culture.Media.Radio', 9246),\n",
       " ('Geography.Regions.Americas.Central_America', 7878),\n",
       " ('Geography.Regions.Asia.North_Asia', 6815),\n",
       " ('STEM.Computing', 6790),\n",
       " ('STEM.Technology', 6546),\n",
       " ('Culture.Media.Entertainment', 5966),\n",
       " ('STEM.Space', 5735),\n",
       " ('Culture.Media.Video_games', 4828),\n",
       " ('Geography.Geographical', 4665),\n",
       " ('STEM.Chemistry', 4612),\n",
       " ('STEM.Engineering', 4602),\n",
       " ('Culture.Visual_arts.Architecture', 4478),\n",
       " ('Geography.Regions.Africa.Southern_Africa', 4348),\n",
       " ('Culture.Performing_arts', 3948),\n",
       " ('Geography.Regions.Africa.Eastern_Africa', 3913),\n",
       " ('Geography.Regions.Africa.Northern_Africa', 3803),\n",
       " ('Culture.Visual_arts.Fashion', 3496),\n",
       " ('History_and_Society.Education', 3087),\n",
       " ('Geography.Regions.Africa.Western_Africa', 2631),\n",
       " ('STEM.Mathematics', 2598),\n",
       " ('Culture.Media.Books', 1198),\n",
       " ('STEM.Physics', 972),\n",
       " ('Geography.Regions.Asia.Central_Asia', 758),\n",
       " ('STEM.Libraries_&_Information', 657),\n",
       " ('Culture.Biography.Women', 566),\n",
       " ('Geography.Regions.Africa.Central_Africa', 368),\n",
       " ('Culture.Media.Software', 83)]"
      ]
     },
     "execution_count": 464,
     "metadata": {},
     "output_type": "execute_result"
    }
   ],
   "source": [
    "passage_c.most_common()"
   ]
  },
  {
   "cell_type": "code",
   "execution_count": null,
   "id": "f8aa05f6-8637-493d-b87e-13f6579131e3",
   "metadata": {},
   "outputs": [],
   "source": [
    "trivia_qa = load_dataset(\"trivia_qa\", \"unfiltered\")"
   ]
  },
  {
   "cell_type": "code",
   "execution_count": 475,
   "id": "c3113b11-0d6a-410c-9ffe-deb5e864b22d",
   "metadata": {},
   "outputs": [
    {
     "data": {
      "text/plain": [
       "{'question': 'Asmara international airport is in which country?',\n",
       " 'question_id': 'tc_7',\n",
       " 'question_source': 'http://www.triviacountry.com/',\n",
       " 'entity_pages': {'doc_source': [],\n",
       "  'filename': [],\n",
       "  'title': [],\n",
       "  'wiki_context': []},\n",
       " 'search_results': {'description': ['Asmara International Airport (ASM/HAAY) safety profile including a list of aircraft accidents at or near the airport.',\n",
       "   'Asmara International is located in ... I believe what happened to us at Asmara International Airport cannot go ... before she dares return to her father’s country.',\n",
       "   'Asmara Country Eritrea Network International ... Asmara International Airport ... serves the Eritrean capital of Asmara and is a hub for Eritrean Airlines and ...',\n",
       "   'Asmara International Airport (ASM), Asmara, ... location and distances from Asmara International Airport. ... Asmara International Airport: City: Asmara: Country:',\n",
       "   \"Asmara International Airport (IATA: ASM) (ICAO: HHAS). Asmara currently hosts the country's only operating international airport, ...\",\n",
       "   '... Asmara International Airport is ... Whilst called an international airport, Asmara ... Explore all about the east African country of Eritrea ...',\n",
       "   'Asmara International Airport map and flight information. Hotels in Asmara International area. ... Country: Eritrea Airport serving the capital of Eritrea, ...',\n",
       "   'Asmara International Airport is the ... World Map / International Airports / Africa / Airports in Eritrea ... Like most African countries the flight ...',\n",
       "   'Asmara map, the capital of ... Countries and Capitals ; Airport Finder ; Embassy Finder ; US Zip Codes Finder ; US Area Codes ; ... International Airports; Flight ...',\n",
       "   'Capital and largest city (2011 est.): Asmara, 712,000. ... Airports: 13 (2013). International disputes: ... U.S. State Dept. Country Notes: Eritrea. Equatorial Guinea ...'],\n",
       "  'filename': ['157/157_2866330.txt',\n",
       "   '90/90_2866331.txt',\n",
       "   '139/139_2866332.txt',\n",
       "   '119/119_2866333.txt',\n",
       "   '166/166_1603909.txt',\n",
       "   '164/164_2866335.txt',\n",
       "   '71/71_2866336.txt',\n",
       "   '81/81_2866337.txt',\n",
       "   '21/21_1603919.txt',\n",
       "   '143/143_1274894.txt'],\n",
       "  'rank': [0, 1, 2, 3, 5, 6, 7, 8, 30, 43],\n",
       "  'title': ['Asmara International Airport profile - Aviation Safety Network',\n",
       "   'Asmara International - Eritrea - World Airport Codes',\n",
       "   'Profile on Asmara International Airport | CAPA - Centre ...',\n",
       "   'Asmara International Airport - Air Miles Calculator',\n",
       "   'Asmara travel guide - Wikitravel',\n",
       "   'Asmara Airport ~ Asmara International Airport ~ Asmara ...',\n",
       "   'Asmara International Airport - Airlines Inform',\n",
       "   'Airports in Eritrea, Eritrea Airports Map - Maps of World',\n",
       "   'Asmara Map | Map of Asmara City, Eritrea',\n",
       "   'Eritrea: Maps, History, Geography, Government, Culture ...'],\n",
       "  'url': ['http://aviation-safety.net/database/airport/airport.php?id=ASM',\n",
       "   'https://www.world-airport-codes.com/eritrea/yohannes-iv-397.html',\n",
       "   'http://centreforaviation.com/profiles/airports/asmara-international-airport-asm',\n",
       "   'http://www.airmilescalculator.com/airport/asm/',\n",
       "   'http://wikitravel.org/en/Asmara',\n",
       "   'http://www.african-volunteer.net/asmara_airport.html',\n",
       "   'http://airport.airlines-inform.com/Asmara-International.html',\n",
       "   'http://www.mapsofworld.com/international-airports/africa/eritrea.html',\n",
       "   'http://www.mapsofworld.com/eritrea/travel/asmara.html',\n",
       "   'http://www.infoplease.com/country/eritrea.html'],\n",
       "  'search_context': [\"Asmara International Airport profile - Aviation Safety Network\\nAsmara International Airport profile\\nEritrea IATA code:ASM ICAO code: HAAY Elevation: 7661 feet / 2335 m Notams: Notams for HAAY Airport history: \\xa0\\nAsmara International Airport\\nER-AXD Pecotox Air 0 Asmara Inter...\\nA1\\n7O-ACW Yemenia Airways 0 Asmara Inter...\\nA1\\nUR-UCI Ukrainian Cargo Airways, opf. Air Sofia 10 near Asmara-Yohan...\\nA1\\n5Y-BMW Aero Zambia 0 Asmara Inter...\\nO1\\n\\xa0 Sudan Airways 0 Asmara Inter...\\n\\xa0 H2\\n\\xa0 Saudi Arabian 0 Asmara Inter...\\n\\xa0 H2\\nET-AJZ Ethiopian Airlines 0 Asmara Inter...\\nO1\\n\\xa0 Ethiopian AF 54 near Asmara Inter...\\n\\xa0 A1\\nET-AAZ Ethiopian Airlines 0 Asmara Inter...\\n\\xa0 A1\\nET-AAY Ethiopian Airlines 0 Asmara Inter...\\n\\xa0 A1\\nNC1241N United States Air Force - USAF, opf. Pan Am 0 Asmara Inter...\\n\\xa0 A1\\nF-BAML Ministï¿½re de l'Air, DTI Asmara Inter...\\n\\xa0 A1\\nAircraft that departed Asmara International Airport\\n7 occurrences in the ASN safety database\\ndate\",\n",
       "   'Asmara International - Eritrea\\nProblems At Asmara International Airport\\nMichele Yemane\\nApril 26, 2008 at 9:15 pm\\nI am a US citizen who recently visited Eritrea (April 13 – April 23). I was accompanied by my 17-year old daughter whose father was born in Eritrea. This was the first time we had ever visited the land of her father’s birth. We had the pleasure of staying with my daughter’s grandfather, and of being welcomed by innumerable friends and relatives. The visit, a sort of pilgrimage in honor of my child’s Eritrean heritage, was memorable and emotional for everyone. However, we had a nightmarish experience during the final moments of our visit which tainted the otherwise euphoric nature of our trip. I am writing in an effort to vent my outrage and anger. I believe what happened to us at Asmara International Airport cannot go unreported…. My daughter and I left Asmara on Lufthansa Flight 593, Wednesday, April 23, at 10:50 PM. It was after having passed through the gauntlet of several passport checks just to get into the airport, then a security check and scan, the currency declaration booth, the currency exchange booth, the Lufthansa desk to check our luggage, the exit visa point, and then three further passport checks, that we finally arrived at the checkpoint just before embarking upon our flight. It is here where my daughter and I were separated; here where our carry-on bags were once again emptied and their contents picked through and examined. This final procedure, though annoying, was tolerable, even while the personnel performing this search spoke little to no English, and my daughter and I speak little to no Tigrinya. Gestures became the necessary, yet inadequate, mode of communication. Throughout the whole procedure, a gang of young men sat nearby laughing amongst themselves and playing the krar I had bought as a souvenir, and which they had apparently seized as it emerged from the security scan. The turning point occurred, and the nightmare began, when my daughter cried out to me that she thought that she was being asked to strip naked. I thought surely that this was a misinterpretation on her part. Sadly, it was not. My daughter, a very modest and shy teenager by any standards, resisted, and I, in addition, protested, trying in vain to get an explanation as to what it was they wanted and why. The response I received — \"why a problem?!\" — was barked in my face in angry, broken English by the krar-players who left their seats and surrounded us. I couldn’t believe what was happening. My daughter, terrified, melted into tears. The surreal nature of this entire episode was magnified by the fact that none of these individuals wore a uniform identifying at least that they were in positions of authority, but instead wore very casual street clothes. Not one wore a name tag, making identifying them impossible. These were young people, perhaps in their twenties, ill-mannered and brusque, the likes of which we had not encountered during a single instant during our entire trip. Afraid and overwhelmed, my daughter and I were bullied into a messy office where a woman motioned for my daughter to take off her pants and then her panties. My daughter was having her period and wore a sanitary napkin. The woman, who wore no gloves, proceeded to approach my daughter who stood half-naked in the middle of the room with her pants down and her panties dangling between her thighs. The woman stooped down and inspected my daughter, fingering the sanitary napkin. Trembling, it was all I could do to contain myself. I understand the seriousness of airport security in this day and age. I, like most travelers in the 21st century, are willing to put up with any number of inconveniences, interminable lines, strict travel requirements, and numerous security checks, for the sake of the safety of the traveling public. But this handling was invasive, unacceptably rude, a violation akin to rape, and not to mention, unsanitary. Furthermore, what I can’t seem to quite understand is how an airport which purportedly meets international security standards, can be allowed to operate in such an indignant way. Why are people who cannot speak a global language employed to conduct such a sensitive job in a so-called international airport? That evening, my daughter who suffers from bipolar disorder, was robbed of all dignity. She cried for hours after. This was to have been a therapeutic trip to help her get to know her vast and loving family, and the roots that bind her to a rich and ancient cultural heritage. She is still traumatized and reeling from what happened. I am no less traumatized, being a parent made to stand helplessly by and witness a dehumanizing act perpetrated against my child. The task before us now is to arrive at separating this incident from all the positive and warm experiences which came before it. I will continue to speak lovingly of Eritrea and her people, but will always have the bitter parenthetical anecdote lurking beside my adoration…and a warning for all who would ponder passing through Eritrea’s shame of an airport. As for my daughter, it will be a long time, if ever, before she dares return to her father’s country.\\nAdd your own review for Asmara International Airport',\n",
       "   'Profile on Asmara International Airport | CAPA - Centre for Aviation\\nAsmara International Airport (formerly known as Yohannes IV International Airport) serves the Eritrean capital of Asmara and is a hub for Eritrean Airlines and Nasair Eritrea .\\nLocation of Asmara International Airport, Eritrea\\nSource: CAPA - Centre for Aviation and Google Maps\\nGround Handlers and Cargo Handlers servicing Asmara International Airport\\nThis content is exclusively for CAPA Membership Subscribers\\nFuel & Oil Suppliers servicing Asmara International Airport\\nThis content is exclusively for CAPA Membership Subscribers\\n\\xa0\\nThis content is exclusively for CAPA Membership Subscribers\\nCAPA Membership gives you the latest aviation news and alerts, access to CAPA articles, reports, and our leading aviation data with optional premium add-ons.\\nThis content is exclusively for CAPA Membership Subscribers\\nCAPA Membership gives you the latest aviation news and alerts, access to CAPA articles, reports, and our leading aviation data with optional premium add-ons.\\nThis content is exclusively for CAPA Membership Subscribers\\nCAPA Membership gives you the latest aviation news and alerts, access to CAPA articles, reports, and our leading aviation data with optional premium add-ons.\\nThis content is exclusively for CAPA Membership Subscribers\\nCAPA Membership gives you the latest aviation news and alerts, access to CAPA articles, reports, and our leading aviation data with optional premium add-ons.\\nThis content is exclusively for CAPA Membership Subscribers\\nCAPA Membership gives you the latest aviation news and alerts, access to CAPA articles, reports, and our leading aviation data with optional premium add-ons.\\nThis content is exclusively for CAPA Membership Subscribers\\nCAPA Membership gives you the latest aviation news and alerts, access to CAPA articles, reports, and our leading aviation data with optional premium add-ons.\\nThis content is exclusively for CAPA Membership Subscribers\\nCAPA Membership gives you the latest aviation news and alerts, access to CAPA articles, reports, and our leading aviation data with optional premium add-ons.\\nThis content is exclusively for CAPA Membership Subscribers\\nCAPA Membership gives you the latest aviation news and alerts, access to CAPA articles, reports, and our leading aviation data with optional premium add-ons.',\n",
       "   'Asmara International Airport\\nSearch Airport:\\nAirport: Asmara International Airport City: Asmara Country: Eritrea\\xa0\\nIATA Code: ASM ICAO Code: HHAS Coordinates: Latitude: 15°17′30″N, Longitude: 38°54′38″E Runways: Direction: 12/30, Length: 5951 x 148 ft, Elevation: 0 ft\\nDirection: 7/25, Length: 9842 x 148 ft, Elevation: 7661 ft\\nCurrent local time: 22:18 EAT (2017-01-06) Standard time zone: UTC/GMT  +3.0 Daylight saving time: UTC/GMT  +3.0 Sunrise: 06:52 Sunset: 18:08 Wikipedia link: Wikipedia - Asmara International Airport\\nLocation and map\\nAsmara International Airport is located approximately 3,5 miles (5,6 km) southwest of Asmara and about 28,7 miles (46,2 km) north of Mendefera.',\n",
       "   'Asmara travel guide - Wikitravel\\nUnderstand[ edit ]\\nAsmara panorama.\\nFounded in the twelfth century by a union of villages trying to protect themselves from bandits, Asmara has grown to become a bustling city of over half a million people. Over its history, the city has endured the rule of various empires and countries, including the Italian Empire from the late 19th century, the British from after World War II and Ethiopia from 1950. After a long and bloody war with Ethiopia, Asmara was finally liberated in 1991 and became the capital of a country which had not had self-rule for two centuries.\\nToday, it is difficult to walk down a street in downtown Asmara and not see an old Italian building. In the early 1930s, Mussolini, the Italian dictator, injected huge amounts of funds into the city with the goal of making it the centre of a second Roman Empire that spanned Africa . Architects were only limited by their imagination, and practically the entire city centre was rebuilt. Not only were cathedrals built in ancient-Romanesque style, but also numerous offices influenced by the architectural movements of cubism and futurism.\\nClimate[ edit ]\\nThe dry season from December to April is distinguished by the terrain of red-brown, rusty, beige or black rubble surrounding the city, resembling photos from Mars. The vegetation consists largely of shrubbery, eucalyptus, aloes, cacti and the odd explosively colorful species of bougainville, jacaranda or other ornamental plants.\\nThe rainy season between May and September (hopefully) brings torrents of rain and needed nourishment to the land, which transforms itself from lunar/martian-esque to verdant and grassy in the post-rain months of August to October.\\nRegardless of when you go, temperatures in Asmara rarely rise above a comfortable dry 30°C in the sun. The capital is known for its lovely climate. There is very little humidity in the air so the biggest variations in temperatures occur between night and day, or whether one is standing in the sun or in the shade, not between seasons. Between December and February, it can get very cold at night and in the morning, it can even drop a few degrees below 0°C. Due to lack of heating and insulation in Asmara, it is important to bring proper clothes. Rains only last a few hours at a time and it all dries up quickly enough, although the occasional flash flood is not uncommon during the rainy season.\\nGet in[ edit ]\\nAsmara International Airport ( IATA : ASM) ( ICAO : HHAS). Asmara currently hosts the country\\'s only operating international airport, although there are two more international airports in Massawa and Assab.\\nAs of 2014, the airport served Cairo twice weekly by Egypt Air; Sanaa , Yemen twice weekly by Yemenia Airways;\\xa0; and Jeddah / Riyadh twice weekly by Saudi Arabian Airlines. As of June 2014, Eritrean Airlines is not operating any consistent flights.  As of January 2010, Nasair, a private-state joint venture airline based in Massawa, served a few regional capitals such as Jeddah , Nairobi , Dubai and Khartoum as well as domestic airports Assab and Massawa. There is an airport departure tax of US$20 or €15, payable in foreign currency if you don\\'t have a local resident ID.\\nIf you entering the country without a visa, as a holder of an Eritrean ID card in combination with a foreign passport, you are required to register with the Immigration and Nationality office in Asmara within seven business days of entry into the country.\\nBoth Eritrea and Ethiopia maintain large military presences along the border and all border crossings into Ethiopia from Eritrea remain closed.\\nGet around[ edit ]\\nAsmara has 10 downtown bus-lines on distinctive Red Mercedes Benz buses, with a sign in the front saying where they\\'re headed (oftentimes in Latin script). The bus stops are easily identifiable (there are signs and an obvious shelter with a bench), but the buses stop running quite early in the evening (about 7PM). They run on 15-30 minute intervals during the day (every day), but there is no fixed or published schedule. The roads get pretty jammed at rush hours (in the morning, midday and around 4PM in the evening). The fare is 1 Nakfa, and the entrance is in the back where one buys the ticket. It is not necessary to have exact change, but one should try to pay in lower denominations.\\nLine number 1 goes between the airport, 3 km south of the city, and the zoo in Biet Ghiorghis, 2 km (1 mi) east of the city on the eastern escarpment (the windy road to the Red Sea begins after Biet Ghirogis). Number 1 also passes through the main streets in downtown Asmara (Independence and Martyrs Avenues). All bus lines that begin with 2 (e.g. 21, 22, etc.), run between the marketplace downtown and the surrounding villages, but there are only a few a day. Therefore, plan to leave early in order to be able to return the same day. Only the locals know the schedule (through word of mouth). If you\\'re lucky one of them speaks English and will be very helpful. Some villages like Embaderho and Tselot are well worth visiting for their scenery and traditional lifestyle.\\nThere also white minibus-lines running on the main streets of the city, which run on fixed routes but without fixed stops or signs. They usually stop at the bus stops, but you still have to hail them when you see them, just like a cab. Before boarding, ask them where they\\'re headed, unless the ticket-seller (called fottorino) doesn\\'t beat you to it by announcing it loudly.  Then, let them know when you want to get off  (\"Stop!\" is a universally understood command).\\nFinally there are the yellow taxis, most of which also run on fixed routes on the main streets like the white minivans. They have a similar system to the minivans, and the fare is 5 Nakfa.  You\\'ll most likely be sharing the ride with 3 other people. Since some cabs do not use fixed routes, some will take you personally to where you want to go. This is called kuntrat (koon-tratt), and you will have to negotiate the price with the driver. These cabs usually wait outside the airport when a plane is coming in, the city\\'s main hotels (Asmara Palace Hotel, Nyala, Ambassador etc.), the road to the right of the main cathedral downtown and other obvious spots. They can also be hailed on any street, but many cabs are on a fixed route with passengers already in them.\\nRenting a car is insanely expensive and fuel prices are higher than in Europe. Renting a cab to drive you around town is equally extortionate, but it could be worthwhile on a longer trip outside of town. Be prepared to pay several thousand Nakfa (a few hundred dollars or euros) for a trip! It is perhaps better to take the bus or contact one of the national tour agencies (ask at the information desk at the airport upon arrival).\\nSee[ edit ][ add listing ]\\nAsmara\\'s main attraction is its colonial Italian architecture. The palm-lined main street \"Independence Avenue\" is colloquially referred to as \"Kombishtato\" (a creol of the neighbourhood\\'s original name: Campo di Citta). It is full of cafés, bars, shops and old cinemas, and it makes for a nice mile long stroll between the north end of this avenue where the \"half\" stadium is (you\\'ll know when you see half a bleacher) and the south end facing the Nyala Hotel, the city\\'s tallest building. Asmara\\'s colourful and bustling marketplace lies behind the cathedral on the road to its right (as seen when standing in front of the cathedral\\'s main entrance on Independence Avenue). It\\'s a great place to learn how to haggle and buy some souvenirs.\\nFrom the café on the top floor of the Nyala Hotel, one has a great view of the city while enjoying a nice well-chilled beer. The beer is exceptionally good in Asmara, aptly called \"Asmara Beer\". Behind the hotel on a quieter street is the National Museum, with an impressive collection spanning the six millennia of the land\\'s civilization.\\nOn Massawa Road near the outskirts of the city, lies the Biet Ghiorghis Zoo and Park area, famous for its scenery of the eastern escarpment. The Zoo itself is rather sad.  Further down the road, one reaches Bar Durfo, a bar and café perched on a cliff overlooking the dramatic precipice of the Asmara - Massawa highway. You will need a car or taxi to get beyond the last stop of the No. 1 bus, Biet Ghiorghis, to Bar Durfo.\\nAnother place to see is the dramatic highland landscape on the eastern escarpment.  Additionally, one can see a traditional Eritrean highland village in the village of Tselot (which means \\'prayer\\' and is also famous for being the President\\'s village). Tselot lies about 20 km (12 mi) outside the city center and is served by one of the red city buses departing from a section of the marketplace called \"Meda Eritrea\". You should leave as early as possible because there are only a couple of buses per day so you have to make sure you have a way to get back. The rural highland lifestyle in Tselot resembles Biblical times: stone houses, small plots, ancient temples (both Christian and Muslim), people farming and herding with traditional means using little technology, transporting their goods (as well as themselves) on mule- and camelback.\\nWithin walking distance of the village, is the Martyrs National Park, inaugurated in 2000. It is a mountainous forest and wildlife reserve at the ridge of the highland plateau. The landscape consists of an eerily quiet semi-arid plain in a valley, an extension of the highland plateau, interrupted by the dramatic chasm of the eastern ridge which the village center straddles.  The views and scenery are spectacular. The highest viewpoint features chasms, gorges and mountaintops bathed by a sea of clouds, which gives one the impression of standing \"above the clouds\".\\nDo[ edit ][ add listing ]\\nIf you are in Asmara for a short stay, the best thing to do after you\\'re done sightseeing in this city is to head for the outskirts where the scenery is stunning at the very least.\\nUnless you come from a high altitude area yourself, you need a couple of days of strolling in Asmara to get your body used to the thin dry air at 2,600 m (8,530 ft).\\nBring lots of sunscreen lotion but also a sweater as it can get really chilly not only at night but even when standing in the shade (temperatures can vary greatly on different sides of the same street depending on the position of the sun). The sun shines very bright throughout the day in Africa, especially so in Asmara where clouds are rare, so unless you enjoy squinting, bring UV blocking shades.\\nIf you like hiking, rock climbing and mountainbiking, the above mentioned areas outside of town are excellent places to do so, but bring your own gear (incuding bike) as there are no rental bikes and a very limited supply of safety equipment (shoes, ropes, etc.) in Asmara.  However, tents and mosquito nets are readily available at an affordable price in the marketplace downtown. Also consult the locals and bring a guide, because it is good to have someone familiar with the place who speaks the local language in case of an accident or any other eventuality (like what is legal and not legal). For example, taking pictures around any government installation or authority (police, airport, ministries etc.) is strictly forbidden, and your guide can help you get out of such sticky situations.\\nFinally, take time to savor some good food in Asmara. Don\\'t drink any \"fresh\" fruit juices or eat any ice cream unless you want health issues to mess up your time. Stick to bottled drinks, unpeeled fruits and cooked food.\\nThe Eritrean Festival is definitely one of, if not, the biggest event a tourist must see during their stay within the country. Better known as “Festival Eritrea”, it is identified as cultural festivity week within the country. The Eritrea community in the diaspora created the even in 1884 in Bologna-Italy. The event gathered Eritrean communities from around the globe to memorialize the “Struggle for Independence” movement. The first official festival started inside the now free and independent Eritrea in August 2002, which after that point its been annually celebrated as the “Expo” in Asmara and different major cities around the world such as London, Washington DC, and so on. Within the festival you witness and learn about Eritrean culture. The different types of clothing between the different tribes, the different dances, and the food from all nine Eritrean ethnic groups, as well as the development work going on in the country are just some of the things found at the “Expo”. url=”( http://www.ucl.ac.uk/atlas/tigrinya/festival_eritrea.html)”\\nBuy[ edit ][ add listing ]\\nGold and silver jewellery is cheap in Asmara and is definitely a bargain by world standards. So are frankincense and myrrh (if you have any use for them).\\nOtherwise most of the souvenirs bought by tourists are the local home-spun and gold-thread embroidered cotton garments, traditional goat-skin rugs, olivewood carvings, clay coffee-pots and other traditional knick-knacks - all of which are found at the marketplace.\\nIt is definitely recommended that tourists go around the main cities and go see what they can find around the local stores. Souvenirs can be found almost anywhere amongst the several shops found with in the country. Anywhere from jewelry like Gold and Silver, which is what you, will most commonly find in terms of jewelry. Then you range of to other miscellaneous objects and relics such as pottery, swords, daggers, baskets, and other great souvenirs within the marketplace. Food definitely is one-thing tourists will find themselves spending money on. With the diversity of restaurants from local traditional food, to Chinese and Indian cuisine, different options are available\\nEat[ edit ][ add listing ]\\nEritrea is big on Italian food, due to having been an Italian colony between 1890 and 1940. There is a huge range of restaurants in Asmara serving Italian food with Albergo Italia being the best in quality, closely followed by the outdoor setting of Casa Degli Italiani, Alba Bistro opposite the post office also offers a quality, wide range, of food not forgetting Castello behind the Nyala Hotel. The Spagetti and Pizza House on Harnet Av. offers a great choice of pizza and pasta dishes as well as its signature Chilli red snapper.\\nMost traditional Eritrean food is quite spicy, and consists generally of very hot meat and/or vegetable stews, eaten over the staple called \"injera\" a kind of sour-dough pancake or flatbread. Blue Bird and Milano are generally considered the best places for traditional food.\\nOn the up-side, there are many restaurants which make hamburgers using quality organic beef or lamb, such as The Mask Restaurant.\\nFor Indian and Far East cuisine you can visit the Rooftop Garden or The China Star\\nFor a taste of home and a fantastic steak visit the weekend only restaurant at the Asmara Palace Hotel although avoid their buffets.\\nDrink a lot because Asmara will dry you out. Mineral water is there in abundance and that is really the only water you can drink. Don\\'t drink the tapwater if you value your health. Similarly, there are also a lot of bottled fruit juices, \\'Fresh\\' juices are typically safe to drink in the cleaner bars and restaurants.\\nEritreans, especially Asmarinos, love their coffee. Like so much else it is imbibed Italian-style and the city\\'s favorite coffee drink is the macchiato (makyato) ie. \\'stained\\' (that is coffee stained with a touch of steamed milk-froth) which is definitely worth a try if you like strong, sweet coffee.\\nDrink[ edit ][ add listing ]\\nEritrea is not a big wine country, even though it used to have a wine-making tradition during the colonial period. On the other hand, Eritrea is a big beer-drinking country, and the Eritrean beer is definitely a good one if you like lager, pilsner or dark beer.  All three varieties are made by the country\\'s only brewery, which is in Asmara and is aptly called \"Asmara Beer\".  Asmara Beer is great, quenches your thirsty throat and has a good taste. Between early 2008 and May 2009 it was not available, due to a lack of hard currency for buying imported malt.  As of June 2009, nationwide distribution was back. Asmara brewers have proven they produce a good Pilsner beer. Most varieties have around 5% alcohol per volume and a nice hop flavour in the well known bottle. Enjoy!\\nNightlife in Asmara is often considered quieter than most other country capitals, but there are a good range of local bars and also the infamous Zara Bar near the Blue Bird restaurant is a popular haunt with expats.\\nAsmara is an extremely safe city, safe enough for a stroll in the middle of the night. Most people are genuinely friendly, without wanting anything in exchange, beggary and hustling is not as common as in most other third world countries and neither is tourism. Prostitution is legal and rife.\\nAfter the Zara Bar closes there are few choices of night clubs although they do exist. Mocambo is in a basement in the downtown area and is popular with young locals. The Warsai is out of the way and a little seedy. The Asmara Palace Hotel boasts The Green Pub which has disco\\'s on Wednesday, Friday and Saturday nights. In the Expo grounds there is the Benifer which is a restaurant by day but a busy club by night, and the Shamrock which used to be popular with UN staff.  Word of warning, entry is normally priced at 100 Nacfa + and beer is similarly priced.\\nSleep[ edit ][ add listing ]\\nAsmara Palace Hotel (formally the Intercontinental Hotel) out by the airport. The odd spaceship-looking hotel probably has the comfiest beds. But why commute from so far away at such an outrageous price? One can be just as comfortable for much less in the middle of the city where there are plenty of cheap or moderately-priced hotels ranging from US$10-60.\\nSome examples are:\\nAlbergo Italia (formally the Keren Hotel), by the central post office.\\nNyala Hotel, (the city\\'s highest building on Martyrs Avenue).\\nEmbasoira Hotel, behind Independence Avenue (on the east side).\\nHamassien Hotel, right next door to the Embasoira. The Swiss-cottage-looking building.\\nSunshine Hotel, near the Roof Garden restaurant.\\nSelam Hotel, a few blocks away from the Presidential Palace and the National Museum and has a nice garden.\\nThe Buon Respiro is a very cosy Bed and Breakfast in an ornate Italian villa with a nice patio in the middle of the city just a few blocks from Cinema Odeon.\\nThe Crystal Hotel behind Cinema Roma, similar to the Sunshine Hotel.\\nEmbassies[ edit ]\\nEgypt, 5 Moursi Fatma street, ☎ +2911 124935 ( embassy-asmara@mfa.gov.eg , fax: +2911 123294), [1] . 9:00 AM - 16:00 PM. \\xa0 edit\\nGermany, Saba Development Bldg. 8th fl. Warsay Street, ☎ 00-29-11-186670/71 ( info@asmara.diplo.de , fax: 00-29-11-186900). Mon - Thu 7.30 - 16.45, Fri 7.30 - 13.30. \\xa0 edit\\nGreece, P.O. Box 4173, ☎ +291 1 12-19-76 (fax: +291 1 12-20-17). \\xa0 edit\\nNorway, Street 173-1 # 11, P.O. Box 5801, ☎ +291 1 12 21 38 ( emb.asmara@mfa.no , fax: +291 1 12 21 80). \\xa0 edit\\nUnited States of America, 179 Ala St, ☎ +291 1 12-00-04 ( usembassyasmara@state.gov; consularasmara@state.gov , fax: +291 1 12-75-84), [2] . Mon - Thu 8AM-6PM, Fri 8AM-noon. \\xa0 edit\\nGet out[ edit ]\\nTo leave Asmara to go anywhere else in the country you need a traveler\\'s permit which can be obtained from the Ministry of Immigration and Nationality opposite the Cathedral Compound on Harnet Av. downtown.\\nIf you intend to leave by Air, see the \"Getting In\" section. There are two domestic flight routes as of date and they go to the port cities of Massawa (half an hour\\'s flight and only 110 km northeast) and Assab at the southwest tip of the country by the borders of Djibouti and Ethiopia (an hour and half\\'s flight and nearly 1000 km away).\\nThere are roads heading in 4 directions from Asmara. At Asmara\\'s city limits on each of these roads, there are also military-police roadblocks (called \"blocco\" locally) where you will be checked for your ID and traveller\\'s permit. Always carry these or certified copies of these with you. The blocco for the road towards the coast is placed past the village of Durfo and is called \"blocco Batsi\" (Batsi is another name for Massawa). The blocco for the road heading west towards the country\\'s second largest town Keren and the western lowlands (bordering Sudan) is called \"blocco Keren\" and the blocco for the two roads heading south is called \"blocco Godaeif\" (Asmara\\'s southernmost suburb) which later divides at a fork with one road towards the southwestern highlands and the Mereb river border crossing (now closed) to Ethiopia and the other road towards the southeastern highlands and the \"Zalambessa\" border crossing to Ethiopia (closed). Besides the bloccos, there are also mobile and random checkpoints on the roads and both inside and outside the limits of nearly all towns and communities in Eritrea. So you will be asked more than once for your papers.\\nBuses are the main means of transport in Eritrea other than camelback or your own car.  Buses run to all main towns and villages from Asmara, some several times a day, others only once a day or a couple of times a week, requiring you to sleepover for one or more nights there or even on the way, before returning. Buses don\\'t run after dusk because of road safety (Eritrea is a very mountainous country). Fog and mist can severely delay traffic as well.\\nRenting a car or chartering a taxi is possible in Eritrea, but both cost about the same and are extremely expensive, as is the price of fuel. There is one narrow-gauge train line, from Asmara to Massawa, but it is driven by a slow steam-engine which only runs for chartered tours.',\n",
       "   \"Asmara Airport ~ Asmara International Airport ~ Asmara Airport Eritrea\\nAsmara Airport\\n<h1>Asmara Airport</h1>\\nFormerly known as Yohannes IV International Airport, Asmara International Airport is the airport serving the capital city of Eritrea, Asmara, although it is too small to serve many of the larger aircraft and airlines being restricted to just EgyptAir, Lufthansa, Nasair,                  Saudi Arabian Airlines, Sudan Airlines and Yemenia Airlines                  amongst others. The airport has a                  dual civilian and military function.\\nWhilst called an international airport, Asmara airport has                  the look and feel of a smaller, provincial airport, boasting                  just a short runway, cafe, bookshop and giftstore. Oh, and                  there's lots of marble covering most of the floor and wall                  space. Exact figures for its usage are not known, but it is                  believed to be used by around 150,000 travellers each year,                  around half of that of Durham Tees Valley Airport.\\n<h1>Asmara International Airport</h1>\",\n",
       "   'Asmara International Airport\\nAsmara International Airport\\nAirport serving the capital of Eritrea, formerly known as Yohannes IV International Airport\\nLocal time GMT (winter/summer):\\xa0+3/+3\\nGeographic coordinates:\\xa0 Latitude (15.29), Longitude (38.91)\\nIATA code:\\xa0ASM',\n",
       "   'Airports in Eritrea, Eritrea Airports Map\\nMassawa International Airport\\nFlights to Eritrea\\nFlights to Eritrea are managed by the many national and international airlines that function from the various airports of Eritrea. Like most African countries the flight infrastructure is not fully developed. Yet the progress in Eritrea is commendable and relatively better than in most other\\ndeveloping countries of Africa. The Flights to Eritrea though limited, do not compromise on the quality of service that they provide. Passengers are guaranteed satisfaction and safety, whichever flight they prefer to choose. Presently, the European cities connected to Eritrea by flights are Rome, Milan, Nairobi, Amsterdam and Frankfurt. Regular flights are fixed from these cities to Eritrea and also from Eritrea to these cities.\\nA major problem with the aviation industry in Africa is that not all-important African cities are interconnected by airways. Hence passengers are forced to travel to some European countries to take flights to the desired cities. The Eritrean Airlines is planning a solution to this problem by increasing the number of trans African flights to and from Eritrea. Presently the flights to Eritrea ferry passengers from the African cities of Nairobi and Khortam.\\nThe Flights to Eritrea can be booked on line and this gives clients special discounts. Also, cheap flights to Eritrea are availed on special occasions but this does not mean compromising on the quality of service.\\nEritrea Airline\\nEritrea Airlines is among the chief airlines that are functional in Eritrea, the other two being the Saudi Arabian Airlines and the Dallo Airlines. Airlines are the chief mode of transportation to Eritrea from overseas countries. There are three international airports, the Asmara Airport, the Massawa International Airport and the Assab International Airport. The Eritrean Airlines, though ordinary when compared to other international airlines, is a big achievement for the Eritrean people. The Eritrean Airlines has been doing a laudable job.\\nThe service of the Eritrea Airlines has set an example for all other Airlines, serving in the African continent as well as those outside. The service provided by the Eritrea Airlines when East African Air Safari was banned is an example of their sincere dedication and professionalism. The passengers who got stranded in Mombasa, Rome and Nairobi were rescued by this airline. Till today, the trans African airways are not entirely developed and traveling by air from one country to another might mean making a break journey via some European country. To cut down on this additional cost and time of clients, the Eritrea Airlines is working hard towards growing in the variety of air routes and number of flights.\\nEritrea Air Travel is by the far the best means of travel to the country from foreign countries. Though the air travel facility is in its nascent state of development, it has already made an international mark in serving passengers in the time of emergency. There are three airports that operate from the three most important cities of Eritrea. These are the Asmara International Airport, the Assab international airport and the Massawa International Airport. The Massawa is the latest among the airports and is in charge of the few domestic air routes in Eritrea. The regional flights of Eritrea also ferry passengers to Khortam and Nairobi.\\nThough presently, the trans African routes are not fully developed, talks are on for the same. Once developed, it would be a milestone in the aviation history of Africa, as very few African countries provide air travel to the important African cities. The international cities, which are now connected to Eritrea by air route, are Milan, Rome, Nairobi, Amsterdam and Frankfurt.\\nThe Eritrea Airlines is the leading among all the airlines operational from Eritrean airports. The others are Dallo Airlines, Saudi Arabian Airlines, Nasair, Lufthansa, Egypt Air, Ethiopian, Yemenia and the British Airways. Eritrea airtravel is the most preferred means of transport to the country.',\n",
       "   'Asmara Map | Map of Asmara City, Eritrea\\nDisclaimer\\nClose\\nDisclaimer : All efforts have been made to make this image accurate. However Compare Infobase Limited,its directors and employees do not own any responsibility for the correctness or authenticity of the same.\\nAsmara is the capital city of Eritrea. It is situated on the eastern boundary of the Eritrean plateau. The city got its name from Arbaete Asmara, which literally means, \"the four are united\". The city has great climatic conditions. It has clean streets and beautiful palm trees lining by the sides. The city can be termed as the one of the safest places in Africa for the tourists.\\nHistory of Asmara\\xa0:\\xa0\\nThe origin of the city of Asmara dates back to some 700 years. It is said that Menelik I, son of Solomon and Queen of Sheba was born in this place. Governor Martini declared Asmara as the capital city in the year 1897. The city exhibits colonial influence in its architecture, traditions and infrastructure.\\nHotels in Asmara\\xa0:\\xa0\\nThere are various categories of hotels in Asmara that provide comfort and conveniences to the tourists. To name a few are Africa Pension, Inter-Continental Hotel and Albergo Italia. These hotels are well furnished and decorated. They provide the guests all amenities and comfort to make their stay a memorable one.\\nAttractions at Asmara\\xa0:\\xa0\\nAl Khulafa Al Rashiudin Mosque',\n",
       "   \"Eritrea:     Maps, History, Geography, Government, Culture, Facts, Guide & Travel/Holidays/Cities\\nNational Holiday: Independence Day, May 24\\nReligions: Muslim, Coptic Christian, Roman Catholic, Protestant\\nLiteracy rate: 68.9% (2011 est.)\\nEconomic summary: GDP/PPP (2013 est.): $4.717 billion; per capita $1,200 . Real         growth rate: 7%. Inflation: 13%. Unemployment: n.a. Arable land: 5.87%. Agriculture: sorghum, lentils,         vegetables, corn, cotton, tobacco, coffee, sisal; livestock, goats;         fish. Labor force: 2.955 billion (2012); agriculture 80%, industry and services         20%. Industries: food processing, beverages, clothing and         textiles, salt, cement, commercial ship repair. Natural         resources: gold, potash, zinc, copper, salt, possibly oil and         natural gas, fish. Exports: $496.2 million (2013 est.):         livestock, sorghum, textiles, food, small manufactures. Imports: $1.027 billion (2013 est.): machinery,         petroleum products, food, manufactured goods. Major trading         partners: Australia, France, Malaysia, Italy, Sudan, Saudi Arabia,         Jordan, Germany, China, Brazil, U.S., Turkey (2006).\\nCommunications: Telephones: main lines in         use: 60,000 (2012); mobile cellular: 305,300 (2012). Broadcast         media: government controls broadcast media with private ownership prohibited; 1 state-owned TV station; state-owned radio operates 2 networks; purchases of satellite dishes and subscriptions to international broadcast media are permitted (2007). Internet hosts: 701 (2012). Internet users: 200,000 (2008).\\nTransportation: Railways: total: 306 km         (2008). Highways: total: 4,010 km; paved: 874 km; unpaved:         3,136 km (2000 est.). Ports and harbors: Assab, Massawa. Airports: 13 (2013).\\nInternational         disputes: Eritrea and Ethiopia agreed to abide by 2002 Ethiopia-Eritrea Boundary Commission's (EEBC) delimitation decision, but neither party responded to the revised line detailed in the November 2006 EEBC Demarcation Statement; Sudan accuses Eritrea of supporting eastern Sudanese rebel groups; in 2008 Eritrean troops moved across the border on Ras Doumera peninsula and occupied Doumera Island with undefined sovereignty in the Red Sea.\\nMajor sources and definitions\\nGeography\\nEritrea was formerly the northernmost province     of Ethiopia and is about the size of Indiana. Much of the country is     mountainous. Its narrow Red Sea coastal plain is one of the hottest and     driest places in Africa. The cooler central highlands have fertile valleys     that support agriculture. Eritrea is bordered by the Sudan on the north     and west, the Red Sea on the north and east, and Ethiopia and Djibouti on     the south.\\nGovernment\\nA transitional government committed to a     democratic system.\\nHistory\\nEritrea was part of the first Ethiopian kingdom     of Aksum until its decline in the 8th century. It came under the control     of the Ottoman Empire in the 16th century, and later of the Egyptians. The     Italians captured the coastal areas in 1885, and the Treaty of Uccialli     (May 2, 1889) gave Italy sovereignty over part of Eritrea. The Italians     named their colony after the Roman name for the Red Sea, Mare     Erythraeum, and ruled there until World War II. The British captured     Eritrea in 1941 and later administered it as a UN Trust Territory until it     became federated with Ethiopia on Sept. 15, 1952. Eritrea was made an     Ethiopian province on Nov. 14, 1962. A civil war broke out against the     Ethiopian government, led by rebel groups who opposed the union and wanted     independence for Eritrea. Fighting continued over the next 32 years.\\nEritrea Becomes an Independent Republic\\nIn 1991, the Ethiopian People's Revolutionary     Democratic Front deposed the country's hard-line Communist dictator     Mengistu. Without Mengistu's troops to battle, the Eritrean People's     Liberation Front was able to gain control of Asmara, the Eritrean capital,     and form a provisional government. In 1993, a referendum on Eritrean     independence was held, supported by the UN and the new Ethiopian     government. Eritrean voters almost unanimously opted for an independent     republic. Ethiopia recognized Eritrea's sovereignty on May 3, 1993, and     sought a new era of cooperation between the two countries.\\nThe cooperation did not last long. Following     Eritrea's independence, Eritrea and Ethiopia disagreed about the exact     demarcation of their borders, and in May 1998 border clashes broke out.     Both impoverished countries spent millions of dollars on warplanes and     weapons, about 80,000 people were killed, and refugees were legion. The     war essentially ended in a stalemate, and a formal peace agreement was     signed in Dec. 2000. In Dec. 2005, an international Court of Arbitration     ruled that Eritrea had violated international law when it attacked     Ethiopia in 1998.\\nSee also Encyclopedia: Eritrea .\"]},\n",
       " 'answer': {'aliases': [],\n",
       "  'normalized_aliases': [],\n",
       "  'matched_wiki_entity_name': '<unk>',\n",
       "  'normalized_matched_wiki_entity_name': '<unk>',\n",
       "  'normalized_value': '<unk>',\n",
       "  'type': '',\n",
       "  'value': '<unk>'}}"
      ]
     },
     "execution_count": 475,
     "metadata": {},
     "output_type": "execute_result"
    }
   ],
   "source": [
    "trivia_qa[\"test\"][0]"
   ]
  },
  {
   "cell_type": "code",
   "execution_count": 478,
   "id": "227eaf7b-aa1e-477c-a325-527d359d06ee",
   "metadata": {},
   "outputs": [],
   "source": [
    "eq = pd.read_json(\"../contriever/entity-questions/dataset/dev/P106.dev.json\")"
   ]
  },
  {
   "cell_type": "code",
   "execution_count": 479,
   "id": "07bc6915-c35d-4630-92b4-ea9ef972e999",
   "metadata": {},
   "outputs": [
    {
     "data": {
      "text/html": [
       "<div>\n",
       "<style scoped>\n",
       "    .dataframe tbody tr th:only-of-type {\n",
       "        vertical-align: middle;\n",
       "    }\n",
       "\n",
       "    .dataframe tbody tr th {\n",
       "        vertical-align: top;\n",
       "    }\n",
       "\n",
       "    .dataframe thead th {\n",
       "        text-align: right;\n",
       "    }\n",
       "</style>\n",
       "<table border=\"1\" class=\"dataframe\">\n",
       "  <thead>\n",
       "    <tr style=\"text-align: right;\">\n",
       "      <th></th>\n",
       "      <th>question</th>\n",
       "      <th>answers</th>\n",
       "    </tr>\n",
       "  </thead>\n",
       "  <tbody>\n",
       "    <tr>\n",
       "      <th>0</th>\n",
       "      <td>What kind of work does Çandarlı Ibrahim Pasha do?</td>\n",
       "      <td>[qadi]</td>\n",
       "    </tr>\n",
       "    <tr>\n",
       "      <th>1</th>\n",
       "      <td>What kind of work does Pon. Muthuramalingam do?</td>\n",
       "      <td>[politician]</td>\n",
       "    </tr>\n",
       "    <tr>\n",
       "      <th>2</th>\n",
       "      <td>What kind of work does Josef Julius Wecksell do?</td>\n",
       "      <td>[playwright, poet]</td>\n",
       "    </tr>\n",
       "    <tr>\n",
       "      <th>3</th>\n",
       "      <td>What kind of work does James P. Blair do?</td>\n",
       "      <td>[photographer]</td>\n",
       "    </tr>\n",
       "    <tr>\n",
       "      <th>4</th>\n",
       "      <td>What kind of work does Giulia Boverio do?</td>\n",
       "      <td>[actor]</td>\n",
       "    </tr>\n",
       "    <tr>\n",
       "      <th>...</th>\n",
       "      <td>...</td>\n",
       "      <td>...</td>\n",
       "    </tr>\n",
       "    <tr>\n",
       "      <th>995</th>\n",
       "      <td>What kind of work does Amy Van Nostrand do?</td>\n",
       "      <td>[actor]</td>\n",
       "    </tr>\n",
       "    <tr>\n",
       "      <th>996</th>\n",
       "      <td>What kind of work does Lee Yeon-hee do?</td>\n",
       "      <td>[actor]</td>\n",
       "    </tr>\n",
       "    <tr>\n",
       "      <th>997</th>\n",
       "      <td>What kind of work does John Maddison Morton do?</td>\n",
       "      <td>[playwright]</td>\n",
       "    </tr>\n",
       "    <tr>\n",
       "      <th>998</th>\n",
       "      <td>What kind of work does Saeed Hanaei do?</td>\n",
       "      <td>[serial killer]</td>\n",
       "    </tr>\n",
       "    <tr>\n",
       "      <th>999</th>\n",
       "      <td>What kind of work does Guillermo Moreno do?</td>\n",
       "      <td>[politician]</td>\n",
       "    </tr>\n",
       "  </tbody>\n",
       "</table>\n",
       "<p>1000 rows × 2 columns</p>\n",
       "</div>"
      ],
      "text/plain": [
       "                                              question             answers\n",
       "0    What kind of work does Çandarlı Ibrahim Pasha do?              [qadi]\n",
       "1      What kind of work does Pon. Muthuramalingam do?        [politician]\n",
       "2     What kind of work does Josef Julius Wecksell do?  [playwright, poet]\n",
       "3            What kind of work does James P. Blair do?      [photographer]\n",
       "4            What kind of work does Giulia Boverio do?             [actor]\n",
       "..                                                 ...                 ...\n",
       "995        What kind of work does Amy Van Nostrand do?             [actor]\n",
       "996            What kind of work does Lee Yeon-hee do?             [actor]\n",
       "997    What kind of work does John Maddison Morton do?        [playwright]\n",
       "998            What kind of work does Saeed Hanaei do?     [serial killer]\n",
       "999        What kind of work does Guillermo Moreno do?        [politician]\n",
       "\n",
       "[1000 rows x 2 columns]"
      ]
     },
     "execution_count": 479,
     "metadata": {},
     "output_type": "execute_result"
    }
   ],
   "source": [
    "eq"
   ]
  },
  {
   "cell_type": "code",
   "execution_count": 492,
   "id": "a9583636-a552-4ad5-8541-97d5b3c9d5e1",
   "metadata": {},
   "outputs": [],
   "source": [
    "import json\n",
    "with open(\"../FiD/open_domain_data/TQA/dev.json\", \"r\") as fin:\n",
    "    tqa = json.load(fin)"
   ]
  },
  {
   "cell_type": "code",
   "execution_count": 495,
   "id": "0223cccb-d452-4b54-8e26-b8a8d681b082",
   "metadata": {},
   "outputs": [
    {
     "data": {
      "text/plain": [
       "dict_keys(['question', 'answers', 'target', 'ctxs'])"
      ]
     },
     "execution_count": 495,
     "metadata": {},
     "output_type": "execute_result"
    }
   ],
   "source": [
    "tqa[0].keys()"
   ]
  },
  {
   "cell_type": "code",
   "execution_count": null,
   "id": "2a674d8e-0b1b-4bc3-afb5-ff3933171c6f",
   "metadata": {},
   "outputs": [],
   "source": []
  }
 ],
 "metadata": {
  "kernelspec": {
   "display_name": "sgt",
   "language": "python",
   "name": "sgt"
  },
  "language_info": {
   "codemirror_mode": {
    "name": "ipython",
    "version": 3
   },
   "file_extension": ".py",
   "mimetype": "text/x-python",
   "name": "python",
   "nbconvert_exporter": "python",
   "pygments_lexer": "ipython3",
   "version": "3.9.13"
  }
 },
 "nbformat": 4,
 "nbformat_minor": 5
}
