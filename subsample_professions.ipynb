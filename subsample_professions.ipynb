{
 "cells": [
  {
   "cell_type": "code",
   "execution_count": 28,
   "id": "205cd2af-6949-440e-919f-b3c3a28b8930",
   "metadata": {},
   "outputs": [],
   "source": [
    "from datasets import load_dataset, Features, Value, Sequence\n",
    "import torch\n",
    "import pandas as pd\n",
    "from tqdm import tqdm\n",
    "import numpy as np\n",
    "import numpy.ma as ma\n",
    "from collections import Counter"
   ]
  },
  {
   "cell_type": "code",
   "execution_count": 4,
   "id": "2325f0c7-daf4-42ce-a515-37781fc12837",
   "metadata": {},
   "outputs": [],
   "source": [
    "train_vec = torch.load(\"data/biasbios/vectors_extracted_from_trained_models/contriever/seed_17/train.vectors_raw_contriever_new.pt\")\n",
    "dev_vec = torch.load(\"data/biasbios/vectors_extracted_from_trained_models/contriever/seed_17/dev.vectors_raw_contriever_new.pt\")\n",
    "test_vec = torch.load(\"data/biasbios/vectors_extracted_from_trained_models/contriever/seed_17/test.vectors_raw_contriever_new.pt\")"
   ]
  },
  {
   "cell_type": "code",
   "execution_count": 65,
   "id": "815b09cc-fa2f-4bdc-9523-b35b86956100",
   "metadata": {},
   "outputs": [],
   "source": [
    "train_vec = torch.load(\"data/biasbios/vectors_extracted_from_trained_models/google_multiberts-seed_17/seed_17/train.vectors_raw_bert.pt\")\n",
    "dev_vec = torch.load(\"data/biasbios/vectors_extracted_from_trained_models/google_multiberts-seed_17/seed_17/dev.vectors_raw_bert.pt\")\n",
    "test_vec = torch.load(\"data/biasbios/vectors_extracted_from_trained_models/google_multiberts-seed_17/seed_17/test.vectors_raw_bert.pt\")"
   ]
  },
  {
   "cell_type": "code",
   "execution_count": 66,
   "id": "bf2ef0f5-a880-46fc-9efa-207dfd17c9d1",
   "metadata": {},
   "outputs": [],
   "source": [
    "all_splits = [train_vec, dev_vec, test_vec]\n",
    "all_names = [\"train\", \"dev\", \"test\"]"
   ]
  },
  {
   "cell_type": "code",
   "execution_count": 9,
   "id": "9ea03f2c-839e-4e93-98cc-65feb85b7e5f",
   "metadata": {},
   "outputs": [],
   "source": [
    "prof_dist = Counter(train_vec[\"y\"])"
   ]
  },
  {
   "cell_type": "code",
   "execution_count": 11,
   "id": "b5923a89-2d5e-48c0-ba83-7ee5a7d52afc",
   "metadata": {},
   "outputs": [
    {
     "name": "stdout",
     "output_type": "stream",
     "text": [
      "professor 30.02268194439013\n",
      "physician 9.80290172460991\n",
      "attorney 8.28829533455868\n",
      "photographer 6.182785186343906\n",
      "journalist 5.070978843220836\n",
      "nurse 4.822259590942865\n",
      "psychologist 4.650189667983263\n",
      "teacher 4.116772906808494\n",
      "dentist 3.680341011301865\n",
      "surgeon 3.3737436940283914\n",
      "architect 2.5704900082124285\n",
      "painter 1.966289937820187\n",
      "model 1.9068476007977786\n",
      "poet 1.7820969066520667\n",
      "filmmaker 1.781314770638614\n",
      "software_engineer 1.7551132141879473\n",
      "accountant 1.436392788705956\n",
      "composer 1.4234875444839856\n",
      "dietitian 1.0109107973876656\n",
      "comedian 0.7113527042352665\n",
      "chiropractor 0.660122795354112\n",
      "pastor 0.6433068710648782\n",
      "paralegal 0.44894607172187245\n",
      "yoga_teacher 0.4223534472644793\n",
      "dj 0.3773806264909468\n",
      "interior_designer 0.37151460639005124\n",
      "personal_trainer 0.36369324625552385\n",
      "rapper 0.3574361581479019\n"
     ]
    }
   ],
   "source": [
    "for key, val in prof_dist.most_common():\n",
    "    print(key, val/sum(prof_dist.values())*100)"
   ]
  },
  {
   "cell_type": "code",
   "execution_count": 49,
   "id": "ca27d0e9-8ed1-4086-9a8b-27c531c45f97",
   "metadata": {},
   "outputs": [],
   "source": [
    "target_professions = [\"physician\", \"attorney\"]"
   ]
  },
  {
   "cell_type": "code",
   "execution_count": 59,
   "id": "065d296d-3c0c-4354-8186-34e95829f707",
   "metadata": {},
   "outputs": [],
   "source": [
    "save_dir = \"data/biasbios/subsample/vectors_extracted_from_trained_models/contriever/seed_17/{}.vectors_raw_contriever_new.pt\""
   ]
  },
  {
   "cell_type": "code",
   "execution_count": 67,
   "id": "69ab964c-ef0f-4f06-a760-74eed89df180",
   "metadata": {},
   "outputs": [],
   "source": [
    "save_dir = \"data/biasbios/subsample/vectors_extracted_from_trained_models/google_multiberts-seed_17/seed_17/{}.vectors_raw_bert.pt\""
   ]
  },
  {
   "cell_type": "code",
   "execution_count": 68,
   "id": "c929c418-ce07-4950-8351-e4bd17d75304",
   "metadata": {},
   "outputs": [
    {
     "name": "stdout",
     "output_type": "stream",
     "text": [
      "46261 train samples\n",
      "7119 dev samples\n",
      "17792 test samples\n"
     ]
    }
   ],
   "source": [
    "# subsample so that have the indices that match target professions\n",
    "for name, split in zip(all_names, all_splits):\n",
    "    profs = split[\"y\"]\n",
    "    mask = np.isin(profs, target_professions)\n",
    "    # mask all 3 splits\n",
    "    new_x, new_y, new_z = split[\"X\"][mask], split[\"y\"][mask], split[\"z\"][mask]\n",
    "    assert len(new_x) == len(new_y)\n",
    "    assert len(new_y) == len(new_z)\n",
    "    print(f\"{len(new_x)} {name} samples\")\n",
    "    new_split = {\n",
    "        \"X\": new_x,\n",
    "        \"y\": new_y,\n",
    "        \"z\": new_z\n",
    "    }\n",
    "    torch.save(new_split, save_dir.format(name))"
   ]
  },
  {
   "cell_type": "code",
   "execution_count": 64,
   "id": "34da5f28-2761-4093-aff1-96800ad03f99",
   "metadata": {},
   "outputs": [
    {
     "data": {
      "text/plain": [
       "array(['m', 'f', 'f', ..., 'f', 'f', 'm'], dtype='<U1')"
      ]
     },
     "execution_count": 64,
     "metadata": {},
     "output_type": "execute_result"
    }
   ],
   "source": [
    "new_z"
   ]
  },
  {
   "cell_type": "code",
   "execution_count": 50,
   "id": "1bef1134-a8d9-41ed-8188-83501b746586",
   "metadata": {},
   "outputs": [],
   "source": [
    "mask = np.isin(profs, target_professions)"
   ]
  },
  {
   "cell_type": "code",
   "execution_count": 52,
   "id": "dfb294ce-f884-42ac-b572-12cc296c26f5",
   "metadata": {},
   "outputs": [
    {
     "data": {
      "text/plain": [
       "array([False, False,  True, ..., False, False, False])"
      ]
     },
     "execution_count": 52,
     "metadata": {},
     "output_type": "execute_result"
    }
   ],
   "source": [
    "mask"
   ]
  },
  {
   "cell_type": "code",
   "execution_count": 30,
   "id": "3e6be1d5-5a7d-4809-8910-8df4d9bcec6f",
   "metadata": {},
   "outputs": [],
   "source": [
    "new_z = ma.masked_where(train_vec[\"y\"] not in profs,train_vec[\"y\"])"
   ]
  },
  {
   "cell_type": "code",
   "execution_count": 53,
   "id": "e81a82eb-9f10-4a91-a501-51cdfd6778c5",
   "metadata": {},
   "outputs": [],
   "source": [
    "new_z = train_vec[\"z\"][mask]"
   ]
  },
  {
   "cell_type": "code",
   "execution_count": 54,
   "id": "3b88b627-f5a9-4463-af5e-6ffed54711fe",
   "metadata": {},
   "outputs": [
    {
     "data": {
      "text/plain": [
       "46261"
      ]
     },
     "execution_count": 54,
     "metadata": {},
     "output_type": "execute_result"
    }
   ],
   "source": [
    "len(new_z)"
   ]
  },
  {
   "cell_type": "code",
   "execution_count": null,
   "id": "84ff052e-b12a-4c28-8f21-8e605fb8d76c",
   "metadata": {},
   "outputs": [],
   "source": []
  }
 ],
 "metadata": {
  "kernelspec": {
   "display_name": "sgt",
   "language": "python",
   "name": "sgt"
  },
  "language_info": {
   "codemirror_mode": {
    "name": "ipython",
    "version": 3
   },
   "file_extension": ".py",
   "mimetype": "text/x-python",
   "name": "python",
   "nbconvert_exporter": "python",
   "pygments_lexer": "ipython3",
   "version": "3.9.13"
  }
 },
 "nbformat": 4,
 "nbformat_minor": 5
}
